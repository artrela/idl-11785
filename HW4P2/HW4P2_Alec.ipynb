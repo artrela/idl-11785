{
  "cells": [
    {
      "cell_type": "markdown",
      "metadata": {
        "id": "8XpNMS7Vk6Df"
      },
      "source": [
        "# HW4P2: Attention-based Speech Recognition\n",
        "\n",
        "<img src=\"https://cdn.shopify.com/s/files/1/0272/2080/3722/products/SmileBumperSticker_5400x.jpg\" alt=\"A cute cat\" width=\"600\">\n",
        "\n",
        "\n",
        "Welcome to the final assignment in 11785. In this HW, you will work on building a speech recognition system with <i>**attention**</i>. <br> <br>\n",
        "\n",
        "<center>\n",
        "<img src=\"https://popmn.org/wp-content/uploads/2020/03/pay-attention.jpg\" alt=\"A cute cat\" height=\"100\">\n",
        "</center>\n",
        "\n",
        "<h2>Learning Objectives:\n",
        "\n",
        "*  **Understand the Transformer Architecture**: Gain a comprehensive understanding of the transformer model architecture.\n",
        "\n",
        "*  **Develop the  Encoder and Decoder Modules**: Understand the individual components of the transformer's encoder and decoder modules, including positional encoding, multi-head attention, and feed-forward projections.\n",
        "\n",
        "*  **Integrate the Complete Transformer Model**:  Combine the encoder and decoder modules to construct the full transformer model, and learn how to manage the flow of information between these components.\n",
        "\n",
        "* **Understand the Value of Multi-Head Attention**: Learn how to use the multi-head attention mechanism and understand its significance in improving the model's ability to focus on different parts of the input sequence simultaneously.\n",
        "\n",
        "* **Understand and Apply Pretraining Techniques**: Grasp the concept of pretraining by employing LSTMs as an initial embedding mechanism in a transformer's encoder. Learn the strategic process of incrementally training different components of a model — starting with a simple architecture (LSTM), then progressing to more complex structures (transformers). This objective underscores the role of pretraining and its gradual integration to enhance the overall efficacy of neural network models, culminating in superior performance metrics.\n",
        "\n",
        "* **Enhance Training Efficiency Through Strategic Freezing**: Master the technique of selectively freezing and unfreezing model components at different stages of training. This approach aims to direct the model's learning capacity more effectively, concentrating on specific modules at a time. Understand how this method facilitates a more efficient training process, allowing various parts of the model to adapt incrementally. This objective highlights the value of phased learning, especially beneficial when integrating model components with varying learning dynamics.\n",
        "\n",
        "*  **Tune Model Hyperparameters**: Experiment with different configurations of model hyperparameters, such as the number of layers, model dimensionality, and the number of attention heads, to help you understand the tradeoff between model complexity and dataset size.\n",
        "\n",
        "<br>\n",
        "\n",
        "\n",
        "[Kaggle Competition Link](https://www.kaggle.com/competitions/automatic-speech-recognition-s24)<br>\n",
        "\n",
        "[Kaggle Dataset Link](https://www.kaggle.com/competitions/automatic-speech-recognition-s24/data)<br>\n",
        "\n",
        "[Speech Transformer Paper](https://ieeexplore.ieee.org/document/8462506)<br>\n",
        "\n",
        "[Attention Is All You Need Paper](https://arxiv.org/pdf/1706.03762.pdf)<br>"
      ]
    },
    {
      "cell_type": "markdown",
      "metadata": {
        "id": "vwIdDTTmmZVe"
      },
      "source": [
        "# Libraries"
      ]
    },
    {
      "cell_type": "markdown",
      "metadata": {
        "id": "y9qsVrRemgh7"
      },
      "source": [
        "1. By now, we believe that you are already a great deep learning practitioner, Congratulations. 🎉\n",
        "\n",
        "2. There are a lot of resources provided in this notebook, that will help you check if you are running your implementations correctly."
      ]
    },
    {
      "cell_type": "code",
      "execution_count": null,
      "metadata": {
        "id": "8UK7J-dp5iN5",
        "colab": {
          "base_uri": "https://localhost:8080/"
        },
        "outputId": "df481a4c-63bc-409c-c9ba-ee2aa4ae9e0b"
      },
      "outputs": [
        {
          "output_type": "stream",
          "name": "stdout",
          "text": [
            "Wed May  1 14:28:52 2024       \n",
            "+---------------------------------------------------------------------------------------+\n",
            "| NVIDIA-SMI 535.104.05             Driver Version: 535.104.05   CUDA Version: 12.2     |\n",
            "|-----------------------------------------+----------------------+----------------------+\n",
            "| GPU  Name                 Persistence-M | Bus-Id        Disp.A | Volatile Uncorr. ECC |\n",
            "| Fan  Temp   Perf          Pwr:Usage/Cap |         Memory-Usage | GPU-Util  Compute M. |\n",
            "|                                         |                      |               MIG M. |\n",
            "|=========================================+======================+======================|\n",
            "|   0  NVIDIA L4                      Off | 00000000:00:03.0 Off |                    0 |\n",
            "| N/A   50C    P8              13W /  72W |      1MiB / 23034MiB |      0%      Default |\n",
            "|                                         |                      |                  N/A |\n",
            "+-----------------------------------------+----------------------+----------------------+\n",
            "                                                                                         \n",
            "+---------------------------------------------------------------------------------------+\n",
            "| Processes:                                                                            |\n",
            "|  GPU   GI   CI        PID   Type   Process name                            GPU Memory |\n",
            "|        ID   ID                                                             Usage      |\n",
            "|=======================================================================================|\n",
            "|  No running processes found                                                           |\n",
            "+---------------------------------------------------------------------------------------+\n"
          ]
        }
      ],
      "source": [
        "!nvidia-smi"
      ]
    },
    {
      "cell_type": "code",
      "execution_count": null,
      "metadata": {
        "id": "nYgaLmgy5iqR",
        "colab": {
          "base_uri": "https://localhost:8080/"
        },
        "outputId": "0b510b68-a5f2-414b-db53-d54a6b7226d1"
      },
      "outputs": [
        {
          "output_type": "stream",
          "name": "stdout",
          "text": [
            "\u001b[2K     \u001b[90m━━━━━━━━━━━━━━━━━━━━━━━━━━━━━━━━━━━━━━━━\u001b[0m \u001b[32m2.2/2.2 MB\u001b[0m \u001b[31m36.4 MB/s\u001b[0m eta \u001b[36m0:00:00\u001b[0m\n",
            "\u001b[2K     \u001b[90m━━━━━━━━━━━━━━━━━━━━━━━━━━━━━━━━━━━━━━━━\u001b[0m \u001b[32m90.1/90.1 kB\u001b[0m \u001b[31m9.1 MB/s\u001b[0m eta \u001b[36m0:00:00\u001b[0m\n",
            "\u001b[2K     \u001b[90m━━━━━━━━━━━━━━━━━━━━━━━━━━━━━━━━━━━━━━━━\u001b[0m \u001b[32m177.4/177.4 kB\u001b[0m \u001b[31m11.8 MB/s\u001b[0m eta \u001b[36m0:00:00\u001b[0m\n",
            "\u001b[2K     \u001b[90m━━━━━━━━━━━━━━━━━━━━━━━━━━━━━━━━━━━━━━━━\u001b[0m \u001b[32m3.4/3.4 MB\u001b[0m \u001b[31m10.2 MB/s\u001b[0m eta \u001b[36m0:00:00\u001b[0m\n",
            "\u001b[2K     \u001b[90m━━━━━━━━━━━━━━━━━━━━━━━━━━━━━━━━━━━━━━━━\u001b[0m \u001b[32m207.3/207.3 kB\u001b[0m \u001b[31m23.3 MB/s\u001b[0m eta \u001b[36m0:00:00\u001b[0m\n",
            "\u001b[2K     \u001b[90m━━━━━━━━━━━━━━━━━━━━━━━━━━━━━━━━━━━━━━━━\u001b[0m \u001b[32m266.8/266.8 kB\u001b[0m \u001b[31m16.3 MB/s\u001b[0m eta \u001b[36m0:00:00\u001b[0m\n",
            "\u001b[2K     \u001b[90m━━━━━━━━━━━━━━━━━━━━━━━━━━━━━━━━━━━━━━━━\u001b[0m \u001b[32m62.7/62.7 kB\u001b[0m \u001b[31m7.1 MB/s\u001b[0m eta \u001b[36m0:00:00\u001b[0m\n",
            "\u001b[?25h"
          ]
        }
      ],
      "source": [
        "''' Installing some required libraries. '''\n",
        "!pip install python-levenshtein torchsummaryX wandb kaggle pytorch-nlp --quiet"
      ]
    },
    {
      "cell_type": "markdown",
      "source": [
        "##  Imports"
      ],
      "metadata": {
        "id": "xLXQgnj7E8BM"
      }
    },
    {
      "cell_type": "code",
      "execution_count": null,
      "metadata": {
        "id": "0mkii-6Dsjr8",
        "colab": {
          "base_uri": "https://localhost:8080/"
        },
        "outputId": "b1ac0d9e-ee76-4a3e-f25a-d63dc97ab926"
      },
      "outputs": [
        {
          "output_type": "stream",
          "name": "stdout",
          "text": [
            "Device:  cuda\n"
          ]
        }
      ],
      "source": [
        "import torch\n",
        "import torch.nn as nn\n",
        "import torch.nn.functional as F\n",
        "import torchaudio.transforms as tat\n",
        "\n",
        "from torchsummaryX import summary\n",
        "from torch.autograd import Variable\n",
        "from torch.nn.utils.rnn import pad_sequence, pack_padded_sequence, pad_packed_sequence\n",
        "\n",
        "import gc\n",
        "import os\n",
        "import math\n",
        "import yaml\n",
        "import random\n",
        "import zipfile\n",
        "import datetime\n",
        "\n",
        "import glob\n",
        "import wandb\n",
        "import numpy as np\n",
        "import pandas as pd\n",
        "from tqdm import tqdm\n",
        "\n",
        "import seaborn as sns\n",
        "import matplotlib.pyplot as plt\n",
        "\n",
        "''' Imports for decoding and distance calculation. '''\n",
        "import Levenshtein\n",
        "\n",
        "import warnings\n",
        "warnings.filterwarnings(\"ignore\")\n",
        "\n",
        "device = \"cuda\" if torch.cuda.is_available() else \"cpu\"\n",
        "print(\"Device: \", device)"
      ]
    },
    {
      "cell_type": "markdown",
      "metadata": {
        "id": "AIOBPQjzrx5n"
      },
      "source": [
        "# Configurations"
      ]
    },
    {
      "cell_type": "code",
      "source": [
        "%%writefile config.yaml\n",
        "\n",
        "run_name        : \"baseline\"\n",
        "\n",
        "###### Dataset -----------------------------------------------------------------\n",
        "train_dataset   : \"train-clean-100\"     # train-clean-50 (primarily for debugging purposes), train-clean-100\n",
        "cepstral_norm   : True\n",
        "input_dim       : 27\n",
        "batch_size      : 16 # 64                    # decrease this as you modify the network architecture\n",
        "\n",
        "###### Encoder Parameters ------------------------------------------\n",
        "## Universal (Part I and II)\n",
        "enc_dropout     : 0.2                   # [0.1, 0.4]\n",
        "## Transformer-related (Part II)\n",
        "enc_num_layers  : 1                     # [1, 3]\n",
        "enc_num_heads   : 1                     # [1, 4]\n",
        "\n",
        "###### Decoder Parameters ------------------------------------------\n",
        "## Transformer-related (Part I and II)\n",
        "dec_dropout     : 0.2                   # [0.1, 0.4]\n",
        "dec_num_layers  : 3                     # [1, 3]\n",
        "dec_num_heads   : 3                     # [1, 4]\n",
        "\n",
        "###### Network Parameters ------------------------------------------------------\n",
        "d_model         : 512                   # [256, 1024]\n",
        "d_ff            : 2048                  # [512, 4096]\n",
        "\n",
        "###### Learning Rate ---------------------------------------------------------------\n",
        "learning_rate   : 1E-4                  # [1E-3, 1E-4], this will depend on the specified optimizer\n",
        "\n",
        "###### Optimizer ---------------------------------------------------------------\n",
        "optimizer       : \"AdamW\"               # Adam, AdamW\n",
        "\n",
        "## if SGD\n",
        "momentum        : 0.0\n",
        "nesterov        : True\n",
        "\n",
        "###### Scheduler ---------------------------------------------------------------\n",
        "scheduler       : \"CosineAnnealing\"     # CosineAnnealing, ReduceLR\n",
        "\n",
        "## if ReduceLR\n",
        "\n",
        "## we are validating every 2 epochs but scheduler acts on every epoch. Set patience accordingly\n",
        "## patience less than validation frquency can mean learning rate always dropping after patience epochs\n",
        "## specify a suitable threshold too\n",
        "factor          : 0.9\n",
        "patience        : 5\n",
        "\n",
        "###### Training Parameters -----------------------------------------------------\n",
        "epochs          : 50\n",
        "\n",
        "###### Name --------------------------------------------------------------------\n",
        "Name: \"Alec\"                                # write your name here for study group"
      ],
      "metadata": {
        "id": "qkzzA5l2VbXZ",
        "colab": {
          "base_uri": "https://localhost:8080/"
        },
        "outputId": "7f8d8156-3043-41b5-c302-10e665818100"
      },
      "execution_count": null,
      "outputs": [
        {
          "output_type": "stream",
          "name": "stdout",
          "text": [
            "Writing config.yaml\n"
          ]
        }
      ]
    },
    {
      "cell_type": "code",
      "source": [
        "with open(\"config.yaml\") as file:\n",
        "    config = yaml.safe_load(file)"
      ],
      "metadata": {
        "id": "xcQEffYWYOVm"
      },
      "execution_count": null,
      "outputs": []
    },
    {
      "cell_type": "code",
      "source": [
        "config"
      ],
      "metadata": {
        "id": "rgkkGyEa4TMS",
        "colab": {
          "base_uri": "https://localhost:8080/"
        },
        "outputId": "35adb94a-5031-4aed-f5ec-5219e6ec18c7"
      },
      "execution_count": null,
      "outputs": [
        {
          "output_type": "execute_result",
          "data": {
            "text/plain": [
              "{'run_name': 'baseline',\n",
              " 'train_dataset': 'train-clean-100',\n",
              " 'cepstral_norm': True,\n",
              " 'input_dim': 27,\n",
              " 'batch_size': 16,\n",
              " 'enc_dropout': 0.2,\n",
              " 'enc_num_layers': 1,\n",
              " 'enc_num_heads': 1,\n",
              " 'dec_dropout': 0.2,\n",
              " 'dec_num_layers': 3,\n",
              " 'dec_num_heads': 3,\n",
              " 'd_model': 512,\n",
              " 'd_ff': 2048,\n",
              " 'learning_rate': '1E-4',\n",
              " 'optimizer': 'AdamW',\n",
              " 'momentum': 0.0,\n",
              " 'nesterov': True,\n",
              " 'scheduler': 'CosineAnnealing',\n",
              " 'factor': 0.9,\n",
              " 'patience': 5,\n",
              " 'epochs': 50,\n",
              " 'Name': 'Alec'}"
            ]
          },
          "metadata": {},
          "execution_count": 6
        }
      ]
    },
    {
      "cell_type": "markdown",
      "source": [
        "# Google Drive Connection"
      ],
      "metadata": {
        "id": "HkqU6OHKeEsS"
      }
    },
    {
      "cell_type": "code",
      "source": [
        "from google.colab import drive\n",
        "drive.mount('/content/drive')"
      ],
      "metadata": {
        "colab": {
          "base_uri": "https://localhost:8080/"
        },
        "id": "1WR4DGrneHVa",
        "outputId": "a4f2bb5a-c87b-4b5e-bf23-21080c96a07e"
      },
      "execution_count": null,
      "outputs": [
        {
          "output_type": "stream",
          "name": "stdout",
          "text": [
            "Mounted at /content/drive\n"
          ]
        }
      ]
    },
    {
      "cell_type": "markdown",
      "metadata": {
        "id": "-njBvl2Opd6I"
      },
      "source": [
        "# Kaggle Dataset Download"
      ]
    },
    {
      "cell_type": "code",
      "execution_count": null,
      "metadata": {
        "id": "PTyWR2sIp0Ns",
        "colab": {
          "base_uri": "https://localhost:8080/"
        },
        "outputId": "fc239262-8897-4dc7-eadd-ba61f6498145"
      },
      "outputs": [
        {
          "output_type": "stream",
          "name": "stdout",
          "text": [
            "Collecting kaggle==1.5.8\n",
            "  Downloading kaggle-1.5.8.tar.gz (59 kB)\n",
            "\u001b[?25l     \u001b[90m━━━━━━━━━━━━━━━━━━━━━━━━━━━━━━━━━━━━━━━━\u001b[0m \u001b[32m0.0/59.2 kB\u001b[0m \u001b[31m?\u001b[0m eta \u001b[36m-:--:--\u001b[0m\r\u001b[2K     \u001b[90m━━━━━━━━━━━━━━━━━━━━━━━━━━━━━━━━━━━━━━━━\u001b[0m \u001b[32m59.2/59.2 kB\u001b[0m \u001b[31m2.4 MB/s\u001b[0m eta \u001b[36m0:00:00\u001b[0m\n",
            "\u001b[?25h  Preparing metadata (setup.py) ... \u001b[?25l\u001b[?25hdone\n",
            "Building wheels for collected packages: kaggle\n",
            "  Building wheel for kaggle (setup.py) ... \u001b[?25l\u001b[?25hdone\n",
            "  Created wheel for kaggle: filename=kaggle-1.5.8-py3-none-any.whl size=73249 sha256=cca5a7bce0f53e50325bf393c37eb9790812d0611ef0e9d08fdf2761b59f0560\n",
            "  Stored in directory: /root/.cache/pip/wheels/0b/76/ca/e58f8afa83166a0e68f0d5cd2e7f99d260bdc40e35da080eee\n",
            "Successfully built kaggle\n",
            "Installing collected packages: kaggle\n",
            "  Attempting uninstall: kaggle\n",
            "    Found existing installation: kaggle 1.6.12\n",
            "    Uninstalling kaggle-1.6.12:\n",
            "      Successfully uninstalled kaggle-1.6.12\n",
            "Successfully installed kaggle-1.5.8\n"
          ]
        }
      ],
      "source": [
        "!pip install --upgrade --force-reinstall --no-deps kaggle==1.5.8\n",
        "!mkdir /root/.kaggle\n",
        "\n",
        "with open(\"/root/.kaggle/kaggle.json\", \"w+\") as f:\n",
        "\n",
        "    # Enter your kaggle username <USERNAME> and key <KEY> here.\n",
        "    f.write('{\"username\":\"alectrela\",\"key\":\"42d0f6df23d52bb3b9e5a7b2cb5e1962\"}')\n",
        "\n",
        "!chmod 600 /root/.kaggle/kaggle.json"
      ]
    },
    {
      "cell_type": "code",
      "execution_count": null,
      "metadata": {
        "id": "F581gjfnqE2C",
        "colab": {
          "base_uri": "https://localhost:8080/"
        },
        "outputId": "5f9a8154-7e3d-4238-e4da-f7f0b7653eee"
      },
      "outputs": [
        {
          "output_type": "stream",
          "name": "stdout",
          "text": [
            "Downloading automatic-speech-recognition-hw4p2-slack.zip to /content\n",
            "100% 5.45G/5.45G [05:10<00:00, 19.3MB/s]\n",
            "100% 5.45G/5.45G [05:10<00:00, 18.8MB/s]\n"
          ]
        }
      ],
      "source": [
        "''' Downloading the dataset. '''\n",
        "!kaggle competitions download -c automatic-speech-recognition-hw4p2-slack\n",
        "\n",
        "''' Unzipping quickly and quietly. '''\n",
        "!unzip -q automatic-speech-recognition-hw4p2-slack.zip -d ./data"
      ]
    },
    {
      "cell_type": "markdown",
      "metadata": {
        "id": "zUJyBBwIqQs6"
      },
      "source": [
        "# Character-based LibriSpeech (HW4P2)\n",
        "\n",
        "In terms of the dataset, the dataset structure for HW3P2 and HW4P2 dataset are very similar.\n",
        "\n",
        "Can you spot out the differences? What all will be required??\n",
        "\n",
        "Hints:\n",
        "\n",
        "- Check how big is the dataset? (do you require memory efficient loading techniques??)\n",
        "- How do we load MFCCs? Do we need to normalize them?\n",
        "- Does the data have \\<SOS> and \\<EOS> tokens in each sequences? Do we remove them or do we not remove them? (Read writeup)\n",
        "- Would we want a collating function? Ask yourself: Why did we need a collate function last time?\n",
        "- Observe the VOCAB -- is the dataset same as HW3P2?\n",
        "- Should you add augmentations, if yes which augmentations? When should you add augmentations? (Check bootcamp for answer)\n"
      ]
    },
    {
      "cell_type": "code",
      "execution_count": null,
      "metadata": {
        "id": "MBMLGYX-kZcd",
        "colab": {
          "base_uri": "https://localhost:8080/"
        },
        "outputId": "6bfd133f-3874-42e4-90d8-5cd4be3d0d33"
      },
      "outputs": [
        {
          "output_type": "stream",
          "name": "stdout",
          "text": [
            "Length of Vocabulary    : 31\n",
            "VOCAB                   : ['<pad>', '<sos>', '<eos>', 'A', 'B', 'C', 'D', 'E', 'F', 'G', 'H', 'I', 'J', 'K', 'L', 'M', 'N', 'O', 'P', 'Q', 'R', 'S', 'T', 'U', 'V', 'W', 'X', 'Y', 'Z', \"'\", ' ']\n",
            "PAD_TOKEN               : 0\n",
            "SOS_TOKEN               : 1\n",
            "EOS_TOKEN               : 2\n"
          ]
        }
      ],
      "source": [
        "VOCAB = [\n",
        "    \"<pad>\", \"<sos>\", \"<eos>\",\n",
        "    \"A\",   \"B\",    \"C\",    \"D\",\n",
        "    \"E\",   \"F\",    \"G\",    \"H\",\n",
        "    \"I\",   \"J\",    \"K\",    \"L\",\n",
        "    \"M\",   \"N\",    \"O\",    \"P\",\n",
        "    \"Q\",   \"R\",    \"S\",    \"T\",\n",
        "    \"U\",   \"V\",    \"W\",    \"X\",\n",
        "    \"Y\",   \"Z\",    \"'\",    \" \",\n",
        "]\n",
        "\n",
        "VOCAB_MAP = {VOCAB[i]:i for i in range(0, len(VOCAB))}\n",
        "\n",
        "PAD_TOKEN = VOCAB_MAP[\"<pad>\"]\n",
        "SOS_TOKEN = VOCAB_MAP[\"<sos>\"]\n",
        "EOS_TOKEN = VOCAB_MAP[\"<eos>\"]\n",
        "\n",
        "print(f\"Length of Vocabulary    : {len(VOCAB)}\")\n",
        "print(f\"VOCAB                   : {VOCAB}\")\n",
        "print(f\"PAD_TOKEN               : {PAD_TOKEN}\")\n",
        "print(f\"SOS_TOKEN               : {SOS_TOKEN}\")\n",
        "print(f\"EOS_TOKEN               : {EOS_TOKEN}\")"
      ]
    },
    {
      "cell_type": "markdown",
      "source": [
        "## Dataset"
      ],
      "metadata": {
        "id": "kWiWhqBHNXt-"
      }
    },
    {
      "cell_type": "code",
      "source": [
        "''' This class is very similar to HW3P2 except for targets (now sequence of characters). '''\n",
        "\n",
        "class SpeechDataset(torch.utils.data.Dataset):\n",
        "    ''' memory inefficient : loading data in __init__ for simplicty\n",
        "\n",
        "        You may decide to load data in __getitem__ if you wish.\n",
        "        However, doing this memory inefficiently makes __init__ function takes\n",
        "        the load of loading the data, and shifts it away from during the training process.\n",
        "    '''\n",
        "\n",
        "    def __init__(self, root_dir, partition, cepstral=True):\n",
        "\n",
        "        self.mfcc_dir           = f\"{root_dir}/{partition}*/mfcc/*\"\n",
        "        self.transcript_dir     = f\"{root_dir}/{partition}*/transcripts/*\"\n",
        "\n",
        "        self.mfcc_files         = sorted(glob.glob(self.mfcc_dir))\n",
        "        self.transcript_files   = sorted(glob.glob(self.transcript_dir))\n",
        "\n",
        "        assert len(self.mfcc_files) == len(self.transcript_files)\n",
        "\n",
        "        self.mfcc_files         = self.mfcc_files\n",
        "        self.transcript_files   = self.transcript_files\n",
        "        self.length             = len(self.transcript_files)\n",
        "        self.vocab              = VOCAB\n",
        "\n",
        "        print(\"Loaded Path: \", partition)\n",
        "\n",
        "        self.mfccs, self.transcripts_shifted, self.transcripts_golden  = [], [], []\n",
        "        for file in self.mfcc_files:\n",
        "            mfcc = np.load(file)\n",
        "\n",
        "            if cepstral:\n",
        "                mfcc = (mfcc - np.mean(mfcc, axis=0)) / (np.std(mfcc, axis=0) + 1E-8)\n",
        "            self.mfccs.append(mfcc)\n",
        "\n",
        "        for file in self.transcript_files:\n",
        "            temp = np.load(file)[1:-1]\n",
        "\n",
        "            # Why do we have two different types of targets?\n",
        "            # How do we want our decoder to know the start of sequence <SOS> and end of sequence <EOS>?\n",
        "\n",
        "            # @TODO: Uncomment the code below after answering the above questions.\n",
        "            self.transcripts_shifted.append(np.array([SOS_TOKEN] + [self.vocab.index(i) for i in temp]))\n",
        "            self.transcripts_golden.append(np.array([self.vocab.index(i) for i in temp] + [EOS_TOKEN]))\n",
        "\n",
        "        assert len(self.mfccs) == len(self.transcripts_shifted)\n",
        "\n",
        "\n",
        "    def __len__(self): return self.length\n",
        "\n",
        "\n",
        "    def __getitem__(self, ind):\n",
        "        mfcc                = torch.FloatTensor(self.mfccs[ind])\n",
        "        shifted_transcript  = torch.tensor(self.transcripts_shifted[ind])\n",
        "        golden_transcript   = torch.tensor(self.transcripts_golden[ind])\n",
        "\n",
        "        return mfcc, shifted_transcript, golden_transcript\n",
        "\n",
        "\n",
        "    def collate_fn(self, batch):\n",
        "        # @NOTE: batch corresponds to output from __getitem__ for a minibatch\n",
        "\n",
        "        '''\n",
        "        1.  Extract the features and labels from 'batch'.\n",
        "        2.  We will additionally need to pad both features and labels,\n",
        "            look at PyTorch's documentation for pad_sequence.\n",
        "        3.  This is a good place to perform transforms, if you so wish.\n",
        "            Performing them on batches will speed the process up a bit.\n",
        "        4.  Return batch of features, labels, lengths of features, and lengths of labels.\n",
        "\n",
        "        '''\n",
        "\n",
        "        # Batch of input mfcc coefficients.\n",
        "        batch_mfcc              = [i[0] for i in batch]\n",
        "\n",
        "        # Batch of output characters (shifted and golden).\n",
        "        batch_transcript        = [i[1] for i in batch]\n",
        "        batch_golden            = [i[2] for i in batch]\n",
        "\n",
        "        lengths_mfcc            = [len(i) for i in batch_mfcc]\n",
        "        lengths_transcript      = [len(i) for i in batch_transcript]\n",
        "\n",
        "        # HINT: CHECK OUT -> pad_sequence (imported above)\n",
        "        # Also be sure to check the input format (batch_first).\n",
        "        batch_mfcc_pad          = pad_sequence(batch_mfcc, batch_first=True, padding_value=PAD_TOKEN)\n",
        "        batch_transcript_pad    = pad_sequence(batch_transcript, batch_first=True, padding_value=PAD_TOKEN)\n",
        "        batch_golden_pad        = pad_sequence(batch_golden, batch_first=True, padding_value=PAD_TOKEN)\n",
        "\n",
        "\n",
        "        # You may apply some transformations, Time and Frequency masking, here in the collate function:\n",
        "        # Food for Thought -> Why are we applying the transformation here and not in the __getitem__?\n",
        "        #                  -> Would we apply transformation on the validation set as well?\n",
        "        #                  -> Is the order of axes / dimensions as expected for the transform functions?\n",
        "\n",
        "\n",
        "        # Return the following values:\n",
        "        # padded features, padded shifted labels, padded golden labels, actual length of features, actual length of the shifted labels\n",
        "        return batch_mfcc_pad, batch_transcript_pad, batch_golden_pad, torch.tensor(lengths_mfcc), torch.tensor(lengths_transcript)"
      ],
      "metadata": {
        "id": "QfYjnJ6VZCBp"
      },
      "execution_count": null,
      "outputs": []
    },
    {
      "cell_type": "code",
      "source": [
        "class SpeechTestDataset(torch.utils.data.Dataset):\n",
        "\n",
        "    def __init__(self, root_dir, partition, cepstral=True):\n",
        "\n",
        "        self.mfcc_dir       = f\"{root_dir}/{partition}*/mfcc/*\"\n",
        "        self.mfcc_files     = sorted(glob.glob(self.mfcc_dir))\n",
        "        self.length         = len(self.mfcc_files)\n",
        "\n",
        "        self.mfccs = []\n",
        "        for file in self.mfcc_files:\n",
        "            mfcc = np.load(file)\n",
        "            if cepstral: mfcc = (mfcc - np.mean(mfcc, axis=0)) / (np.std(mfcc, axis=0) + 1E-8)\n",
        "            self.mfccs.append(mfcc)\n",
        "\n",
        "        print(\"Loaded Path: \", partition)\n",
        "\n",
        "\n",
        "    def __len__(self): return self.length\n",
        "\n",
        "\n",
        "    def __getitem__(self, ind):\n",
        "        mfcc = self.mfccs[ind]\n",
        "\n",
        "        return torch.FloatTensor(mfcc)\n",
        "\n",
        "\n",
        "    def collate_fn(self, batch):\n",
        "        # @NOTE: batch corresponds to output from __getitem__ for a minibatch\n",
        "\n",
        "        '''\n",
        "        TODO:\n",
        "        1.  Extract the features and labels from 'batch'.\n",
        "        2.  We will additionally need to pad the features,\n",
        "            look at PyTorch's documentation for pad_sequence.\n",
        "        3.  Return batch of features, lengths of features.\n",
        "\n",
        "        '''\n",
        "\n",
        "        batch_mfcc      = batch\n",
        "        batch_mfcc_pad  = pad_sequence(batch_mfcc, batch_first=True)\n",
        "        lengths_mfcc    = [len(i) for i in batch_mfcc]\n",
        "\n",
        "        return batch_mfcc_pad, torch.tensor(lengths_mfcc)"
      ],
      "metadata": {
        "id": "SeehjDLGNJz2"
      },
      "execution_count": null,
      "outputs": []
    },
    {
      "cell_type": "code",
      "source": [
        "# @NOTE: use the config file to specify PARTITION and CEPSTRAL\n",
        "DATA_DIR        = \"/content/data/11-785s24-hw4p2/\"\n",
        "PARTITION       = config[\"train_dataset\"]                # Enter your training directory here.\n",
        "CEPSTRAL        = config[\"cepstral_norm\"]                # Enter your cepstral_norm parameter here.\n",
        "\n",
        "train_dataset   = SpeechDataset(\n",
        "    root_dir    = DATA_DIR,\n",
        "    partition   = PARTITION,\n",
        "    cepstral    = CEPSTRAL\n",
        ")\n",
        "\n",
        "val_dataset     = SpeechDataset(\n",
        "    root_dir    = DATA_DIR,\n",
        "    partition   = \"dev-clean\",\n",
        "    cepstral    = CEPSTRAL\n",
        ")\n",
        "\n",
        "test_dataset    = SpeechTestDataset(\n",
        "    root_dir    = DATA_DIR,\n",
        "    partition   = \"test-clean\",\n",
        "    cepstral    = CEPSTRAL,\n",
        ")\n",
        "\n",
        "gc.collect()"
      ],
      "metadata": {
        "id": "GTXbTFReehR3",
        "colab": {
          "base_uri": "https://localhost:8080/"
        },
        "outputId": "126f5552-d5c4-43ad-d99a-ccf8596bbeb1"
      },
      "execution_count": null,
      "outputs": [
        {
          "output_type": "stream",
          "name": "stdout",
          "text": [
            "Loaded Path:  train-clean-100\n",
            "Loaded Path:  dev-clean\n",
            "Loaded Path:  test-clean\n"
          ]
        },
        {
          "output_type": "execute_result",
          "data": {
            "text/plain": [
              "968"
            ]
          },
          "metadata": {},
          "execution_count": 13
        }
      ]
    },
    {
      "cell_type": "markdown",
      "source": [
        "## DataLoader"
      ],
      "metadata": {
        "id": "vQRQ_nQVNaFx"
      }
    },
    {
      "cell_type": "code",
      "source": [
        "train_loader    = torch.utils.data.DataLoader(\n",
        "    dataset     = train_dataset,\n",
        "    batch_size  = config[\"batch_size\"],\n",
        "    shuffle     = True,\n",
        "    num_workers = 4,\n",
        "    pin_memory  = True,\n",
        "    collate_fn  = train_dataset.collate_fn\n",
        ")\n",
        "\n",
        "val_loader      = torch.utils.data.DataLoader(\n",
        "    dataset     = val_dataset,\n",
        "    batch_size  = config[\"batch_size\"],\n",
        "    shuffle     = False,\n",
        "    num_workers = 2,\n",
        "    pin_memory  = True,\n",
        "    collate_fn  = val_dataset.collate_fn,\n",
        ")\n",
        "\n",
        "test_loader     = torch.utils.data.DataLoader(\n",
        "    dataset     = test_dataset,\n",
        "    batch_size  = config[\"batch_size\"],\n",
        "    shuffle     = False,\n",
        "    num_workers = 2,\n",
        "    pin_memory  = True,\n",
        "    collate_fn  = test_dataset.collate_fn,\n",
        ")\n",
        "\n",
        "print(\"No. of Train MFCCs   : \", train_dataset.__len__())\n",
        "print(\"Batch Size           : \", config[\"batch_size\"])\n",
        "print(\"Train Vatches        : \", train_loader.__len__())\n",
        "print(\"Val Batches          : \", val_loader.__len__())\n",
        "print(\"Test Batches         : \", test_loader.__len__())"
      ],
      "metadata": {
        "id": "mtYEwlZhfUbT",
        "colab": {
          "base_uri": "https://localhost:8080/"
        },
        "outputId": "b0805e64-63c3-4b28-bd63-a0d7be957152"
      },
      "execution_count": null,
      "outputs": [
        {
          "output_type": "stream",
          "name": "stdout",
          "text": [
            "No. of Train MFCCs   :  28539\n",
            "Batch Size           :  16\n",
            "Train Vatches        :  1784\n",
            "Val Batches          :  169\n",
            "Test Batches         :  164\n"
          ]
        }
      ]
    },
    {
      "cell_type": "code",
      "source": [
        "''' Sanity Check '''\n",
        "\n",
        "print(\"Checking the Shapes of the Data --\\n\")\n",
        "\n",
        "for batch in train_loader:\n",
        "    x_pad, y_shifted_pad, y_golden_pad, x_len, y_len, = batch\n",
        "\n",
        "    print(f\"x_pad shape:\\t\\t{x_pad.shape}\")\n",
        "    print(f\"x_len shape:\\t\\t{x_len.shape}\\n\")\n",
        "\n",
        "    print(f\"y_shifted_pad shape:\\t{y_shifted_pad.shape}\")\n",
        "    print(f\"y_golden_pad shape:\\t{y_golden_pad.shape}\")\n",
        "    print(f\"y_len shape:\\t\\t{y_len.shape}\\n\")\n",
        "\n",
        "    # print(y_shifted_pad)\n",
        "\n",
        "    break"
      ],
      "metadata": {
        "id": "eJo1BOHUPjpv",
        "colab": {
          "base_uri": "https://localhost:8080/"
        },
        "outputId": "12af543c-405c-41cd-f029-718398580f97"
      },
      "execution_count": null,
      "outputs": [
        {
          "output_type": "stream",
          "name": "stdout",
          "text": [
            "Checking the Shapes of the Data --\n",
            "\n",
            "x_pad shape:\t\ttorch.Size([16, 1672, 27])\n",
            "x_len shape:\t\ttorch.Size([16])\n",
            "\n",
            "y_shifted_pad shape:\ttorch.Size([16, 270])\n",
            "y_golden_pad shape:\ttorch.Size([16, 270])\n",
            "y_len shape:\t\ttorch.Size([16])\n",
            "\n"
          ]
        }
      ]
    },
    {
      "cell_type": "markdown",
      "source": [
        "## DataLoader Verification\n",
        "\n",
        "- Train Dataset (train-clean-50)\n",
        "```\n",
        "Loaded Path:  train-clean-50\n",
        "Max MFCC Length          :  1982\n",
        "Avg MFCC Length          :  1256.06069100848\n",
        "Max Transcript Length    :  354\n",
        "Max Transcript Length    :  182.2676431424767\n",
        "```\n",
        "\n",
        "- Train Dataset (train-clean-100)\n",
        "```\n",
        "Loaded Path:  train-clean-100\n",
        "Max MFCC Length          :  2448\n",
        "Avg MFCC Length          :  1264.6258453344547\n",
        "Max Transcript Length    :  399\n",
        "Max Transcript Length    :  186.65321139493324\n",
        "```\n",
        "\n",
        "- Validation Dataset\n",
        "```\n",
        "Loaded Path:  dev-clean\n",
        "Max MFCC Length          :  3260\n",
        "Avg MFCC Length          :  713.3570107288198\n",
        "Max Transcript Length    :  517\n",
        "Max Transcript Length    :  107.71698113207547\n",
        "```\n",
        "\n",
        "- Test Dataset\n",
        "```\n",
        "Loaded Path:  test-clean\n",
        "Max MFCC Length          :  27\n",
        "Avg MFCC Length          :  27.0\n",
        "```\n",
        "\n",
        "- Population Stats\n",
        "```\n",
        "Max Length:  3260\n",
        "```\n",
        "\n",
        "If your values is not matching, read hints and think what could have gone wrong. Then approach TAs.\n",
        "\n"
      ],
      "metadata": {
        "id": "F9nl0yf9Q_-2"
      }
    },
    {
      "cell_type": "code",
      "source": [
        "def verify_dataset(dataset, partition=\"train-clean-100\"):\n",
        "    print(\"Loaded Path: \", partition)\n",
        "\n",
        "    if partition != \"test-clean\":\n",
        "        print(\"Max MFCC Length          : \", np.max([data[0].shape[0] for data in dataset]))\n",
        "        print(\"Avg MFCC Length          : \", np.mean([data[0].shape[0] for data in dataset]))\n",
        "        print(\"Max Transcript Length    : \", np.max([data[1].shape[0] for data in dataset]))\n",
        "        print(\"Max Transcript Length    : \", np.mean([data[1].shape[0] for data in dataset]))\n",
        "    else:\n",
        "        print(\"Max MFCC Length          : \", np.max([data[0].shape[0] for data in dataset]))\n",
        "        print(\"Avg MFCC Length          : \", np.mean([data[0].shape[0] for data in dataset]))\n",
        "\n",
        "    print()\n",
        "\n",
        "verify_dataset(train_dataset, partition=\"train-clean-100\")\n",
        "verify_dataset(val_dataset, partition=\"dev-clean\")\n",
        "verify_dataset(test_dataset, partition=\"test-clean\")\n",
        "\n",
        "dataset_max_len = max(\n",
        "    np.max([data[0].shape[0] for data in train_dataset]),\n",
        "    np.max([data[0].shape[0] for data in val_dataset]),\n",
        "    np.max([data[0].shape[0] for data in test_dataset]),\n",
        ")\n",
        "\n",
        "print(\"Max Length: \", dataset_max_len)"
      ],
      "metadata": {
        "id": "4t7hgbxfRDT3",
        "colab": {
          "base_uri": "https://localhost:8080/"
        },
        "outputId": "62828bec-8784-4d0e-eb00-52179f754946"
      },
      "execution_count": null,
      "outputs": [
        {
          "output_type": "stream",
          "name": "stdout",
          "text": [
            "Loaded Path:  train-clean-100\n",
            "Max MFCC Length          :  2448\n",
            "Avg MFCC Length          :  1264.6258453344547\n",
            "Max Transcript Length    :  399\n",
            "Max Transcript Length    :  185.65321139493324\n",
            "\n",
            "Loaded Path:  dev-clean\n",
            "Max MFCC Length          :  3260\n",
            "Avg MFCC Length          :  713.3570107288198\n",
            "Max Transcript Length    :  517\n",
            "Max Transcript Length    :  107.71698113207547\n",
            "\n",
            "Loaded Path:  test-clean\n",
            "Max MFCC Length          :  27\n",
            "Avg MFCC Length          :  27.0\n",
            "\n",
            "Max Length:  3260\n"
          ]
        }
      ]
    },
    {
      "cell_type": "markdown",
      "source": [
        "# Introduction\n",
        "\n",
        "Transformers are highly effective for speech recognition tasks because they utilize self-attention mechanisms, enabling them to analyze entire sequences of audio data in one shot. This allows for a nuanced understanding of long-range dependencies and the complex temporal dynamics inherent in speech. Compared to traditional models, transformers offer improved accuracy and efficiency, adeptly handling variations in speech patterns, accents, and intonations; thus, making them exceptionally suitable for advanced speech recognition applications."
      ],
      "metadata": {
        "id": "6QiV7F8hhS0c"
      }
    },
    {
      "cell_type": "markdown",
      "source": [
        "![image.png](data:image/png;base64,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)"
      ],
      "metadata": {
        "id": "AF6R4uUfrm5j"
      }
    },
    {
      "cell_type": "markdown",
      "source": [
        "Given the complicated nature of these models, training in this homework will be a little different from other homeworks.<br>\n",
        "We will employ the following to effectively train the transformer with fewer resources (data and compute power).\n",
        "<br>\n",
        "* **Data Complexity and Model Capacity**:  Starting with a CNN-LSTM for input sequences captures temporal dynamics and dependencies early on, simplifying initial learning. This is effective for data with strong temporal or sequential patterns, which LSTMs excel at handling. We will use an already trained model (trained in HW3P2).\n",
        "\n",
        "\n",
        "* **Gradual (Incremental) Learning**: Starting with a simpler model (like an LSTM) allows the neural network to first learn the basic structures and patterns in the data. When we later introduce more complex mechanisms (like a transformer encoder), the model already has a foundational understanding of the data. This foundation can lead to a smoother and more effective learning process when the complexity of the model increases. In other words, we are using a simple, pretrained LSTM encoder as the basis for our transformer decoder and incrementally adding complexity!\n",
        "\n",
        "* **Learning Efficiency**: By freezing certain parts of the model during different stages of training, we focus the learning capacity of the network on specific modules, making the training process more efficient. This stepwise unfreezing and training allows different components of the model to adapt gradually, which can be very useful when integrating parts of the model that learn at different rates.\n",
        "\n",
        "* **Adaptation to Data Characteristics**: This strategy implicitly takes advantage of the data's characteristics by adjusting the model's architecture and training procedure to better suit the data's structure. For instance, if the data contains intricate sequential patterns, starting with an LSTM can harness these patterns effectively. Then, by introducing a transformer encoder, the model can further learn to capture complex, long-range dependencies within the data, something transformers are exceptionally good at.\n"
      ],
      "metadata": {
        "id": "l6mtisVqr4FF"
      }
    },
    {
      "cell_type": "markdown",
      "metadata": {
        "id": "wTZ-lv47XOj0"
      },
      "source": [
        "## Utilities\n",
        "\n",
        "To make make building the transformer easy, we will define various utility functions and classes which corresponds to the various modules of the transformer. All Components are provided for you but your task will be too understand the modules as you will need  them in answering Canvas quizzes as well as implementing other parts of this notebook. Please refer to the write-up for more information."
      ]
    },
    {
      "cell_type": "code",
      "source": [
        "def create_mask_1(padded_input, input_lengths=None, pad_idx=None):\n",
        "    \"\"\" Create a mask to identify non-padding positions.\n",
        "\n",
        "    Args:\n",
        "        padded_input: The input tensor with padding, shape (N, T, ...) or (N, T).\n",
        "        input_lengths: Optional, the actual lengths of each sequence before padding, shape (N,).\n",
        "        pad_idx: Optional, the index used for padding tokens.\n",
        "\n",
        "    Returns:\n",
        "        A mask tensor with shape (N, T, 1), where non-padding positions are marked with 1 and padding positions are marked with 0.\n",
        "    \"\"\"\n",
        "\n",
        "    assert input_lengths is not None or pad_idx is not None\n",
        "\n",
        "    # Create a mask based on input_lengths\n",
        "    if input_lengths is not None:\n",
        "        N = padded_input.size(0)        # padded_input : (N x T x ...)\n",
        "        non_pad_mask = padded_input.new_ones(padded_input.size()[:-1])  # (N x T)\n",
        "\n",
        "        # Set the mask to 0 for padding positions\n",
        "        for i in range(N):\n",
        "          non_pad_mask[i, input_lengths[i]:] = 0\n",
        "\n",
        "    if pad_idx is not None:             # padded_input : N x T\n",
        "\n",
        "        assert padded_input.dim() == 2\n",
        "\n",
        "        # Create a mask where non-padding positions are marked with 1 and padding positions are marked with 0\n",
        "        non_pad_mask = padded_input.ne(pad_idx).float()\n",
        "\n",
        "    return non_pad_mask.unsqueeze(-1)   # unsqueeze(-1) for broadcasting"
      ],
      "metadata": {
        "id": "xPKEiQYszRjm"
      },
      "execution_count": null,
      "outputs": []
    },
    {
      "cell_type": "code",
      "source": [
        "def create_mask_2(seq, pad_idx=None):\n",
        "    \"\"\" Create a mask to prevent positions from attending to subsequent positions.\n",
        "\n",
        "    Args:\n",
        "        seq: The input sequence tensor, shape (batch_size, sequence_length).\n",
        "\n",
        "    Returns:\n",
        "        A mask tensor with shape (batch_size, sequence_length, sequence_length),\n",
        "            where positions are allowed to attend to previous positions but not to subsequent positions.\n",
        "    \"\"\"\n",
        "\n",
        "    sz_b, len_s = seq.size()\n",
        "\n",
        "    # Create an upper triangular matrix with zeros on the diagonal and below (indicating allowed positions)\n",
        "    #   and ones above the diagonal (indicating disallowed positions)\n",
        "    subsequent_mask = torch.triu(\n",
        "        torch.ones((len_s, len_s), device=seq.device, dtype=torch.uint8), diagonal=1)\n",
        "\n",
        "    # Expand the mask to match the batch size, resulting in a mask for each sequence in the batch.\n",
        "    mask = subsequent_mask.unsqueeze(0).expand(sz_b, -1, -1)  # b x ls x ls\n",
        "\n",
        "\n",
        "    ''' Create a mask to ignore padding positions in the key sequence during attention calculation. '''\n",
        "\n",
        "    # Expanding to fit the shape of key query attention matrix.\n",
        "    if pad_idx != None:\n",
        "      len_q = seq.size(1)\n",
        "\n",
        "      # Create a mask where padding positions in the key sequence are marked with 1.\n",
        "      padding_mask  = seq.eq(pad_idx)\n",
        "\n",
        "      # Expand the mask to match the dimensions of the key-query attention matrix.\n",
        "      padding_mask  = padding_mask.unsqueeze(1).expand(-1, len_q, -1)  # b x lq x lk\n",
        "      mask          = (padding_mask + mask).gt(0)\n",
        "\n",
        "    else:\n",
        "      mask = mask.gt(0)\n",
        "\n",
        "    return mask"
      ],
      "metadata": {
        "id": "OS7su_eQzWp5"
      },
      "execution_count": null,
      "outputs": []
    },
    {
      "cell_type": "code",
      "source": [
        "def create_mask_3(padded_input, input_lengths, expand_length):\n",
        "    \"\"\" Create an attention mask to ignore padding positions in the input sequence during attention calculation.\n",
        "\n",
        "    Args:\n",
        "        padded_input: The input tensor with padding, shape (N, Ti, ...).\n",
        "        input_lengths: The actual lengths of each sequence before padding, shape (N,).\n",
        "        expand_length: The length to which the attention mask should be expanded,\n",
        "            usually equal to the length of the sequence that the attention scores will be applied to.\n",
        "\n",
        "    Returns:\n",
        "        An attention mask tensor with shape (N, expand_length, Ti),\n",
        "            where padding positions in the input sequence are marked with 1 and other positions are marked with 0.\n",
        "    \"\"\"\n",
        "\n",
        "    # Create a mask to identify non-padding positions, shape (N, Ti, 1)\n",
        "    # (N x Ti x 1)\n",
        "    non_pad_mask    = create_mask_1(padded_input, input_lengths=input_lengths)\n",
        "\n",
        "    # Invert the mask to identify padding positions, shape (N, Ti)\n",
        "    # N x Ti, lt(1) like-not operation\n",
        "    pad_mask        = non_pad_mask.squeeze(-1).lt(1)\n",
        "\n",
        "\n",
        "    # Expand the mask to match the dimensions of the attention matrix, shape (N, expand_length, Ti)\n",
        "    attn_mask       = pad_mask.unsqueeze(1).expand(-1, expand_length, -1)\n",
        "\n",
        "    return attn_mask"
      ],
      "metadata": {
        "id": "VoU14igzzbk3"
      },
      "execution_count": null,
      "outputs": []
    },
    {
      "cell_type": "code",
      "source": [
        "class ScaledDotProductAttention(torch.nn.Module):\n",
        "    ''' Scaled Dot-Product Attention '''\n",
        "\n",
        "    def __init__(self, temperature, attn_dropout=0.1):\n",
        "        super().__init__()\n",
        "        self.temperature    = temperature                       # Scaling factor for the dot product\n",
        "        self.dropout        = torch.nn.Dropout(attn_dropout)    # Dropout layer for attention weights\n",
        "        self.softmax        = torch.nn.Softmax(dim=2)           # Softmax layer along the attention dimension\n",
        "\n",
        "    def forward(self, q, k, v, mask=None):\n",
        "\n",
        "        # Calculate the dot product between queries and keys.\n",
        "        attn = torch.bmm(q, k.transpose(1, 2))\n",
        "\n",
        "        # Scale the dot product by the temperature.\n",
        "        attn = attn / self.temperature\n",
        "\n",
        "        if mask is not None:\n",
        "            # Apply the mask by setting masked positions to a large negative value.\n",
        "            # This ensures they have a softmax score close to zero.\n",
        "            mask_value = -1e+30 if attn.dtype == torch.float32 else -1e+4\n",
        "            attn = attn.masked_fill(mask, mask_value)\n",
        "\n",
        "        # Apply softmax to obtain attention weights.\n",
        "        attn    = self.softmax(attn)\n",
        "\n",
        "        # Apply dropout to the attention weights.\n",
        "        attn    = self.dropout(attn)\n",
        "\n",
        "        # Compute the weighted sum of values based on the attention weights.\n",
        "        output  = torch.bmm(attn, v)\n",
        "\n",
        "        return output, attn # Return the attention output and the attention weights."
      ],
      "metadata": {
        "id": "fb5-BhwgZydi"
      },
      "execution_count": null,
      "outputs": []
    },
    {
      "cell_type": "code",
      "source": [
        "def save_attention_plot(attention_weights, epoch=0):\n",
        "    ''' function for saving attention weights plot to a file\n",
        "\n",
        "        @NOTE: default starter code set to save cross attention\n",
        "    '''\n",
        "\n",
        "    plt.clf()  # Clear the current figure\n",
        "    sns.heatmap(attention_weights, cmap=\"GnBu\")  # Create heatmap\n",
        "\n",
        "    # Save the plot to a file. Specify the directory if needed.\n",
        "    plt.savefig(f\"cross_attention-epoch{epoch}.png\")"
      ],
      "metadata": {
        "id": "iuJntqzGzssH"
      },
      "execution_count": null,
      "outputs": []
    },
    {
      "cell_type": "code",
      "source": [
        "class MultiHeadAttention(torch.nn.Module):\n",
        "    ''' Multi-Head Attention Module '''\n",
        "\n",
        "    def __init__(self, n_head, d_model, dropout=0.1):\n",
        "        super().__init__()\n",
        "\n",
        "        self.n_head = n_head # Number of attention heads\n",
        "        self.d_k    = d_model // n_head\n",
        "        self.d_v    = d_model // n_head\n",
        "\n",
        "\n",
        "        # Linear layers for projecting the input query, key, and value to multiple heads\n",
        "        self.w_qs   = torch.nn.Linear(d_model, n_head * self.d_k)\n",
        "        self.w_ks   = torch.nn.Linear(d_model, n_head * self.d_k)\n",
        "        self.w_vs   = torch.nn.Linear(d_model, n_head * self.d_v)\n",
        "\n",
        "        torch.nn.init.normal_(self.w_qs.weight, mean=0, std=np.sqrt(2.0 / (d_model + self.d_k)))\n",
        "        torch.nn.init.normal_(self.w_ks.weight, mean=0, std=np.sqrt(2.0 / (d_model + self.d_k)))\n",
        "        torch.nn.init.normal_(self.w_vs.weight, mean=0, std=np.sqrt(2.0 / (d_model + self.d_v)))\n",
        "\n",
        "        # Initialize the weights of the linear layers\n",
        "        self.attention = ScaledDotProductAttention(\n",
        "            temperature=np.power(self.d_k, 0.5), attn_dropout=dropout)\n",
        "\n",
        "        # Final linear layer to project the concatenated outputs of the attention heads back to the model dimension\n",
        "        self.fc = torch.nn.Linear(n_head * self.d_v, d_model)\n",
        "\n",
        "        torch.nn.init.xavier_normal_(self.fc.weight)\n",
        "\n",
        "        self.dropout = torch.nn.Dropout(dropout)\n",
        "\n",
        "    def forward(self, q, k, v, mask=None):\n",
        "\n",
        "        # following key, value, query standard computation\n",
        "        d_k, d_v, n_head    = self.d_k, self.d_v, self.n_head\n",
        "        sz_b, len_q, _      = q.size()\n",
        "        sz_b, len_k, _      = k.size()\n",
        "        sz_b, len_v, _      = v.size()\n",
        "\n",
        "        # Project the input query, key, and value to multiple heads\n",
        "        q = self.w_qs(q).view(sz_b, len_q, n_head, d_k)\n",
        "        k = self.w_ks(k).view(sz_b, len_k, n_head, d_k)\n",
        "        v = self.w_vs(v).view(sz_b, len_v, n_head, d_v)\n",
        "\n",
        "        # Rearrange the dimensions to group the heads together for parallel processing\n",
        "        q = q.permute(2, 0, 1, 3).contiguous().view(-1, len_q, d_k) # (n*b) x lq x dk\n",
        "        k = k.permute(2, 0, 1, 3).contiguous().view(-1, len_k, d_k) # (n*b) x lk x dk\n",
        "        v = v.permute(2, 0, 1, 3).contiguous().view(-1, len_v, d_v) # (n*b) x lv x dv\n",
        "\n",
        "        # Repeat the mask for each attention head if a mask is provided\n",
        "        if mask is not None:\n",
        "            mask = mask.repeat(n_head, 1, 1)\n",
        "\n",
        "        # Apply scaled dot-product attention to the projected query, key, and value\n",
        "        output, attn    = self.attention(q, k, v, mask=mask)\n",
        "\n",
        "        # Rearrange the output back to the original order and concatenate the heads\n",
        "        output          = output.view(n_head, sz_b, len_q, d_v)\n",
        "        output          = output.permute(1, 2, 0, 3).contiguous().view(sz_b, len_q, -1) # b x lq x (n*dv)\n",
        "\n",
        "        output          = self.dropout(self.fc(output))\n",
        "\n",
        "        return output, attn"
      ],
      "metadata": {
        "id": "wOCsC5z7qvZ5"
      },
      "execution_count": null,
      "outputs": []
    },
    {
      "cell_type": "markdown",
      "source": [
        "## Transformer Modules"
      ],
      "metadata": {
        "id": "RCwIlOrXvxGO"
      }
    },
    {
      "cell_type": "markdown",
      "source": [
        "### Positional Encoding"
      ],
      "metadata": {
        "id": "4Lt4-VJerMY3"
      }
    },
    {
      "cell_type": "code",
      "source": [
        "class PositionalEncoding(torch.nn.Module):\n",
        "    ''' Position Encoding from Attention Is All You Need Paper '''\n",
        "\n",
        "    def __init__(self, d_model, max_len=5000):\n",
        "        super().__init__()\n",
        "\n",
        "        # Initialize a tensor to hold the positional encodings\n",
        "        pe          = torch.zeros(max_len, d_model)\n",
        "\n",
        "        # Create a tensor representing the positions (0 to max_len-1)\n",
        "        position    = torch.arange(0, max_len, dtype=torch.float).unsqueeze(1)\n",
        "\n",
        "        # Calculate the division term for the sine and cosine functions\n",
        "        # This term creates a series of values that decrease geometrically, used to generate varying frequencies for positional encodings\n",
        "        div_term    = torch.exp(torch.arange(0, d_model, 2).float() * (-math.log(10000.0) / d_model))\n",
        "\n",
        "        # Compute the positional encodings using sine and cosine functions\n",
        "        pe[:, 0::2] = torch.sin(position * div_term)\n",
        "        pe[:, 1::2] = torch.cos(position * div_term)\n",
        "\n",
        "        # Reshape the positional encodings tensor and make it a buffer\n",
        "        pe = pe.unsqueeze(0)\n",
        "        self.register_buffer(\"pe\", pe)\n",
        "\n",
        "    def forward(self, x):\n",
        "\n",
        "      return x + self.pe[:, :x.size(1)]"
      ],
      "metadata": {
        "id": "Pn9zEhZQrPyH"
      },
      "execution_count": null,
      "outputs": []
    },
    {
      "cell_type": "markdown",
      "source": [
        "### Feed Forward Networks"
      ],
      "metadata": {
        "id": "WfFLc2WCtEjr"
      }
    },
    {
      "cell_type": "code",
      "source": [
        "class FeedForward(torch.nn.Module):\n",
        "    ''' Projection Layer (Fully Connected Layers) '''\n",
        "\n",
        "    def __init__(self, d_model, d_ff=2048, dropout=0.1):\n",
        "        super().__init__()\n",
        "\n",
        "        self.linear_1   = torch.nn.Linear(d_model, d_ff)\n",
        "        self.dropout    = torch.nn.Dropout(dropout)\n",
        "        self.linear_2   = torch.nn.Linear(d_ff, d_model)\n",
        "\n",
        "    def forward(self, x):\n",
        "\n",
        "        # Apply the first linear layer, GeLU activation, and then dropout\n",
        "        x = self.dropout(torch.nn.functional.gelu(self.linear_1(x)))\n",
        "\n",
        "         # Apply the second linear layer to project the dimension back to d_model\n",
        "        x = self.linear_2(x)\n",
        "\n",
        "        return x"
      ],
      "metadata": {
        "id": "nGfM9LObtC8k"
      },
      "execution_count": null,
      "outputs": []
    },
    {
      "cell_type": "markdown",
      "source": [
        "# PART #1 (Preliminary Submission)\n",
        "\n",
        "In this part we will use a simple CNN-LSTM as an encoder with a Transformer Decoder (with Self-Attention and Cross-Attention)."
      ],
      "metadata": {
        "id": "tkbco9zxxbnc"
      }
    },
    {
      "cell_type": "markdown",
      "source": [
        "## CNN-LSTM Encoder"
      ],
      "metadata": {
        "id": "euflRQmX4fBC"
      }
    },
    {
      "cell_type": "code",
      "source": [
        "class Permute(nn.Module):\n",
        "    def forward(self, x):\n",
        "        return x.transpose(1, 2)"
      ],
      "metadata": {
        "id": "cOg9-ZuWkT_n"
      },
      "execution_count": null,
      "outputs": []
    },
    {
      "cell_type": "code",
      "source": [
        "class pBLSTM(torch.nn.Module):\n",
        "    def __init__(self, input_size, hidden_size):\n",
        "        super(pBLSTM, self).__init__()\n",
        "        self.blstm = torch.nn.LSTM(input_size=2*input_size, hidden_size=hidden_size, bidirectional=True, batch_first=True)\n",
        "\n",
        "    def forward(self, x_packed):\n",
        "        x_padded, x_lens = pad_packed_sequence(x_packed, batch_first=True)\n",
        "        x_padded, x_lens = self.trunc_reshape(x_padded, x_lens)\n",
        "        x_packed = pack_padded_sequence(x_padded, x_lens, batch_first=True, enforce_sorted=False)\n",
        "        output_packed, hidden = self.blstm(x_packed)\n",
        "        return output_packed\n",
        "\n",
        "    def trunc_reshape(self, x, x_lens):\n",
        "        if x.shape[1]%2==1:\n",
        "            x = x[:,:-1,:]\n",
        "        x = x.reshape((x.shape[0], int(x.shape[1]//2), x.shape[2]*2))\n",
        "        x_lens = (x_lens/2).type(torch.int)\n",
        "        return x, x_lens"
      ],
      "metadata": {
        "id": "RHIIFL0WV7P-"
      },
      "execution_count": null,
      "outputs": []
    },
    {
      "cell_type": "code",
      "source": [
        "from torch.autograd import Variable\n",
        "\n",
        "class LockedDropout(nn.Module):\n",
        "    def __init__(self, dropout):\n",
        "        super().__init__()\n",
        "        self.dropout = dropout\n",
        "\n",
        "    def forward(self, x):\n",
        "        if not self.training or not self.dropout:\n",
        "            return x\n",
        "        x_unpacked, x_lens = pad_packed_sequence(x, batch_first=True)\n",
        "        m = x.data.new(x_unpacked.size(0), 1, x_unpacked.size(2)).bernoulli_(1 - self.dropout)\n",
        "        mask = Variable(m, requires_grad=False) / (1 - self.dropout)\n",
        "        mask = mask.expand_as(x_unpacked)\n",
        "        out = mask * x_unpacked\n",
        "        return pack_padded_sequence(out, lengths=x_lens, batch_first=True, enforce_sorted=False)"
      ],
      "metadata": {
        "id": "gNhnIDjJWBM6"
      },
      "execution_count": null,
      "outputs": []
    },
    {
      "cell_type": "code",
      "source": [
        "class CNN_LSTM_Encoder(torch.nn.Module):\n",
        "    ''' The Encoder takes utterances as inputs and returns latent feature representations '''\n",
        "\n",
        "    def __init__(self, input_size, encoder_hidden_size, enc_dropout=0.2):\n",
        "        super(CNN_LSTM_Encoder, self).__init__()\n",
        "\n",
        "        self.embedding = torch.nn.Sequential(\n",
        "            torch.nn.Conv1d(input_size, 2*input_size, kernel_size=5, stride=1, padding=2),\n",
        "            torch.nn.BatchNorm1d(2*input_size),\n",
        "            torch.nn.ReLU(inplace=True),\n",
        "            torch.nn.Conv1d(2*input_size, 4*input_size, kernel_size=5, stride=1, padding=2),\n",
        "            torch.nn.BatchNorm1d(4*input_size),\n",
        "            torch.nn.ReLU(inplace=True)\n",
        "        )\n",
        "\n",
        "        self.bilstm = torch.nn.LSTM(input_size=4*input_size, hidden_size=encoder_hidden_size, bidirectional=True, batch_first=True, dropout=enc_dropout)\n",
        "\n",
        "        self.pBLSTMs = torch.nn.Sequential(\n",
        "            pBLSTM(2 * encoder_hidden_size, encoder_hidden_size),\n",
        "            LockedDropout(dropout=2*enc_dropout),\n",
        "            pBLSTM(2*encoder_hidden_size, 2*encoder_hidden_size),\n",
        "            LockedDropout(dropout=enc_dropout),\n",
        "        )\n",
        "\n",
        "        self.permute = Permute()\n",
        "\n",
        "    def forward(self, x, x_lens):\n",
        "        x = self.permute(x)\n",
        "        x = self.embedding(x)\n",
        "        x = self.permute(x)\n",
        "\n",
        "        x_packed        = pack_padded_sequence(x, x_lens, batch_first= True, enforce_sorted=False)\n",
        "        x_packed, _     = self.bilstm(x_packed)\n",
        "        x_packed        = self.pBLSTMs(x_packed)\n",
        "        encoder_outputs, encoder_lens = pad_packed_sequence(x_packed, batch_first=True)\n",
        "\n",
        "        return encoder_outputs, encoder_lens"
      ],
      "metadata": {
        "id": "eL2vCjRfw82o"
      },
      "execution_count": null,
      "outputs": []
    },
    {
      "cell_type": "markdown",
      "source": [
        "## Transformer Decoder\n",
        "\n",
        "![image.png](data:image/png;base64,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)"
      ],
      "metadata": {
        "id": "bdJsTVEvZIwe"
      }
    },
    {
      "cell_type": "markdown",
      "source": [
        "Tips to complete the Decoder below.\n",
        "\n",
        "* Can you seperate the decoder layers from the whole decoder?\n",
        "* How many multi-head attention do we have in the figure above.\n",
        "* How many layer normalizations?\n",
        "* How do we make the residual connections?\n",
        "\n",
        "For Forward Method:\n",
        "* What are the inputs to various multi-head attention modules?\n",
        "* How do we make the residual connection (do we need dropout)?\n"
      ],
      "metadata": {
        "id": "sdzUsFHRyT6J"
      }
    },
    {
      "cell_type": "code",
      "source": [
        "class DecoderLayer(torch.nn.Module):\n",
        "    def __init__(self, d_model, num_heads, d_ff, dropout=0.1):\n",
        "        super().__init__()\n",
        "\n",
        "        # @TODO: fill in the blanks appropriately (given the modules above)\n",
        "        self.mha1       = MultiHeadAttention(num_heads, d_model, dropout)\n",
        "        self.mha2       = MultiHeadAttention(num_heads, d_model, dropout)\n",
        "        self.ffn        = FeedForward(d_model, d_ff, dropout)\n",
        "\n",
        "        self.layernorm1 = torch.nn.LayerNorm(d_model)\n",
        "        self.layernorm2 = torch.nn.LayerNorm(d_model)\n",
        "        self.layernorm3 = torch.nn.LayerNorm(d_model)\n",
        "\n",
        "        self.dropout1   = torch.nn.Dropout(dropout)\n",
        "        self.dropout2   = torch.nn.Dropout(dropout)\n",
        "        self.dropout3   = torch.nn.Dropout(dropout)\n",
        "\n",
        "\n",
        "    def forward(self, padded_targets, enc_output, enc_input_lengths, dec_enc_attn_mask, pad_mask, slf_attn_mask):\n",
        "\n",
        "        # Masked Multi-Head Attention\n",
        "        #   (1) apply MHA with the lookahead mask\n",
        "        ''' TODO '''\n",
        "        # q, k, v\n",
        "        x1, attn1  = self.mha1(padded_targets, padded_targets, padded_targets, mask=slf_attn_mask)\n",
        "\n",
        "        # Skip (Residual) Connections\n",
        "        #   (1) perform dropout on padded attention output\n",
        "        #   (2) add the true outputs (padded_targets) as a skip connection\n",
        "        ''' TODO '''\n",
        "        x_skip1 = self.dropout1(x1)\n",
        "        x_skip1 += padded_targets\n",
        "\n",
        "        # Layer Normalization\n",
        "        #   (1) call layernorm on this resulting value\n",
        "        ''' TODO '''\n",
        "        x_skip1 = self.layernorm1(x_skip1)\n",
        "\n",
        "        # Masked Multi-Head Attention on Encoder Outputs and Targets\n",
        "        #   (1) apply MHA with the self-attention mask\n",
        "        ''' TODO '''\n",
        "        x2, attn2 = self.mha2(x_skip1, enc_output, enc_output, mask=dec_enc_attn_mask)\n",
        "\n",
        "        # Skip (Residual) Connections\n",
        "        #   (1) perform dropout on this second padded attention output\n",
        "        #   (2) add the output of first MHA block as a skip connection\n",
        "        ''' TODO '''\n",
        "        x_skip2 = self.dropout2(x2)\n",
        "        x_skip2 += x_skip1\n",
        "\n",
        "        # Layer Normalization\n",
        "        #   (1) call layernorm on this resulting value\n",
        "        ''' TODO '''\n",
        "        x_skip2 = self.layernorm2(x_skip2)\n",
        "\n",
        "        # Feed Forward Network\n",
        "        #   (1) pass through the FFN\n",
        "        ''' TODO '''\n",
        "        ffn_output = self.ffn(x_skip2)\n",
        "\n",
        "        # Skip (Residual) Connections\n",
        "        #   (1) perform dropout on the output\n",
        "        #   (2) add the output of second MHA block as a skip connection\n",
        "        ''' TODO '''\n",
        "        ffn_output = self.dropout3(ffn_output)\n",
        "        ffn_output += x_skip2\n",
        "\n",
        "        # apply Layer Normalization on this resulting value\n",
        "        ''' TODO '''\n",
        "        output = self.layernorm3(ffn_output)\n",
        "\n",
        "        # return the network output and both attention weights (for mha1 and mha2)\n",
        "        # @NOTE: returning the self attention weights first\n",
        "        return output, attn1, attn2\n"
      ],
      "metadata": {
        "id": "80KuP9_-1AMw"
      },
      "execution_count": null,
      "outputs": []
    },
    {
      "cell_type": "code",
      "source": [
        "\n",
        "class Decoder(torch.nn.Module):\n",
        "    def __init__(self, num_layers, d_model, num_heads, d_ff, dropout,\n",
        "            target_vocab_size, max_seq_length, eos_token, sos_token, pad_token):\n",
        "        super().__init__()\n",
        "\n",
        "        self.EOS_TOKEN      = eos_token\n",
        "        self.SOS_TOKEN      = sos_token\n",
        "        self.PAD_TOKEN      = pad_token\n",
        "\n",
        "        self.max_seq_length = max_seq_length\n",
        "        self.num_layers     = num_layers\n",
        "\n",
        "        # use torch.nn.ModuleList() with list comprehension looping through num_layers\n",
        "        # @NOTE: think about what stays constant per each DecoderLayer (how to call DecoderLayer)\n",
        "        # @HINT: We've implemented this for you.\n",
        "        self.dec_layers = torch.nn.ModuleList(\n",
        "            [DecoderLayer(d_model, num_heads, d_ff, dropout) for _ in range(num_layers)]\n",
        "        )\n",
        "\n",
        "        self.target_embedding       = torch.nn.Embedding(target_vocab_size, d_model)\n",
        "        self.positional_encoding    = PositionalEncoding(d_model)\n",
        "        self.final_linear           = torch.nn.Linear(d_model, target_vocab_size)\n",
        "        self.dropout                = torch.nn.Dropout(dropout)\n",
        "\n",
        "\n",
        "    def forward(self, padded_targets, enc_output, enc_input_lengths):\n",
        "\n",
        "        # create a padding mask for the padded_targets with <PAD_TOKEN>\n",
        "        ''' TODO '''\n",
        "        pad_mask = None\n",
        "\n",
        "        # creating an attention mask for the future subsequences (look-ahead mask)\n",
        "        ''' TODO '''\n",
        "        slf_attn_mask = create_mask_2(padded_targets)\n",
        "\n",
        "        # creating attention mask to ignore padding positions in the input sequence during attention calculation\n",
        "        ''' TODO '''\n",
        "        # import pdb\n",
        "        # pdb.set_trace()\n",
        "        _, seq_len = padded_targets.size()\n",
        "        dec_enc_attn_mask = create_mask_3(enc_output, enc_input_lengths, seq_len)\n",
        "\n",
        "        # computing embeddings for the target sequence\n",
        "        ''' TODO '''\n",
        "        embeddings = self.target_embedding(padded_targets)\n",
        "\n",
        "        # computing Positional Encodings with the embedded targets and apply dropout\n",
        "        ''' TODO '''\n",
        "        encodings = self.positional_encoding(embeddings)\n",
        "        encodings = self.dropout(encodings)\n",
        "\n",
        "        # passing through decoder layers\n",
        "        # @NOTE: store your mha1 and mha2 attention weights inside a dictionary\n",
        "        # @NOTE: you will want to retrieve these later so store them with a useful name\n",
        "        ''' TODO '''\n",
        "        attention_weights = {}\n",
        "        output = encodings\n",
        "        for i in range(self.num_layers):\n",
        "\n",
        "          output, attn1, attn2 = self.dec_layers[i](\n",
        "              output,\n",
        "              enc_output,\n",
        "              enc_input_lengths,\n",
        "              dec_enc_attn_mask,\n",
        "              pad_mask,\n",
        "              slf_attn_mask)\n",
        "\n",
        "\n",
        "          attention_weights[f'attn1_{i}'] = attn1\n",
        "          attention_weights[f'attn2_{i}'] = attn2\n",
        "\n",
        "        # linear layer (Final Projection) for next character prediction\n",
        "        ''' TODO '''\n",
        "        logits = self.final_linear(output)\n",
        "\n",
        "        # return the network output and the dictionary of attention weights\n",
        "        return logits, attention_weights\n",
        "\n",
        "\n",
        "    def recognize_greedy_search(self, enc_outputs, enc_input_lengths):\n",
        "        ''' passes the encoder outputs and its corresponding lengths through autoregressive network\n",
        "\n",
        "            @NOTE: You do not need to make changes to this method.\n",
        "        '''\n",
        "\n",
        "        batch_size = enc_outputs.size(0)\n",
        "\n",
        "        # start with the <SOS> token for each sequence in the batch\n",
        "        target_seq = torch.full((batch_size, 1), self.SOS_TOKEN, dtype=torch.long).to(enc_outputs.device)\n",
        "\n",
        "        finished = torch.zeros(batch_size, dtype=torch.bool).to(enc_outputs.device)\n",
        "\n",
        "        for _ in range(self.max_seq_length):\n",
        "\n",
        "            # preparing attention masks\n",
        "            # filled with ones becaues we want to attend to all the elements in the sequence\n",
        "            pad_mask = torch.ones_like(target_seq).float().unsqueeze(-1)  # (batch_size x i x 1)\n",
        "            slf_attn_mask_subseq = create_mask_2(target_seq)\n",
        "\n",
        "            x = self.positional_encoding(self.target_embedding(target_seq))\n",
        "\n",
        "            for i in range(self.num_layers):\n",
        "                x, block1, block2 = self.dec_layers[i](\n",
        "                    x, enc_outputs, enc_input_lengths, None, pad_mask, slf_attn_mask_subseq)\n",
        "\n",
        "            seq_out = self.final_linear(x[:, -1])\n",
        "            logits = torch.nn.functional.log_softmax(seq_out, dim=1)\n",
        "\n",
        "            # selecting the token with the highest probability\n",
        "            # @NOTE: this is the autoregressive nature of the network!\n",
        "            next_token = logits.argmax(dim=-1).unsqueeze(1)\n",
        "\n",
        "            # appending the token to the sequence\n",
        "            target_seq = torch.cat([target_seq, next_token], dim=-1)\n",
        "\n",
        "            # checking if <EOS> token is generated\n",
        "            eos_mask = next_token.squeeze(-1) == self.EOS_TOKEN\n",
        "            # or opration, if both or one of them is true store the value of the finished sequence in finished variable\n",
        "            finished |= eos_mask\n",
        "\n",
        "            # end if all sequences have generated the EOS token\n",
        "            if finished.all(): break\n",
        "\n",
        "        # remove the initial <SOS> token and pad sequences to the same length\n",
        "        target_seq = target_seq[:, 1:]\n",
        "        max_length = target_seq.size(1)\n",
        "        target_seq = torch.nn.functional.pad(target_seq,\n",
        "            (0, self.max_seq_length - max_length), value=self.PAD_TOKEN)\n",
        "\n",
        "        return target_seq"
      ],
      "metadata": {
        "id": "pl09au7xdMFg"
      },
      "execution_count": null,
      "outputs": []
    },
    {
      "cell_type": "markdown",
      "source": [
        "## CNN-LSTM Encoder + Speech Transformer Decoder\n",
        "\n",
        "In this section, let's build the first (simplest) Transformer network by combining the CNN-LSTM encoder and our Transformer Decoder."
      ],
      "metadata": {
        "id": "_JrVsaskeH1G"
      }
    },
    {
      "cell_type": "code",
      "source": [
        "class SpeechTransformer(torch.nn.Module):\n",
        "\n",
        "    def __init__(self, input_dim, dec_num_layers, dec_num_heads,\n",
        "                    d_model, d_ff, target_vocab_size, eos_token, sos_token,\n",
        "                    pad_token, enc_dropout, dec_dropout, max_seq_length=512):\n",
        "\n",
        "        super(SpeechTransformer, self).__init__()\n",
        "\n",
        "        self.encoder    = CNN_LSTM_Encoder(input_dim, 256, enc_dropout)\n",
        "\n",
        "        self.proj       = torch.nn.Linear(1024, d_model)\n",
        "\n",
        "        # @NOTE: layernorm here is meant to normalize the dynamic ranges of\n",
        "        #   the cross attention weights such that the model doesn't bias\n",
        "        #   itself to only using the cross attention weights and neglect using\n",
        "        #   the multi-head self attention weights.\n",
        "        #   This is to enfoce the Language Model constraints in the Decoder.\n",
        "        #   This is an experimental change -- you may try it if you want.\n",
        "        # self.layernorm  = torch.nn.LayerNorm(d_model)\n",
        "\n",
        "        self.decoder    = Decoder(dec_num_layers, d_model, dec_num_heads, d_ff,\n",
        "                dec_dropout, target_vocab_size, max_seq_length, eos_token, sos_token, pad_token)\n",
        "\n",
        "        # You can experiment with different weight initialization schemes or no initialization here\n",
        "        for p in self.parameters():\n",
        "            if p.dim() > 1:\n",
        "                torch.nn.init.xavier_uniform_(p)\n",
        "\n",
        "    def forward(self, padded_input, input_lengths, padded_target, target_lengths):\n",
        "\n",
        "        # passing through Encoder\n",
        "        encoder_output, encoder_lens = self.encoder(padded_input, input_lengths)\n",
        "\n",
        "        # adding projection layer to change dimension of encoder_outputs to match d_model\n",
        "        encoder_output = self.proj(encoder_output)\n",
        "\n",
        "        # @NOTE: adding layernorm to adjust dynamic ranges of the encoder_outputs\n",
        "        # @NOTE: uncomment this if you choose to use layernorm described in __init__ above\n",
        "        # encoder_output = self.layernorm(encoder_output)\n",
        "\n",
        "        # passing Encoder output and Attention masks through Decoder\n",
        "        output, attention_weights = self.decoder(padded_target, encoder_output, encoder_lens)\n",
        "\n",
        "        return output, attention_weights\n",
        "\n",
        "    def recognize(self, inp, inp_len):\n",
        "        \"\"\" sequence-to-sequence greedy search -- decoding one utterence at a time \"\"\"\n",
        "\n",
        "        encoder_outputs, encoder_lens  = self.encoder(inp, inp_len)\n",
        "        encoder_outputs                = self.proj(encoder_outputs)\n",
        "        out                            = self.decoder.recognize_greedy_search(encoder_outputs, encoder_lens)\n",
        "\n",
        "        return out"
      ],
      "metadata": {
        "id": "oqiAstL22fBV"
      },
      "execution_count": null,
      "outputs": []
    },
    {
      "cell_type": "markdown",
      "metadata": {
        "id": "bPZD3vqdUisj"
      },
      "source": [
        "## Model Setup\n"
      ]
    },
    {
      "cell_type": "code",
      "execution_count": null,
      "metadata": {
        "id": "p2uX2P9YVnbk",
        "colab": {
          "base_uri": "https://localhost:8080/"
        },
        "outputId": "b35f1f47-92d8-4319-9be6-ce527e3ed07f"
      },
      "outputs": [
        {
          "output_type": "execute_result",
          "data": {
            "text/plain": [
              "0"
            ]
          },
          "metadata": {},
          "execution_count": 32
        }
      ],
      "source": [
        "torch.cuda.empty_cache()\n",
        "gc.collect()"
      ]
    },
    {
      "cell_type": "code",
      "execution_count": null,
      "metadata": {
        "id": "a9LN0l5VUk_s",
        "scrolled": true,
        "colab": {
          "base_uri": "https://localhost:8080/"
        },
        "outputId": "27818612-e2a8-4c17-96b2-77f542372263"
      },
      "outputs": [
        {
          "output_type": "stream",
          "name": "stdout",
          "text": [
            "##########\n",
            "Model Parameters:\n",
            " 22.855747\n",
            "##########\n"
          ]
        }
      ],
      "source": [
        "''' Please refer to the config file and top sections to fill in the following '''\n",
        "\n",
        "model = SpeechTransformer(\n",
        "input_dim                   = config[\"input_dim\"],\n",
        "dec_num_layers              = config[\"dec_num_layers\"],\n",
        "dec_num_heads               = config[\"dec_num_heads\"],\n",
        "\n",
        "d_model                     = config[\"d_model\"],\n",
        "d_ff                        = config[\"d_ff\"],\n",
        "\n",
        "target_vocab_size           = len(VOCAB),\n",
        "eos_token                   = EOS_TOKEN,\n",
        "sos_token                   = SOS_TOKEN,\n",
        "pad_token                   = PAD_TOKEN,\n",
        "\n",
        "enc_dropout                 = config[\"enc_dropout\"],\n",
        "dec_dropout                 = config[\"dec_dropout\"],\n",
        "\n",
        "# decrease to a small number if you are just trying to implement the network\n",
        "max_seq_length              = 550 , # Max sequence length for transcripts. Check data verification.\n",
        ").to(device)\n",
        "\n",
        "def num_parameters(mode):\n",
        "    total_params = sum(p.numel() for p in model.parameters() if p.requires_grad)\n",
        "    return total_params / 1E6\n",
        "\n",
        "para = num_parameters(model)\n",
        "print(\"#\"*10)\n",
        "print(f\"Model Parameters:\\n {para}\")\n",
        "print(\"#\"*10)"
      ]
    },
    {
      "cell_type": "markdown",
      "source": [
        "### Loading the CNN-LSTM Checkpoint\n",
        "\n",
        "---\n",
        "For ease of training we use a pretrained LSTM -- load the .pth file.\n",
        "\n",
        "Download the weights from here - https://drive.google.com/file/d/1wRcHwCvxksxiPv6WQykOkY9i4bip-ooa/view?usp=sharing"
      ],
      "metadata": {
        "id": "oRUBrF1R78pm"
      }
    },
    {
      "cell_type": "code",
      "source": [
        "model.encoder.load_state_dict(torch.load(\"/content/drive/MyDrive/s24-idl/hw4p2/pblstm_fast_training_weights.pth\"))"
      ],
      "metadata": {
        "id": "oVhuszyX8D13",
        "colab": {
          "base_uri": "https://localhost:8080/"
        },
        "outputId": "20c02b6f-5942-4d33-c691-22b4adf823ba"
      },
      "execution_count": null,
      "outputs": [
        {
          "output_type": "execute_result",
          "data": {
            "text/plain": [
              "<All keys matched successfully>"
            ]
          },
          "metadata": {},
          "execution_count": 34
        }
      ]
    },
    {
      "cell_type": "markdown",
      "metadata": {
        "id": "23DMfXsaU6kj"
      },
      "source": [
        "## Loss, Optimizer, and Scheduler Definitions"
      ]
    },
    {
      "cell_type": "code",
      "source": [
        "loss_func   = nn.CrossEntropyLoss(ignore_index = PAD_TOKEN)\n",
        "scaler      = torch.cuda.amp.GradScaler()"
      ],
      "metadata": {
        "id": "zGxaiyESLpwI"
      },
      "execution_count": null,
      "outputs": []
    },
    {
      "cell_type": "code",
      "source": [
        "''' defining optimizer '''\n",
        "\n",
        "if config[\"optimizer\"] == \"SGD\":\n",
        "  # feel free to change any of the initializations you like to fit your needs\n",
        "  optimizer = torch.optim.SGD(model.parameters(),\n",
        "                              lr=config[\"learning_rate\"],\n",
        "                              momentum=config[\"momentum\"],\n",
        "                              weight_decay=1E-4,\n",
        "                              nesterov=config[\"nesterov\"])\n",
        "\n",
        "elif config[\"optimizer\"] == \"Adam\":\n",
        "  # feel free to change any of the initializations you like to fit your needs\n",
        "  optimizer = torch.optim.Adam(model.parameters(),\n",
        "                               lr=float(config[\"learning_rate\"]),\n",
        "                               weight_decay=1e-4)\n",
        "\n",
        "elif config[\"optimizer\"] == \"AdamW\":\n",
        "  # feel free to change any of the initializations you like to fit your needs\n",
        "  optimizer = torch.optim.AdamW(model.parameters(),\n",
        "                                lr=float(config[\"learning_rate\"]),\n",
        "                                weight_decay=0.01)\n",
        "\n",
        "''' defining scheduler '''\n",
        "\n",
        "if config[\"scheduler\"] == \"ReduceLR\":\n",
        "  #Feel Free to change any of the initializations you like to fit your needs\n",
        "  scheduler = torch.optim.lr_scheduler.ReduceLROnPlateau(optimizer,\n",
        "                factor=config[\"factor\"], patience=config[\"patience\"], min_lr=1E-8, verbose=True)\n",
        "\n",
        "elif config[\"scheduler\"] == \"CosineAnnealing\":\n",
        "  #Feel Free to change any of the initializations you like to fit your needs\n",
        "  scheduler = torch.optim.lr_scheduler.CosineAnnealingLR(optimizer,\n",
        "                T_max = config[\"epochs\"], eta_min=1E-8)"
      ],
      "metadata": {
        "id": "W-jth-6HLPLr"
      },
      "execution_count": null,
      "outputs": []
    },
    {
      "cell_type": "code",
      "execution_count": null,
      "metadata": {
        "id": "216ukmHbU-ol"
      },
      "outputs": [],
      "source": [
        "def save_model(model, optimizer, scheduler, metric, epoch, path):\n",
        "    torch.save(\n",
        "        {\"model_state_dict\"         : model.state_dict(),\n",
        "         \"optimizer_state_dict\"     : optimizer.state_dict(),\n",
        "         \"scheduler_state_dict\"     : scheduler.state_dict() if scheduler is not None else {},\n",
        "         metric[0]                  : metric[1],\n",
        "         \"epoch\"                    : epoch},\n",
        "         path\n",
        "    )\n",
        "\n",
        "def load_model(path, model, metric= \"valid_acc\", optimizer= None, scheduler= None):\n",
        "\n",
        "    checkpoint = torch.load(path)\n",
        "    model.load_state_dict(checkpoint[\"model_state_dict\"])\n",
        "\n",
        "    if optimizer != None:\n",
        "        optimizer.load_state_dict(checkpoint[\"optimizer_state_dict\"])\n",
        "    if scheduler != None:\n",
        "        scheduler.load_state_dict(checkpoint[\"scheduler_state_dict\"])\n",
        "\n",
        "    epoch   = checkpoint[\"epoch\"]\n",
        "    metric  = checkpoint[metric]\n",
        "\n",
        "    return [model, optimizer, scheduler, epoch, metric]"
      ]
    },
    {
      "cell_type": "markdown",
      "source": [
        "## Training and Validation Modules"
      ],
      "metadata": {
        "id": "lWUHzWOEs_ky"
      }
    },
    {
      "cell_type": "markdown",
      "source": [
        "### Levenshtein Distance"
      ],
      "metadata": {
        "id": "iWWO5vM4_RGC"
      }
    },
    {
      "cell_type": "code",
      "source": [
        "''' utility function which takes a sequence of indices and converts them to a list of characters '''\n",
        "def indices_to_chars(indices, vocab):\n",
        "    tokens = []\n",
        "    for i in indices:   # looping through all indices\n",
        "\n",
        "        if int(i) == SOS_TOKEN:     # If SOS is encountered, don't add it to the final list\n",
        "            continue\n",
        "        elif int(i) == EOS_TOKEN:   # If EOS is encountered, stop the decoding process\n",
        "            break\n",
        "        else:\n",
        "            tokens.append(vocab[i])\n",
        "\n",
        "    return tokens"
      ],
      "metadata": {
        "id": "QXNHNbnh5w5z"
      },
      "execution_count": null,
      "outputs": []
    },
    {
      "cell_type": "code",
      "source": [
        "''' utility function for Levenshtein Distantce quantification '''\n",
        "def calc_edit_distance(predictions, y, y_len, vocab=VOCAB, print_example=False):\n",
        "\n",
        "    dist = 0.0\n",
        "    batch_size, seq_len = predictions.shape\n",
        "\n",
        "    for batch_idx in range(batch_size):\n",
        "\n",
        "        y_sliced    = indices_to_chars(y[batch_idx, 0 : y_len[batch_idx]], vocab)\n",
        "        pred_sliced = indices_to_chars(predictions[batch_idx], vocab)\n",
        "\n",
        "        # strings - when you are using characters from the SpeechDataset\n",
        "        y_string    = \"\".join(y_sliced)\n",
        "        pred_string = \"\".join(pred_sliced)\n",
        "\n",
        "        dist        += Levenshtein.distance(pred_string, y_string)\n",
        "\n",
        "    if print_example:\n",
        "        print(\"\\nGround Truth : \", y_string)\n",
        "        print(\"Prediction   : \", pred_string)\n",
        "\n",
        "    dist /= batch_size\n",
        "\n",
        "    return dist"
      ],
      "metadata": {
        "id": "Lbv5sJSIFB8b"
      },
      "execution_count": null,
      "outputs": []
    },
    {
      "cell_type": "markdown",
      "source": [
        "### Training and Validation Functions"
      ],
      "metadata": {
        "id": "b0RXXoJk_WU5"
      }
    },
    {
      "cell_type": "code",
      "source": [
        "def train_model(model, train_loader, optimizer):\n",
        "\n",
        "    model.train()\n",
        "    batch_bar = tqdm(total=len(train_loader), dynamic_ncols=True, leave=False, position=0, desc=\"Train\")\n",
        "\n",
        "    total_loss          = 0\n",
        "    running_loss        = 0.0\n",
        "    running_perplexity  = 0.0\n",
        "\n",
        "    for i, (inputs, targets_shifted, targets_golden, inputs_lengths, targets_lengths) in enumerate(train_loader):\n",
        "\n",
        "        optimizer.zero_grad()\n",
        "\n",
        "        inputs          = inputs.to(device)\n",
        "        targets_shifted = targets_shifted.to(device)\n",
        "        targets_golden  = targets_golden.to(device)\n",
        "\n",
        "        with torch.cuda.amp.autocast():\n",
        "            # passing the minibatch through the model\n",
        "            raw_predictions, attention_weights = model(inputs, inputs_lengths, targets_shifted, targets_lengths)\n",
        "\n",
        "            padding_mask = torch.logical_not(torch.eq(targets_shifted, PAD_TOKEN))\n",
        "\n",
        "            # cast the mask to float32\n",
        "            padding_mask = padding_mask.float()\n",
        "            loss = loss_func(raw_predictions.transpose(1,2), targets_golden)*padding_mask\n",
        "            loss = loss.sum() / padding_mask.sum()\n",
        "\n",
        "        scaler.scale(loss).backward()   # This is a replacement for loss.backward()\n",
        "        scaler.step(optimizer)          # This is a replacement for optimizer.step()\n",
        "        scaler.update()                 # This is something added just for FP16\n",
        "\n",
        "        running_loss        += float(loss.item())\n",
        "        perplexity          = torch.exp(loss)\n",
        "        running_perplexity  += perplexity.item()\n",
        "\n",
        "        # online training monitoring\n",
        "        batch_bar.set_postfix(\n",
        "            loss = \"{:.04f}\".format(float(running_loss / (i + 1))),\n",
        "            perplexity = \"{:.04f}\".format(float(running_perplexity / (i + 1)))\n",
        "        )\n",
        "\n",
        "        batch_bar.update()\n",
        "\n",
        "        del inputs, targets_shifted, targets_golden, inputs_lengths, targets_lengths\n",
        "        torch.cuda.empty_cache()\n",
        "\n",
        "    running_loss        = float(running_loss / len(train_loader))\n",
        "    running_perplexity  = float(running_perplexity / len(train_loader))\n",
        "\n",
        "    batch_bar.close()\n",
        "\n",
        "    return running_loss, running_perplexity, attention_weights"
      ],
      "metadata": {
        "id": "VJHSLMCmp8l5"
      },
      "execution_count": null,
      "outputs": []
    },
    {
      "cell_type": "code",
      "source": [
        "def validate_fast(model, dataloader):\n",
        "    model.eval()\n",
        "\n",
        "    # progress bar\n",
        "    batch_bar = tqdm(total=len(dataloader), dynamic_ncols=True, leave=False, position=0, desc=\"Val\", ncols=5)\n",
        "\n",
        "    running_distance = 0.0\n",
        "\n",
        "    for i, (inputs, targets_shifted, targets_golden, inputs_lengths, targets_lengths) in enumerate(dataloader):\n",
        "\n",
        "        inputs  = inputs.to(device)\n",
        "        targets_golden = targets_golden.to(device)\n",
        "\n",
        "        with torch.inference_mode():\n",
        "            greedy_predictions = model.recognize(inputs, inputs_lengths)\n",
        "\n",
        "        # calculating Levenshtein Distance\n",
        "        # @NOTE: modify the print_example to print more or less validation examples\n",
        "        running_distance += calc_edit_distance(greedy_predictions, targets_golden, targets_lengths, VOCAB, print_example=True)\n",
        "\n",
        "        # online validation distance monitoring\n",
        "        batch_bar.set_postfix(\n",
        "            running_distance = \"{:.04f}\".format(float(running_distance / (i + 1)))\n",
        "        )\n",
        "\n",
        "        batch_bar.update()\n",
        "\n",
        "        del inputs, targets_shifted, targets_golden, inputs_lengths, targets_lengths\n",
        "        torch.cuda.empty_cache()\n",
        "\n",
        "        if i==4: break      # validating only upon first five batches\n",
        "\n",
        "    batch_bar.close()\n",
        "    running_distance /= 5\n",
        "\n",
        "    return running_distance"
      ],
      "metadata": {
        "id": "tuYsBMoQ30US"
      },
      "execution_count": null,
      "outputs": []
    },
    {
      "cell_type": "code",
      "source": [
        "def validate_full(model, dataloader):\n",
        "    model.eval()\n",
        "\n",
        "    # progress bar\n",
        "    batch_bar = tqdm(total=len(dataloader), dynamic_ncols=True, leave=False, position=0, desc=\"Val\", ncols=5)\n",
        "\n",
        "    running_distance = 0.0\n",
        "\n",
        "    for i, (inputs, targets_shifted, targets_golden, inputs_lengths, targets_lengths) in enumerate(dataloader):\n",
        "\n",
        "        inputs  = inputs.to(device)\n",
        "        targets_golden = targets_golden.to(device)\n",
        "\n",
        "        with torch.inference_mode():\n",
        "            greedy_predictions = model.recognize(inputs, inputs_lengths)\n",
        "\n",
        "        # calculating Levenshtein Distance\n",
        "        # @NOTE: modify the print_example to print more or less validation examples\n",
        "        running_distance += calc_edit_distance(greedy_predictions, targets_golden, targets_lengths, VOCAB, print_example=True)\n",
        "\n",
        "        # online validation distance monitoring\n",
        "        batch_bar.set_postfix(\n",
        "            running_distance = \"{:.04f}\".format(float(running_distance / (i + 1)))\n",
        "        )\n",
        "\n",
        "        batch_bar.update()\n",
        "\n",
        "        del inputs, targets_shifted, targets_golden, inputs_lengths, targets_lengths\n",
        "        torch.cuda.empty_cache()\n",
        "\n",
        "\n",
        "    batch_bar.close()\n",
        "    running_distance /= len(dataloader)\n",
        "\n",
        "    return running_distance"
      ],
      "metadata": {
        "id": "_fvRunxh_36z"
      },
      "execution_count": null,
      "outputs": []
    },
    {
      "cell_type": "markdown",
      "source": [
        "## WandB"
      ],
      "metadata": {
        "id": "gP7QK6rD_mT9"
      }
    },
    {
      "cell_type": "code",
      "source": [
        "# using WandB? resume training?\n",
        "\n",
        "USE_WANDB = True\n",
        "RESUME_LOGGING = False\n",
        "\n",
        "# creating your WandB run\n",
        "run_name = \"{}_Transformer_ENC-{}/{}_DEC-{}/{}_{}_{}_{}_{}\".format(\n",
        "    config[\"Name\"],\n",
        "    config[\"enc_num_layers\"],       # only used in Part II with the Transformer Encoder\n",
        "    config[\"enc_num_heads\"],        # only used in Part II with the Transformer Encoder\n",
        "    config[\"dec_num_layers\"],\n",
        "    config[\"dec_num_heads\"],\n",
        "    config[\"d_model\"],\n",
        "    config[\"d_ff\"],\n",
        "    config[\"optimizer\"],\n",
        "    config[\"scheduler\"])\n",
        "\n",
        "if USE_WANDB:\n",
        "\n",
        "    wandb.login(key=\"58cec1d955c8a558ddb5374428c04433fd0455c6\", relogin=True) # TODO enter your key here\n",
        "\n",
        "    if RESUME_LOGGING:\n",
        "        run_id = config['run_name']\n",
        "        run = wandb.init(\n",
        "            id     = run_id,        ### Insert specific run id here if you want to resume a previous run\n",
        "            resume = True,          ### You need this to resume previous runs, but comment out reinit=True when using this\n",
        "            project = \"HW4P2-S24\",  ### Project should be created in your wandb account\n",
        "        )\n",
        "\n",
        "    else:\n",
        "        run = wandb.init(\n",
        "            name    = run_name,     ### Wandb creates random run names if you skip this field, we recommend you give useful names\n",
        "            reinit  = True,         ### Allows reinitalizing runs when you re-run this cell\n",
        "            project = \"HW4P2-S24\",  ### Project should be created in your wandb account\n",
        "            config  = config        ### Wandb Config for your run\n",
        "        )\n",
        "\n",
        "        ### Save your model architecture as a string with str(model)\n",
        "        model_arch  = str(model)\n",
        "\n",
        "        ### Save it in a txt file\n",
        "        arch_file   = open(\"model_arch.txt\", \"w\")\n",
        "        file_write  = arch_file.write(model_arch)\n",
        "        arch_file.close()\n",
        "\n",
        "        ### Log it in your wandb run with wandb.save()\n",
        "        wandb.save(\"model_arch.txt\")"
      ],
      "metadata": {
        "id": "CUz-15ws79RI",
        "colab": {
          "base_uri": "https://localhost:8080/",
          "height": 237,
          "referenced_widgets": [
            "8ce8b2388ac045ac8491ae289aa67ec7",
            "028a2c100b1f4bceafc33c1db27cba6c",
            "a7d4a6da09ba4b02af72e25a6ae754f7",
            "3df94385367246379388dd0c7612b647",
            "a15f5b1e0a5247a2b2653acaee219eb6",
            "e254817ee6574a32890542c787a2b1b9",
            "4113f0db0d7343d795f12a35ea912b07",
            "ca165ca441574600a55137fc0e293d36"
          ]
        },
        "outputId": "9d0b2a6e-7c8b-4e7a-d9c8-7dc49772fa20"
      },
      "execution_count": null,
      "outputs": [
        {
          "output_type": "stream",
          "name": "stderr",
          "text": [
            "\u001b[34m\u001b[1mwandb\u001b[0m: \u001b[33mWARNING\u001b[0m If you're specifying your api key in code, ensure this code is not shared publicly.\n",
            "\u001b[34m\u001b[1mwandb\u001b[0m: \u001b[33mWARNING\u001b[0m Consider setting the WANDB_API_KEY environment variable, or running `wandb login` from the command line.\n",
            "\u001b[34m\u001b[1mwandb\u001b[0m: Appending key for api.wandb.ai to your netrc file: /root/.netrc\n",
            "\u001b[34m\u001b[1mwandb\u001b[0m: Currently logged in as: \u001b[33matrela\u001b[0m (\u001b[33matrela-cmu\u001b[0m). Use \u001b[1m`wandb login --relogin`\u001b[0m to force relogin\n"
          ]
        },
        {
          "output_type": "display_data",
          "data": {
            "text/plain": [
              "VBox(children=(Label(value='Waiting for wandb.init()...\\r'), FloatProgress(value=0.01111253210000061, max=1.0)…"
            ],
            "application/vnd.jupyter.widget-view+json": {
              "version_major": 2,
              "version_minor": 0,
              "model_id": "8ce8b2388ac045ac8491ae289aa67ec7"
            }
          },
          "metadata": {}
        },
        {
          "output_type": "display_data",
          "data": {
            "text/plain": [
              "<IPython.core.display.HTML object>"
            ],
            "text/html": [
              "Tracking run with wandb version 0.16.6"
            ]
          },
          "metadata": {}
        },
        {
          "output_type": "display_data",
          "data": {
            "text/plain": [
              "<IPython.core.display.HTML object>"
            ],
            "text/html": [
              "Run data is saved locally in <code>/content/wandb/run-20240501_143748-wguct11q</code>"
            ]
          },
          "metadata": {}
        },
        {
          "output_type": "display_data",
          "data": {
            "text/plain": [
              "<IPython.core.display.HTML object>"
            ],
            "text/html": [
              "Syncing run <strong><a href='https://wandb.ai/atrela-cmu/HW4P2-S24/runs/wguct11q' target=\"_blank\">Alec_Transformer_ENC-1/1_DEC-3/3_512_2048_AdamW_CosineAnnealing</a></strong> to <a href='https://wandb.ai/atrela-cmu/HW4P2-S24' target=\"_blank\">Weights & Biases</a> (<a href='https://wandb.me/run' target=\"_blank\">docs</a>)<br/>"
            ]
          },
          "metadata": {}
        },
        {
          "output_type": "display_data",
          "data": {
            "text/plain": [
              "<IPython.core.display.HTML object>"
            ],
            "text/html": [
              " View project at <a href='https://wandb.ai/atrela-cmu/HW4P2-S24' target=\"_blank\">https://wandb.ai/atrela-cmu/HW4P2-S24</a>"
            ]
          },
          "metadata": {}
        },
        {
          "output_type": "display_data",
          "data": {
            "text/plain": [
              "<IPython.core.display.HTML object>"
            ],
            "text/html": [
              " View run at <a href='https://wandb.ai/atrela-cmu/HW4P2-S24/runs/wguct11q' target=\"_blank\">https://wandb.ai/atrela-cmu/HW4P2-S24/runs/wguct11q</a>"
            ]
          },
          "metadata": {}
        }
      ]
    },
    {
      "cell_type": "markdown",
      "source": [
        "## Experiments"
      ],
      "metadata": {
        "id": "4vUMtM_dVyrG"
      }
    },
    {
      "cell_type": "code",
      "source": [
        "e                   = 0\n",
        "best_loss           = 20\n",
        "\n",
        "checkpoint_root = os.path.join(os.getcwd(), \"checkpoints-basic-transformer\")\n",
        "os.makedirs(checkpoint_root, exist_ok=True)\n",
        "wandb.watch(model, log=\"all\")\n",
        "\n",
        "checkpoint_best_loss_model_filename     = 'checkpoint-best-loss-model.pth'\n",
        "checkpoint_last_epoch_filename          = 'checkpoint-epoch-'\n",
        "best_loss_model_path                    = os.path.join(checkpoint_root, checkpoint_best_loss_model_filename)\n",
        "\n",
        "if RESUME_LOGGING:\n",
        "    # change if you want to load best test model accordingly\n",
        "    checkpoint = torch.load(wandb.restore(checkpoint_best_loss_model_filename, run_path=\"\"+run_id).name)\n",
        "\n",
        "    model.load_state_dict(checkpoint['model_state_dict'])\n",
        "    optimizer.load_state_dict(checkpoint['optimizer_state_dict'])\n",
        "    e = checkpoint['epoch']\n",
        "\n",
        "    print(\"Resuming from epoch {}\".format(e+1))\n",
        "    print(\"Epochs left: \", config['epochs']-e)\n",
        "    print(\"Optimizer: \\n\", optimizer)\n",
        "\n",
        "torch.cuda.empty_cache()\n",
        "gc.collect()\n",
        "\n",
        "epochs = config[\"epochs\"]\n",
        "for epoch in range(e, epochs):\n",
        "\n",
        "    print(\"\\nEpoch {}/{}\".format(epoch+1, config[\"epochs\"]))\n",
        "\n",
        "    curr_lr = float(optimizer.param_groups[0][\"lr\"])\n",
        "\n",
        "    train_loss, train_perplexity, attention_weights = train_model(model, train_loader, optimizer)\n",
        "\n",
        "    print(\"\\nEpoch {}/{}: \\nTrain Loss {:.04f}\\t Train Perplexity {:.04f}\\t Learning Rate {:.04f}\".format(\n",
        "        epoch + 1, config[\"epochs\"], train_loss, train_perplexity, curr_lr))\n",
        "\n",
        "    if (epoch % 2 == 0):    # validate every 2 epochs to speed up training\n",
        "        levenshtein_distance = validate_fast(model, val_loader)\n",
        "        print(\"Levenshtein Distance {:.04f}\".format(levenshtein_distance))\n",
        "\n",
        "        wandb.log({\"train_loss\"     : train_loss,\n",
        "                \"train_perplexity\"  : train_perplexity,\n",
        "                \"learning_rate\"     : curr_lr,\n",
        "                \"val_distance\"      : levenshtein_distance})\n",
        "\n",
        "    else:\n",
        "        wandb.log({\"train_loss\"     : train_loss,\n",
        "                \"train_perplexity\"  : train_perplexity,\n",
        "                \"learning_rate\"     : curr_lr})\n",
        "\n",
        "    # plotting the encoder-nearest and decoder-nearest attention weights\n",
        "    attention_keys = list(attention_weights.keys())\n",
        "\n",
        "    attention_weights_decoder_self       = attention_weights[attention_keys[0]][0].cpu().detach().numpy()\n",
        "    attention_weights_decoder_cross      = attention_weights[attention_keys[-1]][0].cpu().detach().numpy()\n",
        "\n",
        "    # saving the cross-attention weights\n",
        "    save_attention_plot(attention_weights_decoder_cross, epoch+100)\n",
        "\n",
        "    # plot_attention_weights((attention_weights[attention_keys[0]][0]).cpu().detach().numpy())\n",
        "    # plot_attention_weights(attention_weights[attention_keys[-1]][0].cpu().detach().numpy())\n",
        "\n",
        "    if config[\"scheduler\"] == \"ReduceLR\":\n",
        "        scheduler.step(levenshtein_distance)\n",
        "    else:\n",
        "        scheduler.step()\n",
        "\n",
        "    ### Highly Recommended: Save checkpoint in drive and/or wandb if accuracy is better than your current best\n",
        "    epoch_model_path = os.path.join(checkpoint_root, (checkpoint_last_epoch_filename + str(epoch) + '.pth'))\n",
        "    save_model(model, optimizer, scheduler, ['train_loss', train_loss], epoch, epoch_model_path)\n",
        "    ## wandb.save(epoch_model_path) ## Can't save on wandb for all epochs, may blow up storage\n",
        "\n",
        "    print(\"Saved epoch model\")\n",
        "\n",
        "    if best_loss >= train_loss:\n",
        "        best_loss = train_loss\n",
        "        save_model(model, optimizer, scheduler, ['train_loss', train_loss], epoch, best_loss_model_path)\n",
        "        # wandb.save(best_loss_model_path)\n",
        "        print(\"Saved best training model\")\n",
        "\n",
        "### Finish your wandb run\n",
        "# run.finish()"
      ],
      "metadata": {
        "id": "a1LD0uyPEHTI",
        "colab": {
          "base_uri": "https://localhost:8080/",
          "height": 1000
        },
        "outputId": "45f50f7f-a1bf-4c11-b9a0-9869e156f14b"
      },
      "execution_count": null,
      "outputs": [
        {
          "metadata": {
            "tags": null
          },
          "name": "stdout",
          "output_type": "stream",
          "text": [
            "\n",
            "Epoch 1/50\n"
          ]
        },
        {
          "metadata": {
            "tags": null
          },
          "name": "stderr",
          "output_type": "stream",
          "text": [
            ""
          ]
        },
        {
          "metadata": {
            "tags": null
          },
          "name": "stdout",
          "output_type": "stream",
          "text": [
            "\n",
            "Epoch 1/50: \n",
            "Train Loss 2.5030\t Train Perplexity 12.7010\t Learning Rate 0.0001\n"
          ]
        },
        {
          "metadata": {
            "tags": null
          },
          "name": "stderr",
          "output_type": "stream",
          "text": [
            "Val:   1%|          | 1/169 [00:17<49:47, 17.78s/it, running_distance=500.8125]"
          ]
        },
        {
          "metadata": {
            "tags": null
          },
          "name": "stdout",
          "output_type": "stream",
          "text": [
            "\n",
            "Ground Truth :  BECAUSE YOU WERE SLEEPING INSTEAD OF CONQUERING THE LOVELY ROSE PRINCESS HAS BECOME A FIDDLE WITHOUT A BOW WHILE POOR SHAGGY SITS THERE A COOING DOVE\n",
            "Prediction   :  AND THE THE THE THE THE THE THE THE THE THE THE THE THE THE THE THE THE THE THE THE THE THE THE THE THE THE THE THE THE THE THE THE THE THE THE THE THE THE THE THE THE THE THE THE THE THE THE THE THE THE THE THE THE THE THE THE THE THE THE THE THE THE THE THE THE THE THE THE THE THE THE THE THE THE THE THE THE THE THE THE THE THE THE THE THE THE THE THE THE THE THE THE THE THE THE THE THE THE THE THE THE THE THE THE THE THE THE THE THE THE T THE THE THE THE THE THE THE THE THE THE THE T THE THE THE THE THE THE THE THE T T T T T THE T THE THE T \n"
          ]
        },
        {
          "metadata": {
            "tags": null
          },
          "name": "stderr",
          "output_type": "stream",
          "text": [
            "Val:   1%|          | 2/169 [00:31<42:16, 15.19s/it, running_distance=491.7812]"
          ]
        },
        {
          "metadata": {
            "tags": null
          },
          "name": "stdout",
          "output_type": "stream",
          "text": [
            "\n",
            "Ground Truth :  KALIKO HESITATED\n",
            "Prediction   :  AND WHE WAS WE WAT WHE WHE WHE WHE WHE WHE WHE WHE WHE WHE WHE WHE WHE WHE WHE WHE WHE WAT WHE WHE WHE WHE WHE WHE WHE WAT WHE WHE WAS WAT WHE THE THE THE WHE WHE WHE WAS WHE THE THE THE THE WE THE WE THE THE THE THE THE THE THE THE THE THE THE THE THE THE THE THE THE THE THE THE THE THE THE WE THE WE THE THE THE THE THE THE WE WE THE THE THE THE THE THE THE THE WE WE THE THE THE THE THE THE THE THE THE THE THE THE THE THE THE THE THE THE THE THE THE THE THE THE THE THE THE THE THE T T THE THE THE THE THE THE THE THE T T T T T T THE THE THE T T\n"
          ]
        },
        {
          "metadata": {
            "tags": null
          },
          "name": "stderr",
          "output_type": "stream",
          "text": [
            "Val:   2%|▏         | 3/169 [00:45<40:32, 14.65s/it, running_distance=494.5417]"
          ]
        },
        {
          "metadata": {
            "tags": null
          },
          "name": "stdout",
          "output_type": "stream",
          "text": [
            "\n",
            "Ground Truth :  ONLY HIS HEART AND LUNGS WORKED ON AT A STRONG MEASURED RATE\n",
            "Prediction   :  AND THE THE THE THE THE THE THE THE THE THE THE THE THE THE THE THE THE THE THE THE THE THE THE THE THE THE THE THE THE THE THE THE THE THE THE THE THE THE THE THE THE THE THE THE THE THE THE THE THE THE THE THE THE THE THE THE THE THE THE THE THE THE THE THE THE THE THE THE THE THE THE THE THE THE THE THE THE THE THE THE THE THE THE THE THE THE THE THE THE THE THE THE THE THE THE THE THE THE THE THE THE THE THE THE THE THE THE THE THE THE T THE THE THE THE THE THE THE THE THE THE THE T THE THE THE THE THE THE THE THE T T T T T THE T THE THE T \n"
          ]
        },
        {
          "metadata": {
            "tags": null
          },
          "name": "stderr",
          "output_type": "stream",
          "text": [
            "Val:   2%|▏         | 4/169 [00:58<38:34, 14.03s/it, running_distance=500.2344]"
          ]
        },
        {
          "metadata": {
            "tags": null
          },
          "name": "stdout",
          "output_type": "stream",
          "text": [
            "\n",
            "Ground Truth :  THE STRENGTH THAT ENABLES SOMEONE IN A TRANCE TO HOLD HIS BODY STIFF AND UNSUPPORTED EXCEPT AT TWO POINTS THE HEAD AND HEELS\n",
            "Prediction   :  AND THE THE THE THE THE THE THE THE THE THE THE THE THE THE THE THE THE THE THE THE THE THE THE THE THE THE THE THE THE THE THE THE THE THE THE THE THE THE THE THE THE THE THE THE THE THE THE THE THE THE THE THE THE THE THE THE THE THE THE THE THE THE THE THE THE THE THE THE THE THE THE THE THE THE THE THE THE THE THE THE THE THE THE THE THE THE THE THE THE THE THE THE THE THE THE THE THE THE THE THE THE THE THE THE SE SE SE THE THE THE THE T THE THE THE THE THE THE THE THE THE THE T T T THE THE THE THE THE THE SO SO S S T T S S THE T THE T T T\n"
          ]
        },
        {
          "metadata": {
            "tags": null
          },
          "name": "stderr",
          "output_type": "stream",
          "text": [
            "                                                                               "
          ]
        },
        {
          "metadata": {
            "tags": null
          },
          "name": "stdout",
          "output_type": "stream",
          "text": [
            "\n",
            "Ground Truth :  WHEN THEY ENTERED THE STAGE BOX ON THE LEFT THE FIRST ACT WAS WELL UNDER WAY THE SCENE BEING THE INTERIOR OF A CABIN IN THE SOUTH OF IRELAND\n",
            "Prediction   :  AND THE THE THE THE THE THE THE THE THE THE THE THE THE THE THE THE THE THE THE THE THE THE THE THE THE THE THE THE THE THE THE THE THE THE THE THE THE THE THE THE THE THE THE THE THE THE THE THE THE THE THE THE THE THE THE THE THE THE THE THE THE THE THE THE THE THE THE THE THE THE THE THE THE THE THE THE THE THE THE THE THE THE THE THE THE THE THE THE THE THE THE THE THE THE THE THE THE THE THE THE THE THE THE THE THE THE THE THE THE THE T T THE THE THE THE THE THE THE THE THE THE T T THE THE THE THE THE THE THE THE T T T T T THE T THE THE T \n",
            "Levenshtein Distance 502.5000\n"
          ]
        },
        {
          "metadata": {
            "tags": null
          },
          "name": "stderr",
          "output_type": "stream",
          "text": [
            "\r"
          ]
        },
        {
          "metadata": {
            "tags": null
          },
          "name": "stdout",
          "output_type": "stream",
          "text": [
            "Saved epoch model\n",
            "Saved best training model\n",
            "\n",
            "Epoch 2/50\n"
          ]
        },
        {
          "metadata": {
            "tags": null
          },
          "name": "stderr",
          "output_type": "stream",
          "text": [
            ""
          ]
        },
        {
          "metadata": {
            "tags": null
          },
          "name": "stdout",
          "output_type": "stream",
          "text": [
            "\n",
            "Epoch 2/50: \n",
            "Train Loss 2.0452\t Train Perplexity 7.8242\t Learning Rate 0.0001\n",
            "Saved epoch model\n",
            "Saved best training model\n",
            "\n",
            "Epoch 3/50\n"
          ]
        },
        {
          "metadata": {
            "tags": null
          },
          "name": "stderr",
          "output_type": "stream",
          "text": [
            ""
          ]
        },
        {
          "metadata": {
            "tags": null
          },
          "name": "stdout",
          "output_type": "stream",
          "text": [
            "\n",
            "Epoch 3/50: \n",
            "Train Loss 1.1655\t Train Perplexity 3.2992\t Learning Rate 0.0001\n"
          ]
        },
        {
          "metadata": {
            "tags": null
          },
          "name": "stderr",
          "output_type": "stream",
          "text": [
            "Val:   1%|          | 1/169 [00:05<16:28,  5.88s/it, running_distance=169.5000]"
          ]
        },
        {
          "metadata": {
            "tags": null
          },
          "name": "stdout",
          "output_type": "stream",
          "text": [
            "\n",
            "Ground Truth :  BECAUSE YOU WERE SLEEPING INSTEAD OF CONQUERING THE LOVELY ROSE PRINCESS HAS BECOME A FIDDLE WITHOUT A BOW WHILE POOR SHAGGY SITS THERE A COOING DOVE\n",
            "Prediction   :  BECAUSE YOUR AS SLEPING IN SONCRING THE LOVELY AROSE PRINCESS HAS BECOMOF FITTLE WITH A MERE THE SAID THE POOKED THE SAID TO BE WHO SAID A ME THE SAID THE PIRE WHO SAID THE SAIR THE SURE THE POING DOF THE MAN DOF\n"
          ]
        },
        {
          "metadata": {
            "tags": null
          },
          "name": "stderr",
          "output_type": "stream",
          "text": [
            "Val:   1%|          | 2/169 [00:09<13:01,  4.68s/it, running_distance=142.9375]"
          ]
        },
        {
          "metadata": {
            "tags": null
          },
          "name": "stdout",
          "output_type": "stream",
          "text": [
            "\n",
            "Ground Truth :  KALIKO HESITATED\n",
            "Prediction   :  CHALL A GO A GO AND IN AND IN IN IN IN THE SITE IN THE SAID TO SURE THE SAID THE PIRE THE SAID THE PIRE THE SAID THE SURE THE SAID TO BE AND THE SAID THE PIRE WITH A MORE SURE THE SAID THE SURE THE MIST AND THE MORE SURE THE MAY SHE WITH A MEARE SUIDE AND THE PROOM THE PREAUGHT A HE HE HE\n"
          ]
        },
        {
          "metadata": {
            "tags": null
          },
          "name": "stderr",
          "output_type": "stream",
          "text": [
            "Val:   2%|▏         | 3/169 [00:13<12:08,  4.39s/it, running_distance=129.4583]"
          ]
        },
        {
          "metadata": {
            "tags": null
          },
          "name": "stdout",
          "output_type": "stream",
          "text": [
            "\n",
            "Ground Truth :  ONLY HIS HEART AND LUNGS WORKED ON AT A STRONG MEASURED RATE\n",
            "Prediction   :  OLLY IS HART LONS WORK ONE AT A STRONG MISURED BREATE\n"
          ]
        },
        {
          "metadata": {
            "tags": null
          },
          "name": "stderr",
          "output_type": "stream",
          "text": [
            "Val:   2%|▏         | 4/169 [00:17<11:14,  4.09s/it, running_distance=123.2188]"
          ]
        },
        {
          "metadata": {
            "tags": null
          },
          "name": "stdout",
          "output_type": "stream",
          "text": [
            "\n",
            "Ground Truth :  THE STRENGTH THAT ENABLES SOMEONE IN A TRANCE TO HOLD HIS BODY STIFF AND UNSUPPORTED EXCEPT AT TWO POINTS THE HEAD AND HEELS\n",
            "Prediction   :  STRINK THE NABLE SOLON IN A TRANCED TO HOLD HIS BODY STIFF AND UNCEPTED TO POINTS THE HAD SUPPED A ME TO SURE THE SAID THE PEW AND HE GIVE TO SURE THE SAID THE SURE THE PEW AS THE ME SURE THE SAID A ME SURE THE MISTER THE PIRE WHE ME SURE THE SAID\n"
          ]
        },
        {
          "metadata": {
            "tags": null
          },
          "name": "stderr",
          "output_type": "stream",
          "text": [
            "                                                                               "
          ]
        },
        {
          "metadata": {
            "tags": null
          },
          "name": "stdout",
          "output_type": "stream",
          "text": [
            "\n",
            "Ground Truth :  WHEN THEY ENTERED THE STAGE BOX ON THE LEFT THE FIRST ACT WAS WELL UNDER WAY THE SCENE BEING THE INTERIOR OF A CABIN IN THE SOUTH OF IRELAND\n",
            "Prediction   :  WHEN THEY ENTER THE STACH ON THE LEFT THE FIRST ACT WAS WELL UNDER WAY THE SEE BEING THE SEE BUT WHICH AND THE SOUT SPERE TO SAW THE PIRE THE SOUT AND THE SOUT A ME TO SUT AND THE SOUT SAW THE SOUT A ME SUT A MORE THE SOUT OF IRLAND\n",
            "Levenshtein Distance 122.6000\n"
          ]
        },
        {
          "metadata": {
            "tags": null
          },
          "name": "stderr",
          "output_type": "stream",
          "text": [
            "\r"
          ]
        },
        {
          "metadata": {
            "tags": null
          },
          "name": "stdout",
          "output_type": "stream",
          "text": [
            "Saved epoch model\n",
            "Saved best training model\n",
            "\n",
            "Epoch 4/50\n"
          ]
        },
        {
          "metadata": {
            "tags": null
          },
          "name": "stderr",
          "output_type": "stream",
          "text": [
            ""
          ]
        },
        {
          "metadata": {
            "tags": null
          },
          "name": "stdout",
          "output_type": "stream",
          "text": [
            "\n",
            "Epoch 4/50: \n",
            "Train Loss 0.7160\t Train Perplexity 2.0528\t Learning Rate 0.0001\n",
            "Saved epoch model\n",
            "Saved best training model\n",
            "\n",
            "Epoch 5/50\n"
          ]
        },
        {
          "metadata": {
            "tags": null
          },
          "name": "stderr",
          "output_type": "stream",
          "text": [
            ""
          ]
        },
        {
          "metadata": {
            "tags": null
          },
          "name": "stdout",
          "output_type": "stream",
          "text": [
            "\n",
            "Epoch 5/50: \n",
            "Train Loss 0.5500\t Train Perplexity 1.7357\t Learning Rate 0.0001\n"
          ]
        },
        {
          "metadata": {
            "tags": null
          },
          "name": "stderr",
          "output_type": "stream",
          "text": [
            "Val:   1%|          | 1/169 [00:06<17:46,  6.35s/it, running_distance=85.6875]"
          ]
        },
        {
          "metadata": {
            "tags": null
          },
          "name": "stdout",
          "output_type": "stream",
          "text": [
            "\n",
            "Ground Truth :  BECAUSE YOU WERE SLEEPING INSTEAD OF CONQUERING THE LOVELY ROSE PRINCESS HAS BECOME A FIDDLE WITHOUT A BOW WHILE POOR SHAGGY SITS THERE A COOING DOVE\n",
            "Prediction   :  BECAUSE YOUR AS SLEEPING AND SONE OF CONCRING THE LOVELY AROSE PRINCES HAS BECOME OF FITTLE WITH OF A BUT A SURE THE SAID WAS THE MAY SURE TO SURE THE SAID WITH A SURE TO SURE THE MAN SURE TO SURE THE SAID THE WAS THE MARE SURE A COULD HIM TO BEARTHER TO SURE A COUING DUF\n"
          ]
        },
        {
          "metadata": {
            "tags": null
          },
          "name": "stderr",
          "output_type": "stream",
          "text": [
            "Val:   1%|          | 2/169 [00:10<13:51,  4.98s/it, running_distance=59.7500]"
          ]
        },
        {
          "metadata": {
            "tags": null
          },
          "name": "stdout",
          "output_type": "stream",
          "text": [
            "\n",
            "Ground Truth :  KALIKO HESITATED\n",
            "Prediction   :  CALL AGO HENSITATED\n"
          ]
        },
        {
          "metadata": {
            "tags": null
          },
          "name": "stderr",
          "output_type": "stream",
          "text": [
            "Val:   2%|▏         | 3/169 [00:15<13:24,  4.85s/it, running_distance=59.9167]"
          ]
        },
        {
          "metadata": {
            "tags": null
          },
          "name": "stdout",
          "output_type": "stream",
          "text": [
            "\n",
            "Ground Truth :  ONLY HIS HEART AND LUNGS WORKED ON AT A STRONG MEASURED RATE\n",
            "Prediction   :  ONLY HIS HART LUNGS WORKED ON AT A STRONG MESURED BREAT\n"
          ]
        },
        {
          "metadata": {
            "tags": null
          },
          "name": "stderr",
          "output_type": "stream",
          "text": [
            "Val:   2%|▏         | 4/169 [00:18<11:20,  4.13s/it, running_distance=54.3438]"
          ]
        },
        {
          "metadata": {
            "tags": null
          },
          "name": "stdout",
          "output_type": "stream",
          "text": [
            "\n",
            "Ground Truth :  THE STRENGTH THAT ENABLES SOMEONE IN A TRANCE TO HOLD HIS BODY STIFF AND UNSUPPORTED EXCEPT AT TWO POINTS THE HEAD AND HEELS\n",
            "Prediction   :  THE STRINK THE NABLE SOLON IN A TRANCE TO HOLD HIS BODY STIFF AND UNSUPPORTED EXCEPT AT TWO POINTS THE HEART AND HEALT MADE A SURE TO BEARTHER AND WAS THE MAYS WERE TO SURE THE SAID WITH A SURE TO SURE THE SURE THE SURE TO SURE THE COULD THE WERE THE SAID\n"
          ]
        },
        {
          "metadata": {
            "tags": null
          },
          "name": "stderr",
          "output_type": "stream",
          "text": [
            "                                                                              "
          ]
        },
        {
          "metadata": {
            "tags": null
          },
          "name": "stdout",
          "output_type": "stream",
          "text": [
            "\n",
            "Ground Truth :  WHEN THEY ENTERED THE STAGE BOX ON THE LEFT THE FIRST ACT WAS WELL UNDER WAY THE SCENE BEING THE INTERIOR OF A CABIN IN THE SOUTH OF IRELAND\n",
            "Prediction   :  WHEN THEY ENTER THE STATE BOX ON THE LEFT THE FIRST ACT WAS WELL UNDERWAY THE SEE BEING THE INTERIOR OF A CAVE A SOME THE SAWTHERE A SURE TO SURE THE SAID WITH A SURE TO SAID A CONVER TO SUBJUE AND HE WERE THE MAN SUTH OF IRLAND\n",
            "Levenshtein Distance 51.5875\n"
          ]
        },
        {
          "metadata": {
            "tags": null
          },
          "name": "stderr",
          "output_type": "stream",
          "text": [
            "\r"
          ]
        },
        {
          "metadata": {
            "tags": null
          },
          "name": "stdout",
          "output_type": "stream",
          "text": [
            "Saved epoch model\n",
            "Saved best training model\n",
            "\n",
            "Epoch 6/50\n"
          ]
        },
        {
          "metadata": {
            "tags": null
          },
          "name": "stderr",
          "output_type": "stream",
          "text": [
            ""
          ]
        },
        {
          "metadata": {
            "tags": null
          },
          "name": "stdout",
          "output_type": "stream",
          "text": [
            "\n",
            "Epoch 6/50: \n",
            "Train Loss 0.4589\t Train Perplexity 1.5837\t Learning Rate 0.0001\n",
            "Saved epoch model\n",
            "Saved best training model\n",
            "\n",
            "Epoch 7/50\n"
          ]
        },
        {
          "metadata": {
            "tags": null
          },
          "name": "stderr",
          "output_type": "stream",
          "text": [
            ""
          ]
        },
        {
          "metadata": {
            "tags": null
          },
          "name": "stdout",
          "output_type": "stream",
          "text": [
            "\n",
            "Epoch 7/50: \n",
            "Train Loss 0.3984\t Train Perplexity 1.4906\t Learning Rate 0.0001\n"
          ]
        },
        {
          "metadata": {
            "tags": null
          },
          "name": "stderr",
          "output_type": "stream",
          "text": [
            "Val:   1%|          | 1/169 [00:06<17:36,  6.29s/it, running_distance=58.8750]"
          ]
        },
        {
          "metadata": {
            "tags": null
          },
          "name": "stdout",
          "output_type": "stream",
          "text": [
            "\n",
            "Ground Truth :  BECAUSE YOU WERE SLEEPING INSTEAD OF CONQUERING THE LOVELY ROSE PRINCESS HAS BECOME A FIDDLE WITHOUT A BOW WHILE POOR SHAGGY SITS THERE A COOING DOVE\n",
            "Prediction   :  BECAUSE YOUR IS SLEEPING AND SONE OF CONCRING THE LOVELY ROSE PRINCES HAS BECOME OF FITTLE WITHOUT A BO OLD POOR SHAND AND HIS THE WAS A SURE AND BEGARD AND WHICH AND A GENTLED HER WERE TO BEAUT AND A BEEN THE WAS IT A GENTLED HIM TO DEARTH\n"
          ]
        },
        {
          "metadata": {
            "tags": null
          },
          "name": "stderr",
          "output_type": "stream",
          "text": [
            "Val:   1%|          | 2/169 [00:10<13:28,  4.84s/it, running_distance=44.8438]"
          ]
        },
        {
          "metadata": {
            "tags": null
          },
          "name": "stdout",
          "output_type": "stream",
          "text": [
            "\n",
            "Ground Truth :  KALIKO HESITATED\n",
            "Prediction   :  CALLEGO HENSITATED\n"
          ]
        },
        {
          "metadata": {
            "tags": null
          },
          "name": "stderr",
          "output_type": "stream",
          "text": [
            "Val:   2%|▏         | 3/169 [00:12<10:18,  3.73s/it, running_distance=35.3542]"
          ]
        },
        {
          "metadata": {
            "tags": null
          },
          "name": "stdout",
          "output_type": "stream",
          "text": [
            "\n",
            "Ground Truth :  ONLY HIS HEART AND LUNGS WORKED ON AT A STRONG MEASURED RATE\n",
            "Prediction   :  ONLY HIS HEART NELUNS WORKED ON AT A STRONG MESURED GREAT\n"
          ]
        },
        {
          "metadata": {
            "tags": null
          },
          "name": "stderr",
          "output_type": "stream",
          "text": [
            "Val:   2%|▏         | 4/169 [00:13<07:21,  2.67s/it, running_distance=31.2656]"
          ]
        },
        {
          "metadata": {
            "tags": null
          },
          "name": "stdout",
          "output_type": "stream",
          "text": [
            "\n",
            "Ground Truth :  THE STRENGTH THAT ENABLES SOMEONE IN A TRANCE TO HOLD HIS BODY STIFF AND UNSUPPORTED EXCEPT AT TWO POINTS THE HEAD AND HEELS\n",
            "Prediction   :  THE STRINKH OF A NABLE SOME IN A TRANCE TO HOLD HIS BODY STIFF AND UNSUPPORTED EXCEPT AT TRUE POINTS THE HEALS\n"
          ]
        },
        {
          "metadata": {
            "tags": null
          },
          "name": "stderr",
          "output_type": "stream",
          "text": [
            "                                                                              "
          ]
        },
        {
          "metadata": {
            "tags": null
          },
          "name": "stdout",
          "output_type": "stream",
          "text": [
            "\n",
            "Ground Truth :  WHEN THEY ENTERED THE STAGE BOX ON THE LEFT THE FIRST ACT WAS WELL UNDER WAY THE SCENE BEING THE INTERIOR OF A CABIN IN THE SOUTH OF IRELAND\n",
            "Prediction   :  WHEN THEY ENTER THE STATES BOX ON THE LEFT THE FIRST ACT WAS WELL UNDERWAY THE SEE BEING THE INTERIOR OF A CAN IN THE SOUTH OF THE WAS A SURE AND BEGARD AND WHICH AND A GENTLED HER AND WAS THE MAY TO BEAR THE WAS IT A GENTLED\n",
            "Levenshtein Distance 32.0875\n"
          ]
        },
        {
          "metadata": {
            "tags": null
          },
          "name": "stderr",
          "output_type": "stream",
          "text": [
            "\r"
          ]
        },
        {
          "metadata": {
            "tags": null
          },
          "name": "stdout",
          "output_type": "stream",
          "text": [
            "Saved epoch model\n",
            "Saved best training model\n",
            "\n",
            "Epoch 8/50\n"
          ]
        },
        {
          "metadata": {
            "tags": null
          },
          "name": "stderr",
          "output_type": "stream",
          "text": [
            ""
          ]
        },
        {
          "metadata": {
            "tags": null
          },
          "name": "stdout",
          "output_type": "stream",
          "text": [
            "\n",
            "Epoch 8/50: \n",
            "Train Loss 0.3548\t Train Perplexity 1.4267\t Learning Rate 0.0001\n",
            "Saved epoch model\n",
            "Saved best training model\n",
            "\n",
            "Epoch 9/50\n"
          ]
        },
        {
          "metadata": {
            "tags": null
          },
          "name": "stderr",
          "output_type": "stream",
          "text": [
            ""
          ]
        },
        {
          "metadata": {
            "tags": null
          },
          "name": "stdout",
          "output_type": "stream",
          "text": [
            "\n",
            "Epoch 9/50: \n",
            "Train Loss 0.3219\t Train Perplexity 1.3805\t Learning Rate 0.0001\n"
          ]
        },
        {
          "metadata": {
            "tags": null
          },
          "name": "stderr",
          "output_type": "stream",
          "text": [
            "Val:   1%|          | 1/169 [00:06<17:14,  6.16s/it, running_distance=57.0000]"
          ]
        },
        {
          "metadata": {
            "tags": null
          },
          "name": "stdout",
          "output_type": "stream",
          "text": [
            "\n",
            "Ground Truth :  BECAUSE YOU WERE SLEEPING INSTEAD OF CONQUERING THE LOVELY ROSE PRINCESS HAS BECOME A FIDDLE WITHOUT A BOW WHILE POOR SHAGGY SITS THERE A COOING DOVE\n",
            "Prediction   :  BECAUSE YOUR IS SLEEPING AND SONE OF CONCRING THE LOVELY ROSE PRINCES HAS BECOME OF FITTLE WITHOUT A BO OH OH OF POOR SHAGGE A BEEN THE SAID OF MADE A SEEN OF HIS HAD A BEEN THE NEW EDGED HIM A PERITURE TO BE AND IT WAS THE MARING AND IT WAS IT A COUING DOVE\n"
          ]
        },
        {
          "metadata": {
            "tags": null
          },
          "name": "stderr",
          "output_type": "stream",
          "text": [
            "Val:   1%|          | 2/169 [00:09<13:18,  4.78s/it, running_distance=40.5625]"
          ]
        },
        {
          "metadata": {
            "tags": null
          },
          "name": "stdout",
          "output_type": "stream",
          "text": [
            "\n",
            "Ground Truth :  KALIKO HESITATED\n",
            "Prediction   :  CALLEGO HENSITATED\n"
          ]
        },
        {
          "metadata": {
            "tags": null
          },
          "name": "stderr",
          "output_type": "stream",
          "text": [
            "Val:   2%|▏         | 3/169 [00:12<10:18,  3.73s/it, running_distance=32.2292]"
          ]
        },
        {
          "metadata": {
            "tags": null
          },
          "name": "stdout",
          "output_type": "stream",
          "text": [
            "\n",
            "Ground Truth :  ONLY HIS HEART AND LUNGS WORKED ON AT A STRONG MEASURED RATE\n",
            "Prediction   :  ONLY HIS HEART LUNS WORKED ON AT A STRONG MASURE GREAT\n"
          ]
        },
        {
          "metadata": {
            "tags": null
          },
          "name": "stderr",
          "output_type": "stream",
          "text": [
            "Val:   2%|▏         | 4/169 [00:14<08:57,  3.26s/it, running_distance=30.1719]"
          ]
        },
        {
          "metadata": {
            "tags": null
          },
          "name": "stdout",
          "output_type": "stream",
          "text": [
            "\n",
            "Ground Truth :  THE STRENGTH THAT ENABLES SOMEONE IN A TRANCE TO HOLD HIS BODY STIFF AND UNSUPPORTED EXCEPT AT TWO POINTS THE HEAD AND HEELS\n",
            "Prediction   :  THE STRINKTH OF A NABLE SOME IN A TRANCE TO HOLD HIS BODY STIFF AND UNSUPPORTED EXCEPT AT TWO POINTS THE HEAD A SEPT A SURE A SOME IN THE NEW ENTIMED IT WAS IT A BEEN THE WAS IT A BEAUT OF IT A COULD OF THE HAD OF HER AND HEALS\n"
          ]
        },
        {
          "metadata": {
            "tags": null
          },
          "name": "stderr",
          "output_type": "stream",
          "text": [
            "                                                                              "
          ]
        },
        {
          "metadata": {
            "tags": null
          },
          "name": "stdout",
          "output_type": "stream",
          "text": [
            "\n",
            "Ground Truth :  WHEN THEY ENTERED THE STAGE BOX ON THE LEFT THE FIRST ACT WAS WELL UNDER WAY THE SCENE BEING THE INTERIOR OF A CABIN IN THE SOUTH OF IRELAND\n",
            "Prediction   :  WHEN THEY ENTERED THE STAGE BOX ON THE LEFT THE FIRST ACT WAS WELL UNDERWAY THE SEE BEING THE INTERIOR OF A CAPIN IN THE SOUTH OF IT WAS THE MAY WERE TO EARTH AND WAS THE MARTAIN THE CONVER IT WAS A BEANT A GENTLED IN THE SOUTH OF IRLAND\n",
            "Levenshtein Distance 30.6750\n"
          ]
        },
        {
          "metadata": {
            "tags": null
          },
          "name": "stderr",
          "output_type": "stream",
          "text": [
            "\r"
          ]
        },
        {
          "metadata": {
            "tags": null
          },
          "name": "stdout",
          "output_type": "stream",
          "text": [
            "Saved epoch model\n",
            "Saved best training model\n",
            "\n",
            "Epoch 10/50\n"
          ]
        },
        {
          "metadata": {
            "tags": null
          },
          "name": "stderr",
          "output_type": "stream",
          "text": [
            ""
          ]
        },
        {
          "metadata": {
            "tags": null
          },
          "name": "stdout",
          "output_type": "stream",
          "text": [
            "\n",
            "Epoch 10/50: \n",
            "Train Loss 0.2949\t Train Perplexity 1.3438\t Learning Rate 0.0001\n",
            "Saved epoch model\n",
            "Saved best training model\n",
            "\n",
            "Epoch 11/50\n"
          ]
        },
        {
          "metadata": {
            "tags": null
          },
          "name": "stderr",
          "output_type": "stream",
          "text": [
            ""
          ]
        },
        {
          "metadata": {
            "tags": null
          },
          "name": "stdout",
          "output_type": "stream",
          "text": [
            "\n",
            "Epoch 11/50: \n",
            "Train Loss 0.2739\t Train Perplexity 1.3156\t Learning Rate 0.0001\n"
          ]
        },
        {
          "metadata": {
            "tags": null
          },
          "name": "stderr",
          "output_type": "stream",
          "text": [
            "Val:   1%|          | 1/169 [00:05<14:35,  5.21s/it, running_distance=43.1875]"
          ]
        },
        {
          "metadata": {
            "tags": null
          },
          "name": "stdout",
          "output_type": "stream",
          "text": [
            "\n",
            "Ground Truth :  BECAUSE YOU WERE SLEEPING INSTEAD OF CONQUERING THE LOVELY ROSE PRINCESS HAS BECOME A FIDDLE WITHOUT A BOW WHILE POOR SHAGGY SITS THERE A COOING DOVE\n",
            "Prediction   :  BECAUSE YOUR IS SLEEPING AND SON OF CONCRING THE LOVELY ROSED PRINCES HAS BECOME OF FITTLE WITHOUT A BO OLD POOR SHAGGE AND MADE BEEN TO EUGHT OF THE HAD WAS THE MIDDER THE MINUTER THE WERE TO BE A BEAUT IN TO EARTH AND EARTHY WERE TO BE\n"
          ]
        },
        {
          "metadata": {
            "tags": null
          },
          "name": "stderr",
          "output_type": "stream",
          "text": [
            "Val:   1%|          | 2/169 [00:06<08:31,  3.06s/it, running_distance=27.8750]"
          ]
        },
        {
          "metadata": {
            "tags": null
          },
          "name": "stdout",
          "output_type": "stream",
          "text": [
            "\n",
            "Ground Truth :  KALIKO HESITATED\n",
            "Prediction   :  CALLOGO HENSITATED\n"
          ]
        },
        {
          "metadata": {
            "tags": null
          },
          "name": "stderr",
          "output_type": "stream",
          "text": [
            "Val:   2%|▏         | 3/169 [00:09<07:51,  2.84s/it, running_distance=23.1875]"
          ]
        },
        {
          "metadata": {
            "tags": null
          },
          "name": "stdout",
          "output_type": "stream",
          "text": [
            "\n",
            "Ground Truth :  ONLY HIS HEART AND LUNGS WORKED ON AT A STRONG MEASURED RATE\n",
            "Prediction   :  ONLY HIS HEART LUNS WORKED ON AT A STRONG MISURE GREAT\n"
          ]
        },
        {
          "metadata": {
            "tags": null
          },
          "name": "stderr",
          "output_type": "stream",
          "text": [
            "Val:   2%|▏         | 4/169 [00:11<07:27,  2.71s/it, running_distance=22.7812]"
          ]
        },
        {
          "metadata": {
            "tags": null
          },
          "name": "stdout",
          "output_type": "stream",
          "text": [
            "\n",
            "Ground Truth :  THE STRENGTH THAT ENABLES SOMEONE IN A TRANCE TO HOLD HIS BODY STIFF AND UNSUPPORTED EXCEPT AT TWO POINTS THE HEAD AND HEELS\n",
            "Prediction   :  THE STRINKTH OF A NEIGHBLE SOME IN A TRANCE TO HOLD HIS BODY STIFF AND UNSUPPORTED EXCEPT AT TWO POINTS THE HEAD OF THE HEARTHER IT WAS THE MIDER TO GET MAY WERE TO BE ANY THE WAS NOT AND THE CARRENT IN THE REMER TO BE IN HEALS\n"
          ]
        },
        {
          "metadata": {
            "tags": null
          },
          "name": "stderr",
          "output_type": "stream",
          "text": [
            "                                                                              "
          ]
        },
        {
          "metadata": {
            "tags": null
          },
          "name": "stdout",
          "output_type": "stream",
          "text": [
            "\n",
            "Ground Truth :  WHEN THEY ENTERED THE STAGE BOX ON THE LEFT THE FIRST ACT WAS WELL UNDER WAY THE SCENE BEING THE INTERIOR OF A CABIN IN THE SOUTH OF IRELAND\n",
            "Prediction   :  WHEN THEY ENTERED THE STAGE BOX ON THE LEFT THE FIRST ACT WAS WELL UNDERWAY THE SEE BEING THE INTERIOR OF A CABIN IN THE SOUTH OF HIM A BEEN TO GET MERE THE WAS THE MIDDER THE MINUTE OF THE HEARTH AND WAS THE MIRE TO BE ANY THE SOUTH OF IRLAND\n",
            "Levenshtein Distance 24.0750\n"
          ]
        },
        {
          "metadata": {
            "tags": null
          },
          "name": "stderr",
          "output_type": "stream",
          "text": [
            "\r"
          ]
        },
        {
          "metadata": {
            "tags": null
          },
          "name": "stdout",
          "output_type": "stream",
          "text": [
            "Saved epoch model\n",
            "Saved best training model\n",
            "\n",
            "Epoch 12/50\n"
          ]
        },
        {
          "metadata": {
            "tags": null
          },
          "name": "stderr",
          "output_type": "stream",
          "text": [
            ""
          ]
        },
        {
          "metadata": {
            "tags": null
          },
          "name": "stdout",
          "output_type": "stream",
          "text": [
            "\n",
            "Epoch 12/50: \n",
            "Train Loss 0.2557\t Train Perplexity 1.2919\t Learning Rate 0.0001\n",
            "Saved epoch model\n",
            "Saved best training model\n",
            "\n",
            "Epoch 13/50\n"
          ]
        },
        {
          "metadata": {
            "tags": null
          },
          "name": "stderr",
          "output_type": "stream",
          "text": [
            ""
          ]
        },
        {
          "metadata": {
            "tags": null
          },
          "name": "stdout",
          "output_type": "stream",
          "text": [
            "\n",
            "Epoch 13/50: \n",
            "Train Loss 0.2404\t Train Perplexity 1.2722\t Learning Rate 0.0001\n"
          ]
        },
        {
          "metadata": {
            "tags": null
          },
          "name": "stderr",
          "output_type": "stream",
          "text": [
            "Val:   1%|          | 1/169 [00:05<15:57,  5.70s/it, running_distance=51.6875]"
          ]
        },
        {
          "metadata": {
            "tags": null
          },
          "name": "stdout",
          "output_type": "stream",
          "text": [
            "\n",
            "Ground Truth :  BECAUSE YOU WERE SLEEPING INSTEAD OF CONQUERING THE LOVELY ROSE PRINCESS HAS BECOME A FIDDLE WITHOUT A BOW WHILE POOR SHAGGY SITS THERE A COOING DOVE\n",
            "Prediction   :  BECAUSE YOUR IS SLEEPING AND SONE OF CONCRING THE LOVELY ROSE PRINCES HAS BECOME OF FITTLE WITHOUT A BO OLD POOR SHAGGE A DEPTAINT A BEEN TO A MILLED A BEEN THE WAS A BEEN TO A BEAUT A MILLED A BE A DEAD TO BE A MIDDER TO GUING DOVE\n"
          ]
        },
        {
          "metadata": {
            "tags": null
          },
          "name": "stderr",
          "output_type": "stream",
          "text": [
            "Val:   1%|          | 2/169 [00:07<09:06,  3.27s/it, running_distance=31.7188]"
          ]
        },
        {
          "metadata": {
            "tags": null
          },
          "name": "stdout",
          "output_type": "stream",
          "text": [
            "\n",
            "Ground Truth :  KALIKO HESITATED\n",
            "Prediction   :  CALOGO HENSITATED\n"
          ]
        },
        {
          "metadata": {
            "tags": null
          },
          "name": "stderr",
          "output_type": "stream",
          "text": [
            "Val:   2%|▏         | 3/169 [00:09<08:00,  2.89s/it, running_distance=25.5625]"
          ]
        },
        {
          "metadata": {
            "tags": null
          },
          "name": "stdout",
          "output_type": "stream",
          "text": [
            "\n",
            "Ground Truth :  ONLY HIS HEART AND LUNGS WORKED ON AT A STRONG MEASURED RATE\n",
            "Prediction   :  QUALLY HIS HEART LUNS WORKED ON AT A STRONG MASURE GREAT\n"
          ]
        },
        {
          "metadata": {
            "tags": null
          },
          "name": "stderr",
          "output_type": "stream",
          "text": [
            "Val:   2%|▏         | 4/169 [00:10<05:46,  2.10s/it, running_distance=23.4219]"
          ]
        },
        {
          "metadata": {
            "tags": null
          },
          "name": "stdout",
          "output_type": "stream",
          "text": [
            "\n",
            "Ground Truth :  THE STRENGTH THAT ENABLES SOMEONE IN A TRANCE TO HOLD HIS BODY STIFF AND UNSUPPORTED EXCEPT AT TWO POINTS THE HEAD AND HEELS\n",
            "Prediction   :  THE STRINKTH OF A NEIGHBLE SOME IN A TRANCE TO HOLD HIS BODY STIFF AND UNSUPPORTED EXCEPT AT TWO POINTS THE HEALS\n"
          ]
        },
        {
          "metadata": {
            "tags": null
          },
          "name": "stderr",
          "output_type": "stream",
          "text": [
            "                                                                              "
          ]
        },
        {
          "metadata": {
            "tags": null
          },
          "name": "stdout",
          "output_type": "stream",
          "text": [
            "\n",
            "Ground Truth :  WHEN THEY ENTERED THE STAGE BOX ON THE LEFT THE FIRST ACT WAS WELL UNDER WAY THE SCENE BEING THE INTERIOR OF A CABIN IN THE SOUTH OF IRELAND\n",
            "Prediction   :  WHEN THEY ENTERED THE STAGE BOX ON THE LEFT THE FIRST ACT WAS WELL UNDERWAY THE SEA BEING THE INTERIOR OF A CABIN IN THE SOUTH OF THE HEARTHER AND WAS A MAYONED A BEEN TO A BE A MILLED A BEEN TO ELEPT HER TO BE WITH A BEEN IN THE SOUTH OF IRLAND\n",
            "Levenshtein Distance 24.6375\n"
          ]
        },
        {
          "metadata": {
            "tags": null
          },
          "name": "stderr",
          "output_type": "stream",
          "text": [
            "\r"
          ]
        },
        {
          "metadata": {
            "tags": null
          },
          "name": "stdout",
          "output_type": "stream",
          "text": [
            "Saved epoch model\n",
            "Saved best training model\n",
            "\n",
            "Epoch 14/50\n"
          ]
        },
        {
          "metadata": {
            "tags": null
          },
          "name": "stderr",
          "output_type": "stream",
          "text": [
            ""
          ]
        },
        {
          "metadata": {
            "tags": null
          },
          "name": "stdout",
          "output_type": "stream",
          "text": [
            "\n",
            "Epoch 14/50: \n",
            "Train Loss 0.2270\t Train Perplexity 1.2552\t Learning Rate 0.0001\n",
            "Saved epoch model\n",
            "Saved best training model\n",
            "\n",
            "Epoch 15/50\n"
          ]
        },
        {
          "metadata": {
            "tags": null
          },
          "name": "stderr",
          "output_type": "stream",
          "text": [
            ""
          ]
        },
        {
          "metadata": {
            "tags": null
          },
          "name": "stdout",
          "output_type": "stream",
          "text": [
            "\n",
            "Epoch 15/50: \n",
            "Train Loss 0.2146\t Train Perplexity 1.2399\t Learning Rate 0.0001\n"
          ]
        },
        {
          "metadata": {
            "tags": null
          },
          "name": "stderr",
          "output_type": "stream",
          "text": [
            "Val:   1%|          | 1/169 [00:05<15:20,  5.48s/it, running_distance=50.0625]"
          ]
        },
        {
          "metadata": {
            "tags": null
          },
          "name": "stdout",
          "output_type": "stream",
          "text": [
            "\n",
            "Ground Truth :  BECAUSE YOU WERE SLEEPING INSTEAD OF CONQUERING THE LOVELY ROSE PRINCESS HAS BECOME A FIDDLE WITHOUT A BOW WHILE POOR SHAGGY SITS THERE A COOING DOVE\n",
            "Prediction   :  BECAUSE YOUR IS SLEEPING IN SON OF CONCRING THE LOVELY ROSE PRINCES HAS BECOME OF FITTLE WITHOUT A BOW OF POOR SHAGGING A DEPTING TO HAVE THE WOULD MADE A DEAT YOU ARE THE MERE AND WHO EUGHT A BEAUTY OF HIS EUR COON DOVE\n"
          ]
        },
        {
          "metadata": {
            "tags": null
          },
          "name": "stderr",
          "output_type": "stream",
          "text": [
            "Val:   1%|          | 2/169 [00:07<09:38,  3.47s/it, running_distance=32.7188]"
          ]
        },
        {
          "metadata": {
            "tags": null
          },
          "name": "stdout",
          "output_type": "stream",
          "text": [
            "\n",
            "Ground Truth :  KALIKO HESITATED\n",
            "Prediction   :  CALOGO HENSITATED\n"
          ]
        },
        {
          "metadata": {
            "tags": null
          },
          "name": "stderr",
          "output_type": "stream",
          "text": [
            "Val:   2%|▏         | 3/169 [00:09<08:12,  2.97s/it, running_distance=26.1458]"
          ]
        },
        {
          "metadata": {
            "tags": null
          },
          "name": "stdout",
          "output_type": "stream",
          "text": [
            "\n",
            "Ground Truth :  ONLY HIS HEART AND LUNGS WORKED ON AT A STRONG MEASURED RATE\n",
            "Prediction   :  QUALLY HIS HEART LUNS WORKED ON AT A STRONG MASURE GREAT\n"
          ]
        },
        {
          "metadata": {
            "tags": null
          },
          "name": "stderr",
          "output_type": "stream",
          "text": [
            "Val:   2%|▏         | 4/169 [00:12<07:35,  2.76s/it, running_distance=24.6406]"
          ]
        },
        {
          "metadata": {
            "tags": null
          },
          "name": "stdout",
          "output_type": "stream",
          "text": [
            "\n",
            "Ground Truth :  THE STRENGTH THAT ENABLES SOMEONE IN A TRANCE TO HOLD HIS BODY STIFF AND UNSUPPORTED EXCEPT AT TWO POINTS THE HEAD AND HEELS\n",
            "Prediction   :  THE STRINGTH OF A NABLES SOME IN A TRANCE TO HOLD HIS BODY STIFF AND UNSUPPORTED EXCEPT AT TWO POINTS THE HEAD AND HEALT MADE A DEPTINED HIM A BEAUTY OF HIS EUR COULD HIM A DEPTING THE HAD A BEEN TO HAVE THE MERCHANTER AND HEALS\n"
          ]
        },
        {
          "metadata": {
            "tags": null
          },
          "name": "stderr",
          "output_type": "stream",
          "text": [
            "                                                                              "
          ]
        },
        {
          "metadata": {
            "tags": null
          },
          "name": "stdout",
          "output_type": "stream",
          "text": [
            "\n",
            "Ground Truth :  WHEN THEY ENTERED THE STAGE BOX ON THE LEFT THE FIRST ACT WAS WELL UNDER WAY THE SCENE BEING THE INTERIOR OF A CABIN IN THE SOUTH OF IRELAND\n",
            "Prediction   :  WHEN THEY ENTERED THE STAGE BOX ON THE LEFT THE FIRST ACT WAS WELL UNDERWAY THE SEA BEING THE INTERIOR OF A CABIN IN THE SOUTH OF HIS EUGHTERN THE WOME AND HIS EARTHER AND WHEN THE HEARTHER AND EUGHT OF THE HEARTH AND WHICH IT A PERILAND\n",
            "Levenshtein Distance 23.7750\n"
          ]
        },
        {
          "metadata": {
            "tags": null
          },
          "name": "stderr",
          "output_type": "stream",
          "text": [
            "\r"
          ]
        },
        {
          "metadata": {
            "tags": null
          },
          "name": "stdout",
          "output_type": "stream",
          "text": [
            "Saved epoch model\n",
            "Saved best training model\n",
            "\n",
            "Epoch 16/50\n"
          ]
        },
        {
          "metadata": {
            "tags": null
          },
          "name": "stderr",
          "output_type": "stream",
          "text": [
            ""
          ]
        },
        {
          "metadata": {
            "tags": null
          },
          "name": "stdout",
          "output_type": "stream",
          "text": [
            "\n",
            "Epoch 16/50: \n",
            "Train Loss 0.2040\t Train Perplexity 1.2266\t Learning Rate 0.0001\n",
            "Saved epoch model\n",
            "Saved best training model\n",
            "\n",
            "Epoch 17/50\n"
          ]
        },
        {
          "metadata": {
            "tags": null
          },
          "name": "stderr",
          "output_type": "stream",
          "text": [
            ""
          ]
        },
        {
          "metadata": {
            "tags": null
          },
          "name": "stdout",
          "output_type": "stream",
          "text": [
            "\n",
            "Epoch 17/50: \n",
            "Train Loss 0.1947\t Train Perplexity 1.2153\t Learning Rate 0.0001\n"
          ]
        },
        {
          "metadata": {
            "tags": null
          },
          "name": "stderr",
          "output_type": "stream",
          "text": [
            "Val:   1%|          | 1/169 [00:06<16:55,  6.04s/it, running_distance=41.2500]"
          ]
        },
        {
          "metadata": {
            "tags": null
          },
          "name": "stdout",
          "output_type": "stream",
          "text": [
            "\n",
            "Ground Truth :  BECAUSE YOU WERE SLEEPING INSTEAD OF CONQUERING THE LOVELY ROSE PRINCESS HAS BECOME A FIDDLE WITHOUT A BOW WHILE POOR SHAGGY SITS THERE A COOING DOVE\n",
            "Prediction   :  BECAUSE YOUR IS SLEEPING IN SON OF CONCRING THE LOVELY ROSE PRINCES HAS BECOME OF FITTLE WITHOUT A BOW ALL POOR SHAGGIS SAIR A COULD HAVE TO DEAR THE WOME TO BE THE PIERCE AND A PIERCE AND A PIERCHED A BUT A DID HEART AND EMPTING DOVE\n"
          ]
        },
        {
          "metadata": {
            "tags": null
          },
          "name": "stderr",
          "output_type": "stream",
          "text": [
            "Val:   1%|          | 2/169 [00:08<11:02,  3.97s/it, running_distance=28.5938]"
          ]
        },
        {
          "metadata": {
            "tags": null
          },
          "name": "stdout",
          "output_type": "stream",
          "text": [
            "\n",
            "Ground Truth :  KALIKO HESITATED\n",
            "Prediction   :  CALOGO HENSITATED\n"
          ]
        },
        {
          "metadata": {
            "tags": null
          },
          "name": "stderr",
          "output_type": "stream",
          "text": [
            "Val:   2%|▏         | 3/169 [00:11<09:07,  3.30s/it, running_distance=23.7500]"
          ]
        },
        {
          "metadata": {
            "tags": null
          },
          "name": "stdout",
          "output_type": "stream",
          "text": [
            "\n",
            "Ground Truth :  ONLY HIS HEART AND LUNGS WORKED ON AT A STRONG MEASURED RATE\n",
            "Prediction   :  QUALLY IS HEART LUNS WORKED ON AT A STRONG MISURE GREAT\n"
          ]
        },
        {
          "metadata": {
            "tags": null
          },
          "name": "stderr",
          "output_type": "stream",
          "text": [
            "Val:   2%|▏         | 4/169 [00:13<07:55,  2.88s/it, running_distance=22.6094]"
          ]
        },
        {
          "metadata": {
            "tags": null
          },
          "name": "stdout",
          "output_type": "stream",
          "text": [
            "\n",
            "Ground Truth :  THE STRENGTH THAT ENABLES SOMEONE IN A TRANCE TO HOLD HIS BODY STIFF AND UNSUPPORTED EXCEPT AT TWO POINTS THE HEAD AND HEELS\n",
            "Prediction   :  THE STRINK THAT A NEIGHBLES SOMEONE IN A TRANCE TO HOLD HIS BODY STIFF AND UNSUPPORTED EXCEPT AT TWO POINTS THE HEAD A DEAR TO MAKE A BEAUT A NEW PART A PIERCE AND A PIERCE AND A PIERCE AND A PIERCHANT AND HEALS\n"
          ]
        },
        {
          "metadata": {
            "tags": null
          },
          "name": "stderr",
          "output_type": "stream",
          "text": [
            "                                                                              "
          ]
        },
        {
          "metadata": {
            "tags": null
          },
          "name": "stdout",
          "output_type": "stream",
          "text": [
            "\n",
            "Ground Truth :  WHEN THEY ENTERED THE STAGE BOX ON THE LEFT THE FIRST ACT WAS WELL UNDER WAY THE SCENE BEING THE INTERIOR OF A CABIN IN THE SOUTH OF IRELAND\n",
            "Prediction   :  WHEN THEY ENTERED THE STAGE BOX ON THE LEFT THE FIRST ACT WAS WELL UNDERWAY THE SEA BEING THE INTERIOR OF A CABIN IN THE SOUTH OF HAD A BEEN TO PUT IT A PIERCE AND A PERITY OF IT WAS THE MAY BEAUT PIERCE AND A BEEN TO PUTY OF IRLAND\n",
            "Levenshtein Distance 21.6250\n"
          ]
        },
        {
          "metadata": {
            "tags": null
          },
          "name": "stderr",
          "output_type": "stream",
          "text": [
            "\r"
          ]
        },
        {
          "metadata": {
            "tags": null
          },
          "name": "stdout",
          "output_type": "stream",
          "text": [
            "Saved epoch model\n",
            "Saved best training model\n",
            "\n",
            "Epoch 18/50\n"
          ]
        },
        {
          "metadata": {
            "tags": null
          },
          "name": "stderr",
          "output_type": "stream",
          "text": [
            ""
          ]
        },
        {
          "metadata": {
            "tags": null
          },
          "name": "stdout",
          "output_type": "stream",
          "text": [
            "\n",
            "Epoch 18/50: \n",
            "Train Loss 0.1861\t Train Perplexity 1.2049\t Learning Rate 0.0001\n",
            "Saved epoch model\n",
            "Saved best training model\n",
            "\n",
            "Epoch 19/50\n"
          ]
        },
        {
          "metadata": {
            "tags": null
          },
          "name": "stderr",
          "output_type": "stream",
          "text": [
            ""
          ]
        },
        {
          "metadata": {
            "tags": null
          },
          "name": "stdout",
          "output_type": "stream",
          "text": [
            "\n",
            "Epoch 19/50: \n",
            "Train Loss 0.1784\t Train Perplexity 1.1957\t Learning Rate 0.0001\n"
          ]
        },
        {
          "metadata": {
            "tags": null
          },
          "name": "stderr",
          "output_type": "stream",
          "text": [
            "Val:   1%|          | 1/169 [00:05<16:14,  5.80s/it, running_distance=38.1875]"
          ]
        },
        {
          "metadata": {
            "tags": null
          },
          "name": "stdout",
          "output_type": "stream",
          "text": [
            "\n",
            "Ground Truth :  BECAUSE YOU WERE SLEEPING INSTEAD OF CONQUERING THE LOVELY ROSE PRINCESS HAS BECOME A FIDDLE WITHOUT A BOW WHILE POOR SHAGGY SITS THERE A COOING DOVE\n",
            "Prediction   :  BECAUSE YOUR IS SLEEPING IN SON OF CONQUERING THE LOVELY ROSE PRINCES HAS BECOME OF FITTLE WITHOUT A BOW ALL POOR SHAGGIS AND HER TO BE THE COULD HAVE THE KNEW OF THE HORRIEUS AND IT A BEEN THE COULD HAVE THE WOME OF THE HEART OF THE HEART OF\n"
          ]
        },
        {
          "metadata": {
            "tags": null
          },
          "name": "stderr",
          "output_type": "stream",
          "text": [
            "Val:   1%|          | 2/169 [00:08<11:39,  4.19s/it, running_distance=27.9062]"
          ]
        },
        {
          "metadata": {
            "tags": null
          },
          "name": "stdout",
          "output_type": "stream",
          "text": [
            "\n",
            "Ground Truth :  KALIKO HESITATED\n",
            "Prediction   :  CALOGO HENSITATED\n"
          ]
        },
        {
          "metadata": {
            "tags": null
          },
          "name": "stderr",
          "output_type": "stream",
          "text": [
            "Val:   2%|▏         | 3/169 [00:11<09:34,  3.46s/it, running_distance=22.9583]"
          ]
        },
        {
          "metadata": {
            "tags": null
          },
          "name": "stdout",
          "output_type": "stream",
          "text": [
            "\n",
            "Ground Truth :  ONLY HIS HEART AND LUNGS WORKED ON AT A STRONG MEASURED RATE\n",
            "Prediction   :  QUALLY HIS HEART LUNS WORKED ON AT A STRONG MISURE GREAT\n"
          ]
        },
        {
          "metadata": {
            "tags": null
          },
          "name": "stderr",
          "output_type": "stream",
          "text": [
            "Val:   2%|▏         | 4/169 [00:13<08:25,  3.06s/it, running_distance=22.0000]"
          ]
        },
        {
          "metadata": {
            "tags": null
          },
          "name": "stdout",
          "output_type": "stream",
          "text": [
            "\n",
            "Ground Truth :  THE STRENGTH THAT ENABLES SOMEONE IN A TRANCE TO HOLD HIS BODY STIFF AND UNSUPPORTED EXCEPT AT TWO POINTS THE HEAD AND HEELS\n",
            "Prediction   :  THE STRINK THE NEIGHBLES SOMEONE IN A TRANCE TO HOLD HIS BODY STIFF AND UNSUPPORTED EXCEPT AT TWO POINTS THE HEAD AND HEALT MADE BE TO MAY WHEN A BEEN A NEW OF THE HOULD HAVE THE BEEN A NEW OF THE HORRIED IT A BEEN A NIELS\n"
          ]
        },
        {
          "metadata": {
            "tags": null
          },
          "name": "stderr",
          "output_type": "stream",
          "text": [
            "                                                                              "
          ]
        },
        {
          "metadata": {
            "tags": null
          },
          "name": "stdout",
          "output_type": "stream",
          "text": [
            "\n",
            "Ground Truth :  WHEN THEY ENTERED THE STAGE BOX ON THE LEFT THE FIRST ACT WAS WELL UNDER WAY THE SCENE BEING THE INTERIOR OF A CABIN IN THE SOUTH OF IRELAND\n",
            "Prediction   :  WHEN THEY ENTERED THE STAGE BOX ON THE LEFT THE FIRST ACT WAS WELL UNDERWAY THE SEA BEING THE INTERIOR OF A CABIN IN THE SOUTH OF IT A BEEN A NEW OF THE HEARTH AND EMPT OF THE HORRIEUS AND HER TO BE THE COULD HAVE TO BE THE COUNT OF IRELAND\n",
            "Levenshtein Distance 23.2000\n"
          ]
        },
        {
          "metadata": {
            "tags": null
          },
          "name": "stderr",
          "output_type": "stream",
          "text": [
            "\r"
          ]
        },
        {
          "metadata": {
            "tags": null
          },
          "name": "stdout",
          "output_type": "stream",
          "text": [
            "Saved epoch model\n",
            "Saved best training model\n",
            "\n",
            "Epoch 20/50\n"
          ]
        },
        {
          "metadata": {
            "tags": null
          },
          "name": "stderr",
          "output_type": "stream",
          "text": [
            ""
          ]
        },
        {
          "metadata": {
            "tags": null
          },
          "name": "stdout",
          "output_type": "stream",
          "text": [
            "\n",
            "Epoch 20/50: \n",
            "Train Loss 0.1709\t Train Perplexity 1.1867\t Learning Rate 0.0001\n",
            "Saved epoch model\n",
            "Saved best training model\n",
            "\n",
            "Epoch 21/50\n"
          ]
        },
        {
          "metadata": {
            "tags": null
          },
          "name": "stderr",
          "output_type": "stream",
          "text": [
            ""
          ]
        },
        {
          "metadata": {
            "tags": null
          },
          "name": "stdout",
          "output_type": "stream",
          "text": [
            "\n",
            "Epoch 21/50: \n",
            "Train Loss 0.1646\t Train Perplexity 1.1792\t Learning Rate 0.0001\n"
          ]
        },
        {
          "metadata": {
            "tags": null
          },
          "name": "stderr",
          "output_type": "stream",
          "text": [
            "Val:   1%|          | 1/169 [00:06<16:53,  6.03s/it, running_distance=41.5000]"
          ]
        },
        {
          "metadata": {
            "tags": null
          },
          "name": "stdout",
          "output_type": "stream",
          "text": [
            "\n",
            "Ground Truth :  BECAUSE YOU WERE SLEEPING INSTEAD OF CONQUERING THE LOVELY ROSE PRINCESS HAS BECOME A FIDDLE WITHOUT A BOW WHILE POOR SHAGGY SITS THERE A COOING DOVE\n",
            "Prediction   :  BECAUSE YOUR IS SLEEPING IN SON OF CONCRING THE LOVELY ROSE PRINCES HAS BECOME OF FITTLE WITHOUT A BOW ALL POOR SHAGGES HIM A DEADY OF MERE AND EUR THE COULD HER THE COULD OF THE KNEW OF THE HEART OF THE PERION IT A BEEN PIECHED AND READ OF\n"
          ]
        },
        {
          "metadata": {
            "tags": null
          },
          "name": "stderr",
          "output_type": "stream",
          "text": [
            "Val:   1%|          | 2/169 [00:08<10:59,  3.95s/it, running_distance=28.7188]"
          ]
        },
        {
          "metadata": {
            "tags": null
          },
          "name": "stdout",
          "output_type": "stream",
          "text": [
            "\n",
            "Ground Truth :  KALIKO HESITATED\n",
            "Prediction   :  CALOGO HENSITATED\n"
          ]
        },
        {
          "metadata": {
            "tags": null
          },
          "name": "stderr",
          "output_type": "stream",
          "text": [
            "Val:   2%|▏         | 3/169 [00:10<08:57,  3.24s/it, running_distance=23.6042]"
          ]
        },
        {
          "metadata": {
            "tags": null
          },
          "name": "stdout",
          "output_type": "stream",
          "text": [
            "\n",
            "Ground Truth :  ONLY HIS HEART AND LUNGS WORKED ON AT A STRONG MEASURED RATE\n",
            "Prediction   :  ONLY HIS HEART LUNS WORKED ON AT A STRONG MISURE GREAT\n"
          ]
        },
        {
          "metadata": {
            "tags": null
          },
          "name": "stderr",
          "output_type": "stream",
          "text": [
            "Val:   2%|▏         | 4/169 [00:12<06:38,  2.42s/it, running_distance=20.8750]"
          ]
        },
        {
          "metadata": {
            "tags": null
          },
          "name": "stdout",
          "output_type": "stream",
          "text": [
            "\n",
            "Ground Truth :  THE STRENGTH THAT ENABLES SOMEONE IN A TRANCE TO HOLD HIS BODY STIFF AND UNSUPPORTED EXCEPT AT TWO POINTS THE HEAD AND HEELS\n",
            "Prediction   :  THE STRINKTH OF A NABLE SOMEN IN A TRANCE TO HOLD HIS BODY STIFF AND UNSUPPORTED EXCEPT AT TWO POINTS THE HEAD AND HEELS\n"
          ]
        },
        {
          "metadata": {
            "tags": null
          },
          "name": "stderr",
          "output_type": "stream",
          "text": [
            "                                                                              "
          ]
        },
        {
          "metadata": {
            "tags": null
          },
          "name": "stdout",
          "output_type": "stream",
          "text": [
            "\n",
            "Ground Truth :  WHEN THEY ENTERED THE STAGE BOX ON THE LEFT THE FIRST ACT WAS WELL UNDER WAY THE SCENE BEING THE INTERIOR OF A CABIN IN THE SOUTH OF IRELAND\n",
            "Prediction   :  WHEN THEY ENTERED THE STAGE BOX ON THE LEFT THE FIRST ACT WAS WELL UNDERWAY THE SEA BEING THE INTERIOR OF A CABIN IN THE SOUTH OF IRROLAND\n",
            "Levenshtein Distance 18.9625\n"
          ]
        },
        {
          "metadata": {
            "tags": null
          },
          "name": "stderr",
          "output_type": "stream",
          "text": [
            "\r"
          ]
        },
        {
          "metadata": {
            "tags": null
          },
          "name": "stdout",
          "output_type": "stream",
          "text": [
            "Saved epoch model\n",
            "Saved best training model\n",
            "\n",
            "Epoch 22/50\n"
          ]
        },
        {
          "metadata": {
            "tags": null
          },
          "name": "stderr",
          "output_type": "stream",
          "text": [
            ""
          ]
        },
        {
          "metadata": {
            "tags": null
          },
          "name": "stdout",
          "output_type": "stream",
          "text": [
            "\n",
            "Epoch 22/50: \n",
            "Train Loss 0.1590\t Train Perplexity 1.1726\t Learning Rate 0.0001\n",
            "Saved epoch model\n",
            "Saved best training model\n",
            "\n",
            "Epoch 23/50\n"
          ]
        },
        {
          "metadata": {
            "tags": null
          },
          "name": "stderr",
          "output_type": "stream",
          "text": [
            ""
          ]
        },
        {
          "metadata": {
            "tags": null
          },
          "name": "stdout",
          "output_type": "stream",
          "text": [
            "\n",
            "Epoch 23/50: \n",
            "Train Loss 0.1534\t Train Perplexity 1.1660\t Learning Rate 0.0001\n"
          ]
        },
        {
          "metadata": {
            "tags": null
          },
          "name": "stderr",
          "output_type": "stream",
          "text": [
            "Val:   1%|          | 1/169 [00:08<23:54,  8.54s/it, running_distance=45.9375]"
          ]
        },
        {
          "metadata": {
            "tags": null
          },
          "name": "stdout",
          "output_type": "stream",
          "text": [
            "\n",
            "Ground Truth :  BECAUSE YOU WERE SLEEPING INSTEAD OF CONQUERING THE LOVELY ROSE PRINCESS HAS BECOME A FIDDLE WITHOUT A BOW WHILE POOR SHAGGY SITS THERE A COOING DOVE\n",
            "Prediction   :  BECAUSE YOUR IS SLEEPING AND SON OF CONCRING THE LOVELY ROSED PRINCES HAS BECOME OF FITTLE WITHOUT A BOW ALL POOR SHAGGED AND EUGHT OF THE WOULD OF THE WAS AND EART OF THE WORT OF IT WAS A BARRIED AND A BARRIADE A SURE A COOLING DOVE\n"
          ]
        },
        {
          "metadata": {
            "tags": null
          },
          "name": "stderr",
          "output_type": "stream",
          "text": [
            "Val:   1%|          | 2/169 [00:10<13:28,  4.84s/it, running_distance=29.9375]"
          ]
        },
        {
          "metadata": {
            "tags": null
          },
          "name": "stdout",
          "output_type": "stream",
          "text": [
            "\n",
            "Ground Truth :  KALIKO HESITATED\n",
            "Prediction   :  CALOGO HENSITATED\n"
          ]
        },
        {
          "metadata": {
            "tags": null
          },
          "name": "stderr",
          "output_type": "stream",
          "text": [
            "Val:   2%|▏         | 3/169 [00:13<10:29,  3.79s/it, running_distance=24.0208]"
          ]
        },
        {
          "metadata": {
            "tags": null
          },
          "name": "stdout",
          "output_type": "stream",
          "text": [
            "\n",
            "Ground Truth :  ONLY HIS HEART AND LUNGS WORKED ON AT A STRONG MEASURED RATE\n",
            "Prediction   :  ONLY IS HEART LUNS WORKED ON AT A STRONG MISURE GREAT\n"
          ]
        },
        {
          "metadata": {
            "tags": null
          },
          "name": "stderr",
          "output_type": "stream",
          "text": [
            "Val:   2%|▏         | 4/169 [00:16<09:53,  3.60s/it, running_distance=23.4219]"
          ]
        },
        {
          "metadata": {
            "tags": null
          },
          "name": "stdout",
          "output_type": "stream",
          "text": [
            "\n",
            "Ground Truth :  THE STRENGTH THAT ENABLES SOMEONE IN A TRANCE TO HOLD HIS BODY STIFF AND UNSUPPORTED EXCEPT AT TWO POINTS THE HEAD AND HEELS\n",
            "Prediction   :  THE STRINGTH OF A NABLES SOMEONE IN A TRANCE TO HOLD HIS BODY STIFF AND UNSUPPORTED EXCEPT AT TWO POINTS THE HEAD AND HEALT OF THE HEART OF IT WAS THE BEEN A LITTLE PIERCHED AND IT WAS THE PART OF A LIEUDENT REPTING THE HEALTH OF HAD A DREW POINTS THE HEAD AND HEELS\n"
          ]
        },
        {
          "metadata": {
            "tags": null
          },
          "name": "stderr",
          "output_type": "stream",
          "text": [
            "                                                                              "
          ]
        },
        {
          "metadata": {
            "tags": null
          },
          "name": "stdout",
          "output_type": "stream",
          "text": [
            "\n",
            "Ground Truth :  WHEN THEY ENTERED THE STAGE BOX ON THE LEFT THE FIRST ACT WAS WELL UNDER WAY THE SCENE BEING THE INTERIOR OF A CABIN IN THE SOUTH OF IRELAND\n",
            "Prediction   :  WHEN THEY ENTERED THE STAGE BOX ON THE LEFT THE FIRST ACT WAS WELL UNDERWAY THE SEA BEING THE INTERIOR OF A CABIN IN THE SOUTH OF IT WAS TO BE A LITTLE HAVE THE MANY OF IT WAS THE PERITAGE IT A BEAUT OF THE PART OF A LAND\n",
            "Levenshtein Distance 22.1250\n"
          ]
        },
        {
          "metadata": {
            "tags": null
          },
          "name": "stderr",
          "output_type": "stream",
          "text": [
            "\r"
          ]
        },
        {
          "metadata": {
            "tags": null
          },
          "name": "stdout",
          "output_type": "stream",
          "text": [
            "Saved epoch model\n",
            "Saved best training model\n",
            "\n",
            "Epoch 24/50\n"
          ]
        },
        {
          "metadata": {
            "tags": null
          },
          "name": "stderr",
          "output_type": "stream",
          "text": [
            ""
          ]
        },
        {
          "metadata": {
            "tags": null
          },
          "name": "stdout",
          "output_type": "stream",
          "text": [
            "\n",
            "Epoch 24/50: \n",
            "Train Loss 0.1480\t Train Perplexity 1.1598\t Learning Rate 0.0001\n",
            "Saved epoch model\n",
            "Saved best training model\n",
            "\n",
            "Epoch 25/50\n"
          ]
        },
        {
          "metadata": {
            "tags": null
          },
          "name": "stderr",
          "output_type": "stream",
          "text": [
            ""
          ]
        },
        {
          "metadata": {
            "tags": null
          },
          "name": "stdout",
          "output_type": "stream",
          "text": [
            "\n",
            "Epoch 25/50: \n",
            "Train Loss 0.1437\t Train Perplexity 1.1548\t Learning Rate 0.0001\n"
          ]
        },
        {
          "metadata": {
            "tags": null
          },
          "name": "stderr",
          "output_type": "stream",
          "text": [
            "Val:   1%|          | 1/169 [00:05<15:55,  5.69s/it, running_distance=40.3125]"
          ]
        },
        {
          "metadata": {
            "tags": null
          },
          "name": "stdout",
          "output_type": "stream",
          "text": [
            "\n",
            "Ground Truth :  BECAUSE YOU WERE SLEEPING INSTEAD OF CONQUERING THE LOVELY ROSE PRINCESS HAS BECOME A FIDDLE WITHOUT A BOW WHILE POOR SHAGGY SITS THERE A COOING DOVE\n",
            "Prediction   :  BECAUSE YOUR IS SLEEPING AND SON OF CONQUERING THE LOVELY ROSE PRINCES HAS BECOME OF FITTLE WITHOUT A BOW ALL POOR SHAGGED A BEAUT POOD THE WOULD OF THE HEARTHER WERE A BUT IT A PIERRITY WHEN A BEAUT OF A HONOUR AND IT A BEAUT OF THE HEARTHERNEYER A COON DOVE\n"
          ]
        },
        {
          "metadata": {
            "tags": null
          },
          "name": "stderr",
          "output_type": "stream",
          "text": [
            "Val:   1%|          | 2/169 [00:08<11:30,  4.13s/it, running_distance=29.0000]"
          ]
        },
        {
          "metadata": {
            "tags": null
          },
          "name": "stdout",
          "output_type": "stream",
          "text": [
            "\n",
            "Ground Truth :  KALIKO HESITATED\n",
            "Prediction   :  CALORGO HENSITATED\n"
          ]
        },
        {
          "metadata": {
            "tags": null
          },
          "name": "stderr",
          "output_type": "stream",
          "text": [
            "Val:   2%|▏         | 3/169 [00:11<09:21,  3.39s/it, running_distance=23.5000]"
          ]
        },
        {
          "metadata": {
            "tags": null
          },
          "name": "stdout",
          "output_type": "stream",
          "text": [
            "\n",
            "Ground Truth :  ONLY HIS HEART AND LUNGS WORKED ON AT A STRONG MEASURED RATE\n",
            "Prediction   :  ONLY HIS HEART RELUNS WORKED ON AT A STRONG MISURE GREAT\n"
          ]
        },
        {
          "metadata": {
            "tags": null
          },
          "name": "stderr",
          "output_type": "stream",
          "text": [
            "Val:   2%|▏         | 4/169 [00:13<08:28,  3.08s/it, running_distance=22.2188]"
          ]
        },
        {
          "metadata": {
            "tags": null
          },
          "name": "stdout",
          "output_type": "stream",
          "text": [
            "\n",
            "Ground Truth :  THE STRENGTH THAT ENABLES SOMEONE IN A TRANCE TO HOLD HIS BODY STIFF AND UNSUPPORTED EXCEPT AT TWO POINTS THE HEAD AND HEELS\n",
            "Prediction   :  THE STRINGTH THE NEIGHBLES SOMEONE IN A TRANCE TO HOLD HIS BODY STIFF AND UNSUPPORTED EXCEPT AT TWO POINTS THE HEAD AND HEALS AND A BEAUT OF THE WOMENT A BUT A BUT A PROMISED AND A WHICH A BEAUT OF THE HEARTHER WITH A BUTTER AND HEELS\n"
          ]
        },
        {
          "metadata": {
            "tags": null
          },
          "name": "stderr",
          "output_type": "stream",
          "text": [
            "                                                                              "
          ]
        },
        {
          "metadata": {
            "tags": null
          },
          "name": "stdout",
          "output_type": "stream",
          "text": [
            "\n",
            "Ground Truth :  WHEN THEY ENTERED THE STAGE BOX ON THE LEFT THE FIRST ACT WAS WELL UNDER WAY THE SCENE BEING THE INTERIOR OF A CABIN IN THE SOUTH OF IRELAND\n",
            "Prediction   :  WHEN THEY ENTERED THE STAGE BOX ON THE LEFT THE FIRST ACT WAS WELL UNDERWAY THE SEA BEING THE INTERIOR OF A CABIN IN THE SOUTH OF IT A PIEND A NEW AND A BEEN THE COULD IT A PRESSED AND A PITERRIBLE THE PARTHER WITH A BITTER AND THE SOUTH OF IRELAND\n",
            "Levenshtein Distance 21.1750\n"
          ]
        },
        {
          "metadata": {
            "tags": null
          },
          "name": "stderr",
          "output_type": "stream",
          "text": [
            "\r"
          ]
        },
        {
          "metadata": {
            "tags": null
          },
          "name": "stdout",
          "output_type": "stream",
          "text": [
            "Saved epoch model\n",
            "Saved best training model\n",
            "\n",
            "Epoch 26/50\n"
          ]
        },
        {
          "metadata": {
            "tags": null
          },
          "name": "stderr",
          "output_type": "stream",
          "text": [
            ""
          ]
        },
        {
          "metadata": {
            "tags": null
          },
          "name": "stdout",
          "output_type": "stream",
          "text": [
            "\n",
            "Epoch 26/50: \n",
            "Train Loss 0.1397\t Train Perplexity 1.1502\t Learning Rate 0.0001\n",
            "Saved epoch model\n",
            "Saved best training model\n",
            "\n",
            "Epoch 27/50\n"
          ]
        },
        {
          "metadata": {
            "tags": null
          },
          "name": "stderr",
          "output_type": "stream",
          "text": [
            ""
          ]
        },
        {
          "metadata": {
            "tags": null
          },
          "name": "stdout",
          "output_type": "stream",
          "text": [
            "\n",
            "Epoch 27/50: \n",
            "Train Loss 0.1356\t Train Perplexity 1.1454\t Learning Rate 0.0000\n"
          ]
        },
        {
          "metadata": {
            "tags": null
          },
          "name": "stderr",
          "output_type": "stream",
          "text": [
            "Val:   1%|          | 1/169 [00:06<17:44,  6.34s/it, running_distance=40.1250]"
          ]
        },
        {
          "metadata": {
            "tags": null
          },
          "name": "stdout",
          "output_type": "stream",
          "text": [
            "\n",
            "Ground Truth :  BECAUSE YOU WERE SLEEPING INSTEAD OF CONQUERING THE LOVELY ROSE PRINCESS HAS BECOME A FIDDLE WITHOUT A BOW WHILE POOR SHAGGY SITS THERE A COOING DOVE\n",
            "Prediction   :  BECAUSE YOUR IS SLEEPING AND SON OF CONCRING THE LOVELY ROSED PRINCES HAS BECOME OF FITTLE WITHOUT A BOW ALL POOR SHEGGIS AND A PIERRA DEADER AND IT A PITIZED HER AND IT A PITER AND IT A PITIERCH AND A SEAR OF A SEAR A COON DOVE\n"
          ]
        },
        {
          "metadata": {
            "tags": null
          },
          "name": "stderr",
          "output_type": "stream",
          "text": [
            "Val:   1%|          | 2/169 [00:09<13:02,  4.68s/it, running_distance=29.0625]"
          ]
        },
        {
          "metadata": {
            "tags": null
          },
          "name": "stdout",
          "output_type": "stream",
          "text": [
            "\n",
            "Ground Truth :  KALIKO HESITATED\n",
            "Prediction   :  CALOGO HENSITATED\n"
          ]
        },
        {
          "metadata": {
            "tags": null
          },
          "name": "stderr",
          "output_type": "stream",
          "text": [
            "Val:   2%|▏         | 3/169 [00:12<10:12,  3.69s/it, running_distance=23.7917]"
          ]
        },
        {
          "metadata": {
            "tags": null
          },
          "name": "stdout",
          "output_type": "stream",
          "text": [
            "\n",
            "Ground Truth :  ONLY HIS HEART AND LUNGS WORKED ON AT A STRONG MEASURED RATE\n",
            "Prediction   :  QUALLY HIS HEART LUNS WORKED ON AT A STRONG MISURE GREAT\n"
          ]
        },
        {
          "metadata": {
            "tags": null
          },
          "name": "stderr",
          "output_type": "stream",
          "text": [
            "Val:   2%|▏         | 4/169 [00:13<07:14,  2.63s/it, running_distance=20.8125]"
          ]
        },
        {
          "metadata": {
            "tags": null
          },
          "name": "stdout",
          "output_type": "stream",
          "text": [
            "\n",
            "Ground Truth :  THE STRENGTH THAT ENABLES SOMEONE IN A TRANCE TO HOLD HIS BODY STIFF AND UNSUPPORTED EXCEPT AT TWO POINTS THE HEAD AND HEELS\n",
            "Prediction   :  THE STRINK THE NEIGHBLES SOMEONE IN A TRANCE TO HOLD HIS BODY STIFF AND UNSUPPORTED EXCEPT AT TWO POINTS THE HEAD AND HEALS\n"
          ]
        },
        {
          "metadata": {
            "tags": null
          },
          "name": "stderr",
          "output_type": "stream",
          "text": [
            "                                                                              "
          ]
        },
        {
          "metadata": {
            "tags": null
          },
          "name": "stdout",
          "output_type": "stream",
          "text": [
            "\n",
            "Ground Truth :  WHEN THEY ENTERED THE STAGE BOX ON THE LEFT THE FIRST ACT WAS WELL UNDER WAY THE SCENE BEING THE INTERIOR OF A CABIN IN THE SOUTH OF IRELAND\n",
            "Prediction   :  WHEN THEY ENTERED THE STAGE BOX ON THE LEFT THE FIRST ACT WAS WELL UNDERWAY THE SEA BEING THE INTERIOR OF A CABIN IN THE SOUTH OF IT A PIERCE AND IT A PITIZED HER AND IT A PITER AND IT A PIERRIED AND A CARELINED\n",
            "Levenshtein Distance 19.4500\n"
          ]
        },
        {
          "metadata": {
            "tags": null
          },
          "name": "stderr",
          "output_type": "stream",
          "text": [
            "\r"
          ]
        },
        {
          "metadata": {
            "tags": null
          },
          "name": "stdout",
          "output_type": "stream",
          "text": [
            "Saved epoch model\n",
            "Saved best training model\n",
            "\n",
            "Epoch 28/50\n"
          ]
        },
        {
          "metadata": {
            "tags": null
          },
          "name": "stderr",
          "output_type": "stream",
          "text": [
            ""
          ]
        },
        {
          "metadata": {
            "tags": null
          },
          "name": "stdout",
          "output_type": "stream",
          "text": [
            "\n",
            "Epoch 28/50: \n",
            "Train Loss 0.1317\t Train Perplexity 1.1410\t Learning Rate 0.0000\n",
            "Saved epoch model\n",
            "Saved best training model\n",
            "\n",
            "Epoch 29/50\n"
          ]
        },
        {
          "metadata": {
            "tags": null
          },
          "name": "stderr",
          "output_type": "stream",
          "text": [
            ""
          ]
        },
        {
          "metadata": {
            "tags": null
          },
          "name": "stdout",
          "output_type": "stream",
          "text": [
            "\n",
            "Epoch 29/50: \n",
            "Train Loss 0.1286\t Train Perplexity 1.1374\t Learning Rate 0.0000\n"
          ]
        },
        {
          "metadata": {
            "tags": null
          },
          "name": "stderr",
          "output_type": "stream",
          "text": [
            "Val:   1%|          | 1/169 [00:05<15:49,  5.65s/it, running_distance=40.9375]"
          ]
        },
        {
          "metadata": {
            "tags": null
          },
          "name": "stdout",
          "output_type": "stream",
          "text": [
            "\n",
            "Ground Truth :  BECAUSE YOU WERE SLEEPING INSTEAD OF CONQUERING THE LOVELY ROSE PRINCESS HAS BECOME A FIDDLE WITHOUT A BOW WHILE POOR SHAGGY SITS THERE A COOING DOVE\n",
            "Prediction   :  BECAUSE YOUR IS SLEEPING IN SON OF CONCRING THE LOVELY ROSED PRINCES HAS BECOME OF FITTLE WITHOUT A BOW ALL POOR SHEGGED AND IT A NEW OF THE ENTLEMAN IN A NEW OF BEHEARD A NEW OF THE EARTH AND OF THE WOMEN A BUT IT A PEEN OF IT A NEW OF\n"
          ]
        },
        {
          "metadata": {
            "tags": null
          },
          "name": "stderr",
          "output_type": "stream",
          "text": [
            "Val:   1%|          | 2/169 [00:08<10:21,  3.72s/it, running_distance=27.7500]"
          ]
        },
        {
          "metadata": {
            "tags": null
          },
          "name": "stdout",
          "output_type": "stream",
          "text": [
            "\n",
            "Ground Truth :  KALIKO HESITATED\n",
            "Prediction   :  CALOR GO HENSITATED\n"
          ]
        },
        {
          "metadata": {
            "tags": null
          },
          "name": "stderr",
          "output_type": "stream",
          "text": [
            "Val:   2%|▏         | 3/169 [00:10<08:44,  3.16s/it, running_distance=22.5625]"
          ]
        },
        {
          "metadata": {
            "tags": null
          },
          "name": "stdout",
          "output_type": "stream",
          "text": [
            "\n",
            "Ground Truth :  ONLY HIS HEART AND LUNGS WORKED ON AT A STRONG MEASURED RATE\n",
            "Prediction   :  ONLY HIS HEART LUNS WORKED ON AT A STRONG MISER GREAT\n"
          ]
        },
        {
          "metadata": {
            "tags": null
          },
          "name": "stderr",
          "output_type": "stream",
          "text": [
            "Val:   2%|▏         | 4/169 [00:13<08:29,  3.09s/it, running_distance=21.6094]"
          ]
        },
        {
          "metadata": {
            "tags": null
          },
          "name": "stdout",
          "output_type": "stream",
          "text": [
            "\n",
            "Ground Truth :  THE STRENGTH THAT ENABLES SOMEONE IN A TRANCE TO HOLD HIS BODY STIFF AND UNSUPPORTED EXCEPT AT TWO POINTS THE HEAD AND HEELS\n",
            "Prediction   :  THE STRINGTH THE NEIGHBLES SOMEONE IN A TRANCE TO HOLD HIS BODY STIFF AND UNSUPPORTED EXCEPT AT TWO POINTS THE HEAD AND HEALTER THE EMILITY IN THE REFERED IT A BUT IT A PIENDIA DREADED UP A PIERRITING THE COULD IT ON THE OUTLE IS BODY STIFF AND UNHEELS\n"
          ]
        },
        {
          "metadata": {
            "tags": null
          },
          "name": "stderr",
          "output_type": "stream",
          "text": [
            "                                                                              "
          ]
        },
        {
          "metadata": {
            "tags": null
          },
          "name": "stdout",
          "output_type": "stream",
          "text": [
            "\n",
            "Ground Truth :  WHEN THEY ENTERED THE STAGE BOX ON THE LEFT THE FIRST ACT WAS WELL UNDER WAY THE SCENE BEING THE INTERIOR OF A CABIN IN THE SOUTH OF IRELAND\n",
            "Prediction   :  WHEN THEY ENTERED THE STAGE BOX ON THE LEFT THE FIRST ACT WAS WELL UNDERWAY THE SEA BEING THE INTERIOR OF A CABIN IN THE SOUTH OF IT A NEW OF THE EMPTINED OF THE WOMENT A PIERCE OF THE WAS AND EMPT OF THE PERIOD OF BEEN IN THE SOUTH OF IRELAND\n",
            "Levenshtein Distance 20.5375\n"
          ]
        },
        {
          "metadata": {
            "tags": null
          },
          "name": "stderr",
          "output_type": "stream",
          "text": [
            "\r"
          ]
        },
        {
          "metadata": {
            "tags": null
          },
          "name": "stdout",
          "output_type": "stream",
          "text": [
            "Saved epoch model\n",
            "Saved best training model\n",
            "\n",
            "Epoch 30/50\n"
          ]
        },
        {
          "metadata": {
            "tags": null
          },
          "name": "stderr",
          "output_type": "stream",
          "text": [
            ""
          ]
        },
        {
          "metadata": {
            "tags": null
          },
          "name": "stdout",
          "output_type": "stream",
          "text": [
            "\n",
            "Epoch 30/50: \n",
            "Train Loss 0.1252\t Train Perplexity 1.1336\t Learning Rate 0.0000\n",
            "Saved epoch model\n",
            "Saved best training model\n",
            "\n",
            "Epoch 31/50\n"
          ]
        },
        {
          "metadata": {
            "tags": null
          },
          "name": "stderr",
          "output_type": "stream",
          "text": [
            ""
          ]
        },
        {
          "metadata": {
            "tags": null
          },
          "name": "stdout",
          "output_type": "stream",
          "text": [
            "\n",
            "Epoch 31/50: \n",
            "Train Loss 0.1224\t Train Perplexity 1.1304\t Learning Rate 0.0000\n"
          ]
        },
        {
          "metadata": {
            "tags": null
          },
          "name": "stderr",
          "output_type": "stream",
          "text": [
            "Val:   1%|          | 1/169 [00:08<23:29,  8.39s/it, running_distance=45.3125]"
          ]
        },
        {
          "metadata": {
            "tags": null
          },
          "name": "stdout",
          "output_type": "stream",
          "text": [
            "\n",
            "Ground Truth :  BECAUSE YOU WERE SLEEPING INSTEAD OF CONQUERING THE LOVELY ROSE PRINCESS HAS BECOME A FIDDLE WITHOUT A BOW WHILE POOR SHAGGY SITS THERE A COOING DOVE\n",
            "Prediction   :  BECAUSE YOUR IS SLEEPING IN SON OF CONCRING THE LOVELY ROSED PRINCES HAS BECOME OF FITTLE WITHOUT A BOW ALL POOR SHEGGED AND A PIERRANT IT A PEEN OF IT A PETTING OF IT A PERINE OF IT A PEAR OF A PIERRANT A PIERCE AND IT A NEW OF BEHEARD AND IT A NEW OF\n"
          ]
        },
        {
          "metadata": {
            "tags": null
          },
          "name": "stderr",
          "output_type": "stream",
          "text": [
            "Val:   1%|          | 2/169 [00:11<14:13,  5.11s/it, running_distance=30.3125]"
          ]
        },
        {
          "metadata": {
            "tags": null
          },
          "name": "stdout",
          "output_type": "stream",
          "text": [
            "\n",
            "Ground Truth :  KALIKO HESITATED\n",
            "Prediction   :  CALORGO HENSITATED\n"
          ]
        },
        {
          "metadata": {
            "tags": null
          },
          "name": "stderr",
          "output_type": "stream",
          "text": [
            "Val:   2%|▏         | 3/169 [00:13<10:49,  3.91s/it, running_distance=24.2500]"
          ]
        },
        {
          "metadata": {
            "tags": null
          },
          "name": "stdout",
          "output_type": "stream",
          "text": [
            "\n",
            "Ground Truth :  ONLY HIS HEART AND LUNGS WORKED ON AT A STRONG MEASURED RATE\n",
            "Prediction   :  ONLY HIS HEART RELUNS WORKED ON AT A STRONG MISSURE GREAT\n"
          ]
        },
        {
          "metadata": {
            "tags": null
          },
          "name": "stderr",
          "output_type": "stream",
          "text": [
            "Val:   2%|▏         | 4/169 [00:14<07:45,  2.82s/it, running_distance=20.9688]"
          ]
        },
        {
          "metadata": {
            "tags": null
          },
          "name": "stdout",
          "output_type": "stream",
          "text": [
            "\n",
            "Ground Truth :  THE STRENGTH THAT ENABLES SOMEONE IN A TRANCE TO HOLD HIS BODY STIFF AND UNSUPPORTED EXCEPT AT TWO POINTS THE HEAD AND HEELS\n",
            "Prediction   :  THE STRINK THE NEIGHBLES SOMEONE IN A TRANCE TO HOLD HIS BODY STIFF AND UNSUPPORTED EXCEPT AT TWO POINTS THE HEAD AND HEELS\n"
          ]
        },
        {
          "metadata": {
            "tags": null
          },
          "name": "stderr",
          "output_type": "stream",
          "text": [
            "                                                                              "
          ]
        },
        {
          "metadata": {
            "tags": null
          },
          "name": "stdout",
          "output_type": "stream",
          "text": [
            "\n",
            "Ground Truth :  WHEN THEY ENTERED THE STAGE BOX ON THE LEFT THE FIRST ACT WAS WELL UNDER WAY THE SCENE BEING THE INTERIOR OF A CABIN IN THE SOUTH OF IRELAND\n",
            "Prediction   :  WHEN THEY ENTERED THE STAGE BOX ON THE LEFT THE FIRST ACT WAS WELL UNDERWAY THE SEA BEING THE INTERIOR OF A CABIN IN THE SOUTH OF IT A PIERCE AND IT A PEEN OF IT A PIERRANT AND IT A PIERCE AND IT A PERINE OF IT A PIERLAND\n",
            "Levenshtein Distance 19.7625\n"
          ]
        },
        {
          "metadata": {
            "tags": null
          },
          "name": "stderr",
          "output_type": "stream",
          "text": [
            "\r"
          ]
        },
        {
          "metadata": {
            "tags": null
          },
          "name": "stdout",
          "output_type": "stream",
          "text": [
            "Saved epoch model\n",
            "Saved best training model\n",
            "\n",
            "Epoch 32/50\n"
          ]
        },
        {
          "metadata": {
            "tags": null
          },
          "name": "stderr",
          "output_type": "stream",
          "text": [
            ""
          ]
        },
        {
          "metadata": {
            "tags": null
          },
          "name": "stdout",
          "output_type": "stream",
          "text": [
            "\n",
            "Epoch 32/50: \n",
            "Train Loss 0.1197\t Train Perplexity 1.1273\t Learning Rate 0.0000\n",
            "Saved epoch model\n",
            "Saved best training model\n",
            "\n",
            "Epoch 33/50\n"
          ]
        },
        {
          "metadata": {
            "tags": null
          },
          "name": "stderr",
          "output_type": "stream",
          "text": [
            ""
          ]
        },
        {
          "metadata": {
            "tags": null
          },
          "name": "stdout",
          "output_type": "stream",
          "text": [
            "\n",
            "Epoch 33/50: \n",
            "Train Loss 0.1170\t Train Perplexity 1.1243\t Learning Rate 0.0000\n"
          ]
        },
        {
          "metadata": {
            "tags": null
          },
          "name": "stderr",
          "output_type": "stream",
          "text": [
            "Val:   1%|          | 1/169 [00:06<19:27,  6.95s/it, running_distance=41.8750]"
          ]
        },
        {
          "metadata": {
            "tags": null
          },
          "name": "stdout",
          "output_type": "stream",
          "text": [
            "\n",
            "Ground Truth :  BECAUSE YOU WERE SLEEPING INSTEAD OF CONQUERING THE LOVELY ROSE PRINCESS HAS BECOME A FIDDLE WITHOUT A BOW WHILE POOR SHAGGY SITS THERE A COOING DOVE\n",
            "Prediction   :  BECAUSE YOUR IS SLEEPING IN SON OF CONCRING THE LOVELY ROSE PRINCES HAS BECOME OF FITTLE WITHOUT A BOW ALL POOR SHEGGET AND THE COULD IT A PIENDER AND THE COULD IT A PIERCE AND IT A PIEND OF THE PITERED AND BEEN A BEAUT OF THE WELL IT A PIEND OF\n"
          ]
        },
        {
          "metadata": {
            "tags": null
          },
          "name": "stderr",
          "output_type": "stream",
          "text": [
            "Val:   1%|          | 2/169 [00:09<12:05,  4.34s/it, running_distance=28.8125]"
          ]
        },
        {
          "metadata": {
            "tags": null
          },
          "name": "stdout",
          "output_type": "stream",
          "text": [
            "\n",
            "Ground Truth :  KALIKO HESITATED\n",
            "Prediction   :  CALOR GO HENSITATED\n"
          ]
        },
        {
          "metadata": {
            "tags": null
          },
          "name": "stderr",
          "output_type": "stream",
          "text": [
            "Val:   2%|▏         | 3/169 [00:11<09:41,  3.51s/it, running_distance=23.2500]"
          ]
        },
        {
          "metadata": {
            "tags": null
          },
          "name": "stdout",
          "output_type": "stream",
          "text": [
            "\n",
            "Ground Truth :  ONLY HIS HEART AND LUNGS WORKED ON AT A STRONG MEASURED RATE\n",
            "Prediction   :  ONLY HIS HEART RELUNS WORKED ON AT A STRONG MISEUR GREAT\n"
          ]
        },
        {
          "metadata": {
            "tags": null
          },
          "name": "stderr",
          "output_type": "stream",
          "text": [
            "Val:   2%|▏         | 4/169 [00:15<09:08,  3.33s/it, running_distance=22.3281]"
          ]
        },
        {
          "metadata": {
            "tags": null
          },
          "name": "stdout",
          "output_type": "stream",
          "text": [
            "\n",
            "Ground Truth :  THE STRENGTH THAT ENABLES SOMEONE IN A TRANCE TO HOLD HIS BODY STIFF AND UNSUPPORTED EXCEPT AT TWO POINTS THE HEAD AND HEELS\n",
            "Prediction   :  THE STRINK THE NEIGHBLES SOMEONE IN A TRANCE TO HOLD HIS BODY STIFF AND UNSUPPORTED EXCEPT AT TWO POINTS THE HEAD AND HEELS IT A PIERCE AND IT A PIERCE AND THE COMPANED IT A PIEND A WHICH A BEAUT OF THE PERIOD HAVE BEEN TO BE THE WOOD OF THE HEAD AND HEELS\n"
          ]
        },
        {
          "metadata": {
            "tags": null
          },
          "name": "stderr",
          "output_type": "stream",
          "text": [
            "                                                                              "
          ]
        },
        {
          "metadata": {
            "tags": null
          },
          "name": "stdout",
          "output_type": "stream",
          "text": [
            "\n",
            "Ground Truth :  WHEN THEY ENTERED THE STAGE BOX ON THE LEFT THE FIRST ACT WAS WELL UNDER WAY THE SCENE BEING THE INTERIOR OF A CABIN IN THE SOUTH OF IRELAND\n",
            "Prediction   :  WHEN THEY ENTERED THE STAGE BOX ON THE LEFT THE FIRST ACT WAS WELL UNDERWAY THE SEA BEING THE INTERIOR OF A CABIN IN THE SOUTH OF IT A PIENDER AND THE CAN'T HER AND THE PITERED AND THE COULD IT OF THE PERIOD OF HER LAND\n",
            "Levenshtein Distance 21.1625\n"
          ]
        },
        {
          "metadata": {
            "tags": null
          },
          "name": "stderr",
          "output_type": "stream",
          "text": [
            "\r"
          ]
        },
        {
          "metadata": {
            "tags": null
          },
          "name": "stdout",
          "output_type": "stream",
          "text": [
            "Saved epoch model\n",
            "Saved best training model\n",
            "\n",
            "Epoch 34/50\n"
          ]
        },
        {
          "metadata": {
            "tags": null
          },
          "name": "stderr",
          "output_type": "stream",
          "text": [
            ""
          ]
        },
        {
          "metadata": {
            "tags": null
          },
          "name": "stdout",
          "output_type": "stream",
          "text": [
            "\n",
            "Epoch 34/50: \n",
            "Train Loss 0.1148\t Train Perplexity 1.1218\t Learning Rate 0.0000\n",
            "Saved epoch model\n",
            "Saved best training model\n",
            "\n",
            "Epoch 35/50\n"
          ]
        },
        {
          "metadata": {
            "tags": null
          },
          "name": "stderr",
          "output_type": "stream",
          "text": [
            ""
          ]
        },
        {
          "metadata": {
            "tags": null
          },
          "name": "stdout",
          "output_type": "stream",
          "text": [
            "\n",
            "Epoch 35/50: \n",
            "Train Loss 0.1129\t Train Perplexity 1.1197\t Learning Rate 0.0000\n"
          ]
        },
        {
          "metadata": {
            "tags": null
          },
          "name": "stderr",
          "output_type": "stream",
          "text": [
            "Val:   1%|          | 1/169 [00:06<17:35,  6.29s/it, running_distance=41.0000]"
          ]
        },
        {
          "metadata": {
            "tags": null
          },
          "name": "stdout",
          "output_type": "stream",
          "text": [
            "\n",
            "Ground Truth :  BECAUSE YOU WERE SLEEPING INSTEAD OF CONQUERING THE LOVELY ROSE PRINCESS HAS BECOME A FIDDLE WITHOUT A BOW WHILE POOR SHAGGY SITS THERE A COOING DOVE\n",
            "Prediction   :  BECAUSE YOUR IS SLEEPING IN SON OF CONCRING THE LOVELY ROSED PRINCES HAS BECOME OF FIDDLE WITHOUT A BOW ALL POOR SHEGGED AND A WHICK AND IT A NIGHT AND IT A BIT A BITTER AND IT A NIGHT OF THE HEARTH AND A PIERCE AND IT A NEW OF BEHEARTHER A COON DOVE\n"
          ]
        },
        {
          "metadata": {
            "tags": null
          },
          "name": "stderr",
          "output_type": "stream",
          "text": [
            "Val:   1%|          | 2/169 [00:09<12:16,  4.41s/it, running_distance=29.0625]"
          ]
        },
        {
          "metadata": {
            "tags": null
          },
          "name": "stdout",
          "output_type": "stream",
          "text": [
            "\n",
            "Ground Truth :  KALIKO HESITATED\n",
            "Prediction   :  CALORGO HENSITATED\n"
          ]
        },
        {
          "metadata": {
            "tags": null
          },
          "name": "stderr",
          "output_type": "stream",
          "text": [
            "Val:   2%|▏         | 3/169 [00:11<09:50,  3.55s/it, running_distance=23.5208]"
          ]
        },
        {
          "metadata": {
            "tags": null
          },
          "name": "stdout",
          "output_type": "stream",
          "text": [
            "\n",
            "Ground Truth :  ONLY HIS HEART AND LUNGS WORKED ON AT A STRONG MEASURED RATE\n",
            "Prediction   :  ONLY IS HEART RELUNS WORKED ON AT A STRONG MISURE GREAT\n"
          ]
        },
        {
          "metadata": {
            "tags": null
          },
          "name": "stderr",
          "output_type": "stream",
          "text": [
            "Val:   2%|▏         | 4/169 [00:13<07:10,  2.61s/it, running_distance=20.4531]"
          ]
        },
        {
          "metadata": {
            "tags": null
          },
          "name": "stdout",
          "output_type": "stream",
          "text": [
            "\n",
            "Ground Truth :  THE STRENGTH THAT ENABLES SOMEONE IN A TRANCE TO HOLD HIS BODY STIFF AND UNSUPPORTED EXCEPT AT TWO POINTS THE HEAD AND HEELS\n",
            "Prediction   :  THE STRINK THE NEIGHBLES SOMEONE IN A TRANCE TO HOLD HIS BODY STIFF AND UNSUPPORTED EXCEPT AT TWO POINTS THE HEAD AND HEELS\n"
          ]
        },
        {
          "metadata": {
            "tags": null
          },
          "name": "stderr",
          "output_type": "stream",
          "text": [
            "                                                                              "
          ]
        },
        {
          "metadata": {
            "tags": null
          },
          "name": "stdout",
          "output_type": "stream",
          "text": [
            "\n",
            "Ground Truth :  WHEN THEY ENTERED THE STAGE BOX ON THE LEFT THE FIRST ACT WAS WELL UNDER WAY THE SCENE BEING THE INTERIOR OF A CABIN IN THE SOUTH OF IRELAND\n",
            "Prediction   :  WHEN THEY ENTERED THE STAGE BOX ON THE LEFT THE FIRST ACT WAS WELL UNDERWAY THE SEA BEING THE INTERIOR OF A CABIN IN THE SOUTH OF IT A MIGHT AND THE COULD IT A PIERCE AND IT A PIEND A VICAN AND A NEW OF A CAME IN A SOUTH OF IRELAND\n",
            "Levenshtein Distance 19.6375\n"
          ]
        },
        {
          "metadata": {
            "tags": null
          },
          "name": "stderr",
          "output_type": "stream",
          "text": [
            "\r"
          ]
        },
        {
          "metadata": {
            "tags": null
          },
          "name": "stdout",
          "output_type": "stream",
          "text": [
            "Saved epoch model\n",
            "Saved best training model\n",
            "\n",
            "Epoch 36/50\n"
          ]
        },
        {
          "metadata": {
            "tags": null
          },
          "name": "stderr",
          "output_type": "stream",
          "text": [
            ""
          ]
        },
        {
          "metadata": {
            "tags": null
          },
          "name": "stdout",
          "output_type": "stream",
          "text": [
            "\n",
            "Epoch 36/50: \n",
            "Train Loss 0.1108\t Train Perplexity 1.1174\t Learning Rate 0.0000\n",
            "Saved epoch model\n",
            "Saved best training model\n",
            "\n",
            "Epoch 37/50\n"
          ]
        },
        {
          "metadata": {
            "tags": null
          },
          "name": "stderr",
          "output_type": "stream",
          "text": [
            ""
          ]
        },
        {
          "metadata": {
            "tags": null
          },
          "name": "stdout",
          "output_type": "stream",
          "text": [
            "\n",
            "Epoch 37/50: \n",
            "Train Loss 0.1090\t Train Perplexity 1.1153\t Learning Rate 0.0000\n"
          ]
        },
        {
          "metadata": {
            "tags": null
          },
          "name": "stderr",
          "output_type": "stream",
          "text": [
            "Val:   1%|          | 1/169 [00:05<14:46,  5.27s/it, running_distance=42.6250]"
          ]
        },
        {
          "metadata": {
            "tags": null
          },
          "name": "stdout",
          "output_type": "stream",
          "text": [
            "\n",
            "Ground Truth :  BECAUSE YOU WERE SLEEPING INSTEAD OF CONQUERING THE LOVELY ROSE PRINCESS HAS BECOME A FIDDLE WITHOUT A BOW WHILE POOR SHAGGY SITS THERE A COOING DOVE\n",
            "Prediction   :  BECAUSE YOUR IS SLEEPING IN SON OF CONCRING THE LOVELY ROSED PRINCES HAS BECOME OF FITTLE WITHOUT A BOW ALL POOR SHEGGED AND A WHICH A BEAUT OF THE HEARTH AND EURGHAMMA DEAR OF IT A PIERCE AND EUGHT OF THE MIRATE IT A BEAUT OF THE REVERED AND IT A NIGHTER A COOLING DOVE\n"
          ]
        },
        {
          "metadata": {
            "tags": null
          },
          "name": "stderr",
          "output_type": "stream",
          "text": [
            "Val:   1%|          | 2/169 [00:07<10:02,  3.61s/it, running_distance=28.5938]"
          ]
        },
        {
          "metadata": {
            "tags": null
          },
          "name": "stdout",
          "output_type": "stream",
          "text": [
            "\n",
            "Ground Truth :  KALIKO HESITATED\n",
            "Prediction   :  CALORGO HENSITATED\n"
          ]
        },
        {
          "metadata": {
            "tags": null
          },
          "name": "stderr",
          "output_type": "stream",
          "text": [
            "Val:   2%|▏         | 3/169 [00:10<08:35,  3.11s/it, running_distance=22.9167]"
          ]
        },
        {
          "metadata": {
            "tags": null
          },
          "name": "stdout",
          "output_type": "stream",
          "text": [
            "\n",
            "Ground Truth :  ONLY HIS HEART AND LUNGS WORKED ON AT A STRONG MEASURED RATE\n",
            "Prediction   :  ONLY IS HEART RELUNGS WORKED ON AT A STRONG MISSURE GREAT\n"
          ]
        },
        {
          "metadata": {
            "tags": null
          },
          "name": "stderr",
          "output_type": "stream",
          "text": [
            "Val:   2%|▏         | 4/169 [00:11<06:26,  2.34s/it, running_distance=19.9844]"
          ]
        },
        {
          "metadata": {
            "tags": null
          },
          "name": "stdout",
          "output_type": "stream",
          "text": [
            "\n",
            "Ground Truth :  THE STRENGTH THAT ENABLES SOMEONE IN A TRANCE TO HOLD HIS BODY STIFF AND UNSUPPORTED EXCEPT AT TWO POINTS THE HEAD AND HEELS\n",
            "Prediction   :  THE STRINK THE NEIGHBLES SOMEONE IN A TRANCE TO HOLD HIS BODY STIFF AND UNSUPPORTED EXCEPT AT TWO POINTS THE HEAD AND HEELS\n"
          ]
        },
        {
          "metadata": {
            "tags": null
          },
          "name": "stderr",
          "output_type": "stream",
          "text": [
            "                                                                              "
          ]
        },
        {
          "metadata": {
            "tags": null
          },
          "name": "stdout",
          "output_type": "stream",
          "text": [
            "\n",
            "Ground Truth :  WHEN THEY ENTERED THE STAGE BOX ON THE LEFT THE FIRST ACT WAS WELL UNDER WAY THE SCENE BEING THE INTERIOR OF A CABIN IN THE SOUTH OF IRELAND\n",
            "Prediction   :  WHEN THEY ENTERED THE STAGE BOX ON THE LEFT THE FIRST ACT WAS WELL UNDERWAY THE SEA BEING THE INTERIOR OF A CABIN IN THE SOUTH OF IT A PIENDIA DID REPTING THE COULD IT A PIERCE AND IT A PITE OF THE HEARTH AND EUGHTY OF IT AND THE SOUTH OF IRELAND\n",
            "Levenshtein Distance 19.3875\n"
          ]
        },
        {
          "metadata": {
            "tags": null
          },
          "name": "stderr",
          "output_type": "stream",
          "text": [
            "\r"
          ]
        },
        {
          "metadata": {
            "tags": null
          },
          "name": "stdout",
          "output_type": "stream",
          "text": [
            "Saved epoch model\n",
            "Saved best training model\n",
            "\n",
            "Epoch 38/50\n"
          ]
        },
        {
          "metadata": {
            "tags": null
          },
          "name": "stderr",
          "output_type": "stream",
          "text": [
            ""
          ]
        },
        {
          "metadata": {
            "tags": null
          },
          "name": "stdout",
          "output_type": "stream",
          "text": [
            "\n",
            "Epoch 38/50: \n",
            "Train Loss 0.1077\t Train Perplexity 1.1138\t Learning Rate 0.0000\n",
            "Saved epoch model\n",
            "Saved best training model\n",
            "\n",
            "Epoch 39/50\n"
          ]
        },
        {
          "metadata": {
            "tags": null
          },
          "name": "stderr",
          "output_type": "stream",
          "text": [
            ""
          ]
        },
        {
          "metadata": {
            "tags": null
          },
          "name": "stdout",
          "output_type": "stream",
          "text": [
            "\n",
            "Epoch 39/50: \n",
            "Train Loss 0.1063\t Train Perplexity 1.1123\t Learning Rate 0.0000\n"
          ]
        },
        {
          "metadata": {
            "tags": null
          },
          "name": "stderr",
          "output_type": "stream",
          "text": [
            "Val:   1%|          | 1/169 [00:06<17:45,  6.34s/it, running_distance=45.3750]"
          ]
        },
        {
          "metadata": {
            "tags": null
          },
          "name": "stdout",
          "output_type": "stream",
          "text": [
            "\n",
            "Ground Truth :  BECAUSE YOU WERE SLEEPING INSTEAD OF CONQUERING THE LOVELY ROSE PRINCESS HAS BECOME A FIDDLE WITHOUT A BOW WHILE POOR SHAGGY SITS THERE A COOING DOVE\n",
            "Prediction   :  BECAUSE YOUR IS SLEEPING IN SON OF CONCRING THE LOVELY ROSED PRINCES HAS BECOME OF FITTLE WITHOUT A BOW ALL POOR SHEGGED AND WHICH A BUTTER AND IT A PIERCE AND IT A PIERCE AND IT A PIERCE AND IT AND IT A BUT IT A NEW OF A BUTTER AND WHEN A BEAUTY OF IT A READ OF IT A BOW ALL POOR SHEGGYS SAIR A COONGED OF\n"
          ]
        },
        {
          "metadata": {
            "tags": null
          },
          "name": "stderr",
          "output_type": "stream",
          "text": [
            "Val:   1%|          | 2/169 [00:09<12:56,  4.65s/it, running_distance=31.4375]"
          ]
        },
        {
          "metadata": {
            "tags": null
          },
          "name": "stdout",
          "output_type": "stream",
          "text": [
            "\n",
            "Ground Truth :  KALIKO HESITATED\n",
            "Prediction   :  CALOR GO HENSITATED\n"
          ]
        },
        {
          "metadata": {
            "tags": null
          },
          "name": "stderr",
          "output_type": "stream",
          "text": [
            "Val:   2%|▏         | 3/169 [00:12<10:14,  3.70s/it, running_distance=24.9167]"
          ]
        },
        {
          "metadata": {
            "tags": null
          },
          "name": "stdout",
          "output_type": "stream",
          "text": [
            "\n",
            "Ground Truth :  ONLY HIS HEART AND LUNGS WORKED ON AT A STRONG MEASURED RATE\n",
            "Prediction   :  ONLY IS HEART RELUNS WORKED ON AT A STRONG MISSURE GREAT\n"
          ]
        },
        {
          "metadata": {
            "tags": null
          },
          "name": "stderr",
          "output_type": "stream",
          "text": [
            "Val:   2%|▏         | 4/169 [00:15<09:17,  3.38s/it, running_distance=23.2031]"
          ]
        },
        {
          "metadata": {
            "tags": null
          },
          "name": "stdout",
          "output_type": "stream",
          "text": [
            "\n",
            "Ground Truth :  THE STRENGTH THAT ENABLES SOMEONE IN A TRANCE TO HOLD HIS BODY STIFF AND UNSUPPORTED EXCEPT AT TWO POINTS THE HEAD AND HEELS\n",
            "Prediction   :  THE STRINGTH THE NEIGHBLES SOMEONE IN A TRANCE TO HOLD HIS BODY STIFF AND UNSUPPORTED EXCEPT AT TWO POINTS THE HEAD AND HEALTH OF IT WAS TO BE THE PETING OF THE WOMENT AND IT A BEAUT OF THE HOULD HAVE THE PERIOD IT AND HEALTH OF THE HEAD AND HEELS\n"
          ]
        },
        {
          "metadata": {
            "tags": null
          },
          "name": "stderr",
          "output_type": "stream",
          "text": [
            "                                                                              "
          ]
        },
        {
          "metadata": {
            "tags": null
          },
          "name": "stdout",
          "output_type": "stream",
          "text": [
            "\n",
            "Ground Truth :  WHEN THEY ENTERED THE STAGE BOX ON THE LEFT THE FIRST ACT WAS WELL UNDER WAY THE SCENE BEING THE INTERIOR OF A CABIN IN THE SOUTH OF IRELAND\n",
            "Prediction   :  WHEN THEY ENTERED THE STAGE BOX ON THE LEFT THE FIRST ACT WAS WELL UNDERWAY THE SEA BEING THE INTERIOR OF A CABIN IN THE SOUTH OF IT WAS TO BE THE PETRAINT A BUT IT AND IT AND IT A PIERCE AND IT AND THE PRETTER IT AND A NEW OF THE REALAND\n",
            "Levenshtein Distance 21.9000\n"
          ]
        },
        {
          "metadata": {
            "tags": null
          },
          "name": "stderr",
          "output_type": "stream",
          "text": [
            "\r"
          ]
        },
        {
          "metadata": {
            "tags": null
          },
          "name": "stdout",
          "output_type": "stream",
          "text": [
            "Saved epoch model\n",
            "Saved best training model\n",
            "\n",
            "Epoch 40/50\n"
          ]
        },
        {
          "metadata": {
            "tags": null
          },
          "name": "stderr",
          "output_type": "stream",
          "text": [
            ""
          ]
        },
        {
          "metadata": {
            "tags": null
          },
          "name": "stdout",
          "output_type": "stream",
          "text": [
            "\n",
            "Epoch 40/50: \n",
            "Train Loss 0.1050\t Train Perplexity 1.1109\t Learning Rate 0.0000\n",
            "Saved epoch model\n",
            "Saved best training model\n",
            "\n",
            "Epoch 41/50\n"
          ]
        },
        {
          "metadata": {
            "tags": null
          },
          "name": "stderr",
          "output_type": "stream",
          "text": [
            ""
          ]
        },
        {
          "metadata": {
            "tags": null
          },
          "name": "stdout",
          "output_type": "stream",
          "text": [
            "\n",
            "Epoch 41/50: \n",
            "Train Loss 0.1039\t Train Perplexity 1.1097\t Learning Rate 0.0000\n"
          ]
        },
        {
          "metadata": {
            "tags": null
          },
          "name": "stderr",
          "output_type": "stream",
          "text": [
            "Val:   1%|          | 1/169 [00:06<17:04,  6.10s/it, running_distance=41.0625]"
          ]
        },
        {
          "metadata": {
            "tags": null
          },
          "name": "stdout",
          "output_type": "stream",
          "text": [
            "\n",
            "Ground Truth :  BECAUSE YOU WERE SLEEPING INSTEAD OF CONQUERING THE LOVELY ROSE PRINCESS HAS BECOME A FIDDLE WITHOUT A BOW WHILE POOR SHAGGY SITS THERE A COOING DOVE\n",
            "Prediction   :  BECAUSE YOUR IS SLEEPING IN SON OF CONCRING THE LOVELY ROSED PRINCES HAS BECOME OF FIDDLE WITHOUT A BOW ALL POOR SHEGGED AND A WHICH A MEANT OF THE PETTING OF THE WOMENT AND IT A PIERCE AND IT A PIEND OF A PIERCHELINE OF IT A PIEND OF IT A BEEN OF\n"
          ]
        },
        {
          "metadata": {
            "tags": null
          },
          "name": "stderr",
          "output_type": "stream",
          "text": [
            "Val:   1%|          | 2/169 [00:08<11:14,  4.04s/it, running_distance=28.2500]"
          ]
        },
        {
          "metadata": {
            "tags": null
          },
          "name": "stdout",
          "output_type": "stream",
          "text": [
            "\n",
            "Ground Truth :  KALIKO HESITATED\n",
            "Prediction   :  CALOR GO HENSITATED\n"
          ]
        },
        {
          "metadata": {
            "tags": null
          },
          "name": "stderr",
          "output_type": "stream",
          "text": [
            "Val:   2%|▏         | 3/169 [00:11<09:17,  3.36s/it, running_distance=22.8750]"
          ]
        },
        {
          "metadata": {
            "tags": null
          },
          "name": "stdout",
          "output_type": "stream",
          "text": [
            "\n",
            "Ground Truth :  ONLY HIS HEART AND LUNGS WORKED ON AT A STRONG MEASURED RATE\n",
            "Prediction   :  ONLY IS HEART RELUNS WORKED ON AT A STRONG MISSURE GREAT\n"
          ]
        },
        {
          "metadata": {
            "tags": null
          },
          "name": "stderr",
          "output_type": "stream",
          "text": [
            "Val:   2%|▏         | 4/169 [00:14<08:41,  3.16s/it, running_distance=21.9688]"
          ]
        },
        {
          "metadata": {
            "tags": null
          },
          "name": "stdout",
          "output_type": "stream",
          "text": [
            "\n",
            "Ground Truth :  THE STRENGTH THAT ENABLES SOMEONE IN A TRANCE TO HOLD HIS BODY STIFF AND UNSUPPORTED EXCEPT AT TWO POINTS THE HEAD AND HEELS\n",
            "Prediction   :  THE STRINGTH THE NEIGHBLES SOMEONE IN A TRANCE TO HOLD HIS BODY STIFF AND UNSUPPORTED EXCEPT AT TWO POINTS THE HEAD AND HEALS OF CALLETTE AND IT A PIERCE AND IT A BEAUT OF THE WOMPHINESS AND IT A BEAUT OF GETTER IT A BEAUT OF THE REMED IT A DIELS\n"
          ]
        },
        {
          "metadata": {
            "tags": null
          },
          "name": "stderr",
          "output_type": "stream",
          "text": [
            "                                                                              "
          ]
        },
        {
          "metadata": {
            "tags": null
          },
          "name": "stdout",
          "output_type": "stream",
          "text": [
            "\n",
            "Ground Truth :  WHEN THEY ENTERED THE STAGE BOX ON THE LEFT THE FIRST ACT WAS WELL UNDER WAY THE SCENE BEING THE INTERIOR OF A CABIN IN THE SOUTH OF IRELAND\n",
            "Prediction   :  WHEN THEY ENTERED THE STAGE BOX ON THE LEFT THE FIRST ACT WAS WELL UNDERWAY THE SEA BEING THE INTERIOR OF A CABIN IN THE SOUTH OF IT WAS A MADE A DEAR OF GOOD AND WEART A PIENDIA DISH OF THE HEARTH AND A PIEND OF IT A PIERCE AND EUGHTERNAYER OF A CABIN IN THE SOUTH OF IRELAND\n",
            "Levenshtein Distance 21.5375\n"
          ]
        },
        {
          "metadata": {
            "tags": null
          },
          "name": "stderr",
          "output_type": "stream",
          "text": [
            "\r"
          ]
        },
        {
          "metadata": {
            "tags": null
          },
          "name": "stdout",
          "output_type": "stream",
          "text": [
            "Saved epoch model\n",
            "Saved best training model\n",
            "\n",
            "Epoch 42/50\n"
          ]
        },
        {
          "output_type": "stream",
          "name": "stderr",
          "text": []
        },
        {
          "output_type": "stream",
          "name": "stdout",
          "text": [
            "\n",
            "Epoch 42/50: \n",
            "Train Loss 0.1034\t Train Perplexity 1.1091\t Learning Rate 0.0000\n",
            "Saved epoch model\n",
            "Saved best training model\n",
            "\n",
            "Epoch 43/50\n"
          ]
        },
        {
          "output_type": "stream",
          "name": "stderr",
          "text": []
        },
        {
          "output_type": "stream",
          "name": "stdout",
          "text": [
            "\n",
            "Epoch 43/50: \n",
            "Train Loss 0.1025\t Train Perplexity 1.1081\t Learning Rate 0.0000\n"
          ]
        },
        {
          "output_type": "stream",
          "name": "stderr",
          "text": [
            "Val:   1%|          | 1/169 [00:06<17:05,  6.10s/it, running_distance=43.5000]"
          ]
        },
        {
          "output_type": "stream",
          "name": "stdout",
          "text": [
            "\n",
            "Ground Truth :  BECAUSE YOU WERE SLEEPING INSTEAD OF CONQUERING THE LOVELY ROSE PRINCESS HAS BECOME A FIDDLE WITHOUT A BOW WHILE POOR SHAGGY SITS THERE A COOING DOVE\n",
            "Prediction   :  BECAUSE YOUR IS SLEEPING IN SON OF CONCRING THE LOVELY ROSED PRINCES HAS BECOME OF FIDDLE WITHOUT A BOW ALL POOR SHEGGED AND A WHICH AND EUGHT OF THE WEDDEN A BUT IT A PIENDIA DID WITH A BEEN A BEAUT OF A PIERCE AND IT A BEAUT OF THE WOMEN OF IT A BUTTER A COON DOVE\n"
          ]
        },
        {
          "output_type": "stream",
          "name": "stderr",
          "text": [
            "Val:   1%|          | 2/169 [00:09<12:44,  4.58s/it, running_distance=30.7812]"
          ]
        },
        {
          "output_type": "stream",
          "name": "stdout",
          "text": [
            "\n",
            "Ground Truth :  KALIKO HESITATED\n",
            "Prediction   :  CALOR GO HENSITATED\n"
          ]
        },
        {
          "output_type": "stream",
          "name": "stderr",
          "text": [
            "Val:   2%|▏         | 3/169 [00:12<10:07,  3.66s/it, running_distance=24.4792]"
          ]
        },
        {
          "output_type": "stream",
          "name": "stdout",
          "text": [
            "\n",
            "Ground Truth :  ONLY HIS HEART AND LUNGS WORKED ON AT A STRONG MEASURED RATE\n",
            "Prediction   :  ONLY IS HEART RELUNS WORKED ON AT A STRONG MISSURE GREAT\n"
          ]
        },
        {
          "output_type": "stream",
          "name": "stderr",
          "text": [
            "Val:   2%|▏         | 4/169 [00:13<07:22,  2.68s/it, running_distance=21.1406]"
          ]
        },
        {
          "output_type": "stream",
          "name": "stdout",
          "text": [
            "\n",
            "Ground Truth :  THE STRENGTH THAT ENABLES SOMEONE IN A TRANCE TO HOLD HIS BODY STIFF AND UNSUPPORTED EXCEPT AT TWO POINTS THE HEAD AND HEELS\n",
            "Prediction   :  THE STRINK THE NEIGHBLES SOMEONE IN A TRANCE TO HOLD HIS BODY STIFF AND UNSUPPORTED EXCEPT AT TWO POINTS THE HEAD AND HEELS\n"
          ]
        },
        {
          "output_type": "stream",
          "name": "stderr",
          "text": [
            "                                                                              "
          ]
        },
        {
          "output_type": "stream",
          "name": "stdout",
          "text": [
            "\n",
            "Ground Truth :  WHEN THEY ENTERED THE STAGE BOX ON THE LEFT THE FIRST ACT WAS WELL UNDER WAY THE SCENE BEING THE INTERIOR OF A CABIN IN THE SOUTH OF IRELAND\n",
            "Prediction   :  WHEN THEY ENTERED THE STAGE BOX ON THE LEFT THE FIRST ACT WAS WELL UNDERWAY THE SEA BEING THE INTERIOR OF A CABIN IN THE SOUTH OF IT WAS A MADE A DEAR OF GOOD AND WEART AND A PIERCE AND A VICAN AND IT AND BEAUT IT A BEAUT OF THE REMED\n",
            "Levenshtein Distance 20.1875\n"
          ]
        },
        {
          "output_type": "stream",
          "name": "stderr",
          "text": [
            "\r"
          ]
        },
        {
          "output_type": "stream",
          "name": "stdout",
          "text": [
            "Saved epoch model\n",
            "Saved best training model\n",
            "\n",
            "Epoch 44/50\n"
          ]
        },
        {
          "output_type": "stream",
          "name": "stderr",
          "text": []
        },
        {
          "output_type": "stream",
          "name": "stdout",
          "text": [
            "\n",
            "Epoch 44/50: \n",
            "Train Loss 0.1015\t Train Perplexity 1.1069\t Learning Rate 0.0000\n",
            "Saved epoch model\n",
            "Saved best training model\n",
            "\n",
            "Epoch 45/50\n"
          ]
        },
        {
          "output_type": "stream",
          "name": "stderr",
          "text": []
        },
        {
          "output_type": "stream",
          "name": "stdout",
          "text": [
            "\n",
            "Epoch 45/50: \n",
            "Train Loss 0.1011\t Train Perplexity 1.1065\t Learning Rate 0.0000\n"
          ]
        },
        {
          "output_type": "stream",
          "name": "stderr",
          "text": [
            "Val:   1%|          | 1/169 [00:06<17:23,  6.21s/it, running_distance=42.6875]"
          ]
        },
        {
          "output_type": "stream",
          "name": "stdout",
          "text": [
            "\n",
            "Ground Truth :  BECAUSE YOU WERE SLEEPING INSTEAD OF CONQUERING THE LOVELY ROSE PRINCESS HAS BECOME A FIDDLE WITHOUT A BOW WHILE POOR SHAGGY SITS THERE A COOING DOVE\n",
            "Prediction   :  BECAUSE YOUR IS SLEEPING IN SON OF CONCRING THE LOVELY ROSED PRINCES HAS BECOME OF FIDDLE WITHOUT A BOW ALL POOR SHEGGED AND A WHICH A BUTTER AND IT A PITE OF IT A PIERCE AND IT AND IT A PITE OF THE WERE AND IT A BEAUT OF THE HEARTH AND IT A BITTER A COOLING DOVE\n"
          ]
        },
        {
          "output_type": "stream",
          "name": "stderr",
          "text": [
            "Val:   1%|          | 2/169 [00:09<12:48,  4.60s/it, running_distance=29.9062]"
          ]
        },
        {
          "output_type": "stream",
          "name": "stdout",
          "text": [
            "\n",
            "Ground Truth :  KALIKO HESITATED\n",
            "Prediction   :  CALOR GO HENSITATED\n"
          ]
        },
        {
          "output_type": "stream",
          "name": "stderr",
          "text": [
            "Val:   2%|▏         | 3/169 [00:12<10:05,  3.65s/it, running_distance=24.0833]"
          ]
        },
        {
          "output_type": "stream",
          "name": "stdout",
          "text": [
            "\n",
            "Ground Truth :  ONLY HIS HEART AND LUNGS WORKED ON AT A STRONG MEASURED RATE\n",
            "Prediction   :  ONLY IS HEART RELUNS WORKED ON AT A STRONG MISSURE GREAT\n"
          ]
        },
        {
          "output_type": "stream",
          "name": "stderr",
          "text": [
            "Val:   2%|▏         | 4/169 [00:15<09:26,  3.43s/it, running_distance=22.9062]"
          ]
        },
        {
          "output_type": "stream",
          "name": "stdout",
          "text": [
            "\n",
            "Ground Truth :  THE STRENGTH THAT ENABLES SOMEONE IN A TRANCE TO HOLD HIS BODY STIFF AND UNSUPPORTED EXCEPT AT TWO POINTS THE HEAD AND HEELS\n",
            "Prediction   :  THE STRINGTH THE NEIGHBLES SOMEONE IN A TRANCE TO HOLD HIS BODY STIFF AND UNSUPPORTED EXCEPT AT TWO POINTS THE HEAD AND HEELS OF IT A BEAUT OF THE WOMENT A BUT IT A PIERCE AND IT AND THE READER AND IT A BARREADED A BEAUT OF THE HEARTHERNESS TO HEAD AND HEELS\n"
          ]
        },
        {
          "output_type": "stream",
          "name": "stderr",
          "text": [
            "                                                                              "
          ]
        },
        {
          "output_type": "stream",
          "name": "stdout",
          "text": [
            "\n",
            "Ground Truth :  WHEN THEY ENTERED THE STAGE BOX ON THE LEFT THE FIRST ACT WAS WELL UNDER WAY THE SCENE BEING THE INTERIOR OF A CABIN IN THE SOUTH OF IRELAND\n",
            "Prediction   :  WHEN THEY ENTERED THE STAGE BOX ON THE LEFT THE FIRST ACT WAS WELL UNDERWAY THE SEA BEING THE INTERIOR OF A CABIN IN THE SOUTH OF IT WAS A BABY DEAR TO GUICK AND HER AND IT A PIERCE AND A VICAN A BARREADED A BABY A DEBTLE PITTE AND THE SOUTH OF IRELAND\n",
            "Levenshtein Distance 21.7875\n"
          ]
        },
        {
          "output_type": "stream",
          "name": "stderr",
          "text": [
            "\r"
          ]
        },
        {
          "output_type": "stream",
          "name": "stdout",
          "text": [
            "Saved epoch model\n",
            "Saved best training model\n",
            "\n",
            "Epoch 46/50\n"
          ]
        },
        {
          "output_type": "stream",
          "name": "stderr",
          "text": []
        },
        {
          "output_type": "stream",
          "name": "stdout",
          "text": [
            "\n",
            "Epoch 46/50: \n",
            "Train Loss 0.1007\t Train Perplexity 1.1061\t Learning Rate 0.0000\n",
            "Saved epoch model\n",
            "Saved best training model\n",
            "\n",
            "Epoch 47/50\n"
          ]
        },
        {
          "output_type": "stream",
          "name": "stderr",
          "text": []
        },
        {
          "output_type": "stream",
          "name": "stdout",
          "text": [
            "\n",
            "Epoch 47/50: \n",
            "Train Loss 0.1004\t Train Perplexity 1.1058\t Learning Rate 0.0000\n"
          ]
        },
        {
          "output_type": "stream",
          "name": "stderr",
          "text": [
            "Val:   1%|          | 1/169 [00:05<16:37,  5.93s/it, running_distance=43.2500]"
          ]
        },
        {
          "output_type": "stream",
          "name": "stdout",
          "text": [
            "\n",
            "Ground Truth :  BECAUSE YOU WERE SLEEPING INSTEAD OF CONQUERING THE LOVELY ROSE PRINCESS HAS BECOME A FIDDLE WITHOUT A BOW WHILE POOR SHAGGY SITS THERE A COOING DOVE\n",
            "Prediction   :  BECAUSE YOUR IS SLEEPING IN SON OF CONCRING THE LOVELY ROSED PRINCES HAS BECOME OF FIDDLE WITHOUT A BOW ALL POOR SHEGGED AND A WHICH A BUTTER AND IT A PITE OF IT A PIERCE AND A PIERCE AND IT A PIEND OF A BARRAHAMMA DE GETTERED AND EUROPED IT A BITTER A COOLING DOVE\n"
          ]
        },
        {
          "output_type": "stream",
          "name": "stderr",
          "text": [
            "Val:   1%|          | 2/169 [00:08<11:08,  4.01s/it, running_distance=29.1875]"
          ]
        },
        {
          "output_type": "stream",
          "name": "stdout",
          "text": [
            "\n",
            "Ground Truth :  KALIKO HESITATED\n",
            "Prediction   :  CALOR GO HENSITATED\n"
          ]
        },
        {
          "output_type": "stream",
          "name": "stderr",
          "text": [
            "Val:   2%|▏         | 3/169 [00:11<09:16,  3.35s/it, running_distance=23.5833]"
          ]
        },
        {
          "output_type": "stream",
          "name": "stdout",
          "text": [
            "\n",
            "Ground Truth :  ONLY HIS HEART AND LUNGS WORKED ON AT A STRONG MEASURED RATE\n",
            "Prediction   :  ONLY IS HEART RELUNS WORKED ON AT A STRONG MISSURE GREAT\n"
          ]
        },
        {
          "output_type": "stream",
          "name": "stderr",
          "text": [
            "Val:   2%|▏         | 4/169 [00:12<06:52,  2.50s/it, running_distance=20.3906]"
          ]
        },
        {
          "output_type": "stream",
          "name": "stdout",
          "text": [
            "\n",
            "Ground Truth :  THE STRENGTH THAT ENABLES SOMEONE IN A TRANCE TO HOLD HIS BODY STIFF AND UNSUPPORTED EXCEPT AT TWO POINTS THE HEAD AND HEELS\n",
            "Prediction   :  THE STRINK THE NEIGHBLES SOMEONE IN A TRANCE TO HOLD HIS BODY STIFF AND UNSUPPORTED EXCEPT AT TWO POINTS THE HEAD AND HEELS\n"
          ]
        },
        {
          "output_type": "stream",
          "name": "stderr",
          "text": [
            "                                                                              "
          ]
        },
        {
          "output_type": "stream",
          "name": "stdout",
          "text": [
            "\n",
            "Ground Truth :  WHEN THEY ENTERED THE STAGE BOX ON THE LEFT THE FIRST ACT WAS WELL UNDER WAY THE SCENE BEING THE INTERIOR OF A CABIN IN THE SOUTH OF IRELAND\n",
            "Prediction   :  WHEN THEY ENTERED THE STAGE BOX ON THE LEFT THE FIRST ACT WAS WELL UNDERWAY THE SEA BEING THE INTERIOR OF A CABIN IN THE SOUTH OF IT WAS A BABY DEAR TO GET OF THE WOMENT AND IT AND THE PITERED AND IT A BEAUT OF GENTLEMATE AND ACCORDING THE COUNT OF IRELAND\n",
            "Levenshtein Distance 19.8500\n"
          ]
        },
        {
          "output_type": "stream",
          "name": "stderr",
          "text": [
            "\r"
          ]
        },
        {
          "output_type": "stream",
          "name": "stdout",
          "text": [
            "Saved epoch model\n",
            "Saved best training model\n",
            "\n",
            "Epoch 48/50\n"
          ]
        },
        {
          "output_type": "stream",
          "name": "stderr",
          "text": []
        },
        {
          "output_type": "stream",
          "name": "stdout",
          "text": [
            "\n",
            "Epoch 48/50: \n",
            "Train Loss 0.1002\t Train Perplexity 1.1056\t Learning Rate 0.0000\n",
            "Saved epoch model\n",
            "Saved best training model\n",
            "\n",
            "Epoch 49/50\n"
          ]
        },
        {
          "output_type": "stream",
          "name": "stderr",
          "text": []
        },
        {
          "output_type": "stream",
          "name": "stdout",
          "text": [
            "\n",
            "Epoch 49/50: \n",
            "Train Loss 0.1002\t Train Perplexity 1.1055\t Learning Rate 0.0000\n"
          ]
        },
        {
          "output_type": "stream",
          "name": "stderr",
          "text": [
            "Val:   1%|          | 1/169 [00:05<16:33,  5.91s/it, running_distance=43.3125]"
          ]
        },
        {
          "output_type": "stream",
          "name": "stdout",
          "text": [
            "\n",
            "Ground Truth :  BECAUSE YOU WERE SLEEPING INSTEAD OF CONQUERING THE LOVELY ROSE PRINCESS HAS BECOME A FIDDLE WITHOUT A BOW WHILE POOR SHAGGY SITS THERE A COOING DOVE\n",
            "Prediction   :  BECAUSE YOUR IS SLEEPING IN SON OF CONCRING THE LOVELY ROSED PRINCES HAS BECOME OF FIDDLE WITHOUT A BOW ALL POOR SHEGGED AND A WHICH A BUTTER AND IT A PITE OF IT A PIERCE AND A PIERCE AND IT A PIEND OF A BARRAHAMMA DE GETTERED AND EURGHAMMED A DREADED A BUTTER AND OF\n"
          ]
        },
        {
          "output_type": "stream",
          "name": "stderr",
          "text": [
            "Val:   1%|          | 2/169 [00:08<11:05,  3.98s/it, running_distance=29.2812]"
          ]
        },
        {
          "output_type": "stream",
          "name": "stdout",
          "text": [
            "\n",
            "Ground Truth :  KALIKO HESITATED\n",
            "Prediction   :  CALOR GO HENSITATED\n"
          ]
        },
        {
          "output_type": "stream",
          "name": "stderr",
          "text": [
            "Val:   2%|▏         | 3/169 [00:11<09:12,  3.33s/it, running_distance=23.4792]"
          ]
        },
        {
          "output_type": "stream",
          "name": "stdout",
          "text": [
            "\n",
            "Ground Truth :  ONLY HIS HEART AND LUNGS WORKED ON AT A STRONG MEASURED RATE\n",
            "Prediction   :  ONLY IS HEART RELUNS WORKED ON AT A STRONG MISSURE GREAT\n"
          ]
        },
        {
          "output_type": "stream",
          "name": "stderr",
          "text": [
            "Val:   2%|▏         | 4/169 [00:12<06:49,  2.48s/it, running_distance=20.2344]"
          ]
        },
        {
          "output_type": "stream",
          "name": "stdout",
          "text": [
            "\n",
            "Ground Truth :  THE STRENGTH THAT ENABLES SOMEONE IN A TRANCE TO HOLD HIS BODY STIFF AND UNSUPPORTED EXCEPT AT TWO POINTS THE HEAD AND HEELS\n",
            "Prediction   :  THE STRINK THE NEIGHBLES SOMEONE IN A TRANCE TO HOLD HIS BODY STIFF AND UNSUPPORTED EXCEPT AT TWO POINTS THE HEAD AND HEELS\n"
          ]
        },
        {
          "output_type": "stream",
          "name": "stderr",
          "text": [
            "                                                                              "
          ]
        },
        {
          "output_type": "stream",
          "name": "stdout",
          "text": [
            "\n",
            "Ground Truth :  WHEN THEY ENTERED THE STAGE BOX ON THE LEFT THE FIRST ACT WAS WELL UNDER WAY THE SCENE BEING THE INTERIOR OF A CABIN IN THE SOUTH OF IRELAND\n",
            "Prediction   :  WHEN THEY ENTERED THE STAGE BOX ON THE LEFT THE FIRST ACT WAS WELL UNDERWAY THE SEA BEING THE INTERIOR OF A CABIN IN THE SOUTH OF IT WAS A BABY DEAR TO GUISS AND WHICH A BEEN A PIERCE AND A PIERRAL IN A BABY'S DEAR MAID AND A NEW OF THE IRLAND\n",
            "Levenshtein Distance 19.5375\n"
          ]
        },
        {
          "output_type": "stream",
          "name": "stderr",
          "text": [
            "\r"
          ]
        },
        {
          "output_type": "stream",
          "name": "stdout",
          "text": [
            "Saved epoch model\n",
            "Saved best training model\n",
            "\n",
            "Epoch 50/50\n"
          ]
        },
        {
          "output_type": "stream",
          "name": "stderr",
          "text": []
        },
        {
          "output_type": "stream",
          "name": "stdout",
          "text": [
            "\n",
            "Epoch 50/50: \n",
            "Train Loss 0.1000\t Train Perplexity 1.1053\t Learning Rate 0.0000\n",
            "Saved epoch model\n",
            "Saved best training model\n"
          ]
        },
        {
          "output_type": "display_data",
          "data": {
            "text/plain": [
              "<Figure size 640x480 with 2 Axes>"
            ],
            "image/png": "[encoded data removed]"
          },
          "metadata": {}
        }
      ]
    },
    {
      "cell_type": "code",
      "source": [
        "valid_actual_distance = validate_full(model, val_loader)"
      ],
      "metadata": {
        "id": "i2W3Dh78Adyg",
        "colab": {
          "base_uri": "https://localhost:8080/"
        },
        "outputId": "dbd3c678-e51f-450c-e301-0aaee9ef19bc"
      },
      "execution_count": null,
      "outputs": [
        {
          "output_type": "stream",
          "name": "stderr",
          "text": [
            "Val:   1%|          | 1/169 [00:06<17:02,  6.09s/it, running_distance=44.0625]"
          ]
        },
        {
          "output_type": "stream",
          "name": "stdout",
          "text": [
            "\n",
            "Ground Truth :  BECAUSE YOU WERE SLEEPING INSTEAD OF CONQUERING THE LOVELY ROSE PRINCESS HAS BECOME A FIDDLE WITHOUT A BOW WHILE POOR SHAGGY SITS THERE A COOING DOVE\n",
            "Prediction   :  BECAUSE YOUR IS SLEEPING IN SON OF CONCRING THE LOVELY ROSED PRINCES HAS BECOME OF FIDDLE WITHOUT A BOW ALL POOR SHEGGED AND A WHICH A BUTTER AND IT A PITE OF IT A PIERCE AND A PIERCE AND IT A PIEND OF A BARRAHAMMA DE GETTERED AND EURGHAMMED A DREADED A BUTTER AND OF\n"
          ]
        },
        {
          "output_type": "stream",
          "name": "stderr",
          "text": [
            "Val:   1%|          | 2/169 [00:09<12:43,  4.57s/it, running_distance=30.9688]"
          ]
        },
        {
          "output_type": "stream",
          "name": "stdout",
          "text": [
            "\n",
            "Ground Truth :  KALIKO HESITATED\n",
            "Prediction   :  CALOR GO HENSITATED\n"
          ]
        },
        {
          "output_type": "stream",
          "name": "stderr",
          "text": [
            "Val:   2%|▏         | 3/169 [00:12<10:01,  3.62s/it, running_distance=24.7500]"
          ]
        },
        {
          "output_type": "stream",
          "name": "stdout",
          "text": [
            "\n",
            "Ground Truth :  ONLY HIS HEART AND LUNGS WORKED ON AT A STRONG MEASURED RATE\n",
            "Prediction   :  ONLY IS HEART RELUNS WORKED ON AT A STRONG MISSURE GREAT\n"
          ]
        },
        {
          "output_type": "stream",
          "name": "stderr",
          "text": [
            "Val:   2%|▏         | 4/169 [00:13<07:18,  2.66s/it, running_distance=21.2500]"
          ]
        },
        {
          "output_type": "stream",
          "name": "stdout",
          "text": [
            "\n",
            "Ground Truth :  THE STRENGTH THAT ENABLES SOMEONE IN A TRANCE TO HOLD HIS BODY STIFF AND UNSUPPORTED EXCEPT AT TWO POINTS THE HEAD AND HEELS\n",
            "Prediction   :  THE STRINK THE NEIGHBLES SOMEONE IN A TRANCE TO HOLD HIS BODY STIFF AND UNSUPPORTED EXCEPT AT TWO POINTS THE HEAD AND HEELS\n"
          ]
        },
        {
          "output_type": "stream",
          "name": "stderr",
          "text": [
            "Val:   3%|▎         | 5/169 [00:16<07:43,  2.83s/it, running_distance=20.3500]"
          ]
        },
        {
          "output_type": "stream",
          "name": "stdout",
          "text": [
            "\n",
            "Ground Truth :  WHEN THEY ENTERED THE STAGE BOX ON THE LEFT THE FIRST ACT WAS WELL UNDER WAY THE SCENE BEING THE INTERIOR OF A CABIN IN THE SOUTH OF IRELAND\n",
            "Prediction   :  WHEN THEY ENTERED THE STAGE BOX ON THE LEFT THE FIRST ACT WAS WELL UNDERWAY THE SEA BEING THE INTERIOR OF A CABIN IN THE SOUTH OF IT WAS A BABY DEAR TO GUISS AND WHICH A BEEN A PIERCE AND A PIERRAL IN A BABY'S DEAR MAID AND A NEW OF THE IRLAND\n"
          ]
        },
        {
          "output_type": "stream",
          "name": "stderr",
          "text": [
            "Val:   4%|▎         | 6/169 [00:19<07:28,  2.75s/it, running_distance=19.7500]"
          ]
        },
        {
          "output_type": "stream",
          "name": "stdout",
          "text": [
            "\n",
            "Ground Truth :  IN A MOMENT PEGGY WAS ON THE STAGE AGAIN AND ALEXANDER APPLAUDED VIGOROUSLY WITH THE REST\n",
            "Prediction   :  IT A MOMENT PEGGY WAS ON THE STAGE AGAIN AN ALEXANDER APPLOTTED VIGOROUSLY WITH THE REST\n"
          ]
        },
        {
          "output_type": "stream",
          "name": "stderr",
          "text": [
            "Val:   4%|▍         | 7/169 [00:22<07:51,  2.91s/it, running_distance=19.5357]"
          ]
        },
        {
          "output_type": "stream",
          "name": "stdout",
          "text": [
            "\n",
            "Ground Truth :  I'LL DO ANYTHING YOU WISH ME TO BARTLEY SHE SAID TREMULOUSLY\n",
            "Prediction   :  ALLS RANNYTHING YOU WISH BE TOO BARLEY SHE SAID TRUMULOUSLY\n"
          ]
        },
        {
          "output_type": "stream",
          "name": "stderr",
          "text": [
            "Val:   5%|▍         | 8/169 [00:23<06:27,  2.41s/it, running_distance=17.4609]"
          ]
        },
        {
          "output_type": "stream",
          "name": "stdout",
          "text": [
            "\n",
            "Ground Truth :  SHE PRESSED HIS HAND GENTLY IN GRATITUDE WEREN'T YOU HAPPY THEN AT ALL\n",
            "Prediction   :  SHE PRESSED HIS HAND GENTLY IN GRATITUDE WORDS YOU HAPPY THEN AT ALL\n"
          ]
        },
        {
          "output_type": "stream",
          "name": "stderr",
          "text": [
            "Val:   5%|▌         | 9/169 [00:24<04:50,  1.82s/it, running_distance=15.8889]"
          ]
        },
        {
          "output_type": "stream",
          "name": "stdout",
          "text": [
            "\n",
            "Ground Truth :  DON'T CRY DON'T CRY HE WHISPERED\n",
            "Prediction   :  DON'T CRY DON'T CRY HE WHISPERED\n"
          ]
        },
        {
          "output_type": "stream",
          "name": "stderr",
          "text": [
            "Val:   6%|▌         | 10/169 [00:27<06:22,  2.41s/it, running_distance=15.6500]"
          ]
        },
        {
          "output_type": "stream",
          "name": "stdout",
          "text": [
            "\n",
            "Ground Truth :  I'VE BEEN UP IN CANADA WITH MY BRIDGE AND I ARRANGED NOT TO COME TO NEW YORK UNTIL AFTER YOU HAD GONE\n",
            "Prediction   :  I'VE BEEN UP AND CANNOTED WITH MY BRIDGE AND I ARRANGED NOT TO YORK UNTIL AFTER YOU HAD GONE\n"
          ]
        },
        {
          "output_type": "stream",
          "name": "stderr",
          "text": [
            "Val:   7%|▋         | 11/169 [00:33<08:58,  3.41s/it, running_distance=15.6818]"
          ]
        },
        {
          "output_type": "stream",
          "name": "stdout",
          "text": [
            "\n",
            "Ground Truth :  MANY AMONG THE GENTILE PROSELYTES REFUSED TO BELIEVE THAT A CELESTIAL SPIRIT AN UNDIVIDED PORTION OF THE FIRST ESSENCE HAD BEEN PERSONALLY UNITED WITH A MASS OF IMPURE AND CONTAMINATED FLESH AND IN THEIR ZEAL FOR THE DIVINITY THEY PIOUSLY ABJURED THE HUMANITY OF CHRIST\n",
            "Prediction   :  MANY AMONG THE GENTILE PRESOLITES REFUSED TO BELIEVE THAT A SOLASTIAL SPIRITS AND UNDIVIDED PORTION OF THE FIRST ESSENCE HAD BEEN PERSONALLY UNITED WITH A MASS OF IMPURE AND CONSIMINATED FLESH AND IN THEIR ZEAL FOR THE DIVINITY THEY PIOSLY OBJURED THE HUMANITY OF CHRIST\n"
          ]
        },
        {
          "output_type": "stream",
          "name": "stderr",
          "text": [
            "Val:   7%|▋         | 12/169 [00:37<09:43,  3.72s/it, running_distance=18.5729]"
          ]
        },
        {
          "output_type": "stream",
          "name": "stdout",
          "text": [
            "\n",
            "Ground Truth :  THE ZEAL OF CYRIL EXPOSED HIM TO THE PENALTIES OF THE JULIAN LAW BUT IN A FEEBLE GOVERNMENT AND A SUPERSTITIOUS AGE HE WAS SECURE OF IMPUNITY AND EVEN OF PRAISE\n",
            "Prediction   :  THE ZEAL OF CAROL EXPOSED HIM TO THE PENNEL HIS OF THE JEWLY IN LAW BUT IN A FEEBLE GOVERNMENT AND A SUPER SIS AGE HE WAS THE CURE OF IMPUNITY AND EVEN OF PRAISE\n"
          ]
        },
        {
          "output_type": "stream",
          "name": "stderr",
          "text": [
            "Val:   8%|▊         | 13/169 [00:43<10:46,  4.14s/it, running_distance=21.0192]"
          ]
        },
        {
          "output_type": "stream",
          "name": "stdout",
          "text": [
            "\n",
            "Ground Truth :  THE PAST HE REGRETTED HE WAS DISCONTENTED WITH THE PRESENT AND THE FUTURE HE HAD REASON TO DREAD THE ORIENTAL BISHOPS SUCCESSIVELY DISENGAGED THEIR CAUSE FROM HIS UNPOPULAR NAME AND EACH DAY DECREASED THE NUMBER OF THE SCHISMATICS WHO REVERED NESTORIUS AS THE CONFESSOR OF THE FAITH\n",
            "Prediction   :  THE PASSED HE REGRETTED HE WAS DISCONTENTED WITH THE PRESENCE AND THE FUTURE HE HAD REASON TO DREAD THE ORIENTAL BISHOPS SUCCESSIVELY DISS ENGAGED THEIR CAUSE FROM HIS UNPOPULAR NAME AND EACH DAYED ACREASED THE NUMBER OF THE SKISMATICS TO REVEARED MYSTORIOUS AS THE CONFESSOR OF THE FAITH\n"
          ]
        },
        {
          "output_type": "stream",
          "name": "stderr",
          "text": [
            "Val:   8%|▊         | 14/169 [00:48<11:23,  4.41s/it, running_distance=22.9330]"
          ]
        },
        {
          "output_type": "stream",
          "name": "stdout",
          "text": [
            "\n",
            "Ground Truth :  COSETTE WAS NO LONGER IN RAGS SHE WAS IN MOURNING\n",
            "Prediction   :  COSETTE WAS NO LONGER IN RIGHTS SHE WAS IN MORNING\n"
          ]
        },
        {
          "output_type": "stream",
          "name": "stderr",
          "text": [
            "Val:   9%|▉         | 15/169 [00:53<12:10,  4.74s/it, running_distance=22.8667]"
          ]
        },
        {
          "output_type": "stream",
          "name": "stdout",
          "text": [
            "\n",
            "Ground Truth :  SHE WOULD NOT SPEAK THOUGH WE DANCED A WEEK WITH HER THOUGHTS A THOUSAND LEAGUES OVER THE WATER SINGER SINGER WANDERING SINGER O MY HONEY SWEET SINGER\n",
            "Prediction   :  SHE WOULD NOT SPEAK THAT WE DANCED TOOKY WITH HER THOUGHTS OF THOUSAND LEAGUES OVERED THE WATER SINGER WANDERING SINGER OH MANY SWERE THE WOULD BE TO BUT IT A PITE OF IT A PIERCE AND A VICAN A PIEND A NEW OF BEHEARTHER AUNT OF THE REGARDENT AND IT SWEET SINGER\n"
          ]
        },
        {
          "output_type": "stream",
          "name": "stderr",
          "text": [
            "Val:   9%|▉         | 16/169 [00:57<11:36,  4.55s/it, running_distance=23.1289]"
          ]
        },
        {
          "output_type": "stream",
          "name": "stdout",
          "text": [
            "\n",
            "Ground Truth :  WE RANGE WIDER LAST LONGER AND ESCAPE MORE AND MORE FROM INTENSITY TOWARDS UNDERSTANDING\n",
            "Prediction   :  FEET RANGE WATER LAST LONGER AND ESCHEEP MORE AT MORE FROM INTENSITY TOWARDS UNDERSTANDING\n"
          ]
        },
        {
          "output_type": "stream",
          "name": "stderr",
          "text": [
            "Val:  10%|█         | 17/169 [01:02<11:42,  4.62s/it, running_distance=23.2757]"
          ]
        },
        {
          "output_type": "stream",
          "name": "stdout",
          "text": [
            "\n",
            "Ground Truth :  THE LONG PEPPER IS LESS AROMATIC THAN THE BLACK BUT ITS OIL IS MORE PUNGENT\n",
            "Prediction   :  THE LONG PEPPER HIS LESS ARAMATIC THAN THE BLACK BUT ITS VOIL AS MORE PUNGENT\n"
          ]
        },
        {
          "output_type": "stream",
          "name": "stderr",
          "text": [
            "Val:  11%|█         | 18/169 [01:08<12:40,  5.04s/it, running_distance=24.5174]"
          ]
        },
        {
          "output_type": "stream",
          "name": "stdout",
          "text": [
            "\n",
            "Ground Truth :  THE LEMON WAS FIRST CULTIVATED IN ENGLAND IN THE BEGINNING OF THE SEVENTEENTH CENTURY AND IS NOW OFTEN TO BE FOUND IN OUR GREEN HOUSES\n",
            "Prediction   :  THE LEMON WAS FIRST CULTIMATED IN ENGLAND IN THE BEGINNING OF THE SEVENTEENTH CENTRY AND IS NOW OFTEN TO BE FOUND IN OUR GREEN A BEAUT OF MADE A DEAR OF A GOOD OF THE WOMPHOLICAN WERE TO BE A PETTING A BUT IT A BUT IT A PIENDIA DIERCAN IT A BEAUT OF YOUR LEADY IN A REN HOUSES\n"
          ]
        },
        {
          "output_type": "stream",
          "name": "stderr",
          "text": [
            "Val:  11%|█         | 19/169 [01:09<09:41,  3.88s/it, running_distance=23.5559]"
          ]
        },
        {
          "output_type": "stream",
          "name": "stdout",
          "text": [
            "\n",
            "Ground Truth :  SUFFICIENT TO SERVE WITH FIVE OR SIX MACKEREL\n",
            "Prediction   :  OF SUFFICIENT TO SERVE WITH FIVE OR SIX MACREL\n"
          ]
        },
        {
          "output_type": "stream",
          "name": "stderr",
          "text": [
            "Val:  12%|█▏        | 20/169 [01:13<09:53,  3.98s/it, running_distance=23.7437]"
          ]
        },
        {
          "output_type": "stream",
          "name": "stdout",
          "text": [
            "\n",
            "Ground Truth :  PUT THE UDDER INTO A STEWPAN WITH SUFFICIENT WATER TO COVER IT LET IT STEW GENTLY TILL QUITE DONE WHEN TAKE IT OUT TO COOL\n",
            "Prediction   :  PUT THE EDDER INTO A STEWPEN WITH SUFFICIENT WANDER TO COVERT LET IT'S DUENTLY TILL QUITE DONE WHEN TAKE IT OUT TO COOL\n"
          ]
        },
        {
          "output_type": "stream",
          "name": "stderr",
          "text": [
            "Val:  12%|█▏        | 21/169 [01:18<09:55,  4.02s/it, running_distance=24.1875]"
          ]
        },
        {
          "output_type": "stream",
          "name": "stdout",
          "text": [
            "\n",
            "Ground Truth :  NOW WHY IS THAT OTTO\n",
            "Prediction   :  NOW WISE THAT ARTO\n"
          ]
        },
        {
          "output_type": "stream",
          "name": "stderr",
          "text": [
            "Val:  13%|█▎        | 22/169 [01:22<10:22,  4.24s/it, running_distance=23.8636]"
          ]
        },
        {
          "output_type": "stream",
          "name": "stdout",
          "text": [
            "\n",
            "Ground Truth :  WE STOOD PANTING ON THE EDGE OF THE RAVINE LOOKING DOWN AT THE TREES AND BUSHES THAT GREW BELOW US\n",
            "Prediction   :  WE STOOD PANTING ON THE EDGE OF THE REVENE LOOKING DOWN OF THE TREES AND WOSHES AT RUBELO US\n"
          ]
        },
        {
          "output_type": "stream",
          "name": "stderr",
          "text": [
            "Val:  14%|█▎        | 23/169 [01:27<10:27,  4.30s/it, running_distance=23.8315]"
          ]
        },
        {
          "output_type": "stream",
          "name": "stdout",
          "text": [
            "\n",
            "Ground Truth :  I DO NOT BELIEVE IN SUCH REPUBLICS ANY MORE THAN IN THAT OF PLATO OR IF THE THINGS WE READ OF REALLY HAPPENED I DO NOT HESITATE TO AFFIRM THAT THESE SUPPOSED DEMOCRACIES WERE COMPOSED OF VERY DIFFERENT ELEMENTS FROM OURS AND THAT THEY HAD NOTHING IN COMMON WITH THE LATTER EXCEPT THEIR NAME\n",
            "Prediction   :  I DIDN'T BOTH EVEN SUCH REPUBLICS ANY MORE THAT IN THAT OF PLATEL OR IF THE THINGS WE READ OFF A REALLY HAPPENED I DO NOT HESITATES TO FUM A THESE SUPPOSED DEMOCRACIES WERE COMPOSE OF THE FAIRY DIFFERENT ELEMENTS FROM HOURS AND IT THEY HAD NOTHING IN COMMON WITH THE LETTLE EXCEPT THEIR NAME\n"
          ]
        },
        {
          "output_type": "stream",
          "name": "stderr",
          "text": [
            "Val:  14%|█▍        | 24/169 [01:33<11:37,  4.81s/it, running_distance=24.4427]"
          ]
        },
        {
          "output_type": "stream",
          "name": "stdout",
          "text": [
            "\n",
            "Ground Truth :  I EXPLAIN THAT I'M TAKING MUSIC AND ALSO BIOLOGY ALGEBRA ENGLISH AND FRENCH MUSIC HE SNORTS\n",
            "Prediction   :  EXPLAINED THAT I'M TAKING MUSIC AND ALSO BIOLOGY ALTIE ALSOR ENGLISH IN FRENCH MUSIC THESE NORTHS\n"
          ]
        },
        {
          "output_type": "stream",
          "name": "stderr",
          "text": [
            "Val:  15%|█▍        | 25/169 [01:34<08:44,  3.64s/it, running_distance=23.8975]"
          ]
        },
        {
          "output_type": "stream",
          "name": "stdout",
          "text": [
            "\n",
            "Ground Truth :  IT'S THE FIRST TIME HILDA HAS BEEN TO OUR HOUSE AND TOM INTRODUCES HER AROUND\n",
            "Prediction   :  IT'S A FIRST TIME HILD A HAS BEEN TO OUR HOUSE AND TON THE TRODUCES HER AROUND\n"
          ]
        },
        {
          "output_type": "stream",
          "name": "stderr",
          "text": [
            "Val:  15%|█▌        | 26/169 [01:41<11:21,  4.77s/it, running_distance=24.6346]"
          ]
        },
        {
          "output_type": "stream",
          "name": "stdout",
          "text": [
            "\n",
            "Ground Truth :  IS THERE ANY CHANCE FOR THE OTHER ONE THINK YOU\n",
            "Prediction   :  IS THERE ANY CHANCE FOR THE OTHER ONE THINK YOU\n"
          ]
        },
        {
          "output_type": "stream",
          "name": "stderr",
          "text": [
            "Val:  16%|█▌        | 27/169 [01:46<11:19,  4.78s/it, running_distance=24.5046]"
          ]
        },
        {
          "output_type": "stream",
          "name": "stdout",
          "text": [
            "\n",
            "Ground Truth :  I CANNOT THINK WHAT POSSESSES ME THAT I MUST ALWAYS BE WANTING TO COMFORT HIM WHEN HE'S DOWNCAST AND THAT I MUST GO MEDDLING WI HIM TO NIGHT WHEN SURE ENOUGH IT WAS HIS AUNT'S PLACE TO SPEAK TO HIM\n",
            "Prediction   :  I CANNOT THINK WHAT POSSESSES ME THAT I MUST ALWAYS BE WANTING TO COMFORT HIM WHEN HE'S DOWN CAST AND THAT I MUST GO METALING WITH HIM TO NIGHT WHEN SURE ENOUGH IT WAS HIS AUNT'S PLACE TO SPEAK TO HIM\n"
          ]
        },
        {
          "output_type": "stream",
          "name": "stderr",
          "text": [
            "Val:  17%|█▋        | 28/169 [01:51<11:30,  4.89s/it, running_distance=25.2634]"
          ]
        },
        {
          "output_type": "stream",
          "name": "stdout",
          "text": [
            "\n",
            "Ground Truth :  FROM UNDER THE LINING HE NOW PRODUCED A COLLECTION OF BRILLIANTLY COLORED PAPER FIGURES SEVERAL INCHES HIGH AND STIFF ENOUGH TO STAND ALONE\n",
            "Prediction   :  FROM UNDER THE LINING HE NOW PRODUCED A COLLECTION OF BRILLIANTLY COLORED PAPER FIGURES SEVERAL INJUST HIGH AND STIFFING OF THE HEARTHER IT A PIEND OF IT A BEAUT OF THE WOMPHODES OF THE HEARTHER AND IT A BUT IT A BUT IT A BUTTER AND IT A NEW\n"
          ]
        },
        {
          "output_type": "stream",
          "name": "stderr",
          "text": [
            "Val:  17%|█▋        | 29/169 [01:56<11:40,  5.00s/it, running_distance=25.1810]"
          ]
        },
        {
          "output_type": "stream",
          "name": "stdout",
          "text": [
            "\n",
            "Ground Truth :  THEY BEGAN TO LAUGH BOISTEROUSLY WHEN THEY SAW ME CALLING\n",
            "Prediction   :  THEY BEGAN TO LAUGH BOISTRESSLY WHEN THEY SAW ME CALLING\n"
          ]
        },
        {
          "output_type": "stream",
          "name": "stderr",
          "text": [
            "Val:  18%|█▊        | 30/169 [01:58<09:07,  3.94s/it, running_distance=24.6646]"
          ]
        },
        {
          "output_type": "stream",
          "name": "stdout",
          "text": [
            "\n",
            "Ground Truth :  HE COULD STAND RIGHT UP AND TALK TO YOU HE COULD DID HE FIGHT HARD\n",
            "Prediction   :  HE COULD STAND RIGHT UP AND TOP TO EAL HE GOOD DID HE FIGHT HARD\n"
          ]
        },
        {
          "output_type": "stream",
          "name": "stderr",
          "text": [
            "Val:  18%|█▊        | 31/169 [02:03<09:50,  4.28s/it, running_distance=24.7440]"
          ]
        },
        {
          "output_type": "stream",
          "name": "stdout",
          "text": [
            "\n",
            "Ground Truth :  ANTONIA'S FATHER UNCOVERED ONE OF HIS LONG BONY LEGS AND RUBBED IT RHYTHMICALLY\n",
            "Prediction   :  AND STEE AS FATHER UNCOVERED ONE OF HIS LONG BONY LEGS AND BROBBED IT WRITHNICKLY\n"
          ]
        },
        {
          "output_type": "stream",
          "name": "stderr",
          "text": [
            "Val:  19%|█▉        | 32/169 [02:04<07:59,  3.50s/it, running_distance=24.1270]"
          ]
        },
        {
          "output_type": "stream",
          "name": "stdout",
          "text": [
            "\n",
            "Ground Truth :  NOW HIS MIDDLE HORSE WAS BEING ALMOST DRAGGED BY THE OTHER TWO\n",
            "Prediction   :  NOW HIS MILL HORSE WAS BEING ALMOST DRAG BY THE OTHER TWO\n"
          ]
        },
        {
          "output_type": "stream",
          "name": "stderr",
          "text": [
            "Val:  20%|█▉        | 33/169 [02:09<08:45,  3.86s/it, running_distance=24.1875]"
          ]
        },
        {
          "output_type": "stream",
          "name": "stdout",
          "text": [
            "\n",
            "Ground Truth :  LIKE THE TWO KINGS OF SPARTA THEY REIGNED JOINTLY DIVIDING BETWEEN THEM THE LABOURS AND CARES OF STATE\n",
            "Prediction   :  LIKE THE TWO KINGS OF SPARTA THEY RAVING JOINTLY DIFIDING BETWEEN THEM THE LABORS AND CARES OF STEEK\n"
          ]
        },
        {
          "output_type": "stream",
          "name": "stderr",
          "text": [
            "Val:  20%|██        | 34/169 [02:15<09:52,  4.39s/it, running_distance=24.4669]"
          ]
        },
        {
          "output_type": "stream",
          "name": "stdout",
          "text": [
            "\n",
            "Ground Truth :  SEVENTEEN SEVENTEEN\n",
            "Prediction   :  SEVENTEEN SEVENTEEN\n"
          ]
        },
        {
          "output_type": "stream",
          "name": "stderr",
          "text": [
            "Val:  21%|██        | 35/169 [02:21<10:42,  4.80s/it, running_distance=25.2464]"
          ]
        },
        {
          "output_type": "stream",
          "name": "stdout",
          "text": [
            "\n",
            "Ground Truth :  MAIZE NEXT TO WHEAT AND RICE MAIZE IS THE GRAIN MOST USED IN THE NOURISHMENT OF MAN\n",
            "Prediction   :  MAZE NEXT TO WEED IN RICE MAZES THE GRAIN MOST USED IN THE NOURISHMENT OF MAN\n"
          ]
        },
        {
          "output_type": "stream",
          "name": "stderr",
          "text": [
            "Val:  21%|██▏       | 36/169 [02:26<11:13,  5.06s/it, running_distance=25.5556]"
          ]
        },
        {
          "output_type": "stream",
          "name": "stdout",
          "text": [
            "\n",
            "Ground Truth :  HE SAYS THAT BY CUTTING THROUGH FOUR OR FIVE SLICES AT A TIME ALL THE BUTTER IS SQUEEZED OUT OF THE UPPER ONES WHILE THE BOTTOM ONE IS SWIMMING IN FAT LIQUID\n",
            "Prediction   :  HE SAYS THAT BY CUTTING THROUGH FOUR FIVE SLICES AT A TIME ALL THE BUTTER IS SCLEEZED OUT OF THE UPPER ONES WHILE THE BOTTOM ONE IS SWERE AND A PITE OF IT A BUTTOGET AND A PIERCE AND A VICAN A BEAUT OF A PIERCE AND A BABY TO BE THE WOOD\n"
          ]
        },
        {
          "output_type": "stream",
          "name": "stderr",
          "text": [
            "Val:  22%|██▏       | 37/169 [02:30<10:25,  4.74s/it, running_distance=25.2500]"
          ]
        },
        {
          "output_type": "stream",
          "name": "stdout",
          "text": [
            "\n",
            "Ground Truth :  ILLUSTRATION RUSKS\n",
            "Prediction   :  ILLUSTRATION RUSKS\n"
          ]
        },
        {
          "output_type": "stream",
          "name": "stderr",
          "text": [
            "Val:  22%|██▏       | 38/169 [02:37<11:31,  5.28s/it, running_distance=26.3388]"
          ]
        },
        {
          "output_type": "stream",
          "name": "stdout",
          "text": [
            "\n",
            "Ground Truth :  IT WAS EVIDENT THAT THE RACE HAD DEGENERATED LIKE MANY A NOBLE RACE BESIDES IN CONSEQUENCE OF TOO STRICT A WATCHFULNESS TO KEEP IT PURE\n",
            "Prediction   :  IT WAS EVIDENT THAT THE RACE HAD DEGENERATED LIKE MANY A NOBLE RACED BESIDES IN CONSEQUENCE OF TWO STRICK TO WATCHFULNESS TO KNOW HIM A BEAUT OF THE WOMENT A BUT IT A PIERCE AND IT A BEAUT OF THE WOMENT AND IT A NEW OF THE REMET AND IT A NEW OF THE READER AND IT A BUTTER\n"
          ]
        },
        {
          "output_type": "stream",
          "name": "stderr",
          "text": [
            "Val:  23%|██▎       | 39/169 [02:42<11:10,  5.16s/it, running_distance=26.9471]"
          ]
        },
        {
          "output_type": "stream",
          "name": "stdout",
          "text": [
            "\n",
            "Ground Truth :  THERE IS A WONDERFUL INSIGHT IN HEAVEN'S BROAD AND SIMPLE SUNSHINE\n",
            "Prediction   :  THERE IS A WONDERFUL INSIGHT IN HEAVEN'S BROAD AND SIMPLE SUNSHINE\n"
          ]
        },
        {
          "output_type": "stream",
          "name": "stderr",
          "text": [
            "Val:  24%|██▎       | 40/169 [02:43<08:54,  4.14s/it, running_distance=26.5109]"
          ]
        },
        {
          "output_type": "stream",
          "name": "stdout",
          "text": [
            "\n",
            "Ground Truth :  OH REJOINED THE DAGUERREOTYPIST BECAUSE LIKE AN OLD LADY'S CUP OF TEA IT IS WATER BEWITCHED\n",
            "Prediction   :  OH REJOINTED TO GARROW TYPEST BECAUSE LIKE AN OLD LADY'S COUP OF TEA IT IS WATER BEWITCHED\n"
          ]
        },
        {
          "output_type": "stream",
          "name": "stderr",
          "text": [
            "Val:  24%|██▍       | 41/169 [02:49<09:29,  4.45s/it, running_distance=26.6250]"
          ]
        },
        {
          "output_type": "stream",
          "name": "stdout",
          "text": [
            "\n",
            "Ground Truth :  THE WALLS OF THE ROOMS WERE DISCORDANTLY PAPERED\n",
            "Prediction   :  THE WALLS OF THE ROOMS WERE DISCORDENTLY PAPRIED\n"
          ]
        },
        {
          "output_type": "stream",
          "name": "stderr",
          "text": [
            "Val:  25%|██▍       | 42/169 [02:50<07:24,  3.50s/it, running_distance=26.1280]"
          ]
        },
        {
          "output_type": "stream",
          "name": "stdout",
          "text": [
            "\n",
            "Ground Truth :  HE WAS IN A FEVERED STATE OF MIND OWING TO THE BLIGHT HIS WIFE'S ACTION THREATENED TO CAST UPON HIS ENTIRE FUTURE\n",
            "Prediction   :  HE WAS AN EFFEVERED STATE OF MIND OWING TO THE BLIGHT HIS WIFE'S ACTION THREATENED TO CAST UPON HIS ENTIRE FUTURE\n"
          ]
        },
        {
          "output_type": "stream",
          "name": "stderr",
          "text": [
            "Val:  25%|██▌       | 43/169 [02:51<05:53,  2.81s/it, running_distance=25.6802]"
          ]
        },
        {
          "output_type": "stream",
          "name": "stdout",
          "text": [
            "\n",
            "Ground Truth :  FORTUNATELY THERE WAS NOTHING FROM HIS WIFE EITHER\n",
            "Prediction   :  PORTUNATELY THERE WAS NOTHING FROM HIS WIFE EITHER\n"
          ]
        },
        {
          "output_type": "stream",
          "name": "stderr",
          "text": [
            "Val:  26%|██▌       | 44/169 [02:53<05:18,  2.54s/it, running_distance=25.2188]"
          ]
        },
        {
          "output_type": "stream",
          "name": "stdout",
          "text": [
            "\n",
            "Ground Truth :  BY THE TIME HE REACHED HIS OWN STREET HE WAS KEENLY ALIVE TO THE DIFFICULTIES OF HIS SITUATION AND WISHED OVER AND OVER THAT SOME SOLUTION WOULD OFFER ITSELF THAT HE COULD SEE HIS WAY OUT\n",
            "Prediction   :  BY THE TIME HE REACHED HIS OWN STREET HE WAS KEENLY ALIVED TO THE DIFFICULTIES OF HIS SITUATION AND WISHED OVER AND OVER THAT SOME SOLUTION WOULD OFFER IN THESELF THAT HE COULD SEE HIS WAY OUT\n"
          ]
        },
        {
          "output_type": "stream",
          "name": "stderr",
          "text": [
            "Val:  27%|██▋       | 45/169 [02:55<05:00,  2.42s/it, running_distance=24.8458]"
          ]
        },
        {
          "output_type": "stream",
          "name": "stdout",
          "text": [
            "\n",
            "Ground Truth :  FOR RELIEF HE AROSE AND JOINED IN CONVERSATION WITH A FEW FRIENDS WHO WERE DRINKING\n",
            "Prediction   :  FULL RELIEF HE AROUSE AND JOINED IN THE CONVERSATION WITH A FEW FRANCE THEY WERE DRINKING\n"
          ]
        },
        {
          "output_type": "stream",
          "name": "stderr",
          "text": [
            "Val:  27%|██▋       | 46/169 [02:59<05:59,  2.93s/it, running_distance=24.8342]"
          ]
        },
        {
          "output_type": "stream",
          "name": "stdout",
          "text": [
            "\n",
            "Ground Truth :  HE DID MANAGE TO BRING HIMSELF INTO THE MOOD TO GO OUT TO CARRIE BUT WHEN HE GOT IN OGDEN PLACE HE THOUGHT HE SAW A MAN WATCHING HIM AND WENT AWAY\n",
            "Prediction   :  HE DID MANAGED TO BRING HIMSELF INTO THE MOOD TO GO OUT TO CARRY BUT WHEN HE GOT IN OGDEN PLACE HE THOUGHT HE SOUGHT MAN MATCHING HIM AND MET AWKED A GIRL IT A BUTTOGET AND IT A PIERCE AND IT A PIEND A BARREADED A BEAUT OF YOUR AND MET AWAY\n"
          ]
        },
        {
          "output_type": "stream",
          "name": "stderr",
          "text": [
            "Val:  28%|██▊       | 47/169 [03:03<06:25,  3.16s/it, running_distance=24.7301]"
          ]
        },
        {
          "output_type": "stream",
          "name": "stdout",
          "text": [
            "\n",
            "Ground Truth :  I MUST NOT CONCLUDE WITHOUT EXPRESSING MY MOST SINCERE THANKS TO MY CRITICS AND TO THE PUBLIC FOR THE LENIENCY AND CONSIDERATION WITH WHICH THEY HAVE TREATED MY ADVENTURES\n",
            "Prediction   :  I MUST NOT THINK LED WITHOUT EXPRESSING MY MOST INSEARED THANKS TO MY CRITICS AND TO THE PUBLIC FOR THE LANIANCY AND CONSIDERATION WITH WHICH THEY HAD A PEENTURED AND IT A PITERS\n"
          ]
        },
        {
          "output_type": "stream",
          "name": "stderr",
          "text": [
            "Val:  28%|██▊       | 48/169 [03:09<08:17,  4.11s/it, running_distance=25.0365]"
          ]
        },
        {
          "output_type": "stream",
          "name": "stdout",
          "text": [
            "\n",
            "Ground Truth :  I WAS TO SEE THE SHEEP NOT NECESSARILY CLOSE AT HAND NOR TO GET THEM IN A SINGLE MOB BUT TO SEE ENOUGH OF THEM HERE AND THERE TO FEEL EASY THAT NOTHING HAD GONE WRONG THIS WAS NO DIFFICULT MATTER FOR THERE WERE NOT ABOVE EIGHT HUNDRED OF THEM AND BEING ALL BREEDING EWES THEY WERE PRETTY QUIET\n",
            "Prediction   :  I WAS TO SEE THAT SHEEP NONNESS AS AIRLY CLOSET HAND OR TO GET THE MINUS INGLE MOB BUT TO SEE ENOUGH OF THEM HERE AND THERE TO FEEL EASY THAT NOTHING HAD GONE RONG THIS WAS NO DIFFICULT MATTER FOR THERE WERE NOT HIM OF EIGHT HUNDRED OF THEM AND BEING ALL BREATING USE THEY WERE PRETTY QUIET\n"
          ]
        },
        {
          "output_type": "stream",
          "name": "stderr",
          "text": [
            "Val:  29%|██▉       | 49/169 [03:12<07:33,  3.78s/it, running_distance=24.9872]"
          ]
        },
        {
          "output_type": "stream",
          "name": "stdout",
          "text": [
            "\n",
            "Ground Truth :  THEIR EXPRESSION WAS DIVINE AND AS THEY GLANCED AT ME TIMIDLY BUT WITH PARTED LIPS IN GREAT BEWILDERMENT I FORGOT ALL THOUGHTS OF THEIR CONVERSION IN FEELINGS THAT WERE FAR MORE EARTHLY\n",
            "Prediction   :  THEIR EXPESSION WAS DIVINE AND AS THEY GLANCE IT ME IT LEAVES INGREATED LIPS INGREATED THE WILDERMAND I FORGOT ALL THOUGHTS OF THEIR CONVERSION IN FEELINGS THAT WERE FARM ARTHLY\n"
          ]
        },
        {
          "output_type": "stream",
          "name": "stderr",
          "text": [
            "Val:  30%|██▉       | 50/169 [03:17<08:09,  4.11s/it, running_distance=25.8100]"
          ]
        },
        {
          "output_type": "stream",
          "name": "stdout",
          "text": [
            "\n",
            "Ground Truth :  THE DESIGN WAS DIFFERENT BUT THE THING WAS CLEARLY THE SAME\n",
            "Prediction   :  THAT HIS EYE WAS DIFFEREMED BUT THE THING WAS CLARELY THE SAME\n"
          ]
        },
        {
          "output_type": "stream",
          "name": "stderr",
          "text": [
            "Val:  30%|███       | 51/169 [03:21<08:07,  4.13s/it, running_distance=25.8860]"
          ]
        },
        {
          "output_type": "stream",
          "name": "stdout",
          "text": [
            "\n",
            "Ground Truth :  I EVEN BOUGHT SOMETHING FOR MADGE I MEAN MISSUS WILSON\n",
            "Prediction   :  I EVEN BOUGHT SOMETHING FROM EDGE I MEAN MISSUS WILSON\n"
          ]
        },
        {
          "output_type": "stream",
          "name": "stderr",
          "text": [
            "Val:  31%|███       | 52/169 [03:25<07:57,  4.08s/it, running_distance=25.8305]"
          ]
        },
        {
          "output_type": "stream",
          "name": "stdout",
          "text": [
            "\n",
            "Ground Truth :  THERE APPEARED TO BE NO KNOCKER THOUGH WHETHER IT HAD BEEN TWISTED OFF WAS MORE THAN I COULD SAY\n",
            "Prediction   :  THEY APPEARED TO BE NO KNOCKER THOUGH WHETHER IT HAD BEEN TWISTED OFF WAS MORE THAN I COULD SAY\n"
          ]
        },
        {
          "output_type": "stream",
          "name": "stderr",
          "text": [
            "Val:  31%|███▏      | 53/169 [03:30<08:11,  4.24s/it, running_distance=25.7960]"
          ]
        },
        {
          "output_type": "stream",
          "name": "stdout",
          "text": [
            "\n",
            "Ground Truth :  I DO NOT KNOW WHEN IT IS GOING TO BE BUT IT WILL BE EITHER NEXT WEEK OR THE WEEK AFTER CERTAINLY AT THE EARLIEST POSSIBLE MOMENT AND I SHOULDN'T BE AT ALL SURPRISED TO LEARN THAT ALL MARY ANN'S THINGS HAD BEEN ALREADY BOUGHT AND PERHAPS SOME OF THEM MARKED\n",
            "Prediction   :  I DO NOT KNOW WHEN IT IS GOING TO BE BUT IT WILL BE EITHER NEXT SWEEK OR THE WEEK AFTER CERTAINLY AT THE EARLY AS POSSIBLE MOMENT AND I SHOULDN'T BE AT ALL SURPRISED TO LEARN THAT ALL MARY ENDS THINGS HAVE BEEN ALREADY BOUGHT AND PRAPS SOME OF THEM MARKED\n"
          ]
        },
        {
          "output_type": "stream",
          "name": "stderr",
          "text": [
            "Val:  32%|███▏      | 54/169 [03:31<06:33,  3.42s/it, running_distance=25.3773]"
          ]
        },
        {
          "output_type": "stream",
          "name": "stdout",
          "text": [
            "\n",
            "Ground Truth :  IT TURNED OUT THAT SHE HAD A LITTLE MONEY OF HER OWN ABOUT A HUNDRED AND THIRTY POUNDS A YEAR\n",
            "Prediction   :  IT TURNED OUT THAT SHE HAVE A LITTLE MONEY OF HER OWN ABOUT A HUNDRED AND THIRTY POUNDS A YEAR\n"
          ]
        },
        {
          "output_type": "stream",
          "name": "stderr",
          "text": [
            "Val:  33%|███▎      | 55/169 [03:33<05:20,  2.81s/it, running_distance=25.0341]"
          ]
        },
        {
          "output_type": "stream",
          "name": "stdout",
          "text": [
            "\n",
            "Ground Truth :  THAT WAS WHAT MISSUS MACPHERSON SAID TO ME ONLY THE OTHER DAY\n",
            "Prediction   :  THAT WAS WHAT MISSUS MICK FIERCEN SAID TO ME ONLY THE OTHER DAY\n"
          ]
        },
        {
          "output_type": "stream",
          "name": "stderr",
          "text": [
            "Val:  33%|███▎      | 56/169 [03:34<04:35,  2.44s/it, running_distance=24.7254]"
          ]
        },
        {
          "output_type": "stream",
          "name": "stdout",
          "text": [
            "\n",
            "Ground Truth :  THIS MAN WAS CLAD IN A BROWN CAMEL HAIR ROBE AND SANDALS AND A GREEN TURBAN WAS ON HIS HEAD\n",
            "Prediction   :  THIS MEN WAS CLAD IN A BROWN CAMEL HERE ROBE AND SANDALS AND A GREEN TURBIN WAS ON HIS HEAD\n"
          ]
        },
        {
          "output_type": "stream",
          "name": "stderr",
          "text": [
            "Val:  34%|███▎      | 57/169 [03:36<03:58,  2.13s/it, running_distance=24.4211]"
          ]
        },
        {
          "output_type": "stream",
          "name": "stdout",
          "text": [
            "\n",
            "Ground Truth :  YOU HAVE NEVER DISOBEYED ME OBEY MY LAST COMMAND\n",
            "Prediction   :  I'VE NEVER DISOBLAYED ME OH BAY MY LAST COMMAN\n"
          ]
        },
        {
          "output_type": "stream",
          "name": "stderr",
          "text": [
            "Val:  34%|███▍      | 58/169 [03:41<05:38,  3.05s/it, running_distance=24.6175]"
          ]
        },
        {
          "output_type": "stream",
          "name": "stdout",
          "text": [
            "\n",
            "Ground Truth :  YES CHARCOAL\n",
            "Prediction   :  YES JARKOLL\n"
          ]
        },
        {
          "output_type": "stream",
          "name": "stderr",
          "text": [
            "Val:  35%|███▍      | 59/169 [03:45<05:55,  3.23s/it, running_distance=24.6801]"
          ]
        },
        {
          "output_type": "stream",
          "name": "stdout",
          "text": [
            "\n",
            "Ground Truth :  BUD THREW UP HIS ARMS TO PROTECT HIMSELF BUT TOO LATE\n",
            "Prediction   :  BUT THROUGH UP HIS ARMS TO PRODECT HIMSELF BUT TWO LATE\n"
          ]
        },
        {
          "output_type": "stream",
          "name": "stderr",
          "text": [
            "Val:  36%|███▌      | 60/169 [03:49<06:15,  3.45s/it, running_distance=24.5292]"
          ]
        },
        {
          "output_type": "stream",
          "name": "stdout",
          "text": [
            "\n",
            "Ground Truth :  HE SMILED GUILTILY AS HE ADDED BUT I MUST ADMIT I WAS MORE THAN A LITTLE CONCERNED MYSELF\n",
            "Prediction   :  HE SMILED GUILTILY AS HE ADDED BUT I MUST ADMIT I WAS MORE THAN A LITTLE CONCERNED MYSELF\n"
          ]
        },
        {
          "output_type": "stream",
          "name": "stderr",
          "text": [
            "Val:  36%|███▌      | 61/169 [03:52<06:09,  3.42s/it, running_distance=24.4447]"
          ]
        },
        {
          "output_type": "stream",
          "name": "stdout",
          "text": [
            "\n",
            "Ground Truth :  THINK OF LADY GLENARVAN THINK OF MARY GRANT\n",
            "Prediction   :  THINK OF LIGHTY CALL AN ARBIN THINK OF MARY GRAND\n"
          ]
        },
        {
          "output_type": "stream",
          "name": "stderr",
          "text": [
            "Val:  37%|███▋      | 62/169 [03:55<05:55,  3.32s/it, running_distance=24.4395]"
          ]
        },
        {
          "output_type": "stream",
          "name": "stdout",
          "text": [
            "\n",
            "Ground Truth :  ON THAT SIDE DESCENT WAS IMPOSSIBLE AND HAD IT BEEN POSSIBLE THE BOTTOM WAS SHUT IN BY THE ENORMOUS ROCK\n",
            "Prediction   :  ON THAT SIDE DESCENT WAS IN TOSSIP AND HAD IT BEEN POSSIBLE BOTTOM WAS SHUT IN BY THE ENORMERS WERE ALK\n"
          ]
        },
        {
          "output_type": "stream",
          "name": "stderr",
          "text": [
            "Val:  37%|███▋      | 63/169 [03:59<06:09,  3.48s/it, running_distance=24.5079]"
          ]
        },
        {
          "output_type": "stream",
          "name": "stdout",
          "text": [
            "\n",
            "Ground Truth :  THE ENTRANCE IS LIGHT BECAUSE IT OPENS SO WIDE BUT WE CAN SEE THAT THE FLOOR SLOPES DOWNWARD AND THE WAY LOOKS DARK AND NARROW BEFORE US\n",
            "Prediction   :  THE ANTRANCE'S LIGHT BECAUSE IT OPEN SO WIDE BUT WE CAN SEE THAT THE FLOOR SLOPED DOWN WORD AND THE WAY LOOKS DARKED AND NARROW BEEN A BUTTER AND IT A BIT IT A BUTTOGET AND A PIERCE AND A VICAN A BUTTER AND A BARREASTS\n"
          ]
        },
        {
          "output_type": "stream",
          "name": "stderr",
          "text": [
            "Val:  38%|███▊      | 64/169 [04:04<06:43,  3.84s/it, running_distance=24.9814]"
          ]
        },
        {
          "output_type": "stream",
          "name": "stdout",
          "text": [
            "\n",
            "Ground Truth :  NOT BE IT EVER REMEMBERED THAT THE SLIGHTEST SUSPICION OF IMMORALITY ATTACHES EITHER TO THE HEROINE OF THIS BOOK OR TO THE LEADING PHILOSOPHERS OF HER SCHOOL FOR SEVERAL CENTURIES\n",
            "Prediction   :  NOT BE IT EVER REMEMBERED THAT THE SLIGHTEST SUSPICION OF THE MORALITY ATTACHES ARE ENT OF THIS BOOK OR TO THE LEADING FALOSS OF HERSEVER SCHOOL PROCERVAL KING THE HEARTHER AND IT A BEAUT OF THE PERSEVERAL CENTURIES\n"
          ]
        },
        {
          "output_type": "stream",
          "name": "stderr",
          "text": [
            "Val:  38%|███▊      | 65/169 [04:11<08:44,  5.05s/it, running_distance=25.8115]"
          ]
        },
        {
          "output_type": "stream",
          "name": "stdout",
          "text": [
            "\n",
            "Ground Truth :  THAT WONDERFUL METAPHYSIC SUBTLETY WHICH IN PHRASES AND DEFINITIONS TOO OFTEN UNMEANING TO OUR GROSSER INTELLECT SAW THE SYMBOLS OF THE MOST IMPORTANT SPIRITUAL REALITIES AND FELT THAT ON THE DISTINCTION BETWEEN HOMOOUSIOS AND HOMOIOUSIOS MIGHT HANG THE SOLUTION OF THE WHOLE PROBLEM OF HUMANITY WAS SET TO BATTLE IN ALEXANDRIA THE ANCIENT STRONGHOLD OF GREEK PHILOSOPHY WITH THE EFFETE REMAINS OF THE VERY SCIENTIFIC THOUGHT TO WHICH IT OWED ITS EXTRAORDINARY CULTURE\n",
            "Prediction   :  THAT WONDERFUL METAPHYSIC SUFFLETY WHICH IN FRACES AND DEFINITIONS TO OFTEN UNMEANING TO OUR A GROSS HER INTELLECT SAW AT THE SIMBLES OF THE MOST IMPORTANT SPIRITUAL REALITIES AND HOME OF LOSIUS AND HOMELIZEUS AND HOMELIZACE AND HOME OF LOSIUS AND HOMELIZIUS AND HOME OF THE VERY SCIENTIFIC THOUGHT TO WHICH IT OWED TIXT DERRICULTURE\n"
          ]
        },
        {
          "output_type": "stream",
          "name": "stderr",
          "text": [
            "Val:  39%|███▉      | 66/169 [04:17<08:43,  5.08s/it, running_distance=25.9782]"
          ]
        },
        {
          "output_type": "stream",
          "name": "stdout",
          "text": [
            "\n",
            "Ground Truth :  NOT THAT SUCH A CREATURE AS THAT DISTURBS ME NO CREATED THING I HOPE CAN MOVE MY EQUANIMITY BUT IF I COULD STOOP TO HATE I SHOULD HATE HER HATE HER\n",
            "Prediction   :  NOT THAT SUCH A CREATURE AS THAT DISTURBS ME NO CREATED THING I HOPE AND MOVED MY ECHANIMITY BUT IF I COULD STOOP TO PATE I SHOULD HAVE TO BE THE PUT OF IT A BUTTOGET AND A PIERCE AND A VICAN A BEAUT OF A PIERCE AND IT A NEW OF THE REAT HER\n"
          ]
        },
        {
          "output_type": "stream",
          "name": "stderr",
          "text": [
            "Val:  40%|███▉      | 67/169 [04:21<08:05,  4.76s/it, running_distance=26.0140]"
          ]
        },
        {
          "output_type": "stream",
          "name": "stdout",
          "text": [
            "\n",
            "Ground Truth :  THEN THE SHINING OF THE WET LEAVES IS DELIGHTFUL AND THE STEAMY FRAGRANCE AND THE BURST OF BIRD SONG FROM A MULTITUDE OF THRUSHES AND FINCHES AND WARBLERS THAT HAVE NESTS IN THE CHAPARRAL\n",
            "Prediction   :  THEN THE SHONING OF THE WED LEAVES IS DELIFLE AND THE STEAMY FRIGRANCE AND A BURST OF BIRDS SONG FROM A MULTITUDE OF THRUSHES AND FINCHES AND WARBLERS THAT HAVE NESTS IN THE SHEPHERO OUT OF NESTS IN THE SHEPHERO\n"
          ]
        },
        {
          "output_type": "stream",
          "name": "stderr",
          "text": [
            "Val:  40%|████      | 68/169 [04:25<07:39,  4.55s/it, running_distance=25.9908]"
          ]
        },
        {
          "output_type": "stream",
          "name": "stdout",
          "text": [
            "\n",
            "Ground Truth :  BUT NEITHER THE GLORIFIED WOODS ON THE ONE HAND NOR THE LAKE ON THE OTHER COULD AT FIRST HOLD THE EYE\n",
            "Prediction   :  BENEATHED THE GLORIFITE WOODS ON THE ONE HAND NOR THE LAKE ON THE OTHER COULD AT FIRST COLD THE EYE\n"
          ]
        },
        {
          "output_type": "stream",
          "name": "stderr",
          "text": [
            "Val:  41%|████      | 69/169 [04:31<08:34,  5.14s/it, running_distance=26.4402]"
          ]
        },
        {
          "output_type": "stream",
          "name": "stdout",
          "text": [
            "\n",
            "Ground Truth :  THE BIG MEADOWS LIE NEAR THE FOOT OF LASSEN'S BUTTE A BEAUTIFUL SPACIOUS BASIN SET IN THE HEART OF THE RICHLY FORESTED MOUNTAINS SCARCELY SURPASSED IN THE GRANDEUR OF ITS SURROUNDINGS BY TAHOE\n",
            "Prediction   :  THE BAKE MENAUS LINE NEAR THE FOOT OF LASTEN'S BEAUT A BEAUTIFUL SPACIOUS PACION SAID IN THE HART OF THE RICHLY FOREST AND MOUNTAINS SCARCELY SURPASSED IN THE GRANDER OF ITS SURROUNDINGS BY DOLL\n"
          ]
        },
        {
          "output_type": "stream",
          "name": "stderr",
          "text": [
            "Val:  41%|████▏     | 70/169 [04:34<07:28,  4.53s/it, running_distance=26.3027]"
          ]
        },
        {
          "output_type": "stream",
          "name": "stdout",
          "text": [
            "\n",
            "Ground Truth :  I INQUIRED OF GEORGE WITH MY EYES STILL ON THIS FURTIVE WATCHER\n",
            "Prediction   :  WHY INQUIRED OF GEORGE WITH MY EYES AND STILL ON THIS FURTITH WATCHER\n"
          ]
        },
        {
          "output_type": "stream",
          "name": "stderr",
          "text": [
            "Val:  42%|████▏     | 71/169 [04:36<06:15,  3.83s/it, running_distance=26.1215]"
          ]
        },
        {
          "output_type": "stream",
          "name": "stdout",
          "text": [
            "\n",
            "Ground Truth :  THE SUGGESTION HE HAD LAUGHED AT WAS NOT SO ENTIRELY FOOLISH AS HE HAD BEEN PLEASED TO CONSIDER IT\n",
            "Prediction   :  THE SUGGESTION HE HAD ALAUGHED DAD WASN'T SO ENTERLY FOOLISHED AS HE HAD BEEN ABLEASED TO CONSIDERATENTION\n"
          ]
        },
        {
          "output_type": "stream",
          "name": "stderr",
          "text": [
            "Val:  43%|████▎     | 72/169 [04:40<05:52,  3.63s/it, running_distance=25.9644]"
          ]
        },
        {
          "output_type": "stream",
          "name": "stdout",
          "text": [
            "\n",
            "Ground Truth :  THIS SWEETWATER AS THEY CALLED HIM WAS I HAVE SINCE UNDERSTOOD ONE OF HIS PROTEGES AND MORE OR LESS OF A FAVOURITE\n",
            "Prediction   :  THIS SWEET WATER AS THEY CALLED HIM WAS I HAVE SINCE UNDERSTOOD ONE OF HIS PROTTER JASE AND MORE OR LESS ALA FAVORITE\n"
          ]
        },
        {
          "output_type": "stream",
          "name": "stderr",
          "text": [
            "Val:  43%|████▎     | 73/169 [04:41<04:43,  2.96s/it, running_distance=25.7312]"
          ]
        },
        {
          "output_type": "stream",
          "name": "stdout",
          "text": [
            "\n",
            "Ground Truth :  NOT TILL THE DOCTOR CAME HER DOCTOR WHO WAS HAPPILY IN HIS OFFICE IN THIS VERY BUILDING\n",
            "Prediction   :  NOT TILL THE DARGER CAME HER DAUGHT DREW WITH HAPPLY IN HIS OFFICE IN THIS VERY BUILDING\n"
          ]
        },
        {
          "output_type": "stream",
          "name": "stderr",
          "text": [
            "Val:  44%|████▍     | 74/169 [04:42<03:57,  2.50s/it, running_distance=25.5253]"
          ]
        },
        {
          "output_type": "stream",
          "name": "stdout",
          "text": [
            "\n",
            "Ground Truth :  MISS CLARKE STARTED AND HER SWEET FACE SHOWED A MOMENT'S PERPLEXITY DID I SHE QUERIED MUSINGLY\n",
            "Prediction   :  MISS CLARK STARTED BENET AND AT HER SWEET FACE SHOWED A MOMENT'S PERPLEXITY AND ONCE SHE QUARRIED AM USINGLY\n"
          ]
        },
        {
          "output_type": "stream",
          "name": "stderr",
          "text": [
            "Val:  44%|████▍     | 75/169 [04:49<05:36,  3.58s/it, running_distance=25.7575]"
          ]
        },
        {
          "output_type": "stream",
          "name": "stdout",
          "text": [
            "\n",
            "Ground Truth :  BESIDES I WAS OF OPINION THAT A MAN'S PROFESSION WHATEVER IT MIGHT BE OUGHT TO SUPPLY HIM WITH ENOUGH MONEY TO SATISFY ALL HIS WANTS AND THE VERY POOR PAY OF AN OFFICER WOULD NEVER HAVE BEEN SUFFICIENT TO COVER MY EXPENSES BECAUSE MY EDUCATION HAD GIVEN ME GREATER WANTS THAN THOSE OF OFFICERS IN GENERAL\n",
            "Prediction   :  BESIDES OH WAS OF OPINION THAT A MAN'S PROFESSION WHATEVER IT MY BE OUGHT TO SUPPLY HIM WITH ENOUGH MONEY TO SATISFY ALL HIS ONCE AND BE VERY POOR PAY OF AN OPPOSER WOULD NEVER HAVE BEEN SUPPICION TO COVER MY EXPENSES BECAUSE MY EDUCATION HAD GIVEN ME GREATER ONCE THAN THOSE OF OPPOSSERS AND GENERAL\n"
          ]
        },
        {
          "output_type": "stream",
          "name": "stderr",
          "text": [
            "Val:  45%|████▍     | 76/169 [04:54<06:13,  4.02s/it, running_distance=25.9301]"
          ]
        },
        {
          "output_type": "stream",
          "name": "stdout",
          "text": [
            "\n",
            "Ground Truth :  I PICKED IT UP AND COMING UP TO HIM JUST AS HE WAS GOING DOWN THE STEPS I HANDED IT TO HIM\n",
            "Prediction   :  I PICKED IT UP AND COMING UP TO HIM JUST AS HE WAS GOING DOWN THE STEPS I HANDLED TO HIM\n"
          ]
        },
        {
          "output_type": "stream",
          "name": "stderr",
          "text": [
            "Val:  46%|████▌     | 77/169 [04:57<06:01,  3.93s/it, running_distance=25.8937]"
          ]
        },
        {
          "output_type": "stream",
          "name": "stdout",
          "text": [
            "\n",
            "Ground Truth :  HE WROTE THE QUESTION AND GAVE IT TO ME I READ IT I COULD NOT UNDERSTAND EITHER THE SUBJECT OR THE MEANING OF THE WORDS BUT IT DID NOT MATTER I HAD TO GIVE AN ANSWER\n",
            "Prediction   :  HE WROTE THE QUESTION AND GAVE IT TO ME I READ IT I CANNOT UNDERSTAND EITHER THE SUBJECT OR THE MEANING OF THE WORDS BUT IT A DID NOT MATTER IT A PITE A PIERCE AND WE'VE A PIERCE AND A VICAN ANYTHOUGH AND ENSWER\n"
          ]
        },
        {
          "output_type": "stream",
          "name": "stderr",
          "text": [
            "Val:  46%|████▌     | 78/169 [05:03<06:33,  4.32s/it, running_distance=26.2067]"
          ]
        },
        {
          "output_type": "stream",
          "name": "stdout",
          "text": [
            "\n",
            "Ground Truth :  YET DID THE WATCHFUL MISS WOODLEY OFTENTIMES HEAR A SIGH ESCAPE FROM HER UNKNOWN TO HERSELF TILL SHE WAS REMINDED OF IT AND THEN A SUDDEN BLUSH WOULD INSTANTLY OVERSPREAD HER FACE\n",
            "Prediction   :  YET I DID THE WATCH FULL MISS WOODLY OFTEN TIMES HERE A SIGH ESCAPE FROM HER UNKNOWN TO HERSELF TILL SHE WAS REMINDED OF IT AND THEN A SUDDEN BLUSH WITH A BEEN A BUTTER AND IT A PIECE\n"
          ]
        },
        {
          "output_type": "stream",
          "name": "stderr",
          "text": [
            "Val:  47%|████▋     | 79/169 [05:07<06:41,  4.46s/it, running_distance=26.5214]"
          ]
        },
        {
          "output_type": "stream",
          "name": "stdout",
          "text": [
            "\n",
            "Ground Truth :  MISS WOODLEY THOUGHT IT HER DUTY TO BE MUTE AND NOW THE GINGLE OF A TEA SPOON WAS LIKE A DEEP TONED BELL ALL WAS SO QUIET\n",
            "Prediction   :  MISS WOODLY THOUGHT IT HER DUTY TO BE MUTE AND NOW THE CHINGLE OF A TEAST BOON WAS LIKE A DEEP TONE TO BELL ALL WAS SO QUIET A PIERCE AND IT A PIEND OF IT A BUTTOGET AND A PIERCE AND A VICAN A BEAUT OF A PIERCE AND IT A NEW OF THE REGARDENT AND IT A NIGHT OF IT A DEEP TONE TO BELL ALL WAS SO QUIET\n"
          ]
        },
        {
          "output_type": "stream",
          "name": "stderr",
          "text": [
            "Val:  47%|████▋     | 80/169 [05:12<06:46,  4.57s/it, running_distance=26.9250]"
          ]
        },
        {
          "output_type": "stream",
          "name": "stdout",
          "text": [
            "\n",
            "Ground Truth :  IN MAKING THIS HE HAD EXPECTED NO SUCCESS THOUGH FROM THE ENERGETIC NATURE OF HIS DISPOSITION HE HAD MADE THE ATTEMPT WITH SOME ZEAL\n",
            "Prediction   :  IN MAKING THIS HE HAD EXPECTED NO SUCCESS THOUGH FROM THE ENERGETIC NATURE OF HIS DISPOSITION HE HAD MADE THE ATTECT WITH SOME OF IT A BEAUT OF THE WOMENT A BUT IT AND IT ARE IT AND A VICAN ANYTHOUGH AND EUGHTERNAMITE AUNTIC AND EUGHTERNAYER IT AND IT A NIGHTER AND EDICT WITH SOMESEAL\n"
          ]
        },
        {
          "output_type": "stream",
          "name": "stderr",
          "text": [
            "Val:  48%|████▊     | 81/169 [05:17<06:39,  4.54s/it, running_distance=26.9938]"
          ]
        },
        {
          "output_type": "stream",
          "name": "stdout",
          "text": [
            "\n",
            "Ground Truth :  BOZZLE HAD ALWAYS WAITED UPON HIM WITH A DECENT COAT AND A WELL BRUSHED HAT AND CLEAN SHOES\n",
            "Prediction   :  BOSSEL HAD ALWAYS WAITED UPON HIM WITH THE DECENT COAT AND A WELL BRUSH HATS IN CLEAN SHOES\n"
          ]
        },
        {
          "output_type": "stream",
          "name": "stderr",
          "text": [
            "Val:  49%|████▊     | 82/169 [05:22<06:58,  4.81s/it, running_distance=27.2325]"
          ]
        },
        {
          "output_type": "stream",
          "name": "stdout",
          "text": [
            "\n",
            "Ground Truth :  AT ONE MOMENT IT SEEMED TO HIM THAT HE WAS IN THE CAVE OF MONTESINOS AND SAW DULCINEA TRANSFORMED INTO A COUNTRY WENCH SKIPPING AND MOUNTING UPON HER SHE ASS AGAIN THAT THE WORDS OF THE SAGE MERLIN WERE SOUNDING IN HIS EARS SETTING FORTH THE CONDITIONS TO BE OBSERVED AND THE EXERTIONS TO BE MADE FOR THE DISENCHANTMENT OF DULCINEA\n",
            "Prediction   :  AT ONE MOMENT IT SEEMED TO HIM THAT HE WAS IN THE CAVE OF MALTICINOS AND SAW DOSONANA TRANSFORMED INTO A CUTRY WANCH SKIPPING AND MOUNTING UPON HER SHE ASKED AGAIN THAT THE WORDS OF THE SATURE MERLAND WERE SOUNDING IN HIS EARS SETTING FORTH A DISANT CHANTMENT OF DELSINATE\n"
          ]
        },
        {
          "output_type": "stream",
          "name": "stderr",
          "text": [
            "Val:  49%|████▉     | 83/169 [05:26<06:22,  4.45s/it, running_distance=27.1980]"
          ]
        },
        {
          "output_type": "stream",
          "name": "stdout",
          "text": [
            "\n",
            "Ground Truth :  IN A WORD HE PLEDGED HIMSELF TO BE MINE AND I PROMISED TO BE HIS WITHOUT CARRYING MATTERS ANY FURTHER\n",
            "Prediction   :  IN A WORD HE PLEDGED HIMSELF TO BE MIND AND I PROMISED TO BE HIS WITHOUT CARRYING MATTERS THAN HE FURTHER\n"
          ]
        },
        {
          "output_type": "stream",
          "name": "stderr",
          "text": [
            "Val:  50%|████▉     | 84/169 [05:32<07:07,  5.03s/it, running_distance=27.5551]"
          ]
        },
        {
          "output_type": "stream",
          "name": "stdout",
          "text": [
            "\n",
            "Ground Truth :  WHAT LED ME INTO IT WAS A CERTAIN THIRST FOR VENGEANCE WHICH IS STRONG ENOUGH TO DISTURB THE QUIETEST HEARTS\n",
            "Prediction   :  WHAT LED ME INTO IT WAS A CERTAIN THIRST FOR VENGEANCE WHICH IS STRONG IN AFTER DISTURB THE QUIETEST HEARTS\n"
          ]
        },
        {
          "output_type": "stream",
          "name": "stderr",
          "text": [
            "Val:  50%|█████     | 85/169 [05:37<06:57,  4.97s/it, running_distance=27.7199]"
          ]
        },
        {
          "output_type": "stream",
          "name": "stdout",
          "text": [
            "\n",
            "Ground Truth :  I ORDER YOU SIR NORTH CRIED INDIGNANT\n",
            "Prediction   :  I ORDER YOU SIR NORTH CRIED IN DIGNANT\n"
          ]
        },
        {
          "output_type": "stream",
          "name": "stderr",
          "text": [
            "Val:  51%|█████     | 86/169 [05:37<05:04,  3.67s/it, running_distance=27.4622]"
          ]
        },
        {
          "output_type": "stream",
          "name": "stdout",
          "text": [
            "\n",
            "Ground Truth :  KIRKLAND JUMPED FOR THE JETTY MISSED HIS FOOTING AND FELL INTO THE ARMS OF THE CHAPLAIN\n",
            "Prediction   :  COURKLIN JUMPED FOR THE JEDDY MISSED HIS FOOTING AND FELL UNDER THE ARMS OF THE CHAPLAIN\n"
          ]
        },
        {
          "output_type": "stream",
          "name": "stderr",
          "text": [
            "Val:  51%|█████▏    | 87/169 [05:38<03:40,  2.68s/it, running_distance=27.1717]"
          ]
        },
        {
          "output_type": "stream",
          "name": "stdout",
          "text": [
            "\n",
            "Ground Truth :  HE IS JUST MARRIED YOU KNOW IS HE SAID BURGESS\n",
            "Prediction   :  HE IS JUST BARRY DO KNOW IS HE SAID BURGESS\n"
          ]
        },
        {
          "output_type": "stream",
          "name": "stderr",
          "text": [
            "Val:  52%|█████▏    | 88/169 [05:41<03:55,  2.90s/it, running_distance=27.0007]"
          ]
        },
        {
          "output_type": "stream",
          "name": "stdout",
          "text": [
            "\n",
            "Ground Truth :  OUR ROADS LIE TOGETHER DOCTOR\n",
            "Prediction   :  OUR ROADS LIE TOGETHERED AFTER\n"
          ]
        },
        {
          "output_type": "stream",
          "name": "stderr",
          "text": [
            "Val:  53%|█████▎    | 89/169 [05:43<03:29,  2.62s/it, running_distance=26.7619]"
          ]
        },
        {
          "output_type": "stream",
          "name": "stdout",
          "text": [
            "\n",
            "Ground Truth :  GOOD NIGHT SIR I HOPE YOU WILL BE COMFORTABLE\n",
            "Prediction   :  GOOD NIGHT SIR I HOPE YOU WILL BE COMFORTABLE\n"
          ]
        },
        {
          "output_type": "stream",
          "name": "stderr",
          "text": [
            "Val:  53%|█████▎    | 90/169 [05:44<02:46,  2.11s/it, running_distance=26.5257]"
          ]
        },
        {
          "output_type": "stream",
          "name": "stdout",
          "text": [
            "\n",
            "Ground Truth :  I'LL REPORT THIS TO THE GOVERNMENT\n",
            "Prediction   :  I'LL REPORTHUS TO THE GAVERNMENT\n"
          ]
        },
        {
          "output_type": "stream",
          "name": "stderr",
          "text": [
            "Val:  54%|█████▍    | 91/169 [05:47<03:09,  2.43s/it, running_distance=26.4959]"
          ]
        },
        {
          "output_type": "stream",
          "name": "stdout",
          "text": [
            "\n",
            "Ground Truth :  I FEEL LIKE A BOY OUT OF SCHOOL OR RATHER A MAN OUT OF PRISON AND MUST ENJOY MY LIBERTY IN SOME WAY\n",
            "Prediction   :  I FEEL I CA BOY OUT OF SCHOOL OR RATHER A MAN OUT OF PRISON AND MUST ENJOY MY LIBERTY IN SOME WAY\n"
          ]
        },
        {
          "output_type": "stream",
          "name": "stderr",
          "text": [
            "Val:  54%|█████▍    | 92/169 [05:51<03:34,  2.79s/it, running_distance=26.5788]"
          ]
        },
        {
          "output_type": "stream",
          "name": "stdout",
          "text": [
            "\n",
            "Ground Truth :  HE'S A KIND NEIGHBORLY MAN AND HIS BOY WILL TAKE MY PLACE ABOUT THE HOUSE AND PROTECT YOU FAITHFULLY\n",
            "Prediction   :  HE SO KIND SHE NEIGHBORLY MAN AND TO SPORE WILL TAKE MY PLACE ABEL THE HOUSE AND PROTECTY FACELY\n"
          ]
        },
        {
          "output_type": "stream",
          "name": "stderr",
          "text": [
            "Val:  55%|█████▌    | 93/169 [05:57<04:41,  3.70s/it, running_distance=26.9026]"
          ]
        },
        {
          "output_type": "stream",
          "name": "stdout",
          "text": [
            "\n",
            "Ground Truth :  HIS WIFE FED HIM WITH THE FAT OF THE LAND REGARDLESS OF CONSEQUENCES HIS CHILDREN REVOLVED ABOUT HIM WITH TIRELESS CURIOSITY AND WONDER HIS NEIGHBORS FLOCKED IN TO APPLAUD ADVISE AND ADMIRE EVERY ONE TREATED HIM WITH A RESPECT MOST GRATEFUL TO HIS FEELINGS HE WAS AN OBJECT OF INTEREST AND WITH EVERY HOUR HIS IMPORTANCE INCREASED SO THAT BY NIGHT HE FELT LIKE A COMMANDER IN CHIEF AND BORE HIMSELF ACCORDINGLY\n",
            "Prediction   :  HIS WIFE SAID HIM WITH THE THOUGHT OF THE LAND REGADLESS OF CONSEQUENCES HIS CHILDREN WERE REVOLVED ABOUT HIM WITH TIRELESS CURIOSITY AND WONDER HIS NEIGHBOURS FLOCKED INTEREST AND WITH EVERY OUTER HIS IMPORTANCE INCREASE SO THAT BY NIGHT HE FOOT LIKE A COMMANDER IN CHIEF AND BOUGHT HIMSELF ACCORDINGLY\n"
          ]
        },
        {
          "output_type": "stream",
          "name": "stderr",
          "text": [
            "Val:  56%|█████▌    | 94/169 [06:02<05:00,  4.00s/it, running_distance=26.9162]"
          ]
        },
        {
          "output_type": "stream",
          "name": "stdout",
          "text": [
            "\n",
            "Ground Truth :  DAVID AND CHRISTIE WENT SMILING AWAY TOGETHER AND IF THEY SHED ANY TEARS OVER THE BRIEF HAPPINESS NO ONE SAW THEM BUT THE FLOWERS AND THEY LOYALLY KEPT THE SECRET FOLDED UP IN THEIR TENDER HEARTS\n",
            "Prediction   :  DIF IT INCRISTY WENT SMILING AWAY TOGETHER AND IF THEY SHAD ANY TEARY SUFFERED THE BRIEF HAPPINESS NO ONE SAW THEM WITH THE FLOWERS AND THEY LOYALLY KEPT THE SECRET FOLDED UP IN THEIR TENDER HEARTS\n"
          ]
        },
        {
          "output_type": "stream",
          "name": "stderr",
          "text": [
            "Val:  56%|█████▌    | 95/169 [06:09<06:15,  5.07s/it, running_distance=27.1309]"
          ]
        },
        {
          "output_type": "stream",
          "name": "stdout",
          "text": [
            "\n",
            "Ground Truth :  THE MOST VARIED EXPERIENCE TEACHES IT WHAT ARE THE QUALITIES TO WHICH IT PRINCIPALLY OWES THE FACT THAT IT STILL EXISTS IN SPITE OF ALL GODS AND MEN AND HAS HITHERTO BEEN VICTORIOUS THESE QUALITIES IT CALLS VIRTUES AND THESE VIRTUES ALONE IT DEVELOPS TO MATURITY\n",
            "Prediction   :  THE MOST VARIED EXPERIONS TEACHES AT WHAT BY THE QUALITIES TO WHICH IT PRINCIPLY OSE THE FACT THAT IT STILL EXISTS IN SPITE OF ALL GODS AND MEN AND HESITHER TWO BEN VICTORIOUS THESE QUALITIES IT CALLS VIRTUOUS AND THE USEVERTUOUS ALONE AT DEVELOPS TO MATURITY\n"
          ]
        },
        {
          "output_type": "stream",
          "name": "stderr",
          "text": [
            "Val:  57%|█████▋    | 96/169 [06:16<06:53,  5.66s/it, running_distance=27.4036]"
          ]
        },
        {
          "output_type": "stream",
          "name": "stdout",
          "text": [
            "\n",
            "Ground Truth :  OCCASIONALLY TOO THE WAKING CALL COMES TOO LATE THE CHANCE WHICH GIVES PERMISSION TO TAKE ACTION WHEN THEIR BEST YOUTH AND STRENGTH FOR ACTION HAVE BEEN USED UP IN SITTING STILL AND HOW MANY A ONE JUST AS HE SPRANG UP HAS FOUND WITH HORROR THAT HIS LIMBS ARE BENUMBED AND HIS SPIRITS ARE NOW TOO HEAVY\n",
            "Prediction   :  OCCASIONALLY TOO THE WAKING CALL COMES TOO LATE THE CHANCE WHICH GIVES PARMISSION TO TAKE ACTION WITH THEIR BEST YOUTH AND STRENGTH FIRACTION HAVE BEEN USED AS HE SPRANG UP HIS FOUND WITH HORROR THAT HIS LIMBS ARE BENUMBED AND HIS SPIRITS ARE NOW TO HEAVY\n"
          ]
        },
        {
          "output_type": "stream",
          "name": "stderr",
          "text": [
            "Val:  57%|█████▋    | 97/169 [06:25<08:01,  6.68s/it, running_distance=27.7912]"
          ]
        },
        {
          "output_type": "stream",
          "name": "stdout",
          "text": [
            "\n",
            "Ground Truth :  THE HOUSE WHICH SEEMED TO CONSIST OF TWO OR THREE HIGH NARROW AND STEEP ROOFED BUILDINGS PROJECTING FROM EACH OTHER AT RIGHT ANGLES FORMED ONE SIDE OF THE INCLOSURE\n",
            "Prediction   :  THE HOUSE WHICH SEEMED TO CONSIST OF TWO OR THREE HIGH NEAROW AND STEEP ROOFED BUILDINGS PROJECTING FROM ENCHATHER AT RIDE AND A BEAUT OF MADE A DEAR OF A BARRAPID A PIERCE AND IT A BEAUT OF THE WOMENT AND IT A BUT IT A BEAUT OF THE ENCLOSURE\n"
          ]
        },
        {
          "output_type": "stream",
          "name": "stderr",
          "text": [
            "Val:  58%|█████▊    | 98/169 [06:29<06:51,  5.80s/it, running_distance=27.8769]"
          ]
        },
        {
          "output_type": "stream",
          "name": "stdout",
          "text": [
            "\n",
            "Ground Truth :  THEY HELD CONVENTICLES IN THE OPEN FIELDS AND BEING TREATED WITH GREAT VIOLENCE AND CRUELTY BY THE SCOTTISH GOVERNMENT MORE THAN ONCE TOOK ARMS DURING THOSE REIGNS\n",
            "Prediction   :  THEY HOWED CONVENTABLES IN THE OPEN FIELDS AND BEING TREATED WITH GREAT VIOLENCE IN CRUELTY BY THE SCOTTISH GOVERNMENT WERE THAN ONCE TO CARLETTE A PIERCE AND IT A BEAUT OF THE WORKEYED UP A PIERCE AND A PIENDS\n"
          ]
        },
        {
          "output_type": "stream",
          "name": "stderr",
          "text": [
            "Val:  59%|█████▊    | 99/169 [06:32<05:48,  4.98s/it, running_distance=27.8056]"
          ]
        },
        {
          "output_type": "stream",
          "name": "stdout",
          "text": [
            "\n",
            "Ground Truth :  ARE YOU A GIANT\n",
            "Prediction   :  ARE YOU HAD GIANT\n"
          ]
        },
        {
          "output_type": "stream",
          "name": "stderr",
          "text": [
            "Val:  59%|█████▉    | 100/169 [06:35<05:08,  4.47s/it, running_distance=27.7688]"
          ]
        },
        {
          "output_type": "stream",
          "name": "stdout",
          "text": [
            "\n",
            "Ground Truth :  YOU ARE NOT LIKE MY PEOPLE THE PINKIES AND THERE IS NO PLACE FOR YOU IN OUR COUNTRY\n",
            "Prediction   :  YOU ARE NOT LIKE MY PEOPLE THE PINKEYS AND THERE IS NO PLACE FOR YOU IN OUR HUNTRY\n"
          ]
        },
        {
          "output_type": "stream",
          "name": "stderr",
          "text": [
            "Val:  60%|█████▉    | 101/169 [06:41<05:28,  4.83s/it, running_distance=28.2345]"
          ]
        },
        {
          "output_type": "stream",
          "name": "stdout",
          "text": [
            "\n",
            "Ground Truth :  IN THIS TYPE OF PRAYER THERE WAS NO BESEECHING OF FAVOR OR HELP\n",
            "Prediction   :  IN THIS TYPE OF PRAYER THERE WAS NO BESEECHING OF FAVOUR OR HELP\n"
          ]
        },
        {
          "output_type": "stream",
          "name": "stderr",
          "text": [
            "Val:  60%|██████    | 102/169 [06:46<05:24,  4.84s/it, running_distance=28.2635]"
          ]
        },
        {
          "output_type": "stream",
          "name": "stdout",
          "text": [
            "\n",
            "Ground Truth :  WHEN SHE FELL THE WHOLE RACE FELL WITH HER\n",
            "Prediction   :  WHEN SHE FELL THE WHOLE RAYS FELL WITH HER\n"
          ]
        },
        {
          "output_type": "stream",
          "name": "stderr",
          "text": [
            "Val:  61%|██████    | 103/169 [06:52<05:36,  5.10s/it, running_distance=28.4436]"
          ]
        },
        {
          "output_type": "stream",
          "name": "stdout",
          "text": [
            "\n",
            "Ground Truth :  AS A SPECIAL MARK OF RESPECT THE BODY OF A YOUNG WOMAN OR A WARRIOR WAS SOMETIMES LAID OUT IN STATE IN A NEW TEEPEE WITH THE USUAL HOUSEHOLD ARTICLES AND EVEN WITH A DISH OF FOOD LEFT BESIDE IT NOT THAT THEY SUPPOSED THE SPIRIT COULD USE THE IMPLEMENTS OR EAT THE FOOD BUT MERELY AS A LAST TRIBUTE\n",
            "Prediction   :  AS A SPECIAL MARK OF RESPAT THE BODY OF A YOUNG WOMAN OR A WARRIOR WAS SOMETIMES LIGHT OUT IN A NEW TEEPY WITH AN USUAL HOUSEFUL ARTICLES AND EVEN WITH A DISH OF FOOD LEFT BESIDE IT NOT THAT THEY SUPPOSED THE SPIRIT COULD USY INFLUMENTS ARE EAP THAT FOOD BUT MERELY AS A LAST TRAVE YOU\n"
          ]
        },
        {
          "output_type": "stream",
          "name": "stderr",
          "text": [
            "Val:  62%|██████▏   | 104/169 [06:58<05:52,  5.42s/it, running_distance=28.7133]"
          ]
        },
        {
          "output_type": "stream",
          "name": "stdout",
          "text": [
            "\n",
            "Ground Truth :  THIS WAS THE FIRST BIG BATTLE IN WHICH OUR REGIMENT HAD EVER BEEN ENGAGED\n",
            "Prediction   :  THIS WAS THE FIRST BIG BATTLE IN WHICH ARE REGIMENT A DEVERBEN ENGAGED\n"
          ]
        },
        {
          "output_type": "stream",
          "name": "stderr",
          "text": [
            "Val:  62%|██████▏   | 105/169 [07:03<05:36,  5.25s/it, running_distance=28.7970]"
          ]
        },
        {
          "output_type": "stream",
          "name": "stdout",
          "text": [
            "\n",
            "Ground Truth :  ON MONDAY MORNING I TOO CAPTURED ME A MULE\n",
            "Prediction   :  A MONDY MORNING OUT TOOK CAPTURED ME MU\n"
          ]
        },
        {
          "output_type": "stream",
          "name": "stderr",
          "text": [
            "Val:  63%|██████▎   | 106/169 [07:06<04:55,  4.69s/it, running_distance=28.8007]"
          ]
        },
        {
          "output_type": "stream",
          "name": "stdout",
          "text": [
            "\n",
            "Ground Truth :  I MADE A QUICK GLANCE OVER MY SHOULDER AND GRABBED AT MY GUN\n",
            "Prediction   :  I MID A QUICK SCLANCE OR RICH OLDER AND GRAP THAT MY GONE\n"
          ]
        },
        {
          "output_type": "stream",
          "name": "stderr",
          "text": [
            "Val:  63%|██████▎   | 107/169 [07:11<04:50,  4.69s/it, running_distance=28.9025]"
          ]
        },
        {
          "output_type": "stream",
          "name": "stdout",
          "text": [
            "\n",
            "Ground Truth :  I THOUGHT IT HAD BEEN TORN FROM MY SHOULDER\n",
            "Prediction   :  I THOUGHT IT HAD BEEN TORN FROM MY SHOULDER\n"
          ]
        },
        {
          "output_type": "stream",
          "name": "stderr",
          "text": [
            "Val:  64%|██████▍   | 108/169 [07:12<03:45,  3.70s/it, running_distance=28.7014]"
          ]
        },
        {
          "output_type": "stream",
          "name": "stdout",
          "text": [
            "\n",
            "Ground Truth :  A MAN IN THE WELL\n",
            "Prediction   :  A MAN ON THE WELL\n"
          ]
        },
        {
          "output_type": "stream",
          "name": "stderr",
          "text": [
            "Val:  64%|██████▍   | 109/169 [07:15<03:31,  3.52s/it, running_distance=28.6198]"
          ]
        },
        {
          "output_type": "stream",
          "name": "stdout",
          "text": [
            "\n",
            "Ground Truth :  A REGIMENT WAS SENT TO THE ATTACK IT WAS JIM'S REGIMENT\n",
            "Prediction   :  A REGIMENT WAS SENTLED THE ATTACK IT WAS JIM'S REGIMENT\n"
          ]
        },
        {
          "output_type": "stream",
          "name": "stderr",
          "text": [
            "Val:  65%|██████▌   | 110/169 [07:19<03:41,  3.76s/it, running_distance=28.5949]"
          ]
        },
        {
          "output_type": "stream",
          "name": "stdout",
          "text": [
            "\n",
            "Ground Truth :  WITH THIS EXCEPTION GWYNPLAINE'S LAUGH WAS EVERLASTING\n",
            "Prediction   :  WITH THIS EXCEPTION WHEN PLAINS LAP WAS EVER LASTING\n"
          ]
        },
        {
          "output_type": "stream",
          "name": "stderr",
          "text": [
            "Val:  66%|██████▌   | 111/169 [07:24<03:52,  4.02s/it, running_distance=28.6278]"
          ]
        },
        {
          "output_type": "stream",
          "name": "stdout",
          "text": [
            "\n",
            "Ground Truth :  THIS WAS THE OLD ESTABLISHMENT OF URSUS ITS PROPORTIONS AUGMENTED BY SUCCESS AND IMPROVED FROM A WRETCHED BOOTH INTO A THEATRE\n",
            "Prediction   :  THIS WAS THE OLD ESTABLISHMENT OF EARSES ITS PROPORTIONS AUGMENTED BY SUCCESS AND IMPROVED FROM IRRECHED BOTH INTO A THE EIGHTER IT A BUTTER AND IT A BITTER AND IT A PIERCE AND IT A BEAUT OF THE WOMENT AND IT A BUT IT A PIENDIA DREADED A BUTTER AND IT A THE ATOR\n"
          ]
        },
        {
          "output_type": "stream",
          "name": "stderr",
          "text": [
            "Val:  66%|██████▋   | 112/169 [07:28<03:52,  4.07s/it, running_distance=28.6975]"
          ]
        },
        {
          "output_type": "stream",
          "name": "stdout",
          "text": [
            "\n",
            "Ground Truth :  IT WAS ESTABLISHED AT SOUTHWARK\n",
            "Prediction   :  IT WAS ESTABLISHED ITS SOUTHWARK\n"
          ]
        },
        {
          "output_type": "stream",
          "name": "stderr",
          "text": [
            "Val:  67%|██████▋   | 113/169 [07:29<02:57,  3.17s/it, running_distance=28.5061]"
          ]
        },
        {
          "output_type": "stream",
          "name": "stdout",
          "text": [
            "\n",
            "Ground Truth :  EVEN THIS COMEDIAN OF JAWS AND CLAWS WAS ECLIPSED IN SUCCESS\n",
            "Prediction   :  EVEN THIS COMMEDIAN OF JAWS AND CLAWS WAS EQUIPSED IN SUCCESS\n"
          ]
        },
        {
          "output_type": "stream",
          "name": "stderr",
          "text": [
            "Val:  67%|██████▋   | 114/169 [07:33<03:03,  3.34s/it, running_distance=28.4035]"
          ]
        },
        {
          "output_type": "stream",
          "name": "stdout",
          "text": [
            "\n",
            "Ground Truth :  HE WOULD MAKE A FAMOUS SCOUNDREL\n",
            "Prediction   :  HE WOULD MAKE A FAMOUS SCOUNDREL\n"
          ]
        },
        {
          "output_type": "stream",
          "name": "stderr",
          "text": [
            "Val:  68%|██████▊   | 115/169 [07:34<02:24,  2.67s/it, running_distance=28.2033]"
          ]
        },
        {
          "output_type": "stream",
          "name": "stdout",
          "text": [
            "\n",
            "Ground Truth :  HE WAS HOWEVER BUT A CIVIL SERVANT A MAGISTRATE THE GOVERNOR OF THE ISLAND BARON TRAMPE\n",
            "Prediction   :  HE WAS HOWEVER BUT A CIVIL SERVANT A MAGISTRATE THE GOVERNOR OF THE ISLAND THERE IN TRAMP\n"
          ]
        },
        {
          "output_type": "stream",
          "name": "stderr",
          "text": [
            "Val:  69%|██████▊   | 116/169 [07:38<02:47,  3.16s/it, running_distance=28.1643]"
          ]
        },
        {
          "output_type": "stream",
          "name": "stdout",
          "text": [
            "\n",
            "Ground Truth :  OUR TWO HORSES WITH THE LUGGAGE FOLLOWED OF THEIR OWN ACCORD WITHOUT REQUIRING WHIP OR SPUR\n",
            "Prediction   :  OUR TWO HORSES WITH THE LUGGAGE FALLEN OF THEIR OWN ACCORD WITHOUT REQUIRING WITH OR SPUR\n"
          ]
        },
        {
          "output_type": "stream",
          "name": "stderr",
          "text": [
            "Val:  69%|██████▉   | 117/169 [07:41<02:42,  3.12s/it, running_distance=28.1015]"
          ]
        },
        {
          "output_type": "stream",
          "name": "stdout",
          "text": [
            "\n",
            "Ground Truth :  IN ANY CASE I SHALL TRUST RATHER TO MY OWN INTELLIGENCE THAN THEIRS\n",
            "Prediction   :  IN ANY CASE I SHALL TRUST RATHER TO MY OWN INTELLIGENCE THAN THERE'S\n"
          ]
        },
        {
          "output_type": "stream",
          "name": "stderr",
          "text": [
            "Val:  70%|██████▉   | 118/169 [07:47<03:12,  3.77s/it, running_distance=28.1128]"
          ]
        },
        {
          "output_type": "stream",
          "name": "stdout",
          "text": [
            "\n",
            "Ground Truth :  ONE OF NEWSOME'S CHIEF PLEASURES IN LIFE HAD BEEN THE EDUCATING OF HIS WOODLAND BRIDE AND IT WAS THE AMBITION OF BOTH THAT THE LITTLE MINNETAKI AND HER BROTHER BE REARED IN THE WAYS OF WHITE CHILDREN\n",
            "Prediction   :  ONE OF NUCEMS CHIEF PLEASURES AND LIFE HAD BEEN THE EDUCATING OF HIS WOULD THEN BRIDE AND IT WAS THE AMBITION OF BOTH THAT THE LITTLE MINUTALKI AND HER BROTHER BE REARED IN THE WAYS OF WHITE CHOTERN\n"
          ]
        },
        {
          "output_type": "stream",
          "name": "stderr",
          "text": [
            "Val:  70%|███████   | 119/169 [07:51<03:16,  3.93s/it, running_distance=28.0993]"
          ]
        },
        {
          "output_type": "stream",
          "name": "stdout",
          "text": [
            "\n",
            "Ground Truth :  CHAPTER SEVEN THE HOMECOMING\n",
            "Prediction   :  CHAPPER SEVEN THE HOME COMING\n"
          ]
        },
        {
          "output_type": "stream",
          "name": "stderr",
          "text": [
            "Val:  71%|███████   | 120/169 [07:54<02:57,  3.62s/it, running_distance=28.0094]"
          ]
        },
        {
          "output_type": "stream",
          "name": "stdout",
          "text": [
            "\n",
            "Ground Truth :  WE NEED KENTUCKY AND I UNDERSTAND THAT A VERY LITTLE MORE MAY BRING THE STATE TO US GO WITH YOUR FATHER I UNDERSTAND THAT YOU HAVE BEEN A BRAVE YOUNG SOLDIER HERE AND MAY YOU DO AS WELL UP THERE\n",
            "Prediction   :  WE NEED CONTUCKING AND I UNDERSTAND THAT A VERY LITTLE MORE MAY BRING THE STAY TO US GO WITH YOUR FATHER I UNDERSTAND THAT YOU HAVE BEEN A BRAVE YOUNG SOLDIER HERE AND MAY YOU DO WAS WELL UP THERE\n"
          ]
        },
        {
          "output_type": "stream",
          "name": "stderr",
          "text": [
            "Val:  72%|███████▏  | 121/169 [07:55<02:16,  2.85s/it, running_distance=27.8347]"
          ]
        },
        {
          "output_type": "stream",
          "name": "stdout",
          "text": [
            "\n",
            "Ground Truth :  IT WHIPPED HIS BLOOD AS IT BLEW DOWN FROM THE SLOPES AND CRESTS\n",
            "Prediction   :  A WIPPED HIS BLOOD AS A BLUE DOWN FROM A SLOWES AND CRESTS\n"
          ]
        },
        {
          "output_type": "stream",
          "name": "stderr",
          "text": [
            "Val:  72%|███████▏  | 122/169 [07:58<02:20,  3.00s/it, running_distance=27.8023]"
          ]
        },
        {
          "output_type": "stream",
          "name": "stdout",
          "text": [
            "\n",
            "Ground Truth :  JUST THEN HE WAS IN NO MOOD TO THINK OF THE SORROWS\n",
            "Prediction   :  JUST THEN HE WAS A NO MOOD TO THINK OF THE SORROWS\n"
          ]
        },
        {
          "output_type": "stream",
          "name": "stderr",
          "text": [
            "Val:  73%|███████▎  | 123/169 [08:02<02:32,  3.31s/it, running_distance=27.8166]"
          ]
        },
        {
          "output_type": "stream",
          "name": "stdout",
          "text": [
            "\n",
            "Ground Truth :  WHEN THOU LOVEST MAN OR WOMAN OR CHILD YEA OR EVEN DOG ARIGHT THEN WILT THOU NO LONGER NEED THAT I TELL THEE HOW GOD AND HIS CHRIST WOULD NOT BE CONTENT WITH EACH OTHER ALONE IN THE GLORIES EVEN OF THE ETERNAL ORIGINAL LOVE BECAUSE THEY COULD CREATE MORE LOVE\n",
            "Prediction   :  WHEN THOU LOVEST MAN OR CHILD YE OR EVEN DOG A RIGHT THEN WILL DOWN NO LONGER NEED THAT I TELL THEE HOW GOD AT HIS CHRIST WOULD NOT BE CONTENT WITH EACH OTHER ALONE IN THE GLOWERIES EVEN OF THE ETERNAL ORIGINAL LOVE BECAUSE THEY COULD CREAT MORE ALOVE\n"
          ]
        },
        {
          "output_type": "stream",
          "name": "stderr",
          "text": [
            "Val:  73%|███████▎  | 124/169 [08:04<02:05,  2.79s/it, running_distance=27.6578]"
          ]
        },
        {
          "output_type": "stream",
          "name": "stdout",
          "text": [
            "\n",
            "Ground Truth :  NO I AM THE LIGHTER OF THE TWO URGED TAD\n",
            "Prediction   :  NO I AM THE LIGHTER OF THE TWO EARCH HAD\n"
          ]
        },
        {
          "output_type": "stream",
          "name": "stderr",
          "text": [
            "Val:  74%|███████▍  | 125/169 [08:05<01:39,  2.26s/it, running_distance=27.5490]"
          ]
        },
        {
          "output_type": "stream",
          "name": "stdout",
          "text": [
            "\n",
            "Ground Truth :  LIGE LEANING OVER THE BRINK WAS ABLE TO FOLLOW THE BOY'S MOVEMENTS BY THE AID OF THE THIN ARC OF LIGHT MADE BY THE TORCH IN TAD'S HAND\n",
            "Prediction   :  LIGE LEANING OVER THE BRINK WAS ABLE TO FULL BOYS LOOFMENTS BY THE AID OF THIN ARCH OF LIGHT MADE BOTHER TORCH IN TAIN'S HAND\n"
          ]
        },
        {
          "output_type": "stream",
          "name": "stderr",
          "text": [
            "Val:  75%|███████▍  | 126/169 [08:08<01:52,  2.62s/it, running_distance=27.4385]"
          ]
        },
        {
          "output_type": "stream",
          "name": "stdout",
          "text": [
            "\n",
            "Ground Truth :  I RECKON THERE ARE SMILED THE GUIDE WE ARE IN THE BEAR COUNTRY NOW\n",
            "Prediction   :  I RECKON THERE ARE SMILED DEGITE WE ARE IN THE BARE COUNTRY NOW\n"
          ]
        },
        {
          "output_type": "stream",
          "name": "stderr",
          "text": [
            "Val:  75%|███████▌  | 127/169 [08:13<02:18,  3.30s/it, running_distance=27.6905]"
          ]
        },
        {
          "output_type": "stream",
          "name": "stdout",
          "text": [
            "\n",
            "Ground Truth :  THEY SAW HIS LONG HAIR ALMOST BRUSH THE GRASS ONE OF HIS HANDS SWEPT DOWN AND UP AND ONCE MORE TAD BUTLER ROSE STANDING IN HIS STIRRUPS UTTERING A COWBOY YELL AS HE WAVED THE SOMBRERO ON HIGH\n",
            "Prediction   :  THEY FELL HIS LONG HAIR ALMOST BRUSHED THE GRASS ONE AT HIS HANDS SWEPT DOWN AND UP IN WHAT'S MORE TED BUTLE ROSE STANDING IN A STRUPS UTTERINE A CALBLE YOUNELY'S HE WAY DISOBE BREAU WHEN HIGH\n"
          ]
        },
        {
          "output_type": "stream",
          "name": "stderr",
          "text": [
            "Val:  76%|███████▌  | 128/169 [08:15<01:53,  2.78s/it, running_distance=27.5781]"
          ]
        },
        {
          "output_type": "stream",
          "name": "stdout",
          "text": [
            "\n",
            "Ground Truth :  NONE OF YOU WILL BE FIT FOR DUTY TO MORROW\n",
            "Prediction   :  NOT EVIL WILL BE FIT FOR DUTY TO MORROW\n"
          ]
        },
        {
          "output_type": "stream",
          "name": "stderr",
          "text": [
            "Val:  76%|███████▋  | 129/169 [08:18<01:59,  2.99s/it, running_distance=27.5596]"
          ]
        },
        {
          "output_type": "stream",
          "name": "stdout",
          "text": [
            "\n",
            "Ground Truth :  ALMOST BEFORE THE ECHOES OF HIS VOICE HAD DIED AWAY A SHRILL VOICE PIPED UP FROM THE TAIL END OF THE CHUCK WAGON\n",
            "Prediction   :  ALMOST BEFORE THE ECHOES OF HIS LOY SAID DIED AWAY A SHRIEL OF VOICE TYP FROM THE TAIL INTO THE CHUCK WAGON\n"
          ]
        },
        {
          "output_type": "stream",
          "name": "stderr",
          "text": [
            "Val:  77%|███████▋  | 130/169 [08:22<02:02,  3.13s/it, running_distance=27.5399]"
          ]
        },
        {
          "output_type": "stream",
          "name": "stdout",
          "text": [
            "\n",
            "Ground Truth :  THEN THE WIND TOOK ANOTHER FROLIC ROUND THE GARDEN AND MADE UP TO THE LARGE WHITE LILY INTO WHOSE REFINED EAR HE WHISPERED A DOUBT AS TO THE NECESSITY OR ADVANTAGE OF HER THICK POWERFUL STEM BEING PROPPED UP AGAINST A STUPID UGLY STICK\n",
            "Prediction   :  THEN MONE TO TOOK ANOTHER FRALL AGROUND THE GARDEN AND MADE UP TO THE LARGE WHITE LILY AND WHOSE REFINED YEAR HE WHISPERED ADOUBT AS TO THE NECESSITY OR ADVANTAGE OF HER THICK POWERFUL STAM BEING PROPPED UP AGAINST A STUPID UDLY STICK\n"
          ]
        },
        {
          "output_type": "stream",
          "name": "stderr",
          "text": [
            "Val:  78%|███████▊  | 131/169 [08:27<02:18,  3.64s/it, running_distance=27.5329]"
          ]
        },
        {
          "output_type": "stream",
          "name": "stdout",
          "text": [
            "\n",
            "Ground Truth :  AFTER JUPITER HAD BOUND PROMETHEUS ON MOUNT CAUCASUS AND HAD SENT DISEASES AND CARES INTO THE WORLD MEN BECAME VERY VERY WICKED\n",
            "Prediction   :  AFTER JOUPITOR HAD BOUND PROMISIUS ON MOUNT COCKASSES AND ITS SENT DISEASES AND CARES INTO THE WORLD MEN BE KING VERY VERY VERY WITH A BITTER AND IT A PITE OF IT A PIERCE AND A PIERCE AND IT A PIEND OF A BARRAHAMMA DE GETTERED AND EUROPED IT A BEEN OF IT A NEW OF THE WORLD MEN BE KING VERY VERY WICKED\n"
          ]
        },
        {
          "output_type": "stream",
          "name": "stderr",
          "text": [
            "Val:  78%|███████▊  | 132/169 [08:32<02:29,  4.05s/it, running_distance=27.5308]"
          ]
        },
        {
          "output_type": "stream",
          "name": "stdout",
          "text": [
            "\n",
            "Ground Truth :  NOW FIFTEEN YEARS AFTER THE PRINCESS WAS BORN SHE WAS WITH THE KING AND QUEEN AT ONE OF THEIR CASTLES AND AS SHE WAS RUNNING ABOUT BY HERSELF SHE CAME TO A LITTLE CHAMBER AT THE TOP OF A TOWER AND THERE SAT AN HONEST OLD WOMAN SPINNING FOR SHE HAD NEVER HEARD OF THE KING'S EDICT\n",
            "Prediction   :  NOW FIFTEEN YEARS AFTER THE PRINCESS WAS BORN SHE WAS WITH THE KING AND QUEEN ONE OF THEIR CASTLES AND AS SHE WAS RUNNING ABOUT BY HERSELF SHE CAME TO A LITTLE CHAMBER AT THE TOP OF A TOWER AND THERE SAD AND HONEST OLD WOMAN SPINNING BUT SHE HAD NEVER HEARD OF THE CANG'S EATIC\n"
          ]
        },
        {
          "output_type": "stream",
          "name": "stderr",
          "text": [
            "Val:  79%|███████▊  | 133/169 [08:35<02:20,  3.90s/it, running_distance=27.5169]"
          ]
        },
        {
          "output_type": "stream",
          "name": "stdout",
          "text": [
            "\n",
            "Ground Truth :  HE TURNED TO SHOW THEM THE CASTLE BUT BEHOLD\n",
            "Prediction   :  HE TURNED TO SHOWED ON THE CASTLE BUT BEHOLD\n"
          ]
        },
        {
          "output_type": "stream",
          "name": "stderr",
          "text": [
            "Val:  79%|███████▉  | 134/169 [08:41<02:38,  4.52s/it, running_distance=27.6828]"
          ]
        },
        {
          "output_type": "stream",
          "name": "stdout",
          "text": [
            "\n",
            "Ground Truth :  I KNOW IT AND THERE IS NO WAKING\n",
            "Prediction   :  I KNOW IT AND THERE IS NO WAKING\n"
          ]
        },
        {
          "output_type": "stream",
          "name": "stderr",
          "text": [
            "Val:  80%|███████▉  | 135/169 [08:46<02:34,  4.55s/it, running_distance=27.7306]"
          ]
        },
        {
          "output_type": "stream",
          "name": "stdout",
          "text": [
            "\n",
            "Ground Truth :  THE KEEN WIND THRUST ITSELF EVEN INSIDE THE HIGH COLLAR OF HER JACKET\n",
            "Prediction   :  THE KEEM WEND THRUST ITSELF EVEN INSIDE THE HIGH COLOUR OF HER JACKET\n"
          ]
        },
        {
          "output_type": "stream",
          "name": "stderr",
          "text": [
            "Val:  80%|████████  | 136/169 [08:47<01:54,  3.48s/it, running_distance=27.5864]"
          ]
        },
        {
          "output_type": "stream",
          "name": "stdout",
          "text": [
            "\n",
            "Ground Truth :  AND HE STRODE DOWN BETWEEN THE MARBLE TABLES AND OUT BY THE SWING DOOR IT WAS A VERY GOOD EXIT\n",
            "Prediction   :  AND HE STREAMED DOWN BETWEEN THE MARBLE TABLES AND OUT BY THE SWINGDOOR IT WAS A VERY GOOD EXIT\n"
          ]
        },
        {
          "output_type": "stream",
          "name": "stderr",
          "text": [
            "Val:  81%|████████  | 137/169 [08:52<02:10,  4.09s/it, running_distance=27.5242]"
          ]
        },
        {
          "output_type": "stream",
          "name": "stdout",
          "text": [
            "\n",
            "Ground Truth :  HER LITTLE FOOT TAPPED THE GRAVEL IMPATIENTLY\n",
            "Prediction   :  HER LITTLE THAT TAPPED THE GRAVELIMPATIENTLY\n"
          ]
        },
        {
          "output_type": "stream",
          "name": "stderr",
          "text": [
            "Val:  82%|████████▏ | 138/169 [08:57<02:08,  4.15s/it, running_distance=27.5276]"
          ]
        },
        {
          "output_type": "stream",
          "name": "stdout",
          "text": [
            "\n",
            "Ground Truth :  SERVE WITH FRENCH DRESSING HIDDEN UNDER THE LEAVES OF THE NEST\n",
            "Prediction   :  SERVE WITH RUNCH DRESSING HIDDEN UNDER THE LEAVES OF THE NEST\n"
          ]
        },
        {
          "output_type": "stream",
          "name": "stderr",
          "text": [
            "Val:  82%|████████▏ | 139/169 [09:01<02:04,  4.15s/it, running_distance=27.5629]"
          ]
        },
        {
          "output_type": "stream",
          "name": "stdout",
          "text": [
            "\n",
            "Ground Truth :  THIS DRESSING SHOULD STAND IN THE ICE BOX FOUR OR FIVE HOURS TO BECOME SEASONED\n",
            "Prediction   :  THIS DRESSING SHOULD STAND IN THE ICE BOX FOUR OR FIVE HOURS TO BECOME SEASONED\n"
          ]
        },
        {
          "output_type": "stream",
          "name": "stderr",
          "text": [
            "Val:  83%|████████▎ | 140/169 [09:06<02:13,  4.60s/it, running_distance=27.6482]"
          ]
        },
        {
          "output_type": "stream",
          "name": "stdout",
          "text": [
            "\n",
            "Ground Truth :  IN THIS SAME DISTRICT IS THE MINT IN COMMERCIAL STREET BETWEEN MONTGOMERY AND KEARNY STREETS\n",
            "Prediction   :  IN THE SAME DISTRICT IS THE MEANT IN COMMERCIAL STREET BETWEEN MUT GOMERIAN CARONEY STREETS\n"
          ]
        },
        {
          "output_type": "stream",
          "name": "stderr",
          "text": [
            "Val:  83%|████████▎ | 141/169 [09:11<02:05,  4.48s/it, running_distance=27.6432]"
          ]
        },
        {
          "output_type": "stream",
          "name": "stdout",
          "text": [
            "\n",
            "Ground Truth :  STRAIN THE SAUCE THROUGH A FINE COLLANDER AND ADD A FEW RAISINS A PIECE OF HONEY CAKE OR GINGER SNAPS AND THE MEAT OF ONE FRESH TOMATO\n",
            "Prediction   :  STRAINED THE SAWS THROUGH A FINE COLLENDER AN ADDEFUE RAISONS A PIECE OF HUNNY CAKE OR GENGER SNAPS AND THE MEET OF ONE FRESH AND EUGHTER AND WHEN A BEEN A WHICH A BEAUT OF THE HEARTHER AND IT A BEAUT OF GUISH AND HERE IT AND EUGHTER AND IT A BITTER AND IT AND THE MEET OF ONE FRESH TO MADE OME\n"
          ]
        },
        {
          "output_type": "stream",
          "name": "stderr",
          "text": [
            "Val:  84%|████████▍ | 142/169 [09:12<01:40,  3.71s/it, running_distance=27.5392]"
          ]
        },
        {
          "output_type": "stream",
          "name": "stdout",
          "text": [
            "\n",
            "Ground Truth :  LACRIMA CHRISTI A STILL WINE OF EXCELLENT FLAVOR AND BOUQUET\n",
            "Prediction   :  LOOKERY MACRISTY A STILL WINE OF EXCELLENT FLAVOUR IN BOOKEY\n"
          ]
        },
        {
          "output_type": "stream",
          "name": "stderr",
          "text": [
            "Val:  85%|████████▍ | 143/169 [09:16<01:36,  3.73s/it, running_distance=27.5590]"
          ]
        },
        {
          "output_type": "stream",
          "name": "stdout",
          "text": [
            "\n",
            "Ground Truth :  THE POSSESSORS OF PROPERTY HAD NOT ONLY TO FACE THE AWAKENED PROLETARIAT BUT THEY HAD ALSO TO FIGHT AMONGST THEMSELVES YES\n",
            "Prediction   :  THAT POSSESSORS OF POPHLY HAD NOT OWING TO FACE THEY WAKEN POLITARY IT BUT THEY HAD ALSO TO FIGHT A MUCKS THEMSELVES YES ARE A WHICH A BUTTER AND IT A PIERCE AND WHICH A BEEN A WHILE IT A BEEN A BEAUT OF THE HEARTHER AUNT OF THE REMED IT AND IT ALSO TO FIGHT A MUST THEMSELVES YES\n"
          ]
        },
        {
          "output_type": "stream",
          "name": "stderr",
          "text": [
            "Val:  85%|████████▌ | 144/169 [09:21<01:40,  4.01s/it, running_distance=27.6589]"
          ]
        },
        {
          "output_type": "stream",
          "name": "stdout",
          "text": [
            "\n",
            "Ground Truth :  HIS OWN SKIN HAD SIZZLED UNDER THE RED HOT BRAND HE MURMURED SOFTLY\n",
            "Prediction   :  HIS OWN SKIN HAD SIZZLED OUT HIS RED HOT GRANTEMERATE SOFTLY\n"
          ]
        },
        {
          "output_type": "stream",
          "name": "stderr",
          "text": [
            "Val:  86%|████████▌ | 145/169 [09:24<01:26,  3.60s/it, running_distance=27.6211]"
          ]
        },
        {
          "output_type": "stream",
          "name": "stdout",
          "text": [
            "\n",
            "Ground Truth :  HE WAS NOT SATISFIED WITH HIS FRIENDS\n",
            "Prediction   :  HE WAS NOT SATISFIED WITH HIS FRIENDS\n"
          ]
        },
        {
          "output_type": "stream",
          "name": "stderr",
          "text": [
            "Val:  86%|████████▋ | 146/169 [09:26<01:16,  3.32s/it, running_distance=27.5762]"
          ]
        },
        {
          "output_type": "stream",
          "name": "stdout",
          "text": [
            "\n",
            "Ground Truth :  IT'S LIKE YOUR HORSE SUDDENLY FALLING DEAD UNDER YOU IN THE MIDST OF AN UNINHABITED AND THIRSTY PLAIN\n",
            "Prediction   :  IT'S LIKE YOUR HORSE SOMELY FALLING DEAD UNDER YOU AND THEN THICH SOME AND ON IT HABITED AND THIRSTY PLAIN\n"
          ]
        },
        {
          "output_type": "stream",
          "name": "stderr",
          "text": [
            "Val:  87%|████████▋ | 147/169 [09:31<01:19,  3.60s/it, running_distance=27.5757]"
          ]
        },
        {
          "output_type": "stream",
          "name": "stdout",
          "text": [
            "\n",
            "Ground Truth :  HE GLARED AT ME AS IF HE DIDN'T KNOW WHO I WAS WHEN I WENT DOWNSTAIRS\n",
            "Prediction   :  HE GLARED IN ME AS IF IT DIDN'T KNOW WHO I WAS WHEN IT WENT DOWN STAIRS\n"
          ]
        },
        {
          "output_type": "stream",
          "name": "stderr",
          "text": [
            "Val:  88%|████████▊ | 148/169 [09:35<01:18,  3.75s/it, running_distance=27.5258]"
          ]
        },
        {
          "output_type": "stream",
          "name": "stdout",
          "text": [
            "\n",
            "Ground Truth :  HIS SUCCESS SEEMS TO HAVE BEEN THE OUTGROWTH OF HARD STUDY AND ABILITY TO PERFORM THE MOST EXHAUSTIVE LABOR WITHOUT FATIGUE\n",
            "Prediction   :  HIS SUCCESS SEEMS TO HAVE BEEN THE OUTGROWTH OF HARD STUDY AND ABILITY TO PERFORM THE MOST EXHAUST OF LABOR WITHOUT FAIR AND EUGHTER IT A BEEN A DIERCHELLED HER AND IT A PIENDIA DID WITH A BEEN A LIKE AND EUGHT OF BEEN A BEAUT OF MIGHTER AND ABILITY TO PERFORM THE MOST EXHAUST OF LABOUR WITHOUT FATI\n"
          ]
        },
        {
          "output_type": "stream",
          "name": "stderr",
          "text": [
            "Val:  88%|████████▊ | 149/169 [09:38<01:14,  3.71s/it, running_distance=27.5436]"
          ]
        },
        {
          "output_type": "stream",
          "name": "stdout",
          "text": [
            "\n",
            "Ground Truth :  I THOUGHT THAT WAS THE WAY TO BEGIN\n",
            "Prediction   :  I THOUGHT THAT WAS THE WAY TO BEGIN\n"
          ]
        },
        {
          "output_type": "stream",
          "name": "stderr",
          "text": [
            "Val:  89%|████████▉ | 150/169 [09:41<01:03,  3.33s/it, running_distance=27.4650]"
          ]
        },
        {
          "output_type": "stream",
          "name": "stdout",
          "text": [
            "\n",
            "Ground Truth :  WELL OUR LOWER LIPS ANYWAY ANSWERED THE NYMPH\n",
            "Prediction   :  WELL OUR LOWER LIPS ANYWAY ANSWERED THE NIMPH\n"
          ]
        },
        {
          "output_type": "stream",
          "name": "stderr",
          "text": [
            "Val:  89%|████████▉ | 151/169 [09:47<01:13,  4.09s/it, running_distance=27.6349]"
          ]
        },
        {
          "output_type": "stream",
          "name": "stdout",
          "text": [
            "\n",
            "Ground Truth :  IT WAS INDEED HER HANDWRITING\n",
            "Prediction   :  IT WAS INDEED HER HANDWRITING\n"
          ]
        },
        {
          "output_type": "stream",
          "name": "stderr",
          "text": [
            "Val:  90%|████████▉ | 152/169 [09:53<01:24,  4.94s/it, running_distance=27.8495]"
          ]
        },
        {
          "output_type": "stream",
          "name": "stdout",
          "text": [
            "\n",
            "Ground Truth :  MY OWN REGIMENT WAS IN THE ADVANCE\n",
            "Prediction   :  MY UNREGIMENT WAS IN THE ADVANCE\n"
          ]
        },
        {
          "output_type": "stream",
          "name": "stderr",
          "text": [
            "Val:  91%|█████████ | 153/169 [09:55<01:02,  3.91s/it, running_distance=27.7410]"
          ]
        },
        {
          "output_type": "stream",
          "name": "stdout",
          "text": [
            "\n",
            "Ground Truth :  I COULD NOT HELP MY FRIEND\n",
            "Prediction   :  I COULD NOT HELD MY FRIEND\n"
          ]
        },
        {
          "output_type": "stream",
          "name": "stderr",
          "text": [
            "Val:  91%|█████████ | 154/169 [09:58<00:53,  3.58s/it, running_distance=27.6449]"
          ]
        },
        {
          "output_type": "stream",
          "name": "stdout",
          "text": [
            "\n",
            "Ground Truth :  WHEN IT WAS EVENING HE LED HIS BAND INTO A NEARBY STREET AND IN HIS DISGUISE APPROACHED THE MERCHANT'S HOUSE HE KNOCKED AT THE DOOR\n",
            "Prediction   :  WHEN IT WAS EVENING HE LED HIS BANDONED TO A NEAR BY STREET AND IN HIS DISGUISE APPROACHED THE MERCHAN'S HOUSE HE KNOCKED A BUT IT A BUT IT A PIEND A WHICH A BUTTOGET AND A PIERCE AND A VICAN A BEAUT A PIEND OF HIS AND A READY OF THE DOOR\n"
          ]
        },
        {
          "output_type": "stream",
          "name": "stderr",
          "text": [
            "Val:  92%|█████████▏| 155/169 [10:01<00:48,  3.48s/it, running_distance=27.5601]"
          ]
        },
        {
          "output_type": "stream",
          "name": "stdout",
          "text": [
            "\n",
            "Ground Truth :  I PROMISE YOU I WILL DO YOU NO HARM\n",
            "Prediction   :  I'D PROMISED YOU I WILL DO YOU KNOW HARM\n"
          ]
        },
        {
          "output_type": "stream",
          "name": "stderr",
          "text": [
            "Val:  92%|█████████▏| 156/169 [10:04<00:43,  3.35s/it, running_distance=27.4651]"
          ]
        },
        {
          "output_type": "stream",
          "name": "stdout",
          "text": [
            "\n",
            "Ground Truth :  WE ARE GOING INTO THE FOREST TO HEW WOOD AND IN THE EVENING WHEN WE ARE READY WE WILL COME AND FETCH YOU AGAIN\n",
            "Prediction   :  WE ARE GOING INTO THE FORCE TO HUE WOULD AND IN THE EVENING WHEN WERE READY WE'LL COME IN FECTUE AGAIN\n"
          ]
        },
        {
          "output_type": "stream",
          "name": "stderr",
          "text": [
            "Val:  93%|█████████▎| 157/169 [10:09<00:44,  3.68s/it, running_distance=27.6417]"
          ]
        },
        {
          "output_type": "stream",
          "name": "stdout",
          "text": [
            "\n",
            "Ground Truth :  RANDAL WAITED A WHILE IN LONDON ON THE CHANCE THAT BENNYDECK MIGHT PAY HIM A VISIT\n",
            "Prediction   :  FRAND ALWAITED WHILE IN LONDON ON THE CHANCE THAT BANY DICK MIGHT PAY HIM OF HIS IT\n"
          ]
        },
        {
          "output_type": "stream",
          "name": "stderr",
          "text": [
            "Val:  93%|█████████▎| 158/169 [10:15<00:49,  4.49s/it, running_distance=27.7093]"
          ]
        },
        {
          "output_type": "stream",
          "name": "stdout",
          "text": [
            "\n",
            "Ground Truth :  I TRIED IT YESTERDAY IT SET MY BRAINS ON FIRE I'M FEELING THAT GLASS I TOOK JUST NOW\n",
            "Prediction   :  I TRY TO GUESS TO DAY IT IT SET MY BRAINS ON FIRE I'M FEELING THAT GLASS I TOOK JUST NOW\n"
          ]
        },
        {
          "output_type": "stream",
          "name": "stderr",
          "text": [
            "Val:  94%|█████████▍| 159/169 [10:16<00:35,  3.56s/it, running_distance=27.5700]"
          ]
        },
        {
          "output_type": "stream",
          "name": "stdout",
          "text": [
            "\n",
            "Ground Truth :  HOW NICE OF YOU TO COME SO SOON SHE BEGAN\n",
            "Prediction   :  HOW NICE OF YOU TO COME SO SOON SHE BEGAN\n"
          ]
        },
        {
          "output_type": "stream",
          "name": "stderr",
          "text": [
            "Val:  95%|█████████▍| 160/169 [10:17<00:25,  2.83s/it, running_distance=27.4266]"
          ]
        },
        {
          "output_type": "stream",
          "name": "stdout",
          "text": [
            "\n",
            "Ground Truth :  SHE ASKED DIRECTLY IF HER FATHER WAS DEAD\n",
            "Prediction   :  SHE ASKED DIRECTLY IF HER FATHER WAS DEAD\n"
          ]
        },
        {
          "output_type": "stream",
          "name": "stderr",
          "text": [
            "Val:  95%|█████████▌| 161/169 [10:22<00:26,  3.35s/it, running_distance=27.4286]"
          ]
        },
        {
          "output_type": "stream",
          "name": "stdout",
          "text": [
            "\n",
            "Ground Truth :  HE HAD PROMISED TO DO HIS BEST TOWARD PERSUADING CATHERINE TO GRANT SYDNEY AN INTERVIEW\n",
            "Prediction   :  HE HAD PROMISED TO DO HIS BEST TOWARD PERSUADING CATHER INTO GRANCE SITNEY AND INTERVIEWN\n"
          ]
        },
        {
          "output_type": "stream",
          "name": "stderr",
          "text": [
            "Val:  96%|█████████▌| 162/169 [10:26<00:24,  3.54s/it, running_distance=27.3650]"
          ]
        },
        {
          "output_type": "stream",
          "name": "stdout",
          "text": [
            "\n",
            "Ground Truth :  OH YOU RAVE SIR EXCLAIMED VILLEFORT IN VAIN ENDEAVORING TO ESCAPE THE NET IN WHICH HE WAS TAKEN I RAVE\n",
            "Prediction   :  OH YOU RAVE SIR EXCLAIMED VILLEFORT IN VAIN AND DOUBBERING TO ESCAPE THE NETTING WHICH HE WAS TAKEN I RAVE\n"
          ]
        },
        {
          "output_type": "stream",
          "name": "stderr",
          "text": [
            "Val:  96%|█████████▋| 163/169 [10:30<00:22,  3.77s/it, running_distance=27.3321]"
          ]
        },
        {
          "output_type": "stream",
          "name": "stdout",
          "text": [
            "\n",
            "Ground Truth :  THE DISTRICT DOCTOR APPROACHED WITH THE INDIFFERENCE OF A MAN ACCUSTOMED TO SPEND HALF HIS TIME AMONGST THE DEAD HE THEN LIFTED THE SHEET WHICH WAS PLACED OVER THE FACE AND JUST UNCLOSED THE LIPS\n",
            "Prediction   :  THE DISTRICHED OCTOR APPROACHED WITH THE INDIFFERENCE OF A MAN ACCUSTOMED TO SPAN TO HALF HIS TIME AMONGST THE DEAD HE THEN LITTED THE SHEET WHICH WAS PLACE OVER THE FACE AND JUST UNCLOSED TO THE LIPS\n"
          ]
        },
        {
          "output_type": "stream",
          "name": "stderr",
          "text": [
            "Val:  97%|█████████▋| 164/169 [10:35<00:19,  3.93s/it, running_distance=27.4874]"
          ]
        },
        {
          "output_type": "stream",
          "name": "stdout",
          "text": [
            "\n",
            "Ground Truth :  NOW HELICON MUST NEEDS POUR FORTH FOR ME AND WITH HER CHOIR URANIA MUST ASSIST ME TO PUT IN VERSE THINGS DIFFICULT TO THINK\n",
            "Prediction   :  NOW HELL ACALL MUST NEEDS POOR FORTH FOR ME AND WITH HER QUIRE YOUR ROUNDIA MUST ASSIST ME TO PUT INVERSE THINGS DIFFICULT TO THINK OF MERCHANTED A PIERCE AND IT A BEAUT OF THE HEARTHER AND IT A BEAUT A PIEND A NEW OF THE REMET AND IT AND THE BABY'S A NEW OF THE WINK\n"
          ]
        },
        {
          "output_type": "stream",
          "name": "stderr",
          "text": [
            "Val:  98%|█████████▊| 165/169 [10:40<00:17,  4.45s/it, running_distance=28.0167]"
          ]
        },
        {
          "output_type": "stream",
          "name": "stdout",
          "text": [
            "\n",
            "Ground Truth :  LOOK AT ME WELL IN SOOTH I'M BEATRICE\n",
            "Prediction   :  LOOK AM YOU WELL INSUICE I'M BEATRESS\n"
          ]
        },
        {
          "output_type": "stream",
          "name": "stderr",
          "text": [
            "Val:  98%|█████████▊| 166/169 [10:47<00:15,  5.13s/it, running_distance=28.3716]"
          ]
        },
        {
          "output_type": "stream",
          "name": "stdout",
          "text": [
            "\n",
            "Ground Truth :  ON JANUARY TWENTY FIFTH HE WROTE MANY AND MANY THANKS FOR A MOST ESSENTIAL SERVICE MOST THOROUGHLY PERFORMED\n",
            "Prediction   :  UNGENIORY TWENTY FIFTH HE ROTE MANY THANKS FOR A MOST ESSENTIAL SERVICE MOST THOROUGHLY PERFORMED\n"
          ]
        },
        {
          "output_type": "stream",
          "name": "stderr",
          "text": [
            "Val:  99%|█████████▉| 167/169 [10:52<00:09,  4.97s/it, running_distance=28.3743]"
          ]
        },
        {
          "output_type": "stream",
          "name": "stdout",
          "text": [
            "\n",
            "Ground Truth :  THE FIRST PART IS DIVIDED INTO FOUR\n",
            "Prediction   :  THE FIRST PARTIST DIVIDED INTO FOUR\n"
          ]
        },
        {
          "output_type": "stream",
          "name": "stderr",
          "text": [
            "Val:  99%|█████████▉| 168/169 [10:56<00:04,  4.81s/it, running_distance=28.4048]"
          ]
        },
        {
          "output_type": "stream",
          "name": "stdout",
          "text": [
            "\n",
            "Ground Truth :  AND IN HIS SPEECH HE LAUGH'D AND LAUGH'D AGAIN THEN WHILE IT WAS HIS PLEASURE TO REMAIN I CHANCED TO LOOK THE WAY HE HAD DRAWN NEAR AND SAW THE LADIES JOAN AND BEATRICE APPROACH ME THIS THE OTHER FOLLOWING ONE AND A SECOND MARVEL INSTANTLY\n",
            "Prediction   :  IT IN HIS PEECH HE LAUGHED AND MAFT AGAIN THEN WHILE IT WAS HIS PLEASURED REMAIN I CHANCED TO LOOK THE WAY HE HAD DRAWN NEAR AND SAW THE LADIES JONE OF BEATRESS APPROACH ME THIS THE OTHER FOLLOWING ONE AND A SECOND MARBLE INSTANTLY\n"
          ]
        },
        {
          "output_type": "stream",
          "name": "stderr",
          "text": [
            "                                                                                "
          ]
        },
        {
          "output_type": "stream",
          "name": "stdout",
          "text": [
            "\n",
            "Ground Truth :  THOU LIKE ARCTURUS STEADFAST IN THE SKIES WITH TARDY SENSE GUIDEST THY KINGDOM FAIR BEARING ALONE THE LOAD OF LIBERTY\n",
            "Prediction   :  THOU LIKE ARTERESS STEADFAST AND A SKYS WITH TARTY SENSE GUIDEST BY KINGDOM FAIR BEARING ALONE THE LOAD OF LIBERTY\n"
          ]
        },
        {
          "output_type": "stream",
          "name": "stderr",
          "text": [
            "\r"
          ]
        }
      ]
    },
    {
      "cell_type": "markdown",
      "metadata": {
        "id": "hgFYFaBGeBqM"
      },
      "source": [
        "## Testing"
      ]
    },
    {
      "cell_type": "code",
      "source": [
        "model.eval()\n",
        "\n",
        "# progress bar\n",
        "batch_bar = tqdm(total=len(test_loader), dynamic_ncols=True, leave=False, position=0, desc=\"Test\", ncols=5)\n",
        "\n",
        "all_predictions = []\n",
        "\n",
        "for i, data in enumerate(test_loader):\n",
        "    inputs, inputs_lengths = data\n",
        "    inputs                 = inputs.to(device)\n",
        "\n",
        "    with torch.inference_mode():\n",
        "        greedy_predictions = model.recognize(inputs, inputs_lengths)\n",
        "\n",
        "    greedy_predictions = greedy_predictions.detach().cpu().numpy()\n",
        "\n",
        "    for batch_idx in range(greedy_predictions.shape[0]):\n",
        "        pred_sliced = indices_to_chars(greedy_predictions[batch_idx], vocab= VOCAB)\n",
        "        pred_string = ''.join(pred_sliced)\n",
        "        all_predictions.append(pred_string)\n",
        "\n",
        "    batch_bar.update()"
      ],
      "metadata": {
        "id": "vVKku0SQW8y6",
        "colab": {
          "base_uri": "https://localhost:8080/"
        },
        "outputId": "9d96365c-087a-44f9-baeb-b1859defa02d"
      },
      "execution_count": null,
      "outputs": [
        {
          "output_type": "stream",
          "name": "stderr",
          "text": [
            "Test: 100%|██████████| 164/164 [10:12<00:00,  3.58s/it]"
          ]
        }
      ]
    },
    {
      "cell_type": "code",
      "source": [
        "%cd /content/\n",
        "df = pd.DataFrame({\n",
        "    \"index\" : list(range(len(all_predictions))),\n",
        "    \"label\" : all_predictions\n",
        "})\n",
        "\n",
        "df.to_csv(\"test.csv\", index=False)"
      ],
      "metadata": {
        "id": "XH9kvWIz5_9Z",
        "colab": {
          "base_uri": "https://localhost:8080/"
        },
        "outputId": "262436e6-6eb5-4245-edf8-594b83be7434"
      },
      "execution_count": null,
      "outputs": [
        {
          "output_type": "stream",
          "name": "stdout",
          "text": [
            "/content\n"
          ]
        }
      ]
    },
    {
      "cell_type": "code",
      "source": [
        "!kaggle competitions submit -c hw4p2-sp24 -f test.csv -m \"HW4P2 Preliminary Submission\""
      ],
      "metadata": {
        "id": "LQP8QgXnAxqP",
        "colab": {
          "base_uri": "https://localhost:8080/"
        },
        "outputId": "24783489-bcc8-44c5-df78-53cd0f52656a"
      },
      "execution_count": null,
      "outputs": [
        {
          "output_type": "stream",
          "name": "stdout",
          "text": [
            "403 - Forbidden\n"
          ]
        }
      ]
    },
    {
      "cell_type": "code",
      "source": [
        "# TODO Sumbit predictions to Kaggle"
      ],
      "metadata": {
        "id": "Gyb5IUOu6Ba3"
      },
      "execution_count": null,
      "outputs": []
    },
    {
      "cell_type": "markdown",
      "source": [
        "# PART #2 Full Transformer (Encoder-Decoder)\n",
        "\n",
        "Using an LSTM encoder helps to capture some dependencies in the input sequence which helps the transformer decoder to decode. However, we can do more than that. The transformer encoder plays a crucial role by processing the input sequence into a high-dimensional space, capturing complex relationships between elements. It uses self-attention to understand the context around each feature, enabling the model to grasp subtle nuances and dependencies, crucial for our speech recognition task and improving performance."
      ],
      "metadata": {
        "id": "eccQFlez6Kr3"
      }
    },
    {
      "cell_type": "markdown",
      "source": [
        "![image.png](data:image/png;base64,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)"
      ],
      "metadata": {
        "id": "RIDOlW7v8BUk"
      }
    },
    {
      "cell_type": "markdown",
      "source": [
        "Tips in completing this section\n",
        "\n",
        "* We will use the LSTM Encoder as input embedding.\n",
        "* How many multi-head attention modules do we have.\n",
        "* Can you seperate the encoder layer from the whole encoder architecture ?\n",
        "* How do  we implement skip  connections\n",
        "* How many layer norms do we have ?"
      ],
      "metadata": {
        "id": "dooU-7ld8GZ4"
      }
    },
    {
      "cell_type": "markdown",
      "source": [
        "## Transformer Encoder"
      ],
      "metadata": {
        "id": "kH7Lz9tPgtb0"
      }
    },
    {
      "cell_type": "code",
      "source": [
        "class EncoderLayer(torch.nn.Module):\n",
        "    def __init__(self, d_model, num_heads, d_ff, dropout=0.1):\n",
        "        super().__init__()\n",
        "\n",
        "        # @TODO: fill in the blanks appropriately (given the modules above)\n",
        "        self.mha        = MultiHeadAttention(num_heads, d_model, dropout)\n",
        "        self.ffn        = FeedForward(d_model, d_ff, dropout)\n",
        "\n",
        "        self.layernorm1 = torch.nn.LayerNorm(d_model)\n",
        "        self.layernorm2 = torch.nn.LayerNorm(d_model)\n",
        "        self.dropout1   = torch.nn.Dropout(dropout)\n",
        "        self.dropout2   = torch.nn.Dropout(dropout)\n",
        "\n",
        "    def forward(self, inp):\n",
        "\n",
        "        # Multi-Head Attention\n",
        "        #   (1) perform Multi-Head Attention on inp\n",
        "        ''' TODO '''\n",
        "        mha_out1, attn1 = self.mha(inp, inp, inp)\n",
        "\n",
        "        # Feed Forward Network\n",
        "        #   (1) apply feed forward layer\n",
        "        ''' TODO '''\n",
        "        ffn_out = self.ffn(mha_out1)\n",
        "\n",
        "        # Skip (Residual) Connection\n",
        "        #   (1) perform dropout\n",
        "        #   (2) add the input as a skip connection\n",
        "        ''' TODO '''\n",
        "        out1 = self.dropout1(ffn_out)\n",
        "        out1 += inp\n",
        "\n",
        "        # Layer Normalization\n",
        "        #   (1) call layernorm on this resulting value\n",
        "        ''' TODO '''\n",
        "        out1 = self.layernorm1(out1)\n",
        "\n",
        "        # Feed Forward Network\n",
        "        #   (1) apply feed forward layer\n",
        "        ''' TODO '''\n",
        "        ffn_out2 = self.ffn(out1)\n",
        "\n",
        "        # Skip (Residual) Connection\n",
        "        #   (1) perform dropout\n",
        "        #   (2) add the output of the first layernorm as a skip connection\n",
        "        ''' TODO '''\n",
        "        out2 = self.dropout2(ffn_out2)\n",
        "        out2 += out1\n",
        "\n",
        "        # Layer Normalization\n",
        "        #   (1) call layernorm on this resulting value\n",
        "        ''' TODO '''\n",
        "        output = self.layernorm2(out2)\n",
        "\n",
        "        return output"
      ],
      "metadata": {
        "id": "DAw0eHIt0gez"
      },
      "execution_count": null,
      "outputs": []
    },
    {
      "cell_type": "code",
      "source": [
        "class Encoder(torch.nn.Module):\n",
        "    def __init__(self, input_dim, num_layers, d_model, num_heads, d_ff, dropout=0.1):\n",
        "        super(Encoder, self).__init__()\n",
        "\n",
        "        # @TODO: fill in the blanks appropriately (given the modules above and P1 setup)\n",
        "        self.embedding      = CNN_LSTM_Encoder(input_dim, 256, dropout) #torch.nn.Embedding(input_dim, d_model)\n",
        "        self.projection     = torch.nn.Linear(1024, d_model)\n",
        "        self.pos_encoding   = PositionalEncoding(d_model)\n",
        "\n",
        "        self.num_layers     = num_layers\n",
        "\n",
        "        # concatenating all num_layers EncoderLayer blocks\n",
        "        self.enc_layers     = torch.nn.ModuleList([EncoderLayer(d_model, num_heads, d_ff, dropout) for _ in range(num_layers)])\n",
        "\n",
        "        self.dropout        = torch.nn.Dropout(dropout)\n",
        "        self.layernorm      = torch.nn.LayerNorm(d_model)\n",
        "\n",
        "    def forward(self, x, input_lengths):\n",
        "\n",
        "        # apply the CNN-LSTM Encoder (embedding)\n",
        "        ''' TODO '''\n",
        "        out, enc_lens = self.embedding(x, input_lengths)\n",
        "\n",
        "        # adding projection layer to change dimension of encoder_outputs to match d_model\n",
        "        ''' TODO '''\n",
        "        out = self.projection(out)\n",
        "\n",
        "        # apply Positional Encoding on these extracted features\n",
        "        ''' TODO '''\n",
        "        out = self.pos_encoding(out)\n",
        "\n",
        "        # apply dropout as regularization technique\n",
        "        ''' TODO '''\n",
        "        out = self.dropout(out)\n",
        "\n",
        "        # passing inputs through Transformer Encoder blocks\n",
        "        for i in range(self.num_layers):\n",
        "            out = self.enc_layers[i](out)\n",
        "\n",
        "        # # Layer Normalization\n",
        "        # ''' TODO '''\n",
        "        # output = self.layernorm(out)\n",
        "\n",
        "        # return output\n",
        "\n",
        "        return out, enc_lens"
      ],
      "metadata": {
        "id": "9K0aEZhz0y8v"
      },
      "execution_count": null,
      "outputs": []
    },
    {
      "cell_type": "code",
      "execution_count": null,
      "metadata": {
        "id": "wPL9Xgl50AVr"
      },
      "outputs": [],
      "source": [
        "class FullTransformer(torch.nn.Module):\n",
        "    def __init__(self, input_dim, enc_num_layers, dec_num_layers, enc_num_heads, dec_num_heads,\n",
        "                 d_model, d_ff, target_vocab_size, eos_token, sos_token,\n",
        "                 pad_token, dropout=0.1, trans_max_seq_length=550, mfcc_max_seq_length=3260):\n",
        "\n",
        "        super(FullTransformer, self).__init__()\n",
        "\n",
        "        # self.encoder = Encoder(input_dim, enc_num_layers, d_model, enc_num_heads, d_ff,\n",
        "                              #  mfcc_max_seq_length,  dropout)\n",
        "        self.encoder = Encoder(input_dim, enc_num_layers, d_model, enc_num_heads, d_ff,\n",
        "                               dropout)\n",
        "\n",
        "        self.decoder = Decoder(dec_num_layers, d_model, dec_num_heads, d_ff,\n",
        "                               dropout, target_vocab_size, trans_max_seq_length, eos_token, sos_token, pad_token)\n",
        "\n",
        "    def forward(self, padded_input, input_lengths, padded_target, target_lengths):\n",
        "        # passing through Encoder\n",
        "        encoder_output, encoder_lens = self.encoder(padded_input, input_lengths)\n",
        "\n",
        "        # passing Encoder output and Attention masks through Decoder\n",
        "        output, attention_weights = self.decoder(padded_target, encoder_output, encoder_lens)\n",
        "\n",
        "        return output, attention_weights\n",
        "\n",
        "    def recognize(self, inp, inp_len):\n",
        "        \"\"\" sequence-to-sequence greedy search -- decoding one utterance at a time \"\"\"\n",
        "\n",
        "        encoder_outputs, encoder_lens = self.encoder(inp, inp_len)\n",
        "        out = self.decoder.recognize_greedy_search(encoder_outputs, encoder_lens)\n",
        "\n",
        "        return out"
      ]
    },
    {
      "cell_type": "markdown",
      "source": [
        "## Full Model Setup"
      ],
      "metadata": {
        "id": "Lam5bYQ8gxke"
      }
    },
    {
      "cell_type": "code",
      "source": [
        "full_model = FullTransformer(\n",
        "input_dim                   = config[\"input_dim\"],\n",
        "enc_num_layers              = config[\"enc_num_layers\"],\n",
        "dec_num_layers              = config[\"dec_num_layers\"],\n",
        "enc_num_heads               = config[\"enc_num_heads\"],\n",
        "dec_num_heads               = config[\"dec_num_heads\"],\n",
        "\n",
        "d_model                     = config[\"d_model\"],\n",
        "d_ff                        = config[\"d_ff\"],\n",
        "\n",
        "target_vocab_size           = len(VOCAB),\n",
        "eos_token                   = EOS_TOKEN,\n",
        "sos_token                   = SOS_TOKEN,\n",
        "pad_token                   = PAD_TOKEN,\n",
        "\n",
        "dropout                     = config[\"enc_dropout\"],\n",
        "\n",
        "# decrease to a small number if you are just trying to implement the network\n",
        "# we've computed the max length of the transcripts for you\n",
        "trans_max_seq_length        = 550,\n",
        "mfcc_max_seq_length         = dataset_max_len).to(device)"
      ],
      "metadata": {
        "id": "0qKfN3bj9qk7"
      },
      "execution_count": null,
      "outputs": []
    },
    {
      "cell_type": "code",
      "source": [
        "### Load your best P1 model checkpoint\n",
        "model.load_state_dict(torch.load('/content/checkpoints-basic-transformer/checkpoint-epoch-49.pth')['model_state_dict'])"
      ],
      "metadata": {
        "id": "ETooy0d59__J",
        "colab": {
          "base_uri": "https://localhost:8080/"
        },
        "outputId": "5c665114-feff-4b00-de03-0aa7e5eb41c9"
      },
      "execution_count": null,
      "outputs": [
        {
          "output_type": "execute_result",
          "data": {
            "text/plain": [
              "<All keys matched successfully>"
            ]
          },
          "metadata": {},
          "execution_count": 86
        }
      ]
    },
    {
      "cell_type": "markdown",
      "source": [
        "Freezing model weights except for transformer encoder layers. This is like an initialization strategy so that the encoder learns the range of values required by the decoder. After about 3 epochs when this initialzation is done, unfreeze weights of the entire model and let it train.\n",
        "\n",
        "\n"
      ],
      "metadata": {
        "id": "UUg3DDMA_Bap"
      }
    },
    {
      "cell_type": "code",
      "source": [
        "### Copy weights from P1 model to full model\n",
        "### Freeze the weights of full transformer input embedding, linear projection, and decoder\n",
        "\n",
        "full_model.encoder.embedding.load_state_dict(model.encoder.state_dict())\n",
        "for param in full_model.encoder.embedding.parameters():\n",
        "    param.requires_grad = False # TODO make it non-trainable\n",
        "\n",
        "full_model.encoder.projection.load_state_dict(model.proj.state_dict())\n",
        "for param in full_model.encoder.projection.parameters():\n",
        "    param.requires_grad = False # TODO make it non-trainable\n",
        "\n",
        "full_model.decoder.load_state_dict(model.decoder.state_dict())\n",
        "for param in full_model.decoder.parameters():\n",
        "    param.requires_grad = False # TODO make it non-trainable"
      ],
      "metadata": {
        "id": "JjAH-p6B-Y2M"
      },
      "execution_count": null,
      "outputs": []
    },
    {
      "cell_type": "markdown",
      "source": [
        "## Loss, Optimizer, and Scheduler Definitions"
      ],
      "metadata": {
        "id": "PDLdbCwdghEB"
      }
    },
    {
      "cell_type": "code",
      "source": [
        "loss_func   = nn.CrossEntropyLoss(ignore_index = PAD_TOKEN)\n",
        "scaler      = torch.cuda.amp.GradScaler()"
      ],
      "metadata": {
        "id": "ymlPz5lfghl3"
      },
      "execution_count": null,
      "outputs": []
    },
    {
      "cell_type": "code",
      "source": [
        "''' defining optimizer '''\n",
        "\n",
        "if config[\"optimizer\"] == \"SGD\":\n",
        "  # feel free to change any of the initializations you like to fit your needs\n",
        "  optimizer = torch.optim.SGD(full_model.parameters(),\n",
        "                              lr=config[\"learning_rate\"],\n",
        "                              momentum=config[\"momentum\"],\n",
        "                              weight_decay=1E-4,\n",
        "                              nesterov=config[\"nesterov\"])\n",
        "\n",
        "elif config[\"optimizer\"] == \"Adam\":\n",
        "  # feel free to change any of the initializations you like to fit your needs\n",
        "  optimizer = torch.optim.Adam(full_model.parameters(),\n",
        "                               lr=float(config[\"learning_rate\"]),\n",
        "                               weight_decay=1e-4)\n",
        "\n",
        "elif config[\"optimizer\"] == \"AdamW\":\n",
        "  # feel free to change any of the initializations you like to fit your needs\n",
        "  optimizer = torch.optim.AdamW(full_model.parameters(), lr=float(config[\"learning_rate\"]),\n",
        "                                betas=(0.9, 0.999),\n",
        "                                eps=1e-9,\n",
        "                                weight_decay=0.01)\n",
        "\n",
        "''' defining scheduler '''\n",
        "\n",
        "if config[\"scheduler\"] == \"ReduceLR\":\n",
        "  #Feel Free to change any of the initializations you like to fit your needs\n",
        "  scheduler = torch.optim.lr_scheduler.ReduceLROnPlateau(optimizer,\n",
        "                factor=config[\"factor\"], patience=config[\"patience\"], min_lr=1E-8, verbose=True)\n",
        "\n",
        "elif config[\"scheduler\"] == \"CosineAnnealing\":\n",
        "  #Feel Free to change any of the initializations you like to fit your needs\n",
        "  scheduler = torch.optim.lr_scheduler.CosineAnnealingLR(optimizer,\n",
        "                T_max = config[\"epochs\"], eta_min=1E-8)"
      ],
      "metadata": {
        "id": "YGR9Rk2JgkQD"
      },
      "execution_count": null,
      "outputs": []
    },
    {
      "cell_type": "markdown",
      "source": [
        "## Experiments"
      ],
      "metadata": {
        "id": "aoaXWl9IqUfi"
      }
    },
    {
      "cell_type": "code",
      "source": [
        "###  Now let's train the encoder to master the encoder input ranges\n",
        "e                   = 0\n",
        "best_loss           = 10.0\n",
        "\n",
        "checkpoint_root = os.path.join(os.getcwd(), 'checkpointsfull')\n",
        "os.makedirs(checkpoint_root, exist_ok=True)\n",
        "wandb.watch(full_model, log=\"all\")\n",
        "\n",
        "checkpoint_best_loss_model_filename     = 'checkpoint-best-loss-modelfull.pth'\n",
        "checkpoint_last_epoch_filename          = 'checkpoint-epochfull-'\n",
        "best_loss_model_path                    = os.path.join(checkpoint_root, checkpoint_best_loss_model_filename)\n",
        "\n",
        "if RESUME_LOGGING:\n",
        "    # change if you want to load best test model accordingly\n",
        "    checkpoint = torch.load(wandb.restore(checkpoint_best_loss_model_filename, run_path=\"\"+run_id).name)\n",
        "\n",
        "    full_model.load_state_dict(checkpoint['model_state_dict'])\n",
        "    optimizer.load_state_dict(checkpoint['optimizer_state_dict'])\n",
        "    e = checkpoint['epoch']\n",
        "\n",
        "    print(\"Resuming from epoch {}\".format(e+1))\n",
        "    print(\"Epochs left: \", config['epochs']-e)\n",
        "    print(\"Optimizer: \\n\", optimizer)\n",
        "\n",
        "torch.cuda.empty_cache()\n",
        "gc.collect()\n",
        "\n",
        "epochs = config[\"epochs\"]\n",
        "for epoch in range(e, epochs):\n",
        "\n",
        "    print(\"\\nEpoch {}/{}\".format(epoch+1, config[\"epochs\"]))\n",
        "\n",
        "    curr_lr = float(optimizer.param_groups[0][\"lr\"])\n",
        "\n",
        "    train_loss, train_perplexity, attention_weights = train_model(full_model, train_loader, optimizer)\n",
        "\n",
        "    print(\"\\nEpoch {}/{}: \\nTrain Loss {:.04f}\\t Train Perplexity {:.04f}\\t Learning Rate {:.04f}\".format(\n",
        "        epoch + 1, config[\"epochs\"], train_loss, train_perplexity, curr_lr))\n",
        "\n",
        "    if (epoch % 2 == 0):    # validate every 2 epochs to speed up training\n",
        "        levenshtein_distance = validate_fast(full_model, val_loader)\n",
        "        print(\"Levenshtein Distance {:.04f}\".format(levenshtein_distance))\n",
        "\n",
        "        wandb.log({\"train_loss\"     : train_loss,\n",
        "                \"train_perplexity\"  : train_perplexity,\n",
        "                \"learning_rate\"     : curr_lr,\n",
        "                \"val_distance\"      : levenshtein_distance})\n",
        "\n",
        "    else:\n",
        "        wandb.log({\"train_loss\"     : train_loss,\n",
        "                \"train_perplexity\"  : train_perplexity,\n",
        "                \"learning_rate\"     : curr_lr})\n",
        "\n",
        "    # plotting the encoder-nearest and decoder-nearest attention weights\n",
        "    attention_keys = list(attention_weights.keys())\n",
        "\n",
        "    # plot_attention_weights((attention_weights[attention_keys[0]][0]).cpu().detach().numpy())\n",
        "    # plot_attention_weights(attention_weights[attention_keys[-1]][0].cpu().detach().numpy())\n",
        "\n",
        "    attention_weights_decoder_self       = attention_weights[attention_keys[0]][0].cpu().detach().numpy()\n",
        "    attention_weights_decoder_cross      = attention_weights[attention_keys[-1]][0].cpu().detach().numpy()\n",
        "    save_attention_plot(attention_weights_decoder_cross, epoch)\n",
        "\n",
        "    if config[\"scheduler\"] == \"ReduceLR\":\n",
        "        scheduler.step(levenshtein_distance)\n",
        "    else:\n",
        "        scheduler.step()\n",
        "\n",
        "    ### Highly Recommended: Save checkpoint in drive and/or wandb if accuracy is better than your current best\n",
        "    epoch_model_path = os.path.join(checkpoint_root, (checkpoint_last_epoch_filename + str(epoch) + '.pth'))\n",
        "    save_model(full_model, optimizer, scheduler, ['train_loss', train_loss], epoch, epoch_model_path)\n",
        "    ## wandb.save(epoch_model_path) ## Can't save on wandb for all epochs, may blow up storage\n",
        "\n",
        "    print(\"Saved epoch model\")\n",
        "\n",
        "    # the first time we add the transformer encoder block, we freeze all other weights\n",
        "    #   except the transformer encoder weights and train this partially-frozen model\n",
        "    #   for about 3 epochs to weight initialize the transformer encoder weights.\n",
        "    #   This speeds up convergence of the entire network.\n",
        "    if epoch == 15:\n",
        "        break\n",
        "\n",
        "    if train_loss <= best_loss:\n",
        "        best_loss = train_loss\n",
        "        save_model(full_model, optimizer, scheduler, ['train_loss', train_loss], epoch, best_loss_model_path)\n",
        "        # wandb.save(best_loss_model_path)\n",
        "        print(\"Saved best training model\")\n",
        "\n",
        "### Finish your wandb run\n",
        "# run.finish()"
      ],
      "metadata": {
        "id": "qHEgNSYU_0tH",
        "colab": {
          "base_uri": "https://localhost:8080/",
          "height": 1000
        },
        "outputId": "7ba8be13-fecc-4021-d715-35f1f77a6193"
      },
      "execution_count": null,
      "outputs": [
        {
          "output_type": "stream",
          "name": "stdout",
          "text": [
            "\n",
            "Epoch 1/50\n"
          ]
        },
        {
          "output_type": "stream",
          "name": "stderr",
          "text": []
        },
        {
          "output_type": "stream",
          "name": "stdout",
          "text": [
            "\n",
            "Epoch 1/50: \n",
            "Train Loss 0.1597\t Train Perplexity 1.1735\t Learning Rate 0.0001\n"
          ]
        },
        {
          "output_type": "stream",
          "name": "stderr",
          "text": [
            "Val:   1%|          | 1/169 [00:18<51:01, 18.22s/it, running_distance=34.2500]"
          ]
        },
        {
          "output_type": "stream",
          "name": "stdout",
          "text": [
            "\n",
            "Ground Truth :  BECAUSE YOU WERE SLEEPING INSTEAD OF CONQUERING THE LOVELY ROSE PRINCESS HAS BECOME A FIDDLE WITHOUT A BOW WHILE POOR SHAGGY SITS THERE A COOING DOVE\n",
            "Prediction   :  BECAUSE YOUR IS SLEEPING IN SON OF CONQUERING THE LOVELY ROSED PRINCES HAS BECOME OF FITTLE WITHOUT A BOW ALL PORTS EGGAES SIS SAIR A COONED OF\n"
          ]
        },
        {
          "output_type": "stream",
          "name": "stderr",
          "text": [
            "Val:   1%|          | 2/169 [00:19<23:23,  8.40s/it, running_distance=22.9062]"
          ]
        },
        {
          "output_type": "stream",
          "name": "stdout",
          "text": [
            "\n",
            "Ground Truth :  KALIKO HESITATED\n",
            "Prediction   :  CALOR GO HENSITATED\n"
          ]
        },
        {
          "output_type": "stream",
          "name": "stderr",
          "text": [
            "Val:   2%|▏         | 3/169 [00:22<15:46,  5.70s/it, running_distance=19.4583]"
          ]
        },
        {
          "output_type": "stream",
          "name": "stdout",
          "text": [
            "\n",
            "Ground Truth :  ONLY HIS HEART AND LUNGS WORKED ON AT A STRONG MEASURED RATE\n",
            "Prediction   :  WHATLY HIS HEART LUNGS WORKED ON AT A STRONG MISURE GREAT\n"
          ]
        },
        {
          "output_type": "stream",
          "name": "stderr",
          "text": [
            "Val:   2%|▏         | 4/169 [00:23<10:44,  3.91s/it, running_distance=17.5625]"
          ]
        },
        {
          "output_type": "stream",
          "name": "stdout",
          "text": [
            "\n",
            "Ground Truth :  THE STRENGTH THAT ENABLES SOMEONE IN A TRANCE TO HOLD HIS BODY STIFF AND UNSUPPORTED EXCEPT AT TWO POINTS THE HEAD AND HEELS\n",
            "Prediction   :  THE STRINK THAT AN ABLES SOMEONE IN A TRANCE TO HOLD HIS BODY STIFF AND UNSUPPORTED EXCEPT AT TWO POINTS THE HEAD AND HEELS\n"
          ]
        },
        {
          "output_type": "stream",
          "name": "stderr",
          "text": [
            "                                                                              "
          ]
        },
        {
          "output_type": "stream",
          "name": "stdout",
          "text": [
            "\n",
            "Ground Truth :  WHEN THEY ENTERED THE STAGE BOX ON THE LEFT THE FIRST ACT WAS WELL UNDER WAY THE SCENE BEING THE INTERIOR OF A CABIN IN THE SOUTH OF IRELAND\n",
            "Prediction   :  WHEN THEY ENTERED THE STAGE BOX ON THE LEFT THE FIRST ACT WAS WELL UNDERWAY THE SEA BEING THE INTERIOR OF A CABIN IN THE SOUTH OF IRELAND\n",
            "Levenshtein Distance 16.2625\n"
          ]
        },
        {
          "output_type": "stream",
          "name": "stderr",
          "text": [
            "\r"
          ]
        },
        {
          "output_type": "stream",
          "name": "stdout",
          "text": [
            "Saved epoch model\n",
            "Saved best training model\n",
            "\n",
            "Epoch 2/50\n"
          ]
        },
        {
          "output_type": "stream",
          "name": "stderr",
          "text": []
        },
        {
          "output_type": "stream",
          "name": "stdout",
          "text": [
            "\n",
            "Epoch 2/50: \n",
            "Train Loss 0.1440\t Train Perplexity 1.1551\t Learning Rate 0.0001\n",
            "Saved epoch model\n",
            "Saved best training model\n",
            "\n",
            "Epoch 3/50\n"
          ]
        },
        {
          "output_type": "stream",
          "name": "stderr",
          "text": []
        },
        {
          "output_type": "stream",
          "name": "stdout",
          "text": [
            "\n",
            "Epoch 3/50: \n",
            "Train Loss 0.1353\t Train Perplexity 1.1451\t Learning Rate 0.0001\n"
          ]
        },
        {
          "output_type": "stream",
          "name": "stderr",
          "text": [
            "Val:   1%|          | 1/169 [00:14<40:23, 14.43s/it, running_distance=29.8750]"
          ]
        },
        {
          "output_type": "stream",
          "name": "stdout",
          "text": [
            "\n",
            "Ground Truth :  BECAUSE YOU WERE SLEEPING INSTEAD OF CONQUERING THE LOVELY ROSE PRINCESS HAS BECOME A FIDDLE WITHOUT A BOW WHILE POOR SHAGGY SITS THERE A COOING DOVE\n",
            "Prediction   :  BECAUSE YOUR IS SLEEPING IN SON OF CONCRING THE LOVELY ROSE PRINCES HAS BECOME OF FITTLE WITHOUT A BOW ALL POOR SHEGGY SIS SAIR A COON DOV\n"
          ]
        },
        {
          "output_type": "stream",
          "name": "stderr",
          "text": [
            "Val:   1%|          | 2/169 [00:15<19:05,  6.86s/it, running_distance=19.9375]"
          ]
        },
        {
          "output_type": "stream",
          "name": "stdout",
          "text": [
            "\n",
            "Ground Truth :  KALIKO HESITATED\n",
            "Prediction   :  CALOR GO HENSITATED\n"
          ]
        },
        {
          "output_type": "stream",
          "name": "stderr",
          "text": [
            "Val:   2%|▏         | 3/169 [00:18<13:32,  4.89s/it, running_distance=17.5625]"
          ]
        },
        {
          "output_type": "stream",
          "name": "stdout",
          "text": [
            "\n",
            "Ground Truth :  ONLY HIS HEART AND LUNGS WORKED ON AT A STRONG MEASURED RATE\n",
            "Prediction   :  ONLY HIS HEART LUNS WORKED ON AT A STRONG MISSURE GREAT\n"
          ]
        },
        {
          "output_type": "stream",
          "name": "stderr",
          "text": [
            "Val:   2%|▏         | 4/169 [00:19<09:25,  3.42s/it, running_distance=15.8438]"
          ]
        },
        {
          "output_type": "stream",
          "name": "stdout",
          "text": [
            "\n",
            "Ground Truth :  THE STRENGTH THAT ENABLES SOMEONE IN A TRANCE TO HOLD HIS BODY STIFF AND UNSUPPORTED EXCEPT AT TWO POINTS THE HEAD AND HEELS\n",
            "Prediction   :  THE STRINK THAT AN ABLES SOMEONE IN A TRANCE TO HOLD HIS BODY STIFF AND UNSUPPORTED EXCEPT AT TWO POINTS THE HEAD AND HEELS\n"
          ]
        },
        {
          "output_type": "stream",
          "name": "stderr",
          "text": [
            "                                                                              "
          ]
        },
        {
          "output_type": "stream",
          "name": "stdout",
          "text": [
            "\n",
            "Ground Truth :  WHEN THEY ENTERED THE STAGE BOX ON THE LEFT THE FIRST ACT WAS WELL UNDER WAY THE SCENE BEING THE INTERIOR OF A CABIN IN THE SOUTH OF IRELAND\n",
            "Prediction   :  WHEN THEY ENTERED THE STAGE BOX ON THE LEFT THE FIRST ACT WAS WELL UNDERWAY THE SEA BEING THE INTERIOR OF A CABIN IN THE SOUTH OF IRELAND\n",
            "Levenshtein Distance 14.6375\n"
          ]
        },
        {
          "output_type": "stream",
          "name": "stderr",
          "text": [
            "\r"
          ]
        },
        {
          "output_type": "stream",
          "name": "stdout",
          "text": [
            "Saved epoch model\n",
            "Saved best training model\n",
            "\n",
            "Epoch 4/50\n"
          ]
        },
        {
          "output_type": "stream",
          "name": "stderr",
          "text": []
        },
        {
          "output_type": "stream",
          "name": "stdout",
          "text": [
            "\n",
            "Epoch 4/50: \n",
            "Train Loss 0.1280\t Train Perplexity 1.1367\t Learning Rate 0.0001\n",
            "Saved epoch model\n",
            "Saved best training model\n",
            "\n",
            "Epoch 5/50\n"
          ]
        },
        {
          "output_type": "stream",
          "name": "stderr",
          "text": []
        },
        {
          "output_type": "stream",
          "name": "stdout",
          "text": [
            "\n",
            "Epoch 5/50: \n",
            "Train Loss 0.1220\t Train Perplexity 1.1300\t Learning Rate 0.0001\n"
          ]
        },
        {
          "output_type": "stream",
          "name": "stderr",
          "text": [
            "Val:   1%|          | 1/169 [00:18<50:58, 18.20s/it, running_distance=33.6250]"
          ]
        },
        {
          "output_type": "stream",
          "name": "stdout",
          "text": [
            "\n",
            "Ground Truth :  BECAUSE YOU WERE SLEEPING INSTEAD OF CONQUERING THE LOVELY ROSE PRINCESS HAS BECOME A FIDDLE WITHOUT A BOW WHILE POOR SHAGGY SITS THERE A COOING DOVE\n",
            "Prediction   :  BECAUSE YOUR IS SLEEPING IN SON OF CONQUERING THE LOVELY ROSED PRINCES HAS BECOME OF FITTLE WITHOUT A BOW ALL POOR SEGGYS SIS SAIR A COONGED OF\n"
          ]
        },
        {
          "output_type": "stream",
          "name": "stderr",
          "text": [
            "Val:   1%|          | 2/169 [00:19<23:19,  8.38s/it, running_distance=21.6875]"
          ]
        },
        {
          "output_type": "stream",
          "name": "stdout",
          "text": [
            "\n",
            "Ground Truth :  KALIKO HESITATED\n",
            "Prediction   :  CALL GO HESITATED\n"
          ]
        },
        {
          "output_type": "stream",
          "name": "stderr",
          "text": [
            "Val:   2%|▏         | 3/169 [00:22<15:52,  5.74s/it, running_distance=18.8750]"
          ]
        },
        {
          "output_type": "stream",
          "name": "stdout",
          "text": [
            "\n",
            "Ground Truth :  ONLY HIS HEART AND LUNGS WORKED ON AT A STRONG MEASURED RATE\n",
            "Prediction   :  QUALLY HIS HEART RELUNS WORKED ON AT A STRONG MISURE GREAT\n"
          ]
        },
        {
          "output_type": "stream",
          "name": "stderr",
          "text": [
            "Val:   2%|▏         | 4/169 [00:23<10:38,  3.87s/it, running_distance=17.3438]"
          ]
        },
        {
          "output_type": "stream",
          "name": "stdout",
          "text": [
            "\n",
            "Ground Truth :  THE STRENGTH THAT ENABLES SOMEONE IN A TRANCE TO HOLD HIS BODY STIFF AND UNSUPPORTED EXCEPT AT TWO POINTS THE HEAD AND HEELS\n",
            "Prediction   :  THE STRENGTH THE NEIGHBLES SOMEN IN A TRANCE TO HULDESBODY STIFF AND UNSUPPORTED EXCEPT AT TWO POINTS THE HEAD AND HEELS\n"
          ]
        },
        {
          "output_type": "stream",
          "name": "stderr",
          "text": [
            "                                                                              "
          ]
        },
        {
          "output_type": "stream",
          "name": "stdout",
          "text": [
            "\n",
            "Ground Truth :  WHEN THEY ENTERED THE STAGE BOX ON THE LEFT THE FIRST ACT WAS WELL UNDER WAY THE SCENE BEING THE INTERIOR OF A CABIN IN THE SOUTH OF IRELAND\n",
            "Prediction   :  WHEN THEY ENTERED THE STAGE BOX ON THE LEFT THE FIRST ACT WAS WELL UNDERWAY THE SEA BEING THE INTERIOR OF A CABIN IN THE SOUTH OF IRELAND\n",
            "Levenshtein Distance 15.9750\n"
          ]
        },
        {
          "output_type": "stream",
          "name": "stderr",
          "text": [
            "\r"
          ]
        },
        {
          "output_type": "stream",
          "name": "stdout",
          "text": [
            "Saved epoch model\n",
            "Saved best training model\n",
            "\n",
            "Epoch 6/50\n"
          ]
        },
        {
          "output_type": "stream",
          "name": "stderr",
          "text": []
        },
        {
          "output_type": "stream",
          "name": "stdout",
          "text": [
            "\n",
            "Epoch 6/50: \n",
            "Train Loss 0.1165\t Train Perplexity 1.1237\t Learning Rate 0.0001\n",
            "Saved epoch model\n",
            "Saved best training model\n",
            "\n",
            "Epoch 7/50\n"
          ]
        },
        {
          "output_type": "stream",
          "name": "stderr",
          "text": []
        },
        {
          "output_type": "stream",
          "name": "stdout",
          "text": [
            "\n",
            "Epoch 7/50: \n",
            "Train Loss 0.1118\t Train Perplexity 1.1184\t Learning Rate 0.0001\n"
          ]
        },
        {
          "output_type": "stream",
          "name": "stderr",
          "text": [
            "Val:   1%|          | 1/169 [00:18<50:49, 18.15s/it, running_distance=32.2500]"
          ]
        },
        {
          "output_type": "stream",
          "name": "stdout",
          "text": [
            "\n",
            "Ground Truth :  BECAUSE YOU WERE SLEEPING INSTEAD OF CONQUERING THE LOVELY ROSE PRINCESS HAS BECOME A FIDDLE WITHOUT A BOW WHILE POOR SHAGGY SITS THERE A COOING DOVE\n",
            "Prediction   :  BECAUSE YOUR IS SLEEPING IN SON OF CONCRING THE LOVELY ROSE PRINCES HAS BECOME A FIDDLE WITHOUT A BOW ALL POOR SHEGGIES SIS SAIR A COONGED OF\n"
          ]
        },
        {
          "output_type": "stream",
          "name": "stderr",
          "text": [
            "Val:   1%|          | 2/169 [00:19<23:18,  8.38s/it, running_distance=21.0625]"
          ]
        },
        {
          "output_type": "stream",
          "name": "stdout",
          "text": [
            "\n",
            "Ground Truth :  KALIKO HESITATED\n",
            "Prediction   :  CALO GO HESTITATED\n"
          ]
        },
        {
          "output_type": "stream",
          "name": "stderr",
          "text": [
            "Val:   2%|▏         | 3/169 [00:22<15:42,  5.68s/it, running_distance=17.9792]"
          ]
        },
        {
          "output_type": "stream",
          "name": "stdout",
          "text": [
            "\n",
            "Ground Truth :  ONLY HIS HEART AND LUNGS WORKED ON AT A STRONG MEASURED RATE\n",
            "Prediction   :  ONLY IS HEART RELUNS WORKED ON AT A STRONG MISSURE GREAT\n"
          ]
        },
        {
          "output_type": "stream",
          "name": "stderr",
          "text": [
            "Val:   2%|▏         | 4/169 [00:23<10:44,  3.91s/it, running_distance=16.4219]"
          ]
        },
        {
          "output_type": "stream",
          "name": "stdout",
          "text": [
            "\n",
            "Ground Truth :  THE STRENGTH THAT ENABLES SOMEONE IN A TRANCE TO HOLD HIS BODY STIFF AND UNSUPPORTED EXCEPT AT TWO POINTS THE HEAD AND HEELS\n",
            "Prediction   :  THE STRINGTH THAT A NEIGHBLES SOMEONE IN A TRANCE TO HOLDESBODY STIFF AND UNSUPPORTED EXCEPT AT TWO POINTS THE HEAD AND HEELS\n"
          ]
        },
        {
          "output_type": "stream",
          "name": "stderr",
          "text": [
            "                                                                              "
          ]
        },
        {
          "output_type": "stream",
          "name": "stdout",
          "text": [
            "\n",
            "Ground Truth :  WHEN THEY ENTERED THE STAGE BOX ON THE LEFT THE FIRST ACT WAS WELL UNDER WAY THE SCENE BEING THE INTERIOR OF A CABIN IN THE SOUTH OF IRELAND\n",
            "Prediction   :  WHEN THEY ENTERED THE STAGE BOX ON THE LEFT THE FIRST ACT WAS WELL UNDERWAY THE SEA BEING THE INTERIOR OF A CABIN IN THE SOUTH OF IRELAND\n",
            "Levenshtein Distance 15.2375\n"
          ]
        },
        {
          "output_type": "stream",
          "name": "stderr",
          "text": [
            "\r"
          ]
        },
        {
          "output_type": "stream",
          "name": "stdout",
          "text": [
            "Saved epoch model\n",
            "Saved best training model\n",
            "\n",
            "Epoch 8/50\n"
          ]
        },
        {
          "output_type": "stream",
          "name": "stderr",
          "text": []
        },
        {
          "output_type": "stream",
          "name": "stdout",
          "text": [
            "\n",
            "Epoch 8/50: \n",
            "Train Loss 0.1071\t Train Perplexity 1.1132\t Learning Rate 0.0001\n",
            "Saved epoch model\n",
            "Saved best training model\n",
            "\n",
            "Epoch 9/50\n"
          ]
        },
        {
          "output_type": "stream",
          "name": "stderr",
          "text": []
        },
        {
          "output_type": "stream",
          "name": "stdout",
          "text": [
            "\n",
            "Epoch 9/50: \n",
            "Train Loss 0.1029\t Train Perplexity 1.1086\t Learning Rate 0.0001\n"
          ]
        },
        {
          "output_type": "stream",
          "name": "stderr",
          "text": [
            "Val:   1%|          | 1/169 [00:06<17:33,  6.27s/it, running_distance=20.8750]"
          ]
        },
        {
          "output_type": "stream",
          "name": "stdout",
          "text": [
            "\n",
            "Ground Truth :  BECAUSE YOU WERE SLEEPING INSTEAD OF CONQUERING THE LOVELY ROSE PRINCESS HAS BECOME A FIDDLE WITHOUT A BOW WHILE POOR SHAGGY SITS THERE A COOING DOVE\n",
            "Prediction   :  BECAUSE YOUR IS SLEEPING IN SON OF CONQUERING THE LOVELY ROSED PRINCES HAS BECOME A FIDDLE WITHOUT A BOW ALL PORTS SEGGES HIS SAIR A COOLINGED OF\n"
          ]
        },
        {
          "output_type": "stream",
          "name": "stderr",
          "text": [
            "Val:   1%|          | 2/169 [00:07<09:40,  3.47s/it, running_distance=15.3125]"
          ]
        },
        {
          "output_type": "stream",
          "name": "stdout",
          "text": [
            "\n",
            "Ground Truth :  KALIKO HESITATED\n",
            "Prediction   :  CALL GO HENSITATED\n"
          ]
        },
        {
          "output_type": "stream",
          "name": "stderr",
          "text": [
            "Val:   2%|▏         | 3/169 [00:10<08:24,  3.04s/it, running_distance=14.5208]"
          ]
        },
        {
          "output_type": "stream",
          "name": "stdout",
          "text": [
            "\n",
            "Ground Truth :  ONLY HIS HEART AND LUNGS WORKED ON AT A STRONG MEASURED RATE\n",
            "Prediction   :  ONLY HIS HEART RELANS WORKED ON AT A STRONG MISURE GREAT\n"
          ]
        },
        {
          "output_type": "stream",
          "name": "stderr",
          "text": [
            "Val:   2%|▏         | 4/169 [00:11<06:20,  2.31s/it, running_distance=14.0312]"
          ]
        },
        {
          "output_type": "stream",
          "name": "stdout",
          "text": [
            "\n",
            "Ground Truth :  THE STRENGTH THAT ENABLES SOMEONE IN A TRANCE TO HOLD HIS BODY STIFF AND UNSUPPORTED EXCEPT AT TWO POINTS THE HEAD AND HEELS\n",
            "Prediction   :  THE STRINK THAT AN ABLES SOMEN IN A TRANCE TO HULDESBODY STIFF AND UNSUPPORTED EXCEPT AT TWO POINTS THE HEAD AND HEELS\n"
          ]
        },
        {
          "output_type": "stream",
          "name": "stderr",
          "text": [
            "                                                                              "
          ]
        },
        {
          "output_type": "stream",
          "name": "stdout",
          "text": [
            "\n",
            "Ground Truth :  WHEN THEY ENTERED THE STAGE BOX ON THE LEFT THE FIRST ACT WAS WELL UNDER WAY THE SCENE BEING THE INTERIOR OF A CABIN IN THE SOUTH OF IRELAND\n",
            "Prediction   :  WHEN THEY ENTERED THE STAGE BOX ON THE LEFT THE FIRST ACT WAS WELL UNDERWAY THE SEA BEING THE INTERIOR OF A CABIN IN THE SOUTH OF IRELAND\n",
            "Levenshtein Distance 13.2250\n"
          ]
        },
        {
          "output_type": "stream",
          "name": "stderr",
          "text": [
            "\r"
          ]
        },
        {
          "output_type": "stream",
          "name": "stdout",
          "text": [
            "Saved epoch model\n",
            "Saved best training model\n",
            "\n",
            "Epoch 10/50\n"
          ]
        },
        {
          "output_type": "stream",
          "name": "stderr",
          "text": []
        },
        {
          "output_type": "stream",
          "name": "stdout",
          "text": [
            "\n",
            "Epoch 10/50: \n",
            "Train Loss 0.0994\t Train Perplexity 1.1047\t Learning Rate 0.0001\n",
            "Saved epoch model\n",
            "Saved best training model\n",
            "\n",
            "Epoch 11/50\n"
          ]
        },
        {
          "output_type": "stream",
          "name": "stderr",
          "text": []
        },
        {
          "output_type": "stream",
          "name": "stdout",
          "text": [
            "\n",
            "Epoch 11/50: \n",
            "Train Loss 0.0954\t Train Perplexity 1.1002\t Learning Rate 0.0001\n"
          ]
        },
        {
          "output_type": "stream",
          "name": "stderr",
          "text": [
            "Val:   1%|          | 1/169 [00:18<51:07, 18.26s/it, running_distance=31.6875]"
          ]
        },
        {
          "output_type": "stream",
          "name": "stdout",
          "text": [
            "\n",
            "Ground Truth :  BECAUSE YOU WERE SLEEPING INSTEAD OF CONQUERING THE LOVELY ROSE PRINCESS HAS BECOME A FIDDLE WITHOUT A BOW WHILE POOR SHAGGY SITS THERE A COOING DOVE\n",
            "Prediction   :  BECAUSE YOUR IS SLEEPING IN SON OF CONCRING THE LOVELY ROSE PRINCES HAS BECOME A FITTLE WITHOUT A BOW ALL POOR SHEGGIES SIS SAIR A COON DOVE\n"
          ]
        },
        {
          "output_type": "stream",
          "name": "stderr",
          "text": [
            "Val:   1%|          | 2/169 [00:19<23:20,  8.39s/it, running_distance=20.9062]"
          ]
        },
        {
          "output_type": "stream",
          "name": "stdout",
          "text": [
            "\n",
            "Ground Truth :  KALIKO HESITATED\n",
            "Prediction   :  CALLER GO HENSITATED\n"
          ]
        },
        {
          "output_type": "stream",
          "name": "stderr",
          "text": [
            "Val:   2%|▏         | 3/169 [00:22<15:47,  5.71s/it, running_distance=18.1042]"
          ]
        },
        {
          "output_type": "stream",
          "name": "stdout",
          "text": [
            "\n",
            "Ground Truth :  ONLY HIS HEART AND LUNGS WORKED ON AT A STRONG MEASURED RATE\n",
            "Prediction   :  ONLY HIS HEART RULUNS WORKED ON AT A STRONG MISSURE GREAT\n"
          ]
        },
        {
          "output_type": "stream",
          "name": "stderr",
          "text": [
            "Val:   2%|▏         | 4/169 [00:23<10:49,  3.94s/it, running_distance=16.5625]"
          ]
        },
        {
          "output_type": "stream",
          "name": "stdout",
          "text": [
            "\n",
            "Ground Truth :  THE STRENGTH THAT ENABLES SOMEONE IN A TRANCE TO HOLD HIS BODY STIFF AND UNSUPPORTED EXCEPT AT TWO POINTS THE HEAD AND HEELS\n",
            "Prediction   :  THE STRINGTH THE NEIGHBLES SOMEONE IN A TRANCE TO HULDESBODY STIFF AND UNSUPPORTED EXCEPT AT TWO POINTS THE HEAD AND HEELS\n"
          ]
        },
        {
          "output_type": "stream",
          "name": "stderr",
          "text": [
            "                                                                              "
          ]
        },
        {
          "output_type": "stream",
          "name": "stdout",
          "text": [
            "\n",
            "Ground Truth :  WHEN THEY ENTERED THE STAGE BOX ON THE LEFT THE FIRST ACT WAS WELL UNDER WAY THE SCENE BEING THE INTERIOR OF A CABIN IN THE SOUTH OF IRELAND\n",
            "Prediction   :  WHEN THEY ENTERED THE STAGE BOX ON THE LEFT THE FIRST ACT WAS WELL UNDERWAY THE SEE BEING THE INTERIOR OF A CABIN IN THE SOUTH OF IRELAND\n",
            "Levenshtein Distance 15.3750\n"
          ]
        },
        {
          "output_type": "stream",
          "name": "stderr",
          "text": [
            "\r"
          ]
        },
        {
          "output_type": "stream",
          "name": "stdout",
          "text": [
            "Saved epoch model\n",
            "Saved best training model\n",
            "\n",
            "Epoch 12/50\n"
          ]
        },
        {
          "output_type": "stream",
          "name": "stderr",
          "text": []
        },
        {
          "output_type": "stream",
          "name": "stdout",
          "text": [
            "\n",
            "Epoch 12/50: \n",
            "Train Loss 0.0919\t Train Perplexity 1.0964\t Learning Rate 0.0001\n",
            "Saved epoch model\n",
            "Saved best training model\n",
            "\n",
            "Epoch 13/50\n"
          ]
        },
        {
          "output_type": "stream",
          "name": "stderr",
          "text": []
        },
        {
          "output_type": "stream",
          "name": "stdout",
          "text": [
            "\n",
            "Epoch 13/50: \n",
            "Train Loss 0.0889\t Train Perplexity 1.0931\t Learning Rate 0.0001\n"
          ]
        },
        {
          "output_type": "stream",
          "name": "stderr",
          "text": [
            "Val:   1%|          | 1/169 [00:04<13:47,  4.92s/it, running_distance=24.0000]"
          ]
        },
        {
          "output_type": "stream",
          "name": "stdout",
          "text": [
            "\n",
            "Ground Truth :  BECAUSE YOU WERE SLEEPING INSTEAD OF CONQUERING THE LOVELY ROSE PRINCESS HAS BECOME A FIDDLE WITHOUT A BOW WHILE POOR SHAGGY SITS THERE A COOING DOVE\n",
            "Prediction   :  BECAUSE YOUR IS SLEEPING IN SON OF CONQUERING THE LOVELY ROSE PRINCES HAS BECOME OF FIDDLE WITHOUT A BOW ALL POOR SHEGGIES SIT SAIR A COONED OF\n"
          ]
        },
        {
          "output_type": "stream",
          "name": "stderr",
          "text": [
            "Val:   1%|          | 2/169 [00:06<08:09,  2.93s/it, running_distance=17.4375]"
          ]
        },
        {
          "output_type": "stream",
          "name": "stdout",
          "text": [
            "\n",
            "Ground Truth :  KALIKO HESITATED\n",
            "Prediction   :  CALO GO HESSITATED\n"
          ]
        },
        {
          "output_type": "stream",
          "name": "stderr",
          "text": [
            "Val:   2%|▏         | 3/169 [00:08<07:32,  2.73s/it, running_distance=15.7083]"
          ]
        },
        {
          "output_type": "stream",
          "name": "stdout",
          "text": [
            "\n",
            "Ground Truth :  ONLY HIS HEART AND LUNGS WORKED ON AT A STRONG MEASURED RATE\n",
            "Prediction   :  ONLY HIS HEART RELUNS WORKED ON AT A STRONG MISSURE GREAT\n"
          ]
        },
        {
          "output_type": "stream",
          "name": "stderr",
          "text": [
            "Val:   2%|▏         | 4/169 [00:10<05:50,  2.12s/it, running_distance=14.6406]"
          ]
        },
        {
          "output_type": "stream",
          "name": "stdout",
          "text": [
            "\n",
            "Ground Truth :  THE STRENGTH THAT ENABLES SOMEONE IN A TRANCE TO HOLD HIS BODY STIFF AND UNSUPPORTED EXCEPT AT TWO POINTS THE HEAD AND HEELS\n",
            "Prediction   :  THE STRINGTH THE NEIGHBLES SOMEN IN A TRANCE TO HULDESBODY STIFF AND UNSUMPORTED EXCEPT AT TWO POINTS THE HEAD AND HEELS\n"
          ]
        },
        {
          "output_type": "stream",
          "name": "stderr",
          "text": [
            "                                                                              "
          ]
        },
        {
          "output_type": "stream",
          "name": "stdout",
          "text": [
            "\n",
            "Ground Truth :  WHEN THEY ENTERED THE STAGE BOX ON THE LEFT THE FIRST ACT WAS WELL UNDER WAY THE SCENE BEING THE INTERIOR OF A CABIN IN THE SOUTH OF IRELAND\n",
            "Prediction   :  WHEN THEY ENTERED THE STAGE BOX ON THE LEFT THE FIRST ACT WAS WELL UNDERWAY THE SEA BEING THE INTERIOR OF A CABIN IN THE SOUTH OF IRELAND\n",
            "Levenshtein Distance 13.7625\n"
          ]
        },
        {
          "output_type": "stream",
          "name": "stderr",
          "text": [
            "\r"
          ]
        },
        {
          "output_type": "stream",
          "name": "stdout",
          "text": [
            "Saved epoch model\n",
            "Saved best training model\n",
            "\n",
            "Epoch 14/50\n"
          ]
        },
        {
          "output_type": "stream",
          "name": "stderr",
          "text": []
        },
        {
          "output_type": "stream",
          "name": "stdout",
          "text": [
            "\n",
            "Epoch 14/50: \n",
            "Train Loss 0.0857\t Train Perplexity 1.0896\t Learning Rate 0.0001\n",
            "Saved epoch model\n",
            "Saved best training model\n",
            "\n",
            "Epoch 15/50\n"
          ]
        },
        {
          "output_type": "stream",
          "name": "stderr",
          "text": []
        },
        {
          "output_type": "stream",
          "name": "stdout",
          "text": [
            "\n",
            "Epoch 15/50: \n",
            "Train Loss 0.0825\t Train Perplexity 1.0861\t Learning Rate 0.0001\n"
          ]
        },
        {
          "output_type": "stream",
          "name": "stderr",
          "text": [
            "Val:   1%|          | 1/169 [00:08<23:02,  8.23s/it, running_distance=21.5000]"
          ]
        },
        {
          "output_type": "stream",
          "name": "stdout",
          "text": [
            "\n",
            "Ground Truth :  BECAUSE YOU WERE SLEEPING INSTEAD OF CONQUERING THE LOVELY ROSE PRINCESS HAS BECOME A FIDDLE WITHOUT A BOW WHILE POOR SHAGGY SITS THERE A COOING DOVE\n",
            "Prediction   :  BECAUSE YOUR IS SLEEPING IN SON OF CONQUERING THE LOVELY ROSE PRINCES HAS BECOME OF FIDDLE WITHOUT A BOW ALL PORTS EGGYS SIS SAIR A COONED OF\n"
          ]
        },
        {
          "output_type": "stream",
          "name": "stderr",
          "text": [
            "Val:   1%|          | 2/169 [00:09<11:59,  4.31s/it, running_distance=15.6562]"
          ]
        },
        {
          "output_type": "stream",
          "name": "stdout",
          "text": [
            "\n",
            "Ground Truth :  KALIKO HESITATED\n",
            "Prediction   :  CALL GO HESITATED\n"
          ]
        },
        {
          "output_type": "stream",
          "name": "stderr",
          "text": [
            "Val:   2%|▏         | 3/169 [00:12<09:42,  3.51s/it, running_distance=14.5833]"
          ]
        },
        {
          "output_type": "stream",
          "name": "stdout",
          "text": [
            "\n",
            "Ground Truth :  ONLY HIS HEART AND LUNGS WORKED ON AT A STRONG MEASURED RATE\n",
            "Prediction   :  ONLY HIS HEART RELUNGS WORKED ON AT A STRONG MISSURE GREAT\n"
          ]
        },
        {
          "output_type": "stream",
          "name": "stderr",
          "text": [
            "Val:   2%|▏         | 4/169 [00:13<07:08,  2.60s/it, running_distance=13.8750]"
          ]
        },
        {
          "output_type": "stream",
          "name": "stdout",
          "text": [
            "\n",
            "Ground Truth :  THE STRENGTH THAT ENABLES SOMEONE IN A TRANCE TO HOLD HIS BODY STIFF AND UNSUPPORTED EXCEPT AT TWO POINTS THE HEAD AND HEELS\n",
            "Prediction   :  THE STRINK THAT A NEIGHBLES SOMEONE IN A TRANCE TO HOLDESBODY STIFF AND UNSUPPORTED EXCEPT AT TWO POINTS THE HEAD AND HEELS\n"
          ]
        },
        {
          "output_type": "stream",
          "name": "stderr",
          "text": [
            "                                                                              "
          ]
        },
        {
          "output_type": "stream",
          "name": "stdout",
          "text": [
            "\n",
            "Ground Truth :  WHEN THEY ENTERED THE STAGE BOX ON THE LEFT THE FIRST ACT WAS WELL UNDER WAY THE SCENE BEING THE INTERIOR OF A CABIN IN THE SOUTH OF IRELAND\n",
            "Prediction   :  WHEN THEY ENTERED THE STAGE BOX ON THE LEFT THE FIRST ACT WAS WELL UNDERWAY THE SEA BEING THE INTERIOR OF A CABIN IN THE SOUTH OF IRELAND\n",
            "Levenshtein Distance 13.0125\n"
          ]
        },
        {
          "output_type": "stream",
          "name": "stderr",
          "text": [
            "\r"
          ]
        },
        {
          "output_type": "stream",
          "name": "stdout",
          "text": [
            "Saved epoch model\n",
            "Saved best training model\n",
            "\n",
            "Epoch 16/50\n"
          ]
        },
        {
          "output_type": "stream",
          "name": "stderr",
          "text": []
        },
        {
          "output_type": "stream",
          "name": "stdout",
          "text": [
            "\n",
            "Epoch 16/50: \n",
            "Train Loss 0.0797\t Train Perplexity 1.0831\t Learning Rate 0.0001\n",
            "Saved epoch model\n"
          ]
        },
        {
          "output_type": "display_data",
          "data": {
            "text/plain": [
              "<Figure size 640x480 with 2 Axes>"
            ],
            "image/png": "[encoded data removed]"
          },
          "metadata": {}
        }
      ]
    },
    {
      "cell_type": "code",
      "source": [
        "validate_full(full_model, val_loader)"
      ],
      "metadata": {
        "id": "EV72WOmGARVm",
        "colab": {
          "base_uri": "https://localhost:8080/"
        },
        "outputId": "fa657927-6f80-46df-d7af-fda4e2e53cb2"
      },
      "execution_count": null,
      "outputs": [
        {
          "output_type": "stream",
          "name": "stderr",
          "text": [
            "Val:   1%|          | 1/169 [00:07<21:32,  7.69s/it, running_distance=23.7500]"
          ]
        },
        {
          "output_type": "stream",
          "name": "stdout",
          "text": [
            "\n",
            "Ground Truth :  BECAUSE YOU WERE SLEEPING INSTEAD OF CONQUERING THE LOVELY ROSE PRINCESS HAS BECOME A FIDDLE WITHOUT A BOW WHILE POOR SHAGGY SITS THERE A COOING DOVE\n",
            "Prediction   :  BECAUSE YOUR IS SLEEPING IN SON OF CONCRING THE LOVELY ROSE PRINCES HAS BECOME OF FITTLE WITHOUT A BOW ALL POOR SEGGYS SIS SAIR A COONED OF\n"
          ]
        },
        {
          "output_type": "stream",
          "name": "stderr",
          "text": [
            "Val:   1%|          | 2/169 [00:09<11:22,  4.08s/it, running_distance=17.0625]"
          ]
        },
        {
          "output_type": "stream",
          "name": "stdout",
          "text": [
            "\n",
            "Ground Truth :  KALIKO HESITATED\n",
            "Prediction   :  CALOR GO HENSITATED\n"
          ]
        },
        {
          "output_type": "stream",
          "name": "stderr",
          "text": [
            "Val:   2%|▏         | 3/169 [00:11<09:24,  3.40s/it, running_distance=15.2917]"
          ]
        },
        {
          "output_type": "stream",
          "name": "stdout",
          "text": [
            "\n",
            "Ground Truth :  ONLY HIS HEART AND LUNGS WORKED ON AT A STRONG MEASURED RATE\n",
            "Prediction   :  ONLY HIS HEART RELUNS WORKED ON AT A STRONG MISSURE GREAT\n"
          ]
        },
        {
          "output_type": "stream",
          "name": "stderr",
          "text": [
            "Val:   2%|▏         | 4/169 [00:13<07:02,  2.56s/it, running_distance=14.4844]"
          ]
        },
        {
          "output_type": "stream",
          "name": "stdout",
          "text": [
            "\n",
            "Ground Truth :  THE STRENGTH THAT ENABLES SOMEONE IN A TRANCE TO HOLD HIS BODY STIFF AND UNSUPPORTED EXCEPT AT TWO POINTS THE HEAD AND HEELS\n",
            "Prediction   :  THE STRINGTH THE NEIGHBLES SOMEONE IN A TRANCE TO HOLD HIS BODY STIFF AND UNSUPPORTED EXCEPT AT TWO POINTS THE HEAD AND HEELS\n"
          ]
        },
        {
          "output_type": "stream",
          "name": "stderr",
          "text": [
            "Val:   3%|▎         | 5/169 [00:15<07:00,  2.56s/it, running_distance=13.7000]"
          ]
        },
        {
          "output_type": "stream",
          "name": "stdout",
          "text": [
            "\n",
            "Ground Truth :  WHEN THEY ENTERED THE STAGE BOX ON THE LEFT THE FIRST ACT WAS WELL UNDER WAY THE SCENE BEING THE INTERIOR OF A CABIN IN THE SOUTH OF IRELAND\n",
            "Prediction   :  WHEN THEY ENTERED THE STAGE BOX ON THE LEFT THE FIRST ACT WAS WELL UNDERWAY THE SEA BEING THE INTERIOR OF A CABIN IN THE SOUTH OF IRELAND\n"
          ]
        },
        {
          "output_type": "stream",
          "name": "stderr",
          "text": [
            "Val:   4%|▎         | 6/169 [00:17<06:24,  2.36s/it, running_distance=12.6354]"
          ]
        },
        {
          "output_type": "stream",
          "name": "stdout",
          "text": [
            "\n",
            "Ground Truth :  IN A MOMENT PEGGY WAS ON THE STAGE AGAIN AND ALEXANDER APPLAUDED VIGOROUSLY WITH THE REST\n",
            "Prediction   :  IT A MOMENT PEGGY WAS ON THE STAGE AGAIN AN ALEXANDER APPLOTTED VIGOROUSLY WITH THE REST\n"
          ]
        },
        {
          "output_type": "stream",
          "name": "stderr",
          "text": [
            "Val:   4%|▍         | 7/169 [00:20<07:14,  2.68s/it, running_distance=12.0089]"
          ]
        },
        {
          "output_type": "stream",
          "name": "stdout",
          "text": [
            "\n",
            "Ground Truth :  I'LL DO ANYTHING YOU WISH ME TO BARTLEY SHE SAID TREMULOUSLY\n",
            "Prediction   :  ALL'S RANYTHING YOU WISH BE TOO BARTLY SHE SAID TRUMULOUSLY\n"
          ]
        },
        {
          "output_type": "stream",
          "name": "stderr",
          "text": [
            "Val:   5%|▍         | 8/169 [00:22<06:04,  2.26s/it, running_distance=10.8828]"
          ]
        },
        {
          "output_type": "stream",
          "name": "stdout",
          "text": [
            "\n",
            "Ground Truth :  SHE PRESSED HIS HAND GENTLY IN GRATITUDE WEREN'T YOU HAPPY THEN AT ALL\n",
            "Prediction   :  SHE PRESSED HIS HAND GENTLY IN GRATITUDE WORDS YOU HAPPY THEN AT ALL\n"
          ]
        },
        {
          "output_type": "stream",
          "name": "stderr",
          "text": [
            "Val:   5%|▌         | 9/169 [00:22<04:34,  1.72s/it, running_distance=10.0347]"
          ]
        },
        {
          "output_type": "stream",
          "name": "stdout",
          "text": [
            "\n",
            "Ground Truth :  DON'T CRY DON'T CRY HE WHISPERED\n",
            "Prediction   :  DON'T CRY DON'T CRY HE WHISPERED\n"
          ]
        },
        {
          "output_type": "stream",
          "name": "stderr",
          "text": [
            "Val:   6%|▌         | 10/169 [00:25<05:41,  2.15s/it, running_distance=9.3688]"
          ]
        },
        {
          "output_type": "stream",
          "name": "stdout",
          "text": [
            "\n",
            "Ground Truth :  I'VE BEEN UP IN CANADA WITH MY BRIDGE AND I ARRANGED NOT TO COME TO NEW YORK UNTIL AFTER YOU HAD GONE\n",
            "Prediction   :  I'VE BEEN UP AND CANNOD OF WITH MY BRIDGE AND I ARRANGED NOT TO COME TO NEW YORK UNTIL AFTER YOU HAD GONE\n"
          ]
        },
        {
          "output_type": "stream",
          "name": "stderr",
          "text": [
            "Val:   7%|▋         | 11/169 [00:31<08:35,  3.26s/it, running_distance=9.2727]"
          ]
        },
        {
          "output_type": "stream",
          "name": "stdout",
          "text": [
            "\n",
            "Ground Truth :  MANY AMONG THE GENTILE PROSELYTES REFUSED TO BELIEVE THAT A CELESTIAL SPIRIT AN UNDIVIDED PORTION OF THE FIRST ESSENCE HAD BEEN PERSONALLY UNITED WITH A MASS OF IMPURE AND CONTAMINATED FLESH AND IN THEIR ZEAL FOR THE DIVINITY THEY PIOUSLY ABJURED THE HUMANITY OF CHRIST\n",
            "Prediction   :  MANY AMONG THE GENTILE PRESOLATES REFUSED TO BELIEVE THAT A SALASTIAL SPIRITS AND UNDIVIDED AND PORTION OF THE FIRST ESSENCE HAD BEEN PERSONALLY UNITED WITH A MASS OF IMPURE AND CONSIMINATED FLESH AND IN THEIR ESEAL FOR THE DIVINITY THEY PIOUSLY OBJURED THE HUMANITY OF CHRIST\n"
          ]
        },
        {
          "output_type": "stream",
          "name": "stderr",
          "text": [
            "Val:   7%|▋         | 12/169 [00:36<09:37,  3.68s/it, running_distance=10.4375]"
          ]
        },
        {
          "output_type": "stream",
          "name": "stdout",
          "text": [
            "\n",
            "Ground Truth :  THE ZEAL OF CYRIL EXPOSED HIM TO THE PENALTIES OF THE JULIAN LAW BUT IN A FEEBLE GOVERNMENT AND A SUPERSTITIOUS AGE HE WAS SECURE OF IMPUNITY AND EVEN OF PRAISE\n",
            "Prediction   :  THE ZEAL OF CAROL EXPOSED HIM TO THE PENNEL HES OF THE JEWLY IN LAW BUT IN A FEEBLE GOVERNMENT AND A SUPER SIS AGE HE WAS THE CURE OF IMPUNITY AND EVEN OF PRAISE\n"
          ]
        },
        {
          "output_type": "stream",
          "name": "stderr",
          "text": [
            "Val:   8%|▊         | 13/169 [00:40<10:02,  3.86s/it, running_distance=10.9808]"
          ]
        },
        {
          "output_type": "stream",
          "name": "stdout",
          "text": [
            "\n",
            "Ground Truth :  THE PAST HE REGRETTED HE WAS DISCONTENTED WITH THE PRESENT AND THE FUTURE HE HAD REASON TO DREAD THE ORIENTAL BISHOPS SUCCESSIVELY DISENGAGED THEIR CAUSE FROM HIS UNPOPULAR NAME AND EACH DAY DECREASED THE NUMBER OF THE SCHISMATICS WHO REVERED NESTORIUS AS THE CONFESSOR OF THE FAITH\n",
            "Prediction   :  THE PAST HE REGRETTED HE WAS DISCONTENTED WITH THE PRESENCE AND THE FUTURE HE HAD REASON TO DREAD THE ORIENTAL BUSHIPS SUCCESSIVELY DISS ENGAGED THEIR CAUSE FROM HIS UNPOPULAR NAME AND EACH DAYED ACREASED THE NUMBER OF THE SKISMATICS TO REVEARED MISTORIOUS AS THE CONFESSOR OF THE FAITH\n"
          ]
        },
        {
          "output_type": "stream",
          "name": "stderr",
          "text": [
            "Val:   8%|▊         | 14/169 [00:45<10:26,  4.04s/it, running_distance=11.1429]"
          ]
        },
        {
          "output_type": "stream",
          "name": "stdout",
          "text": [
            "\n",
            "Ground Truth :  COSETTE WAS NO LONGER IN RAGS SHE WAS IN MOURNING\n",
            "Prediction   :  COSETTE WAS NO LONGER IN RIGHTS SHE WAS IN MORNING\n"
          ]
        },
        {
          "output_type": "stream",
          "name": "stderr",
          "text": [
            "Val:   9%|▉         | 15/169 [00:49<10:30,  4.09s/it, running_distance=11.7458]"
          ]
        },
        {
          "output_type": "stream",
          "name": "stdout",
          "text": [
            "\n",
            "Ground Truth :  SHE WOULD NOT SPEAK THOUGH WE DANCED A WEEK WITH HER THOUGHTS A THOUSAND LEAGUES OVER THE WATER SINGER SINGER WANDERING SINGER O MY HONEY SWEET SINGER\n",
            "Prediction   :  SHE WOULD NOT SPEAK THAT WE DANCED TOPY WITH HER THOUGHTS A THOUSAND LEAGUES OVERED THE WATER SINGER OH MY HINEY SWEET SINGER OH MY HINEY SWEET SINGER\n"
          ]
        },
        {
          "output_type": "stream",
          "name": "stderr",
          "text": [
            "Val:   9%|▉         | 16/169 [00:52<09:46,  3.83s/it, running_distance=12.1172]"
          ]
        },
        {
          "output_type": "stream",
          "name": "stdout",
          "text": [
            "\n",
            "Ground Truth :  WE RANGE WIDER LAST LONGER AND ESCAPE MORE AND MORE FROM INTENSITY TOWARDS UNDERSTANDING\n",
            "Prediction   :  FEET RANGE WATER LAST LONGER AND ESCHEEP MORE AT MORE AT MORE FROM INTENSITY TOWARDS UNDERSTANDING\n"
          ]
        },
        {
          "output_type": "stream",
          "name": "stderr",
          "text": [
            "Val:  10%|█         | 17/169 [00:56<10:05,  3.99s/it, running_distance=12.0110]"
          ]
        },
        {
          "output_type": "stream",
          "name": "stdout",
          "text": [
            "\n",
            "Ground Truth :  THE LONG PEPPER IS LESS AROMATIC THAN THE BLACK BUT ITS OIL IS MORE PUNGENT\n",
            "Prediction   :  THE LONG PEPPER HIS LESS EREMATIC THAN THE BLACK BUT ITS VOIL AS MORE PUNGENT\n"
          ]
        },
        {
          "output_type": "stream",
          "name": "stderr",
          "text": [
            "Val:  11%|█         | 18/169 [01:01<10:50,  4.31s/it, running_distance=12.3056]"
          ]
        },
        {
          "output_type": "stream",
          "name": "stdout",
          "text": [
            "\n",
            "Ground Truth :  THE LEMON WAS FIRST CULTIVATED IN ENGLAND IN THE BEGINNING OF THE SEVENTEENTH CENTURY AND IS NOW OFTEN TO BE FOUND IN OUR GREEN HOUSES\n",
            "Prediction   :  THE LEMON WAS FIRST CULTIMATED IN ENGLAND IN THE BEGINNING OF THE SEVENTEENTH CENTRY AND IS NOW OFTEN TO BE FOUND IN OUR GREEN HOUSES\n"
          ]
        },
        {
          "output_type": "stream",
          "name": "stderr",
          "text": [
            "Val:  11%|█         | 19/169 [01:03<08:23,  3.36s/it, running_distance=11.9671]"
          ]
        },
        {
          "output_type": "stream",
          "name": "stdout",
          "text": [
            "\n",
            "Ground Truth :  SUFFICIENT TO SERVE WITH FIVE OR SIX MACKEREL\n",
            "Prediction   :  OF SUFFICIENT TO SERVE WITH FIVE OR SIX MACREL\n"
          ]
        },
        {
          "output_type": "stream",
          "name": "stderr",
          "text": [
            "Val:  12%|█▏        | 20/169 [01:06<08:11,  3.30s/it, running_distance=11.8906]"
          ]
        },
        {
          "output_type": "stream",
          "name": "stdout",
          "text": [
            "\n",
            "Ground Truth :  PUT THE UDDER INTO A STEWPAN WITH SUFFICIENT WATER TO COVER IT LET IT STEW GENTLY TILL QUITE DONE WHEN TAKE IT OUT TO COOL\n",
            "Prediction   :  PUT THE EDDER INTO A STEWPEN WITH SUFFICIENT WANDER TO COVERT LET IT'S DUENTLY TILL QUITE DONE WHEN TAKE IT OUT TO COOL\n"
          ]
        },
        {
          "output_type": "stream",
          "name": "stderr",
          "text": [
            "Val:  12%|█▏        | 21/169 [01:09<07:49,  3.17s/it, running_distance=11.7083]"
          ]
        },
        {
          "output_type": "stream",
          "name": "stdout",
          "text": [
            "\n",
            "Ground Truth :  NOW WHY IS THAT OTTO\n",
            "Prediction   :  NOW WISE THAT ARTO\n"
          ]
        },
        {
          "output_type": "stream",
          "name": "stderr",
          "text": [
            "Val:  13%|█▎        | 22/169 [01:11<07:25,  3.03s/it, running_distance=11.4403]"
          ]
        },
        {
          "output_type": "stream",
          "name": "stdout",
          "text": [
            "\n",
            "Ground Truth :  WE STOOD PANTING ON THE EDGE OF THE RAVINE LOOKING DOWN AT THE TREES AND BUSHES THAT GREW BELOW US\n",
            "Prediction   :  WE STOOD PANTING ON THE EDGE OF THE REVENE LOOKING DOWN AT THE TREES AND WHICHES A GREW ALO US\n"
          ]
        },
        {
          "output_type": "stream",
          "name": "stderr",
          "text": [
            "Val:  14%|█▎        | 23/169 [01:16<08:47,  3.61s/it, running_distance=11.4918]"
          ]
        },
        {
          "output_type": "stream",
          "name": "stdout",
          "text": [
            "\n",
            "Ground Truth :  I DO NOT BELIEVE IN SUCH REPUBLICS ANY MORE THAN IN THAT OF PLATO OR IF THE THINGS WE READ OF REALLY HAPPENED I DO NOT HESITATE TO AFFIRM THAT THESE SUPPOSED DEMOCRACIES WERE COMPOSED OF VERY DIFFERENT ELEMENTS FROM OURS AND THAT THEY HAD NOTHING IN COMMON WITH THE LATTER EXCEPT THEIR NAME\n",
            "Prediction   :  I DIDN'T BOTH EVEN SUCH REPUBLICS ANY MORE THAT IN THAT OF PLATEL OR IF THE THINGS WE READ OFF A REALLY HAPPENED I DO NOT HESITATES TO FUM A THESE SUPPOSED DEMOCRACIES WERE COMPOSE OF THE FAIRY DIFFERENT ELEMENTS FROM HOURS AND IT THEY HAD NOTHINGING COMMON WITH THE LETTLE EXCEPT THEIR NAME\n"
          ]
        },
        {
          "output_type": "stream",
          "name": "stderr",
          "text": [
            "Val:  14%|█▍        | 24/169 [01:23<10:53,  4.51s/it, running_distance=11.9714]"
          ]
        },
        {
          "output_type": "stream",
          "name": "stdout",
          "text": [
            "\n",
            "Ground Truth :  I EXPLAIN THAT I'M TAKING MUSIC AND ALSO BIOLOGY ALGEBRA ENGLISH AND FRENCH MUSIC HE SNORTS\n",
            "Prediction   :  EXPLAINED THAT I'M TAKING MUSIC AND ALSO BIOLOGY ALTIE ALSER ENGLISH IN FRENCH MUSIC THESE NORTHS\n"
          ]
        },
        {
          "output_type": "stream",
          "name": "stderr",
          "text": [
            "Val:  15%|█▍        | 25/169 [01:24<08:13,  3.43s/it, running_distance=11.9250]"
          ]
        },
        {
          "output_type": "stream",
          "name": "stdout",
          "text": [
            "\n",
            "Ground Truth :  IT'S THE FIRST TIME HILDA HAS BEEN TO OUR HOUSE AND TOM INTRODUCES HER AROUND\n",
            "Prediction   :  IT'S A FIRST TIME HILD A HAS BEEN TO OUR HOUSE AND TON THE TRODUCES HER AROUND\n"
          ]
        },
        {
          "output_type": "stream",
          "name": "stderr",
          "text": [
            "Val:  15%|█▌        | 26/169 [01:28<08:39,  3.63s/it, running_distance=12.2067]"
          ]
        },
        {
          "output_type": "stream",
          "name": "stdout",
          "text": [
            "\n",
            "Ground Truth :  IS THERE ANY CHANCE FOR THE OTHER ONE THINK YOU\n",
            "Prediction   :  IS THERE ANY CHANCE FOR THE OTHER ONE THINK YOU\n"
          ]
        },
        {
          "output_type": "stream",
          "name": "stderr",
          "text": [
            "Val:  16%|█▌        | 27/169 [01:32<08:46,  3.70s/it, running_distance=12.0532]"
          ]
        },
        {
          "output_type": "stream",
          "name": "stdout",
          "text": [
            "\n",
            "Ground Truth :  I CANNOT THINK WHAT POSSESSES ME THAT I MUST ALWAYS BE WANTING TO COMFORT HIM WHEN HE'S DOWNCAST AND THAT I MUST GO MEDDLING WI HIM TO NIGHT WHEN SURE ENOUGH IT WAS HIS AUNT'S PLACE TO SPEAK TO HIM\n",
            "Prediction   :  I CANNOT THINK WHAT POSSESSES ME THAT I MUST ALWAYS BE WANTING TO COMFORT HIM WHEN HE'S DOWN CAST AND THAT I MUST GO METTLING WITH HIM TO NIGHT WHEN SURE ENOUGH IT WAS HIS AUNT'S PLACE TO SPEAK TO HIM\n"
          ]
        },
        {
          "output_type": "stream",
          "name": "stderr",
          "text": [
            "Val:  17%|█▋        | 28/169 [01:35<08:35,  3.66s/it, running_distance=11.9286]"
          ]
        },
        {
          "output_type": "stream",
          "name": "stdout",
          "text": [
            "\n",
            "Ground Truth :  FROM UNDER THE LINING HE NOW PRODUCED A COLLECTION OF BRILLIANTLY COLORED PAPER FIGURES SEVERAL INCHES HIGH AND STIFF ENOUGH TO STAND ALONE\n",
            "Prediction   :  FROM UNDER THE LINING HE NOW PRODUCED A COLLECTION OF BRILLIANTLY COLORED PAPER FIGURES SEVERAL INJUST HIGH AND STIFFING OFF TO STAND ALONE\n"
          ]
        },
        {
          "output_type": "stream",
          "name": "stderr",
          "text": [
            "Val:  17%|█▋        | 29/169 [01:40<09:12,  3.94s/it, running_distance=11.7478]"
          ]
        },
        {
          "output_type": "stream",
          "name": "stdout",
          "text": [
            "\n",
            "Ground Truth :  THEY BEGAN TO LAUGH BOISTEROUSLY WHEN THEY SAW ME CALLING\n",
            "Prediction   :  THEY BEGAN TO LAUGH BOISTRESSLY WHEN THEY SAW ME CALLING\n"
          ]
        },
        {
          "output_type": "stream",
          "name": "stderr",
          "text": [
            "Val:  18%|█▊        | 30/169 [01:41<07:22,  3.18s/it, running_distance=11.7417]"
          ]
        },
        {
          "output_type": "stream",
          "name": "stdout",
          "text": [
            "\n",
            "Ground Truth :  HE COULD STAND RIGHT UP AND TALK TO YOU HE COULD DID HE FIGHT HARD\n",
            "Prediction   :  HE COULD STAND RIGHT UP AND TOPPED YIEL HE GOOD DID HE FIGHT HARD\n"
          ]
        },
        {
          "output_type": "stream",
          "name": "stderr",
          "text": [
            "Val:  18%|█▊        | 31/169 [01:44<07:06,  3.09s/it, running_distance=11.5585]"
          ]
        },
        {
          "output_type": "stream",
          "name": "stdout",
          "text": [
            "\n",
            "Ground Truth :  ANTONIA'S FATHER UNCOVERED ONE OF HIS LONG BONY LEGS AND RUBBED IT RHYTHMICALLY\n",
            "Prediction   :  AND STEE AS FATHER UNCOVERED ONE OF HIS LONG BONY LEGS AND BROBBED IT WRITHNICKLY\n"
          ]
        },
        {
          "output_type": "stream",
          "name": "stderr",
          "text": [
            "Val:  19%|█▉        | 32/169 [01:46<06:07,  2.68s/it, running_distance=11.3594]"
          ]
        },
        {
          "output_type": "stream",
          "name": "stdout",
          "text": [
            "\n",
            "Ground Truth :  NOW HIS MIDDLE HORSE WAS BEING ALMOST DRAGGED BY THE OTHER TWO\n",
            "Prediction   :  NOW HIS MILL HORSE WAS BEING ALMOST DRAG BY THE OTHER TWO\n"
          ]
        },
        {
          "output_type": "stream",
          "name": "stderr",
          "text": [
            "Val:  20%|█▉        | 33/169 [01:49<06:20,  2.80s/it, running_distance=11.2992]"
          ]
        },
        {
          "output_type": "stream",
          "name": "stdout",
          "text": [
            "\n",
            "Ground Truth :  LIKE THE TWO KINGS OF SPARTA THEY REIGNED JOINTLY DIVIDING BETWEEN THEM THE LABOURS AND CARES OF STATE\n",
            "Prediction   :  LIKE THE TWO KINGS OF SPARTA THEY RAVING JOINTLY DIFIDING BETWEEN THEM THE LABOURS AND CARES OF STEEK\n"
          ]
        },
        {
          "output_type": "stream",
          "name": "stderr",
          "text": [
            "Val:  20%|██        | 34/169 [01:56<09:12,  4.09s/it, running_distance=11.5919]"
          ]
        },
        {
          "output_type": "stream",
          "name": "stdout",
          "text": [
            "\n",
            "Ground Truth :  SEVENTEEN SEVENTEEN\n",
            "Prediction   :  SEVENTEEN SEVENTEEN\n"
          ]
        },
        {
          "output_type": "stream",
          "name": "stderr",
          "text": [
            "Val:  21%|██        | 35/169 [02:04<11:20,  5.08s/it, running_distance=12.1250]"
          ]
        },
        {
          "output_type": "stream",
          "name": "stdout",
          "text": [
            "\n",
            "Ground Truth :  MAIZE NEXT TO WHEAT AND RICE MAIZE IS THE GRAIN MOST USED IN THE NOURISHMENT OF MAN\n",
            "Prediction   :  MAZE NEXT TO WEED IN RICE MAZES THE GRAIN MOST USED IN THE NOURISHMENT OF MAN\n"
          ]
        },
        {
          "output_type": "stream",
          "name": "stderr",
          "text": [
            "Val:  21%|██▏       | 36/169 [02:10<12:19,  5.56s/it, running_distance=12.1024]"
          ]
        },
        {
          "output_type": "stream",
          "name": "stdout",
          "text": [
            "\n",
            "Ground Truth :  HE SAYS THAT BY CUTTING THROUGH FOUR OR FIVE SLICES AT A TIME ALL THE BUTTER IS SQUEEZED OUT OF THE UPPER ONES WHILE THE BOTTOM ONE IS SWIMMING IN FAT LIQUID\n",
            "Prediction   :  HE SAYS THAT BY CUTTING THROUGH FOUR FIVE SLICES AT A TIME ALL THE BUTTER IS SCLEEZED OUT OF THE UPPER ONES WHILE THE BOTTOM ONE IS SWIMMING IN FAT LEQUID\n"
          ]
        },
        {
          "output_type": "stream",
          "name": "stderr",
          "text": [
            "Val:  22%|██▏       | 37/169 [02:15<11:33,  5.25s/it, running_distance=11.9764]"
          ]
        },
        {
          "output_type": "stream",
          "name": "stdout",
          "text": [
            "\n",
            "Ground Truth :  ILLUSTRATION RUSKS\n",
            "Prediction   :  ILLUSTRATION RUSKS\n"
          ]
        },
        {
          "output_type": "stream",
          "name": "stderr",
          "text": [
            "Val:  22%|██▏       | 38/169 [02:21<11:56,  5.47s/it, running_distance=12.1530]"
          ]
        },
        {
          "output_type": "stream",
          "name": "stdout",
          "text": [
            "\n",
            "Ground Truth :  IT WAS EVIDENT THAT THE RACE HAD DEGENERATED LIKE MANY A NOBLE RACE BESIDES IN CONSEQUENCE OF TOO STRICT A WATCHFULNESS TO KEEP IT PURE\n",
            "Prediction   :  IT WAS EVIDENT THAT THE RACE HAD DEGENERATED LIKE MANY A NOBLE RACED BESIDES IN CONSEQUENCE OF TWO STRICK TO WATCHFULNESS TO KEEP AT PURE\n"
          ]
        },
        {
          "output_type": "stream",
          "name": "stderr",
          "text": [
            "Val:  23%|██▎       | 39/169 [02:27<12:10,  5.62s/it, running_distance=12.2099]"
          ]
        },
        {
          "output_type": "stream",
          "name": "stdout",
          "text": [
            "\n",
            "Ground Truth :  THERE IS A WONDERFUL INSIGHT IN HEAVEN'S BROAD AND SIMPLE SUNSHINE\n",
            "Prediction   :  THERE IS A WONDERFUL INSIGHT IN HEAVEN'S BROAD AND SIMPLE SUNSHINE\n"
          ]
        },
        {
          "output_type": "stream",
          "name": "stderr",
          "text": [
            "Val:  24%|██▎       | 40/169 [02:28<09:35,  4.46s/it, running_distance=12.1375]"
          ]
        },
        {
          "output_type": "stream",
          "name": "stdout",
          "text": [
            "\n",
            "Ground Truth :  OH REJOINED THE DAGUERREOTYPIST BECAUSE LIKE AN OLD LADY'S CUP OF TEA IT IS WATER BEWITCHED\n",
            "Prediction   :  OH REJOINTED TO GARROW TYPEST BECAUSE LIKE AN OLD LADY'S COUP OF TEAGUE IT IS WATER BEWITCHED\n"
          ]
        },
        {
          "output_type": "stream",
          "name": "stderr",
          "text": [
            "Val:  24%|██▍       | 41/169 [02:32<09:07,  4.28s/it, running_distance=12.0183]"
          ]
        },
        {
          "output_type": "stream",
          "name": "stdout",
          "text": [
            "\n",
            "Ground Truth :  THE WALLS OF THE ROOMS WERE DISCORDANTLY PAPERED\n",
            "Prediction   :  THE WALLS OF THE ROOMS WERE DISCORDENTLY PAPRIED\n"
          ]
        },
        {
          "output_type": "stream",
          "name": "stderr",
          "text": [
            "Val:  25%|██▍       | 42/169 [02:33<07:01,  3.32s/it, running_distance=11.8914]"
          ]
        },
        {
          "output_type": "stream",
          "name": "stdout",
          "text": [
            "\n",
            "Ground Truth :  HE WAS IN A FEVERED STATE OF MIND OWING TO THE BLIGHT HIS WIFE'S ACTION THREATENED TO CAST UPON HIS ENTIRE FUTURE\n",
            "Prediction   :  HE WAS AN EFFEVOURED STATE OF MIND OWING TO THE BLIGHT HIS WIFE'S ACTION THREATENED TO CAST UPON HIS ENTIRE FUTURE\n"
          ]
        },
        {
          "output_type": "stream",
          "name": "stderr",
          "text": [
            "Val:  25%|██▌       | 43/169 [02:35<05:36,  2.67s/it, running_distance=11.7776]"
          ]
        },
        {
          "output_type": "stream",
          "name": "stdout",
          "text": [
            "\n",
            "Ground Truth :  FORTUNATELY THERE WAS NOTHING FROM HIS WIFE EITHER\n",
            "Prediction   :  FORTUNATELY THERE WAS NOTHING FROM HIS WIFE EITHER\n"
          ]
        },
        {
          "output_type": "stream",
          "name": "stderr",
          "text": [
            "Val:  26%|██▌       | 44/169 [02:37<05:05,  2.45s/it, running_distance=11.6364]"
          ]
        },
        {
          "output_type": "stream",
          "name": "stdout",
          "text": [
            "\n",
            "Ground Truth :  BY THE TIME HE REACHED HIS OWN STREET HE WAS KEENLY ALIVE TO THE DIFFICULTIES OF HIS SITUATION AND WISHED OVER AND OVER THAT SOME SOLUTION WOULD OFFER ITSELF THAT HE COULD SEE HIS WAY OUT\n",
            "Prediction   :  BY THE TIME HE REACHED HIS OWN STREET HE WAS KEENLY ALIVED TO THE DIFFICULTIES OF HIS SITUATION AND WISHED OVER AND OVER THAT SOME SOLUTION WOULD OFFER IN THESELF THAT HE COULD SEE HIS WAY OUT\n"
          ]
        },
        {
          "output_type": "stream",
          "name": "stderr",
          "text": [
            "Val:  27%|██▋       | 45/169 [02:39<04:48,  2.33s/it, running_distance=11.5583]"
          ]
        },
        {
          "output_type": "stream",
          "name": "stdout",
          "text": [
            "\n",
            "Ground Truth :  FOR RELIEF HE AROSE AND JOINED IN CONVERSATION WITH A FEW FRIENDS WHO WERE DRINKING\n",
            "Prediction   :  FULL RELIEF HE AROUSE AND JOINED IN THE CONVERSATION WITH A FEW FRANCE HE WERE DRINKING\n"
          ]
        },
        {
          "output_type": "stream",
          "name": "stderr",
          "text": [
            "Val:  27%|██▋       | 46/169 [02:40<04:18,  2.10s/it, running_distance=11.5122]"
          ]
        },
        {
          "output_type": "stream",
          "name": "stdout",
          "text": [
            "\n",
            "Ground Truth :  HE DID MANAGE TO BRING HIMSELF INTO THE MOOD TO GO OUT TO CARRIE BUT WHEN HE GOT IN OGDEN PLACE HE THOUGHT HE SAW A MAN WATCHING HIM AND WENT AWAY\n",
            "Prediction   :  HE DID MANAGED TO BRING HIMSELF INTO THE MOOD TO GO OUT TO CARRY BUT WHEN HE THOUGHT HE SOUGHT MAN MATCHING HIM AND MET AWAY\n"
          ]
        },
        {
          "output_type": "stream",
          "name": "stderr",
          "text": [
            "Val:  28%|██▊       | 47/169 [02:43<04:58,  2.45s/it, running_distance=11.5944]"
          ]
        },
        {
          "output_type": "stream",
          "name": "stdout",
          "text": [
            "\n",
            "Ground Truth :  I MUST NOT CONCLUDE WITHOUT EXPRESSING MY MOST SINCERE THANKS TO MY CRITICS AND TO THE PUBLIC FOR THE LENIENCY AND CONSIDERATION WITH WHICH THEY HAVE TREATED MY ADVENTURES\n",
            "Prediction   :  I MUST NOT THINK LED WITHOUT EXPRESSING MY MOST INCERED THANKS TO MY CRITICS AND TO THE PUBLIC FOR THE LANIANCY AND CONSIDERATION WITH WHICH THEY HAVE TREATED MY FENTURES\n"
          ]
        },
        {
          "output_type": "stream",
          "name": "stderr",
          "text": [
            "Val:  28%|██▊       | 48/169 [02:50<07:43,  3.83s/it, running_distance=11.7604]"
          ]
        },
        {
          "output_type": "stream",
          "name": "stdout",
          "text": [
            "\n",
            "Ground Truth :  I WAS TO SEE THE SHEEP NOT NECESSARILY CLOSE AT HAND NOR TO GET THEM IN A SINGLE MOB BUT TO SEE ENOUGH OF THEM HERE AND THERE TO FEEL EASY THAT NOTHING HAD GONE WRONG THIS WAS NO DIFFICULT MATTER FOR THERE WERE NOT ABOVE EIGHT HUNDRED OF THEM AND BEING ALL BREEDING EWES THEY WERE PRETTY QUIET\n",
            "Prediction   :  I WAS TO SEE THE SHEEP NONNESS AS AIRLY CLOSE AT HAND OR TO GET THE MINUS INGLE MOB BUT TO SEE ENOUGH OF THEM HERE AND THERE TO FEEL EASY THAT NOTHING HAD GONE RONG THIS WAS NO DIFFICULT MATTER FOR THERE WERE NOT HIM OF EIGHT HUNDRED OF THEM AND BEING ALL BREATING USE THEY WERE PRETTY QUIET\n"
          ]
        },
        {
          "output_type": "stream",
          "name": "stderr",
          "text": [
            "Val:  29%|██▉       | 49/169 [02:52<06:25,  3.21s/it, running_distance=11.7972]"
          ]
        },
        {
          "output_type": "stream",
          "name": "stdout",
          "text": [
            "\n",
            "Ground Truth :  THEIR EXPRESSION WAS DIVINE AND AS THEY GLANCED AT ME TIMIDLY BUT WITH PARTED LIPS IN GREAT BEWILDERMENT I FORGOT ALL THOUGHTS OF THEIR CONVERSION IN FEELINGS THAT WERE FAR MORE EARTHLY\n",
            "Prediction   :  THEIR EXPESSION WAS DIVINE AND AS THEY GLANCE IT ME IT LEAVES INGREATED THE WILDERMAND I FORGOT ALL THOUGHTS OF THEIR CONVERSION IN FEELINGS THAT WERE FARM ARTHLY\n"
          ]
        },
        {
          "output_type": "stream",
          "name": "stderr",
          "text": [
            "Val:  30%|██▉       | 50/169 [02:57<07:07,  3.59s/it, running_distance=11.8525]"
          ]
        },
        {
          "output_type": "stream",
          "name": "stdout",
          "text": [
            "\n",
            "Ground Truth :  THE DESIGN WAS DIFFERENT BUT THE THING WAS CLEARLY THE SAME\n",
            "Prediction   :  THAT HIS EYE WAS DIFFERAM BUT THE THING WAS CLAIRLY THE SAME\n"
          ]
        },
        {
          "output_type": "stream",
          "name": "stderr",
          "text": [
            "Val:  30%|███       | 51/169 [02:59<06:16,  3.19s/it, running_distance=11.7941]"
          ]
        },
        {
          "output_type": "stream",
          "name": "stdout",
          "text": [
            "\n",
            "Ground Truth :  I EVEN BOUGHT SOMETHING FOR MADGE I MEAN MISSUS WILSON\n",
            "Prediction   :  I EVEN BOUGHT SOMETHING FROM EDGE I MEAN MISSUS WILSON\n"
          ]
        },
        {
          "output_type": "stream",
          "name": "stderr",
          "text": [
            "Val:  31%|███       | 52/169 [03:01<05:49,  2.99s/it, running_distance=11.6562]"
          ]
        },
        {
          "output_type": "stream",
          "name": "stdout",
          "text": [
            "\n",
            "Ground Truth :  THERE APPEARED TO BE NO KNOCKER THOUGH WHETHER IT HAD BEEN TWISTED OFF WAS MORE THAN I COULD SAY\n",
            "Prediction   :  THEY APPEARED TO BE NO KNOCKER THOUGH WHETHER IT HAD BEEN TWISTED OFF WAS MORE THAN I COULD SAY\n"
          ]
        },
        {
          "output_type": "stream",
          "name": "stderr",
          "text": [
            "Val:  31%|███▏      | 53/169 [03:05<06:04,  3.14s/it, running_distance=11.5248]"
          ]
        },
        {
          "output_type": "stream",
          "name": "stdout",
          "text": [
            "\n",
            "Ground Truth :  I DO NOT KNOW WHEN IT IS GOING TO BE BUT IT WILL BE EITHER NEXT WEEK OR THE WEEK AFTER CERTAINLY AT THE EARLIEST POSSIBLE MOMENT AND I SHOULDN'T BE AT ALL SURPRISED TO LEARN THAT ALL MARY ANN'S THINGS HAD BEEN ALREADY BOUGHT AND PERHAPS SOME OF THEM MARKED\n",
            "Prediction   :  I DO NOT KNOW WHEN IT IS GOING TO BE BUT IT WILL BE EITHER NEXT WEEK OR THE WEEK AFTER CERTAINLY AT THE EARLIEST POSSIBLE MOMENT AND I SHOULDN'T BE AT ALL SURPRISED TO LEARN THAT ALL MARY ENDS THINGS HAVE BEEN ALREADY BOUGHT AND PRAPS SOME OF THEM MARKED\n"
          ]
        },
        {
          "output_type": "stream",
          "name": "stderr",
          "text": [
            "Val:  32%|███▏      | 54/169 [03:06<05:05,  2.66s/it, running_distance=11.3762]"
          ]
        },
        {
          "output_type": "stream",
          "name": "stdout",
          "text": [
            "\n",
            "Ground Truth :  IT TURNED OUT THAT SHE HAD A LITTLE MONEY OF HER OWN ABOUT A HUNDRED AND THIRTY POUNDS A YEAR\n",
            "Prediction   :  IT TURNED OUT THAT SHE HAVE A LITTLE MONEY OF HER OWN ABOUT A HUNDRED AND THIRTY POUNDS A YEAR\n"
          ]
        },
        {
          "output_type": "stream",
          "name": "stderr",
          "text": [
            "Val:  33%|███▎      | 55/169 [03:08<04:18,  2.27s/it, running_distance=11.2886]"
          ]
        },
        {
          "output_type": "stream",
          "name": "stdout",
          "text": [
            "\n",
            "Ground Truth :  THAT WAS WHAT MISSUS MACPHERSON SAID TO ME ONLY THE OTHER DAY\n",
            "Prediction   :  THAT WAS WHAT MISSUS MICK FIERCEN SAID TO ME ONLY THE OTHER DAY\n"
          ]
        },
        {
          "output_type": "stream",
          "name": "stderr",
          "text": [
            "Val:  33%|███▎      | 56/169 [03:09<03:52,  2.06s/it, running_distance=11.2031]"
          ]
        },
        {
          "output_type": "stream",
          "name": "stdout",
          "text": [
            "\n",
            "Ground Truth :  THIS MAN WAS CLAD IN A BROWN CAMEL HAIR ROBE AND SANDALS AND A GREEN TURBAN WAS ON HIS HEAD\n",
            "Prediction   :  THIS MEN WAS CLED IN A BROWN CAMPEL HERE ROBE AND SANDALS AND A GREEN TURBIN WAS ON HIS HEAD\n"
          ]
        },
        {
          "output_type": "stream",
          "name": "stderr",
          "text": [
            "Val:  34%|███▎      | 57/169 [03:11<03:28,  1.86s/it, running_distance=11.1458]"
          ]
        },
        {
          "output_type": "stream",
          "name": "stdout",
          "text": [
            "\n",
            "Ground Truth :  YOU HAVE NEVER DISOBEYED ME OBEY MY LAST COMMAND\n",
            "Prediction   :  I'VE NEVER DISOBLAYED ME OH BAY MY LAST COMMAN\n"
          ]
        },
        {
          "output_type": "stream",
          "name": "stderr",
          "text": [
            "Val:  34%|███▍      | 58/169 [03:15<04:47,  2.59s/it, running_distance=11.2241]"
          ]
        },
        {
          "output_type": "stream",
          "name": "stdout",
          "text": [
            "\n",
            "Ground Truth :  YES CHARCOAL\n",
            "Prediction   :  YES JARKOLL\n"
          ]
        },
        {
          "output_type": "stream",
          "name": "stderr",
          "text": [
            "Val:  35%|███▍      | 59/169 [03:18<04:53,  2.66s/it, running_distance=11.1727]"
          ]
        },
        {
          "output_type": "stream",
          "name": "stdout",
          "text": [
            "\n",
            "Ground Truth :  BUD THREW UP HIS ARMS TO PROTECT HIMSELF BUT TOO LATE\n",
            "Prediction   :  BUT THROUGH UPPESARMS TO PRODECT HIMSELF BUT TWO LATE\n"
          ]
        },
        {
          "output_type": "stream",
          "name": "stderr",
          "text": [
            "Val:  36%|███▌      | 60/169 [03:19<04:02,  2.23s/it, running_distance=11.1083]"
          ]
        },
        {
          "output_type": "stream",
          "name": "stdout",
          "text": [
            "\n",
            "Ground Truth :  HE SMILED GUILTILY AS HE ADDED BUT I MUST ADMIT I WAS MORE THAN A LITTLE CONCERNED MYSELF\n",
            "Prediction   :  HE SMILED GUILTILY AS HE ADDED BUT I MUST ADMIT I WAS MORE THAN A LITTLE CONCERNED MYSELF\n"
          ]
        },
        {
          "output_type": "stream",
          "name": "stderr",
          "text": [
            "Val:  36%|███▌      | 61/169 [03:22<04:08,  2.30s/it, running_distance=11.0441]"
          ]
        },
        {
          "output_type": "stream",
          "name": "stdout",
          "text": [
            "\n",
            "Ground Truth :  THINK OF LADY GLENARVAN THINK OF MARY GRANT\n",
            "Prediction   :  THINK OF LIGHTY CALL AT NORBIN THINK OF MARY GRAND\n"
          ]
        },
        {
          "output_type": "stream",
          "name": "stderr",
          "text": [
            "Val:  37%|███▋      | 62/169 [03:23<03:33,  1.99s/it, running_distance=11.0484]"
          ]
        },
        {
          "output_type": "stream",
          "name": "stdout",
          "text": [
            "\n",
            "Ground Truth :  ON THAT SIDE DESCENT WAS IMPOSSIBLE AND HAD IT BEEN POSSIBLE THE BOTTOM WAS SHUT IN BY THE ENORMOUS ROCK\n",
            "Prediction   :  ON THAT SIDE DESCENT WAS IN TOSSIP AND HAD IT BEEN POSSIBLE BOTTOM WAS SHUT IN BY THE ENORMERS WERE ALK\n"
          ]
        },
        {
          "output_type": "stream",
          "name": "stderr",
          "text": [
            "Val:  37%|███▋      | 63/169 [03:27<04:49,  2.73s/it, running_distance=11.1458]"
          ]
        },
        {
          "output_type": "stream",
          "name": "stdout",
          "text": [
            "\n",
            "Ground Truth :  THE ENTRANCE IS LIGHT BECAUSE IT OPENS SO WIDE BUT WE CAN SEE THAT THE FLOOR SLOPES DOWNWARD AND THE WAY LOOKS DARK AND NARROW BEFORE US\n",
            "Prediction   :  THE ANTRANCE'S LIGHT BECAUSE IT OPEN SO WIDE BUT WE CAN SEE THAT THE FLOOR SLOPED DOWN WORD AND THE WAY LOOKS DARKED AND NARROW BEFORE US\n"
          ]
        },
        {
          "output_type": "stream",
          "name": "stderr",
          "text": [
            "Val:  38%|███▊      | 64/169 [03:32<05:50,  3.34s/it, running_distance=11.3848]"
          ]
        },
        {
          "output_type": "stream",
          "name": "stdout",
          "text": [
            "\n",
            "Ground Truth :  NOT BE IT EVER REMEMBERED THAT THE SLIGHTEST SUSPICION OF IMMORALITY ATTACHES EITHER TO THE HEROINE OF THIS BOOK OR TO THE LEADING PHILOSOPHERS OF HER SCHOOL FOR SEVERAL CENTURIES\n",
            "Prediction   :  NOT BE IT EVER REMEMBERED THAT THE SLIGHTEST SUSPICION OF THE MORALITY ATTACHES ARE EIGHTHER TO THE HAIR OF WIN OUT THIS BOOK OR TO THE LEADING FALOSOPHERS OVER SCHOOL FOR SENTURES\n"
          ]
        },
        {
          "output_type": "stream",
          "name": "stderr",
          "text": [
            "Val:  38%|███▊      | 65/169 [03:40<08:06,  4.68s/it, running_distance=12.3510]"
          ]
        },
        {
          "output_type": "stream",
          "name": "stdout",
          "text": [
            "\n",
            "Ground Truth :  THAT WONDERFUL METAPHYSIC SUBTLETY WHICH IN PHRASES AND DEFINITIONS TOO OFTEN UNMEANING TO OUR GROSSER INTELLECT SAW THE SYMBOLS OF THE MOST IMPORTANT SPIRITUAL REALITIES AND FELT THAT ON THE DISTINCTION BETWEEN HOMOOUSIOS AND HOMOIOUSIOS MIGHT HANG THE SOLUTION OF THE WHOLE PROBLEM OF HUMANITY WAS SET TO BATTLE IN ALEXANDRIA THE ANCIENT STRONGHOLD OF GREEK PHILOSOPHY WITH THE EFFETE REMAINS OF THE VERY SCIENTIFIC THOUGHT TO WHICH IT OWED ITS EXTRAORDINARY CULTURE\n",
            "Prediction   :  THAT WONDERFUL METAPHYSIC SUFFILTY WHICH IN FRACES AND DEFINITIONS TO OFTEN UNMEANING TO HOUR A GROSE OR INTELLECT SAW AT THE SIMBLES OF THE MOST IMPORTANT SPIRITUAL REALITIES AND FELT THAT ON THE DISTINCTION BETWEEN HOME OF LOSIUS AND HOME OF LOSIUS AND HOME OF LOSIUS AND HOME OF LOSIUS AND HOME OF LOSIUS AND HOME OF LOSIUS AND HORA\n"
          ]
        },
        {
          "output_type": "stream",
          "name": "stderr",
          "text": [
            "Val:  39%|███▉      | 66/169 [03:56<13:52,  8.08s/it, running_distance=12.5985]"
          ]
        },
        {
          "output_type": "stream",
          "name": "stdout",
          "text": [
            "\n",
            "Ground Truth :  NOT THAT SUCH A CREATURE AS THAT DISTURBS ME NO CREATED THING I HOPE CAN MOVE MY EQUANIMITY BUT IF I COULD STOOP TO HATE I SHOULD HATE HER HATE HER\n",
            "Prediction   :  NOT THAT SUNCHER CREATURE AS THAT DISTURBS ME NO CREATED THING I HOPE AND MOVED MY EQUINIMITY BUT IF I COULD STOOP TO PATE I SHOULD HATE HER HATE HER\n"
          ]
        },
        {
          "output_type": "stream",
          "name": "stderr",
          "text": [
            "Val:  40%|███▉      | 67/169 [04:00<11:32,  6.79s/it, running_distance=12.6287]"
          ]
        },
        {
          "output_type": "stream",
          "name": "stdout",
          "text": [
            "\n",
            "Ground Truth :  THEN THE SHINING OF THE WET LEAVES IS DELIGHTFUL AND THE STEAMY FRAGRANCE AND THE BURST OF BIRD SONG FROM A MULTITUDE OF THRUSHES AND FINCHES AND WARBLERS THAT HAVE NESTS IN THE CHAPARRAL\n",
            "Prediction   :  THEN THE SHUNNING OF THE WED LEAVES IS DELIFEL AND THE STEAMY FRIGORANCE AND THE BURST OF BIRDS SONG FROM A MULTITUDE OF THRUSHES AND FINCHES AND WARBLERS THAT HAVE NESTS IN THE SHEPPERO\n"
          ]
        },
        {
          "output_type": "stream",
          "name": "stderr",
          "text": [
            "Val:  40%|████      | 68/169 [04:03<09:54,  5.88s/it, running_distance=12.6434]"
          ]
        },
        {
          "output_type": "stream",
          "name": "stdout",
          "text": [
            "\n",
            "Ground Truth :  BUT NEITHER THE GLORIFIED WOODS ON THE ONE HAND NOR THE LAKE ON THE OTHER COULD AT FIRST HOLD THE EYE\n",
            "Prediction   :  BENEATHED THE GLORIFITE WOODS ON THE ONE HAND NOR THE LAKE ON THE OTHER COULD AT FIRST COLD THE EYE\n"
          ]
        },
        {
          "output_type": "stream",
          "name": "stderr",
          "text": [
            "Val:  41%|████      | 69/169 [04:10<09:55,  5.95s/it, running_distance=12.8034]"
          ]
        },
        {
          "output_type": "stream",
          "name": "stdout",
          "text": [
            "\n",
            "Ground Truth :  THE BIG MEADOWS LIE NEAR THE FOOT OF LASSEN'S BUTTE A BEAUTIFUL SPACIOUS BASIN SET IN THE HEART OF THE RICHLY FORESTED MOUNTAINS SCARCELY SURPASSED IN THE GRANDEUR OF ITS SURROUNDINGS BY TAHOE\n",
            "Prediction   :  THE BAKE MENNOWS LINE NEAR THE FOOT OF LASTEN'S BEAUT A BEAUTIFUL SPACIOUS PACION SAID IN THE HART OF THE RICHLY FORESTED MOUNTAINS SCARCELY SURPASSED IN THE GRANDER OF ITS SURROUNDINGS BY TAU\n"
          ]
        },
        {
          "output_type": "stream",
          "name": "stderr",
          "text": [
            "Val:  41%|████▏     | 70/169 [04:11<07:40,  4.65s/it, running_distance=12.7652]"
          ]
        },
        {
          "output_type": "stream",
          "name": "stdout",
          "text": [
            "\n",
            "Ground Truth :  I INQUIRED OF GEORGE WITH MY EYES STILL ON THIS FURTIVE WATCHER\n",
            "Prediction   :  WHY INQUIRED OF GEORGE WITH MY EYES AND STILL ON THIS FURTITH AND WATCHER\n"
          ]
        },
        {
          "output_type": "stream",
          "name": "stderr",
          "text": [
            "Val:  42%|████▏     | 71/169 [04:12<05:55,  3.63s/it, running_distance=12.7271]"
          ]
        },
        {
          "output_type": "stream",
          "name": "stdout",
          "text": [
            "\n",
            "Ground Truth :  THE SUGGESTION HE HAD LAUGHED AT WAS NOT SO ENTIRELY FOOLISH AS HE HAD BEEN PLEASED TO CONSIDER IT\n",
            "Prediction   :  THE SUGGESTION HE HAD A LAUGH DAD WAS NOT SO ENTERLY FOOLISH AS HE HAD BEEN ABLEASED TO CONSIDERATINGEN\n"
          ]
        },
        {
          "output_type": "stream",
          "name": "stderr",
          "text": [
            "Val:  43%|████▎     | 72/169 [04:15<05:12,  3.23s/it, running_distance=12.6623]"
          ]
        },
        {
          "output_type": "stream",
          "name": "stdout",
          "text": [
            "\n",
            "Ground Truth :  THIS SWEETWATER AS THEY CALLED HIM WAS I HAVE SINCE UNDERSTOOD ONE OF HIS PROTEGES AND MORE OR LESS OF A FAVOURITE\n",
            "Prediction   :  THIS SWEET WATER AS THEY CALLED HIM WAS I HAVE SINCE UNDERSTOOD ONE OF HIS PROTTER JASE AND MORE OR LESS ALATHAVORITCH\n"
          ]
        },
        {
          "output_type": "stream",
          "name": "stderr",
          "text": [
            "Val:  43%|████▎     | 73/169 [04:16<04:17,  2.68s/it, running_distance=12.6164]"
          ]
        },
        {
          "output_type": "stream",
          "name": "stdout",
          "text": [
            "\n",
            "Ground Truth :  NOT TILL THE DOCTOR CAME HER DOCTOR WHO WAS HAPPILY IN HIS OFFICE IN THIS VERY BUILDING\n",
            "Prediction   :  NOT TILL THE DARGER CAME HER DOG DREW WITH HAPPLY IN HIS OFFICE AND THIS VERY BUILDING\n"
          ]
        },
        {
          "output_type": "stream",
          "name": "stderr",
          "text": [
            "Val:  44%|████▍     | 74/169 [04:18<03:38,  2.29s/it, running_distance=12.5853]"
          ]
        },
        {
          "output_type": "stream",
          "name": "stdout",
          "text": [
            "\n",
            "Ground Truth :  MISS CLARKE STARTED AND HER SWEET FACE SHOWED A MOMENT'S PERPLEXITY DID I SHE QUERIED MUSINGLY\n",
            "Prediction   :  THIS CLARK STARTED BEEN AT HER SWEET FACE SHOWED A MOMENT'S PERPLEXITY END ONCE SHE QUARRIED AM USINGLY\n"
          ]
        },
        {
          "output_type": "stream",
          "name": "stderr",
          "text": [
            "Val:  44%|████▍     | 75/169 [04:24<05:32,  3.53s/it, running_distance=12.7375]"
          ]
        },
        {
          "output_type": "stream",
          "name": "stdout",
          "text": [
            "\n",
            "Ground Truth :  BESIDES I WAS OF OPINION THAT A MAN'S PROFESSION WHATEVER IT MIGHT BE OUGHT TO SUPPLY HIM WITH ENOUGH MONEY TO SATISFY ALL HIS WANTS AND THE VERY POOR PAY OF AN OFFICER WOULD NEVER HAVE BEEN SUFFICIENT TO COVER MY EXPENSES BECAUSE MY EDUCATION HAD GIVEN ME GREATER WANTS THAN THOSE OF OFFICERS IN GENERAL\n",
            "Prediction   :  BESIDES OH WAS OF OPINION THAT A MAN'S PROFESSION WHATEVER IT MY BE OUGHT TO SUPPLY HIM WITH ENOUGH MONEY TO SATISFY ALL HIS ONCE AND BE VERY POOR PAY OF AN OFFICER WOULD NEVER HAVE BEEN SUPPICION TO COVER MY EXPENSES BECAUSE MY EDUCATION HAD GIVEN ME GREATER ONCE THAN THOSE OF OPPOSSORS AND GENERAL\n"
          ]
        },
        {
          "output_type": "stream",
          "name": "stderr",
          "text": [
            "Val:  45%|████▍     | 76/169 [04:29<06:06,  3.94s/it, running_distance=12.6891]"
          ]
        },
        {
          "output_type": "stream",
          "name": "stdout",
          "text": [
            "\n",
            "Ground Truth :  I PICKED IT UP AND COMING UP TO HIM JUST AS HE WAS GOING DOWN THE STEPS I HANDED IT TO HIM\n",
            "Prediction   :  I PICKED IT UP AND COMING UP TO HIM JUST AS HE WAS GOING DOWN THE STEPS I HANDLED TO HIM\n"
          ]
        },
        {
          "output_type": "stream",
          "name": "stderr",
          "text": [
            "Val:  46%|████▌     | 77/169 [04:33<05:54,  3.86s/it, running_distance=12.6510]"
          ]
        },
        {
          "output_type": "stream",
          "name": "stdout",
          "text": [
            "\n",
            "Ground Truth :  HE WROTE THE QUESTION AND GAVE IT TO ME I READ IT I COULD NOT UNDERSTAND EITHER THE SUBJECT OR THE MEANING OF THE WORDS BUT IT DID NOT MATTER I HAD TO GIVE AN ANSWER\n",
            "Prediction   :  HE WROTE THE QUESTION AND GAVE IT TO ME I READ IT I COULD NOT UNDERSTAND EITHER THE SUBJECT OR THE MEANING OF THE WORDS BUT IT DID NOT MATTER I HAD TO GIVE AN ANSWER\n"
          ]
        },
        {
          "output_type": "stream",
          "name": "stderr",
          "text": [
            "Val:  46%|████▌     | 78/169 [04:39<06:51,  4.53s/it, running_distance=12.6883]"
          ]
        },
        {
          "output_type": "stream",
          "name": "stdout",
          "text": [
            "\n",
            "Ground Truth :  YET DID THE WATCHFUL MISS WOODLEY OFTENTIMES HEAR A SIGH ESCAPE FROM HER UNKNOWN TO HERSELF TILL SHE WAS REMINDED OF IT AND THEN A SUDDEN BLUSH WOULD INSTANTLY OVERSPREAD HER FACE\n",
            "Prediction   :  YET I DID THE WATCH FULL MISS WOODLY OFTEN TIMES HERE A SIGH ESCATE FROM HER UNKNOWN TO HERSELF TILL SHE WAS REMINDED OF IT AND THEN A SUDDEN BLUSH WOULD INSTANTLY OVER SPREAD HER FACE\n"
          ]
        },
        {
          "output_type": "stream",
          "name": "stderr",
          "text": [
            "Val:  47%|████▋     | 79/169 [04:44<06:57,  4.64s/it, running_distance=12.6329]"
          ]
        },
        {
          "output_type": "stream",
          "name": "stdout",
          "text": [
            "\n",
            "Ground Truth :  MISS WOODLEY THOUGHT IT HER DUTY TO BE MUTE AND NOW THE GINGLE OF A TEA SPOON WAS LIKE A DEEP TONED BELL ALL WAS SO QUIET\n",
            "Prediction   :  MISS WOODLY THOUGHT IT HER DUTY TO BE MUTE AND NOW THE CHINGLE OF A TEAST BOON WAS LIKE A DEEP TONE TO BELL ALL WAS SO QUIETS\n"
          ]
        },
        {
          "output_type": "stream",
          "name": "stderr",
          "text": [
            "Val:  47%|████▋     | 80/169 [04:46<06:03,  4.09s/it, running_distance=12.5977]"
          ]
        },
        {
          "output_type": "stream",
          "name": "stdout",
          "text": [
            "\n",
            "Ground Truth :  IN MAKING THIS HE HAD EXPECTED NO SUCCESS THOUGH FROM THE ENERGETIC NATURE OF HIS DISPOSITION HE HAD MADE THE ATTEMPT WITH SOME ZEAL\n",
            "Prediction   :  IN MAKING THIS HE HAD EXPECTED NO SUCCESS THOUGH FROM THE ENERGETIC NATURE OF HIS DISPOSITION HE HAD MADE THE ATTECT WITH SOMESEIL\n"
          ]
        },
        {
          "output_type": "stream",
          "name": "stderr",
          "text": [
            "Val:  48%|████▊     | 81/169 [04:50<05:56,  4.05s/it, running_distance=12.5725]"
          ]
        },
        {
          "output_type": "stream",
          "name": "stdout",
          "text": [
            "\n",
            "Ground Truth :  BOZZLE HAD ALWAYS WAITED UPON HIM WITH A DECENT COAT AND A WELL BRUSHED HAT AND CLEAN SHOES\n",
            "Prediction   :  BOSSEL HAD ALWAYS WAITED UPON HIM WITH THE DECENT COAT AND A WELL BRUSH HATS IN CLEAN SHOES\n"
          ]
        },
        {
          "output_type": "stream",
          "name": "stderr",
          "text": [
            "Val:  49%|████▊     | 82/169 [04:57<06:49,  4.71s/it, running_distance=12.6075]"
          ]
        },
        {
          "output_type": "stream",
          "name": "stdout",
          "text": [
            "\n",
            "Ground Truth :  AT ONE MOMENT IT SEEMED TO HIM THAT HE WAS IN THE CAVE OF MONTESINOS AND SAW DULCINEA TRANSFORMED INTO A COUNTRY WENCH SKIPPING AND MOUNTING UPON HER SHE ASS AGAIN THAT THE WORDS OF THE SAGE MERLIN WERE SOUNDING IN HIS EARS SETTING FORTH THE CONDITIONS TO BE OBSERVED AND THE EXERTIONS TO BE MADE FOR THE DISENCHANTMENT OF DULCINEA\n",
            "Prediction   :  AT ONE MOMENT IT SEEMED TO HIM THAT HE WAS IN THE CAVE OF MALTICINOS AND SAW DOSONANA TRANSFORMED INTO A CUTTRY WANCH SKIPPING AND MOUNTING UPON HER SHE ASKED AGAIN THAT THE WORDS OF THE SACHERMERLAND WERE SOUNDING IN HIS EARS SETTING FOR THE DISSANT CHANTMENT ALL SONAMENT A VELSE AND THE EXERTIONS TO BE MAID FOR THE DECEND ALSALE\n"
          ]
        },
        {
          "output_type": "stream",
          "name": "stderr",
          "text": [
            "Val:  49%|████▉     | 83/169 [05:01<06:34,  4.59s/it, running_distance=12.6220]"
          ]
        },
        {
          "output_type": "stream",
          "name": "stdout",
          "text": [
            "\n",
            "Ground Truth :  IN A WORD HE PLEDGED HIMSELF TO BE MINE AND I PROMISED TO BE HIS WITHOUT CARRYING MATTERS ANY FURTHER\n",
            "Prediction   :  IN A WORD HE PLEDGED HIMSELF TO BE MIND AND I PROMISED TO BE HIS WITHOUT CARRYING MATTERS THANY FURTHER\n"
          ]
        },
        {
          "output_type": "stream",
          "name": "stderr",
          "text": [
            "Val:  50%|████▉     | 84/169 [05:11<08:53,  6.27s/it, running_distance=12.7731]"
          ]
        },
        {
          "output_type": "stream",
          "name": "stdout",
          "text": [
            "\n",
            "Ground Truth :  WHAT LED ME INTO IT WAS A CERTAIN THIRST FOR VENGEANCE WHICH IS STRONG ENOUGH TO DISTURB THE QUIETEST HEARTS\n",
            "Prediction   :  WHAT LED ME INTO IT WAS A CERTAIN THIRST FOR VENGEANCE WHICH IS STRONG IN AFTER DISTURB THE QUIETEST HEARTS\n"
          ]
        },
        {
          "output_type": "stream",
          "name": "stderr",
          "text": [
            "Val:  50%|█████     | 85/169 [05:16<08:17,  5.92s/it, running_distance=12.7338]"
          ]
        },
        {
          "output_type": "stream",
          "name": "stdout",
          "text": [
            "\n",
            "Ground Truth :  I ORDER YOU SIR NORTH CRIED INDIGNANT\n",
            "Prediction   :  I ORDER YOU SIR NORTH CRIED INDIGNANT\n"
          ]
        },
        {
          "output_type": "stream",
          "name": "stderr",
          "text": [
            "Val:  51%|█████     | 86/169 [05:17<06:00,  4.34s/it, running_distance=12.6584]"
          ]
        },
        {
          "output_type": "stream",
          "name": "stdout",
          "text": [
            "\n",
            "Ground Truth :  KIRKLAND JUMPED FOR THE JETTY MISSED HIS FOOTING AND FELL INTO THE ARMS OF THE CHAPLAIN\n",
            "Prediction   :  COURKLIN JUMPED FOR THE JEDDY MIST HIS FOOTING AND FELL UNDER THE ARMS OF THE CHAPLAIN\n"
          ]
        },
        {
          "output_type": "stream",
          "name": "stderr",
          "text": [
            "Val:  51%|█████▏    | 87/169 [05:17<04:18,  3.15s/it, running_distance=12.5467]"
          ]
        },
        {
          "output_type": "stream",
          "name": "stdout",
          "text": [
            "\n",
            "Ground Truth :  HE IS JUST MARRIED YOU KNOW IS HE SAID BURGESS\n",
            "Prediction   :  HE IS JUST VARY DO KNOW IS HE SAID BURGESS\n"
          ]
        },
        {
          "output_type": "stream",
          "name": "stderr",
          "text": [
            "Val:  52%|█████▏    | 88/169 [05:21<04:24,  3.26s/it, running_distance=12.5135]"
          ]
        },
        {
          "output_type": "stream",
          "name": "stdout",
          "text": [
            "\n",
            "Ground Truth :  OUR ROADS LIE TOGETHER DOCTOR\n",
            "Prediction   :  OUR ROADS LIE TOGETHERED AFTER\n"
          ]
        },
        {
          "output_type": "stream",
          "name": "stderr",
          "text": [
            "Val:  53%|█████▎    | 89/169 [05:23<03:48,  2.86s/it, running_distance=12.4431]"
          ]
        },
        {
          "output_type": "stream",
          "name": "stdout",
          "text": [
            "\n",
            "Ground Truth :  GOOD NIGHT SIR I HOPE YOU WILL BE COMFORTABLE\n",
            "Prediction   :  GOOD NIGHT SIR I HOPE YOU WILL BE COMFORTABLE\n"
          ]
        },
        {
          "output_type": "stream",
          "name": "stderr",
          "text": [
            "Val:  53%|█████▎    | 90/169 [05:24<02:59,  2.28s/it, running_distance=12.3757]"
          ]
        },
        {
          "output_type": "stream",
          "name": "stdout",
          "text": [
            "\n",
            "Ground Truth :  I'LL REPORT THIS TO THE GOVERNMENT\n",
            "Prediction   :  I'LL REPORTHUS TO THE GAVERNMENT\n"
          ]
        },
        {
          "output_type": "stream",
          "name": "stderr",
          "text": [
            "Val:  54%|█████▍    | 91/169 [05:25<02:41,  2.06s/it, running_distance=12.3455]"
          ]
        },
        {
          "output_type": "stream",
          "name": "stdout",
          "text": [
            "\n",
            "Ground Truth :  I FEEL LIKE A BOY OUT OF SCHOOL OR RATHER A MAN OUT OF PRISON AND MUST ENJOY MY LIBERTY IN SOME WAY\n",
            "Prediction   :  I FEEL I CA BOY OUT OF SCHOOL OR RATHER A MAN OUT OF PRISON AND MUST ENJOY MY LIBERTY IN SOME WAY\n"
          ]
        },
        {
          "output_type": "stream",
          "name": "stderr",
          "text": [
            "Val:  54%|█████▍    | 92/169 [05:28<03:04,  2.39s/it, running_distance=12.3791]"
          ]
        },
        {
          "output_type": "stream",
          "name": "stdout",
          "text": [
            "\n",
            "Ground Truth :  HE'S A KIND NEIGHBORLY MAN AND HIS BOY WILL TAKE MY PLACE ABOUT THE HOUSE AND PROTECT YOU FAITHFULLY\n",
            "Prediction   :  HE SO KINDSH NEIGHBORLY MAN AND TO SPORY WILL TAKE MY PLACE ABEL THE HOUSE AND PROTECTY FACELY\n"
          ]
        },
        {
          "output_type": "stream",
          "name": "stderr",
          "text": [
            "Val:  55%|█████▌    | 93/169 [05:35<04:43,  3.72s/it, running_distance=12.4933]"
          ]
        },
        {
          "output_type": "stream",
          "name": "stdout",
          "text": [
            "\n",
            "Ground Truth :  HIS WIFE FED HIM WITH THE FAT OF THE LAND REGARDLESS OF CONSEQUENCES HIS CHILDREN REVOLVED ABOUT HIM WITH TIRELESS CURIOSITY AND WONDER HIS NEIGHBORS FLOCKED IN TO APPLAUD ADVISE AND ADMIRE EVERY ONE TREATED HIM WITH A RESPECT MOST GRATEFUL TO HIS FEELINGS HE WAS AN OBJECT OF INTEREST AND WITH EVERY HOUR HIS IMPORTANCE INCREASED SO THAT BY NIGHT HE FELT LIKE A COMMANDER IN CHIEF AND BORE HIMSELF ACCORDINGLY\n",
            "Prediction   :  HIS WIFE SAID HIM WITH THE THOUGHT OF THE LAND REGADLESS OF CONSEQUENCES HIS CHILDREN WERE VOLVED ABOUT HIM WITH TIRELESS CURIOSITY AND WONDER HIS NEIGHBORS FLOCKED INTO A PLAUD ADVICE AND ADMIRE EVERY ONE TREATED HIM WITH THE RESPECT MOST GRATEFUL TO AT HIS FEELINGS HE WAS NOBJECT OF INTEREST AND WITH EVERY OTHER HIS IMPORTANCELF ACRED\n"
          ]
        },
        {
          "output_type": "stream",
          "name": "stderr",
          "text": [
            "Val:  56%|█████▌    | 94/169 [05:39<04:42,  3.76s/it, running_distance=12.4867]"
          ]
        },
        {
          "output_type": "stream",
          "name": "stdout",
          "text": [
            "\n",
            "Ground Truth :  DAVID AND CHRISTIE WENT SMILING AWAY TOGETHER AND IF THEY SHED ANY TEARS OVER THE BRIEF HAPPINESS NO ONE SAW THEM BUT THE FLOWERS AND THEY LOYALLY KEPT THE SECRET FOLDED UP IN THEIR TENDER HEARTS\n",
            "Prediction   :  DIF IT INCRISTY WENT SMILING AWAY TOGETHER AND IF THEY SHAD ANY TEARY SUFFERED THE BRIEF HAPPINESS NO ONE SAW THEM WITH THE FLOWERS AND THEY LOYALLY KEPT THE SECRET FOLDED UP IN THEIR TENDER HEARTS\n"
          ]
        },
        {
          "output_type": "stream",
          "name": "stderr",
          "text": [
            "Val:  56%|█████▌    | 95/169 [05:47<06:22,  5.17s/it, running_distance=12.7000]"
          ]
        },
        {
          "output_type": "stream",
          "name": "stdout",
          "text": [
            "\n",
            "Ground Truth :  THE MOST VARIED EXPERIENCE TEACHES IT WHAT ARE THE QUALITIES TO WHICH IT PRINCIPALLY OWES THE FACT THAT IT STILL EXISTS IN SPITE OF ALL GODS AND MEN AND HAS HITHERTO BEEN VICTORIOUS THESE QUALITIES IT CALLS VIRTUES AND THESE VIRTUES ALONE IT DEVELOPS TO MATURITY\n",
            "Prediction   :  THE MOST VARIED EXPERIONS TEACHES AT WHAT BY THE QUALITIES TO WHICH IT PRINCIPALLY OSE THE FACT THAT IT STILL EXISTS IN SPITE OF ALL GODS AND MEN AND HIS SITHERTO BEN VICTORIOUS THESE QUALITIES IT CALLS VIRTUOUS A LONE AT DEVELOPS TO MATURITY\n"
          ]
        },
        {
          "output_type": "stream",
          "name": "stderr",
          "text": [
            "Val:  57%|█████▋    | 96/169 [05:57<08:04,  6.64s/it, running_distance=12.9395]"
          ]
        },
        {
          "output_type": "stream",
          "name": "stdout",
          "text": [
            "\n",
            "Ground Truth :  OCCASIONALLY TOO THE WAKING CALL COMES TOO LATE THE CHANCE WHICH GIVES PERMISSION TO TAKE ACTION WHEN THEIR BEST YOUTH AND STRENGTH FOR ACTION HAVE BEEN USED UP IN SITTING STILL AND HOW MANY A ONE JUST AS HE SPRANG UP HAS FOUND WITH HORROR THAT HIS LIMBS ARE BENUMBED AND HIS SPIRITS ARE NOW TOO HEAVY\n",
            "Prediction   :  OCCASIONALLY TOO THE WAKING CALL COMES TOO LATE THE CHANCE WHICH GIVES POVERMISSION TO TAKE ACTION WITH THEIR BEST YOUTH AND STRENGTH FIRACTION HAVE BEEN USED UP IN THE SITTING STILL AND HOW MANY AT ONE JUST AS HE SPRANG UP HIS FOUND WITH HORROR THAT HIS LIMBS ARE BENUMMED AND HIS SPIRITS ARE NOW TO HEAVY\n"
          ]
        },
        {
          "output_type": "stream",
          "name": "stderr",
          "text": [
            "Val:  57%|█████▋    | 97/169 [06:03<07:27,  6.22s/it, running_distance=13.1972]"
          ]
        },
        {
          "output_type": "stream",
          "name": "stdout",
          "text": [
            "\n",
            "Ground Truth :  THE HOUSE WHICH SEEMED TO CONSIST OF TWO OR THREE HIGH NARROW AND STEEP ROOFED BUILDINGS PROJECTING FROM EACH OTHER AT RIGHT ANGLES FORMED ONE SIDE OF THE INCLOSURE\n",
            "Prediction   :  THE HOUSE WHICH SEEMED TO CONSIST OF TWO OR THREE HIGH NEARER AND STEEP ROOFED BUILDINGS PROJECTING FROM ENCLOS FORMED ONE SIGHT IF HE ENCLOSURE\n"
          ]
        },
        {
          "output_type": "stream",
          "name": "stderr",
          "text": [
            "Val:  58%|█████▊    | 98/169 [06:07<06:30,  5.50s/it, running_distance=13.2232]"
          ]
        },
        {
          "output_type": "stream",
          "name": "stdout",
          "text": [
            "\n",
            "Ground Truth :  THEY HELD CONVENTICLES IN THE OPEN FIELDS AND BEING TREATED WITH GREAT VIOLENCE AND CRUELTY BY THE SCOTTISH GOVERNMENT MORE THAN ONCE TOOK ARMS DURING THOSE REIGNS\n",
            "Prediction   :  THEY HOWED CONVENTABLES IN THE OPEN FIELDS AND BEING TREATED WITH GREAT VIOLENCE IN CRUELTY BY THE SCOTTISH GOVERNMENT WERE THAN ONCE TO CARNSTERING THOSE REIGNS\n"
          ]
        },
        {
          "output_type": "stream",
          "name": "stderr",
          "text": [
            "Val:  59%|█████▊    | 99/169 [06:09<05:18,  4.55s/it, running_distance=13.1793]"
          ]
        },
        {
          "output_type": "stream",
          "name": "stdout",
          "text": [
            "\n",
            "Ground Truth :  ARE YOU A GIANT\n",
            "Prediction   :  ARE YOU HAD GIANT\n"
          ]
        },
        {
          "output_type": "stream",
          "name": "stderr",
          "text": [
            "Val:  59%|█████▉    | 100/169 [06:12<04:53,  4.25s/it, running_distance=13.1619]"
          ]
        },
        {
          "output_type": "stream",
          "name": "stdout",
          "text": [
            "\n",
            "Ground Truth :  YOU ARE NOT LIKE MY PEOPLE THE PINKIES AND THERE IS NO PLACE FOR YOU IN OUR COUNTRY\n",
            "Prediction   :  YOU ARE NOT LIKE MY PEOPLE THE PINKEYS AND THERE IS NO PLACE FOR YOU IN OUR HUNTRY\n"
          ]
        },
        {
          "output_type": "stream",
          "name": "stderr",
          "text": [
            "Val:  60%|█████▉    | 101/169 [06:17<05:00,  4.43s/it, running_distance=13.1720]"
          ]
        },
        {
          "output_type": "stream",
          "name": "stdout",
          "text": [
            "\n",
            "Ground Truth :  IN THIS TYPE OF PRAYER THERE WAS NO BESEECHING OF FAVOR OR HELP\n",
            "Prediction   :  IN THIS TYPE OF PRAYER THERE WAS NO BESEECHING OF FAVOUR OR HELP\n"
          ]
        },
        {
          "output_type": "stream",
          "name": "stderr",
          "text": [
            "Val:  60%|██████    | 102/169 [06:22<05:06,  4.57s/it, running_distance=13.2083]"
          ]
        },
        {
          "output_type": "stream",
          "name": "stdout",
          "text": [
            "\n",
            "Ground Truth :  WHEN SHE FELL THE WHOLE RACE FELL WITH HER\n",
            "Prediction   :  WHEN SHE FELL THE WHOLE RAYS FELL WITH HER\n"
          ]
        },
        {
          "output_type": "stream",
          "name": "stderr",
          "text": [
            "Val:  61%|██████    | 103/169 [06:28<05:17,  4.81s/it, running_distance=13.2494]"
          ]
        },
        {
          "output_type": "stream",
          "name": "stdout",
          "text": [
            "\n",
            "Ground Truth :  AS A SPECIAL MARK OF RESPECT THE BODY OF A YOUNG WOMAN OR A WARRIOR WAS SOMETIMES LAID OUT IN STATE IN A NEW TEEPEE WITH THE USUAL HOUSEHOLD ARTICLES AND EVEN WITH A DISH OF FOOD LEFT BESIDE IT NOT THAT THEY SUPPOSED THE SPIRIT COULD USE THE IMPLEMENTS OR EAT THE FOOD BUT MERELY AS A LAST TRIBUTE\n",
            "Prediction   :  AS A SPECIAL MARK OF RESPAT THE BONY OF A YOUNG WOMAN OR A WARRIOR WAS SOMETIMES LIGHT OUT IN A NEW TEEPY WITH AN USUAL HOUSEFUL ARTICLES AND EVEN WITH A DISH OF FOOD LEFT BESIDE IT NOT THAT THEY SUPPOSED THE SPIRIT COULD USY INFLIMENTS ARE EAP THE FOOD BUT MERELY AS A LAST TRAVE YOU\n"
          ]
        },
        {
          "output_type": "stream",
          "name": "stderr",
          "text": [
            "Val:  62%|██████▏   | 104/169 [06:34<05:43,  5.28s/it, running_distance=13.3011]"
          ]
        },
        {
          "output_type": "stream",
          "name": "stdout",
          "text": [
            "\n",
            "Ground Truth :  THIS WAS THE FIRST BIG BATTLE IN WHICH OUR REGIMENT HAD EVER BEEN ENGAGED\n",
            "Prediction   :  THIS WAS THE FIRST BIG BATTLE IN WHICH OUR REGIMENT A DEVERBAN ENGAGED\n"
          ]
        },
        {
          "output_type": "stream",
          "name": "stderr",
          "text": [
            "Val:  62%|██████▏   | 105/169 [06:39<05:38,  5.30s/it, running_distance=13.2917]"
          ]
        },
        {
          "output_type": "stream",
          "name": "stdout",
          "text": [
            "\n",
            "Ground Truth :  ON MONDAY MORNING I TOO CAPTURED ME A MULE\n",
            "Prediction   :  A MONDY MORNING OUT TOOK CAPTURED ME MU\n"
          ]
        },
        {
          "output_type": "stream",
          "name": "stderr",
          "text": [
            "Val:  63%|██████▎   | 106/169 [06:41<04:17,  4.09s/it, running_distance=13.2830]"
          ]
        },
        {
          "output_type": "stream",
          "name": "stdout",
          "text": [
            "\n",
            "Ground Truth :  I MADE A QUICK GLANCE OVER MY SHOULDER AND GRABBED AT MY GUN\n",
            "Prediction   :  I MID A QUICK SCLANCE OR RICH OLDER AND GRAP THAT MY GONE\n"
          ]
        },
        {
          "output_type": "stream",
          "name": "stderr",
          "text": [
            "Val:  63%|██████▎   | 107/169 [06:44<03:55,  3.80s/it, running_distance=13.2775]"
          ]
        },
        {
          "output_type": "stream",
          "name": "stdout",
          "text": [
            "\n",
            "Ground Truth :  I THOUGHT IT HAD BEEN TORN FROM MY SHOULDER\n",
            "Prediction   :  I THOUGHT IT HAD BEEN TORN FOR MY SHOULDER\n"
          ]
        },
        {
          "output_type": "stream",
          "name": "stderr",
          "text": [
            "Val:  64%|██████▍   | 108/169 [06:45<03:07,  3.07s/it, running_distance=13.2245]"
          ]
        },
        {
          "output_type": "stream",
          "name": "stdout",
          "text": [
            "\n",
            "Ground Truth :  A MAN IN THE WELL\n",
            "Prediction   :  THE MAN ON THE WELL\n"
          ]
        },
        {
          "output_type": "stream",
          "name": "stderr",
          "text": [
            "Val:  64%|██████▍   | 109/169 [06:48<03:04,  3.08s/it, running_distance=13.2294]"
          ]
        },
        {
          "output_type": "stream",
          "name": "stdout",
          "text": [
            "\n",
            "Ground Truth :  A REGIMENT WAS SENT TO THE ATTACK IT WAS JIM'S REGIMENT\n",
            "Prediction   :  A REGIMENT WAS SENTLED THE ATTACK IT WAS JIM'S REGIMENT\n"
          ]
        },
        {
          "output_type": "stream",
          "name": "stderr",
          "text": [
            "Val:  65%|██████▌   | 110/169 [06:51<02:53,  2.93s/it, running_distance=13.1699]"
          ]
        },
        {
          "output_type": "stream",
          "name": "stdout",
          "text": [
            "\n",
            "Ground Truth :  WITH THIS EXCEPTION GWYNPLAINE'S LAUGH WAS EVERLASTING\n",
            "Prediction   :  WITH THIS EXCEPTION WHEN PLAINS LAP WAS EVER LASTING\n"
          ]
        },
        {
          "output_type": "stream",
          "name": "stderr",
          "text": [
            "Val:  66%|██████▌   | 111/169 [06:53<02:30,  2.60s/it, running_distance=13.0901]"
          ]
        },
        {
          "output_type": "stream",
          "name": "stdout",
          "text": [
            "\n",
            "Ground Truth :  THIS WAS THE OLD ESTABLISHMENT OF URSUS ITS PROPORTIONS AUGMENTED BY SUCCESS AND IMPROVED FROM A WRETCHED BOOTH INTO A THEATRE\n",
            "Prediction   :  THIS WAS THE OLD ESTABLISHMENT OF EARSES ITS PROPORTIONS AUGMENTED BY SUCCESS AND IMPROVED FROM IRRECTUDE BOTH INTO A THE ATOR\n"
          ]
        },
        {
          "output_type": "stream",
          "name": "stderr",
          "text": [
            "Val:  66%|██████▋   | 112/169 [06:55<02:32,  2.67s/it, running_distance=13.0435]"
          ]
        },
        {
          "output_type": "stream",
          "name": "stdout",
          "text": [
            "\n",
            "Ground Truth :  IT WAS ESTABLISHED AT SOUTHWARK\n",
            "Prediction   :  IT WAS ESTABLISHED ITS SOUTHWARK\n"
          ]
        },
        {
          "output_type": "stream",
          "name": "stderr",
          "text": [
            "Val:  67%|██████▋   | 113/169 [06:56<02:02,  2.19s/it, running_distance=12.9873]"
          ]
        },
        {
          "output_type": "stream",
          "name": "stdout",
          "text": [
            "\n",
            "Ground Truth :  EVEN THIS COMEDIAN OF JAWS AND CLAWS WAS ECLIPSED IN SUCCESS\n",
            "Prediction   :  EVEN THIS COMMUDIANT OF JAWS AND CLAWS WAS EQUIPSED IN SUCCESS\n"
          ]
        },
        {
          "output_type": "stream",
          "name": "stderr",
          "text": [
            "Val:  67%|██████▋   | 114/169 [06:58<01:58,  2.15s/it, running_distance=12.9205]"
          ]
        },
        {
          "output_type": "stream",
          "name": "stdout",
          "text": [
            "\n",
            "Ground Truth :  HE WOULD MAKE A FAMOUS SCOUNDREL\n",
            "Prediction   :  HE WOULD MAKE A FAMOUS SCOUNDREL\n"
          ]
        },
        {
          "output_type": "stream",
          "name": "stderr",
          "text": [
            "Val:  68%|██████▊   | 115/169 [07:00<01:39,  1.84s/it, running_distance=12.8549]"
          ]
        },
        {
          "output_type": "stream",
          "name": "stdout",
          "text": [
            "\n",
            "Ground Truth :  HE WAS HOWEVER BUT A CIVIL SERVANT A MAGISTRATE THE GOVERNOR OF THE ISLAND BARON TRAMPE\n",
            "Prediction   :  HE WAS HOWEVER BUT A CIVIL SERVANT A MAGISTRATE THE GOVERNOR OF THE ISLAND THERE IN TRAMP\n"
          ]
        },
        {
          "output_type": "stream",
          "name": "stderr",
          "text": [
            "Val:  69%|██████▊   | 116/169 [07:04<02:12,  2.51s/it, running_distance=12.8109]"
          ]
        },
        {
          "output_type": "stream",
          "name": "stdout",
          "text": [
            "\n",
            "Ground Truth :  OUR TWO HORSES WITH THE LUGGAGE FOLLOWED OF THEIR OWN ACCORD WITHOUT REQUIRING WHIP OR SPUR\n",
            "Prediction   :  OUR TWO HORSES WITH THE LUGGAGE FALLEN OF THEIR OWN ACCORD WITHOUT REQUIRING WITH OR SPER\n"
          ]
        },
        {
          "output_type": "stream",
          "name": "stderr",
          "text": [
            "Val:  69%|██████▉   | 117/169 [07:05<01:55,  2.23s/it, running_distance=12.7826]"
          ]
        },
        {
          "output_type": "stream",
          "name": "stdout",
          "text": [
            "\n",
            "Ground Truth :  IN ANY CASE I SHALL TRUST RATHER TO MY OWN INTELLIGENCE THAN THEIRS\n",
            "Prediction   :  IN ANY CASE I SHALL TRUST RATHER TO MY OWN INTELLIGENCE THAN THERE'S\n"
          ]
        },
        {
          "output_type": "stream",
          "name": "stderr",
          "text": [
            "Val:  70%|██████▉   | 118/169 [07:11<02:42,  3.18s/it, running_distance=12.7728]"
          ]
        },
        {
          "output_type": "stream",
          "name": "stdout",
          "text": [
            "\n",
            "Ground Truth :  ONE OF NEWSOME'S CHIEF PLEASURES IN LIFE HAD BEEN THE EDUCATING OF HIS WOODLAND BRIDE AND IT WAS THE AMBITION OF BOTH THAT THE LITTLE MINNETAKI AND HER BROTHER BE REARED IN THE WAYS OF WHITE CHILDREN\n",
            "Prediction   :  ONE OF NUCEMS CHIEF PLEASURES AND LIFE HAD BEEN THE EDUCATING OF HIS WOULD THEM BRIDE AND IT WAS THE AMBITION OF BOTH THAT THE LITTLE MINUTOCKY IN HER BROTHER BE REARD IN THE WAYS OF WHITE CHOTERN\n"
          ]
        },
        {
          "output_type": "stream",
          "name": "stderr",
          "text": [
            "Val:  70%|███████   | 119/169 [07:13<02:22,  2.84s/it, running_distance=12.7647]"
          ]
        },
        {
          "output_type": "stream",
          "name": "stdout",
          "text": [
            "\n",
            "Ground Truth :  CHAPTER SEVEN THE HOMECOMING\n",
            "Prediction   :  CHAPPER SEVEN THE HOME COMING\n"
          ]
        },
        {
          "output_type": "stream",
          "name": "stderr",
          "text": [
            "Val:  71%|███████   | 120/169 [07:15<02:09,  2.64s/it, running_distance=12.7411]"
          ]
        },
        {
          "output_type": "stream",
          "name": "stdout",
          "text": [
            "\n",
            "Ground Truth :  WE NEED KENTUCKY AND I UNDERSTAND THAT A VERY LITTLE MORE MAY BRING THE STATE TO US GO WITH YOUR FATHER I UNDERSTAND THAT YOU HAVE BEEN A BRAVE YOUNG SOLDIER HERE AND MAY YOU DO AS WELL UP THERE\n",
            "Prediction   :  WE NEED CONTUCKING AND I UNDERSTAND THAT A VERY LITTLE MORE MAY BRING THE STAY TO US GO WITH YOUR FATHER I UNDERSTAND THAT YOU HAVE BEEN A BRAVE YOUNG SOLDIER HERE AND MAY YOU DO WAS WELL UP THERE\n"
          ]
        },
        {
          "output_type": "stream",
          "name": "stderr",
          "text": [
            "Val:  72%|███████▏  | 121/169 [07:16<01:44,  2.18s/it, running_distance=12.6885]"
          ]
        },
        {
          "output_type": "stream",
          "name": "stdout",
          "text": [
            "\n",
            "Ground Truth :  IT WHIPPED HIS BLOOD AS IT BLEW DOWN FROM THE SLOPES AND CRESTS\n",
            "Prediction   :  HE WIPPED HIS BLOOD AS A BLUE DOWN FROM A SLOWFS AND CRESS\n"
          ]
        },
        {
          "output_type": "stream",
          "name": "stderr",
          "text": [
            "Val:  72%|███████▏  | 122/169 [07:19<01:49,  2.34s/it, running_distance=12.6317]"
          ]
        },
        {
          "output_type": "stream",
          "name": "stdout",
          "text": [
            "\n",
            "Ground Truth :  JUST THEN HE WAS IN NO MOOD TO THINK OF THE SORROWS\n",
            "Prediction   :  JUST THEN HE WAS A NO MOOD TO THINK OF THE SORRORS\n"
          ]
        },
        {
          "output_type": "stream",
          "name": "stderr",
          "text": [
            "Val:  73%|███████▎  | 123/169 [07:22<01:56,  2.54s/it, running_distance=12.6016]"
          ]
        },
        {
          "output_type": "stream",
          "name": "stdout",
          "text": [
            "\n",
            "Ground Truth :  WHEN THOU LOVEST MAN OR WOMAN OR CHILD YEA OR EVEN DOG ARIGHT THEN WILT THOU NO LONGER NEED THAT I TELL THEE HOW GOD AND HIS CHRIST WOULD NOT BE CONTENT WITH EACH OTHER ALONE IN THE GLORIES EVEN OF THE ETERNAL ORIGINAL LOVE BECAUSE THEY COULD CREATE MORE LOVE\n",
            "Prediction   :  WHEN THOU LEVICE MAN OR WOMAN OR CHILD YE ARE EVEN DOG A RIGHT THEN WILL DOWN NO LONGER DEED THAT I TELL THEE HOW GOD AT HIS CHRIST WOULD NOT BE CONTENT WITH EACH OTHER ALONE IN THE GLOWERIES EVEN OF THE ATTERNAL LOVE\n"
          ]
        },
        {
          "output_type": "stream",
          "name": "stderr",
          "text": [
            "Val:  73%|███████▎  | 124/169 [07:23<01:41,  2.25s/it, running_distance=12.5620]"
          ]
        },
        {
          "output_type": "stream",
          "name": "stdout",
          "text": [
            "\n",
            "Ground Truth :  NO I AM THE LIGHTER OF THE TWO URGED TAD\n",
            "Prediction   :  NO I AM THE LIGHTER OF THE TWO EARCH HAD\n"
          ]
        },
        {
          "output_type": "stream",
          "name": "stderr",
          "text": [
            "Val:  74%|███████▍  | 125/169 [07:24<01:22,  1.88s/it, running_distance=12.5745]"
          ]
        },
        {
          "output_type": "stream",
          "name": "stdout",
          "text": [
            "\n",
            "Ground Truth :  LIGE LEANING OVER THE BRINK WAS ABLE TO FOLLOW THE BOY'S MOVEMENTS BY THE AID OF THE THIN ARC OF LIGHT MADE BY THE TORCH IN TAD'S HAND\n",
            "Prediction   :  LIGH LEANING OVER THE BRINK WAS ABLE TO FULL OF THE BOYS MOVEMENTS BY THE AID OF THIN ARCH OF LIGHT MADE BOTHER CHORCH IN TAIN'S HAND\n"
          ]
        },
        {
          "output_type": "stream",
          "name": "stderr",
          "text": [
            "Val:  75%|███████▍  | 126/169 [07:28<01:41,  2.35s/it, running_distance=12.5813]"
          ]
        },
        {
          "output_type": "stream",
          "name": "stdout",
          "text": [
            "\n",
            "Ground Truth :  I RECKON THERE ARE SMILED THE GUIDE WE ARE IN THE BEAR COUNTRY NOW\n",
            "Prediction   :  I RECKON THERE ARE SMILED THE GUITE WE ARE IN THE BARE COUNTRY NOW\n"
          ]
        },
        {
          "output_type": "stream",
          "name": "stderr",
          "text": [
            "Val:  75%|███████▌  | 127/169 [07:32<01:57,  2.81s/it, running_distance=12.7175]"
          ]
        },
        {
          "output_type": "stream",
          "name": "stdout",
          "text": [
            "\n",
            "Ground Truth :  THEY SAW HIS LONG HAIR ALMOST BRUSH THE GRASS ONE OF HIS HANDS SWEPT DOWN AND UP AND ONCE MORE TAD BUTLER ROSE STANDING IN HIS STIRRUPS UTTERING A COWBOY YELL AS HE WAVED THE SOMBRERO ON HIGH\n",
            "Prediction   :  THEY FELL HIS LONG HAIR ALMOST BRUSHED THE GRASS WHEN AT HIS HANDS SWEPT DOWN AND UP IN WHAT'S MORE TED BUTLE ROSE STANDING IN A STRUPS UTTERY A CALBLE YOUNELY'S HE WAY THIS OF BRAROW AND HIGH\n"
          ]
        },
        {
          "output_type": "stream",
          "name": "stderr",
          "text": [
            "Val:  76%|███████▌  | 128/169 [07:33<01:38,  2.41s/it, running_distance=12.7285]"
          ]
        },
        {
          "output_type": "stream",
          "name": "stdout",
          "text": [
            "\n",
            "Ground Truth :  NONE OF YOU WILL BE FIT FOR DUTY TO MORROW\n",
            "Prediction   :  NO A VIEW WILL BE FIT FOR DUTY TO MORROW\n"
          ]
        },
        {
          "output_type": "stream",
          "name": "stderr",
          "text": [
            "Val:  76%|███████▋  | 129/169 [07:36<01:37,  2.43s/it, running_distance=12.7544]"
          ]
        },
        {
          "output_type": "stream",
          "name": "stdout",
          "text": [
            "\n",
            "Ground Truth :  ALMOST BEFORE THE ECHOES OF HIS VOICE HAD DIED AWAY A SHRILL VOICE PIPED UP FROM THE TAIL END OF THE CHUCK WAGON\n",
            "Prediction   :  ALMOST BEFORE THE ECHOES OF HIS LOYS SAID DIED AWAY A SHRIEL OF VOICE TIP FROM THE TAIL INTO THE CHUCK WAGON\n"
          ]
        },
        {
          "output_type": "stream",
          "name": "stderr",
          "text": [
            "Val:  77%|███████▋  | 130/169 [07:39<01:42,  2.63s/it, running_distance=12.7606]"
          ]
        },
        {
          "output_type": "stream",
          "name": "stdout",
          "text": [
            "\n",
            "Ground Truth :  THEN THE WIND TOOK ANOTHER FROLIC ROUND THE GARDEN AND MADE UP TO THE LARGE WHITE LILY INTO WHOSE REFINED EAR HE WHISPERED A DOUBT AS TO THE NECESSITY OR ADVANTAGE OF HER THICK POWERFUL STEM BEING PROPPED UP AGAINST A STUPID UGLY STICK\n",
            "Prediction   :  THEN MONE TOOK ANOTHER FRALL AGROUND THE GARDEN AND MADE UP TO THE LARGE WHITE LILY AND WHOSE REFINED YEAR HE WHISPERED A DOUBT AS TO THE NECESSITY OR ADVANTAGE OF HER THICK POWERFUL STAM BEING PROPPED UP AGAINST A STUPID UDLY STICK\n"
          ]
        },
        {
          "output_type": "stream",
          "name": "stderr",
          "text": [
            "Val:  78%|███████▊  | 131/169 [07:43<01:55,  3.05s/it, running_distance=12.7276]"
          ]
        },
        {
          "output_type": "stream",
          "name": "stdout",
          "text": [
            "\n",
            "Ground Truth :  AFTER JUPITER HAD BOUND PROMETHEUS ON MOUNT CAUCASUS AND HAD SENT DISEASES AND CARES INTO THE WORLD MEN BECAME VERY VERY WICKED\n",
            "Prediction   :  AFTER JOUPITOR HAD BOUND PROMISIAS ON MOUNT COCKASSES AND ITS SENT DISEASES AND CARES INTO THE WORLD MEN BE KING VERY VERY VERY WICKED\n"
          ]
        },
        {
          "output_type": "stream",
          "name": "stderr",
          "text": [
            "Val:  78%|███████▊  | 132/169 [07:47<02:07,  3.46s/it, running_distance=12.6856]"
          ]
        },
        {
          "output_type": "stream",
          "name": "stdout",
          "text": [
            "\n",
            "Ground Truth :  NOW FIFTEEN YEARS AFTER THE PRINCESS WAS BORN SHE WAS WITH THE KING AND QUEEN AT ONE OF THEIR CASTLES AND AS SHE WAS RUNNING ABOUT BY HERSELF SHE CAME TO A LITTLE CHAMBER AT THE TOP OF A TOWER AND THERE SAT AN HONEST OLD WOMAN SPINNING FOR SHE HAD NEVER HEARD OF THE KING'S EDICT\n",
            "Prediction   :  NOW FIFTEEN YEARS AFTER THE PRINCESS WAS BORN SHE WAS WITH THE KING AND QUEEN ONE OF THEIR CASTLES AND AS SHE WAS RUNNING ABOUT BY HERSELF SHE CAME TO A LITTLE CHAMBER AT THE TOP OF A TOWER AND THERE SAD AND HONEST OLD WOMAN SPINNING BUT SHE HAD NEVER HEARD OF THE CANG'S EATIC\n"
          ]
        },
        {
          "output_type": "stream",
          "name": "stderr",
          "text": [
            "Val:  79%|███████▊  | 133/169 [07:51<02:05,  3.48s/it, running_distance=12.6508]"
          ]
        },
        {
          "output_type": "stream",
          "name": "stdout",
          "text": [
            "\n",
            "Ground Truth :  HE TURNED TO SHOW THEM THE CASTLE BUT BEHOLD\n",
            "Prediction   :  HE TURNED TO SHOWED ON THE CASTLE BUT BEHOLD\n"
          ]
        },
        {
          "output_type": "stream",
          "name": "stderr",
          "text": [
            "Val:  79%|███████▉  | 134/169 [07:56<02:26,  4.20s/it, running_distance=12.6203]"
          ]
        },
        {
          "output_type": "stream",
          "name": "stdout",
          "text": [
            "\n",
            "Ground Truth :  I KNOW IT AND THERE IS NO WAKING\n",
            "Prediction   :  I KNOW IT AND THERE IS NO WAKING\n"
          ]
        },
        {
          "output_type": "stream",
          "name": "stderr",
          "text": [
            "Val:  80%|███████▉  | 135/169 [07:58<01:54,  3.37s/it, running_distance=12.5718]"
          ]
        },
        {
          "output_type": "stream",
          "name": "stdout",
          "text": [
            "\n",
            "Ground Truth :  THE KEEN WIND THRUST ITSELF EVEN INSIDE THE HIGH COLLAR OF HER JACKET\n",
            "Prediction   :  THE KEEM WHEN THRUST ITSELF EVEN INSIDE THE HIGH COLOUR OF HER JACK IT\n"
          ]
        },
        {
          "output_type": "stream",
          "name": "stderr",
          "text": [
            "Val:  80%|████████  | 136/169 [07:59<01:27,  2.65s/it, running_distance=12.5409]"
          ]
        },
        {
          "output_type": "stream",
          "name": "stdout",
          "text": [
            "\n",
            "Ground Truth :  AND HE STRODE DOWN BETWEEN THE MARBLE TABLES AND OUT BY THE SWING DOOR IT WAS A VERY GOOD EXIT\n",
            "Prediction   :  AND HE STRUMBED DOWN BETWEEN THE MARBLE TABLES AND OUT BY THE SWINGDOOR IT WAS A VERY GOOD EXET\n"
          ]
        },
        {
          "output_type": "stream",
          "name": "stderr",
          "text": [
            "Val:  81%|████████  | 137/169 [08:05<01:58,  3.71s/it, running_distance=12.5370]"
          ]
        },
        {
          "output_type": "stream",
          "name": "stdout",
          "text": [
            "\n",
            "Ground Truth :  HER LITTLE FOOT TAPPED THE GRAVEL IMPATIENTLY\n",
            "Prediction   :  HER LITTLE THAT TAPPED THE GRAVELIMPATIENTLY\n"
          ]
        },
        {
          "output_type": "stream",
          "name": "stderr",
          "text": [
            "Val:  82%|████████▏ | 138/169 [08:08<01:45,  3.39s/it, running_distance=12.5466]"
          ]
        },
        {
          "output_type": "stream",
          "name": "stdout",
          "text": [
            "\n",
            "Ground Truth :  SERVE WITH FRENCH DRESSING HIDDEN UNDER THE LEAVES OF THE NEST\n",
            "Prediction   :  SERVE WITH RUNCH DRESSING HIDDEN'T UNDER THE LEAVES OF THE NEST\n"
          ]
        },
        {
          "output_type": "stream",
          "name": "stderr",
          "text": [
            "Val:  82%|████████▏ | 139/169 [08:10<01:33,  3.11s/it, running_distance=12.5441]"
          ]
        },
        {
          "output_type": "stream",
          "name": "stdout",
          "text": [
            "\n",
            "Ground Truth :  THIS DRESSING SHOULD STAND IN THE ICE BOX FOUR OR FIVE HOURS TO BECOME SEASONED\n",
            "Prediction   :  THIS DRESSING SHOULD STAND IN THE ICE BOX FOUR OR FIVE HOURS TO BECOME SEASONED\n"
          ]
        },
        {
          "output_type": "stream",
          "name": "stderr",
          "text": [
            "Val:  83%|████████▎ | 140/169 [08:16<01:53,  3.92s/it, running_distance=12.5580]"
          ]
        },
        {
          "output_type": "stream",
          "name": "stdout",
          "text": [
            "\n",
            "Ground Truth :  IN THIS SAME DISTRICT IS THE MINT IN COMMERCIAL STREET BETWEEN MONTGOMERY AND KEARNY STREETS\n",
            "Prediction   :  IN THE SAME DISTRICT IS THE MEANT IN COMMERTIAL STREET BETWEEN MUT GOMERIAN CARNEY STREETS\n"
          ]
        },
        {
          "output_type": "stream",
          "name": "stderr",
          "text": [
            "Val:  83%|████████▎ | 141/169 [08:24<02:24,  5.15s/it, running_distance=12.6764]"
          ]
        },
        {
          "output_type": "stream",
          "name": "stdout",
          "text": [
            "\n",
            "Ground Truth :  STRAIN THE SAUCE THROUGH A FINE COLLANDER AND ADD A FEW RAISINS A PIECE OF HONEY CAKE OR GINGER SNAPS AND THE MEAT OF ONE FRESH TOMATO\n",
            "Prediction   :  STRAINED THE SAUCE THROUGH A FINE COLLENDER AN ADDEFUE RAISONS A PIECE OF HUNTY CAKE OR GENGER SNAPS AND THE MEET OF ONE FRESH TO MADE OF A COURT OF THE OF THE COMBAND A COULD OF THE OF THE OF THE POOT OF THE POOT OF THE POOT OF THE POOT OF THE PUT OF A POON FRESH TO MADE OF ONE FRESH TO MADE OF ONE FRESH TO MADE OF ONE FRESH AND THE MEEEE CAKEY CAKE OR OR OR GENGER GENGER SNGER SNAPSNER SNER SNAPSNAPSNAPSNAPSNAPS\n"
          ]
        },
        {
          "output_type": "stream",
          "name": "stderr",
          "text": [
            "Val:  84%|████████▍ | 142/169 [08:26<01:52,  4.18s/it, running_distance=12.6783]"
          ]
        },
        {
          "output_type": "stream",
          "name": "stdout",
          "text": [
            "\n",
            "Ground Truth :  LACRIMA CHRISTI A STILL WINE OF EXCELLENT FLAVOR AND BOUQUET\n",
            "Prediction   :  LOOKERY MOCRISTY A STILL WINE OF EXCELLENT FLAVOUR IN BOKEY\n"
          ]
        },
        {
          "output_type": "stream",
          "name": "stderr",
          "text": [
            "Val:  85%|████████▍ | 143/169 [08:28<01:33,  3.58s/it, running_distance=12.6919]"
          ]
        },
        {
          "output_type": "stream",
          "name": "stdout",
          "text": [
            "\n",
            "Ground Truth :  THE POSSESSORS OF PROPERTY HAD NOT ONLY TO FACE THE AWAKENED PROLETARIAT BUT THEY HAD ALSO TO FIGHT AMONGST THEMSELVES YES\n",
            "Prediction   :  THAT POSSESSORS OF POPHOTY HAD NOT OWING TO FACE THEY WAKEN POLITARY IT BUT THEY HAD ALSO TO FIGHT A MUCHS THEMSELVES YES\n"
          ]
        },
        {
          "output_type": "stream",
          "name": "stderr",
          "text": [
            "Val:  85%|████████▌ | 144/169 [08:31<01:23,  3.32s/it, running_distance=12.7409]"
          ]
        },
        {
          "output_type": "stream",
          "name": "stdout",
          "text": [
            "\n",
            "Ground Truth :  HIS OWN SKIN HAD SIZZLED UNDER THE RED HOT BRAND HE MURMURED SOFTLY\n",
            "Prediction   :  HIS OWN SKIN HAD SIZZLED OUT HIS RED HOT GRANTEMEROR SOFTLY\n"
          ]
        },
        {
          "output_type": "stream",
          "name": "stderr",
          "text": [
            "Val:  86%|████████▌ | 145/169 [08:33<01:12,  3.02s/it, running_distance=12.7560]"
          ]
        },
        {
          "output_type": "stream",
          "name": "stdout",
          "text": [
            "\n",
            "Ground Truth :  HE WAS NOT SATISFIED WITH HIS FRIENDS\n",
            "Prediction   :  HE WAS NOT SATISFIED WITH HIS FRIENDS\n"
          ]
        },
        {
          "output_type": "stream",
          "name": "stderr",
          "text": [
            "Val:  86%|████████▋ | 146/169 [08:35<01:02,  2.72s/it, running_distance=12.7641]"
          ]
        },
        {
          "output_type": "stream",
          "name": "stdout",
          "text": [
            "\n",
            "Ground Truth :  IT'S LIKE YOUR HORSE SUDDENLY FALLING DEAD UNDER YOU IN THE MIDST OF AN UNINHABITED AND THIRSTY PLAIN\n",
            "Prediction   :  IT'S LIKE YOUR HORSE SOMELY FALLING DEAD UNDER YOU AND THE NITCH SOME AND ON IT HABITED AND THIRSTY PLAIN\n"
          ]
        },
        {
          "output_type": "stream",
          "name": "stderr",
          "text": [
            "Val:  87%|████████▋ | 147/169 [08:39<01:07,  3.06s/it, running_distance=12.7751]"
          ]
        },
        {
          "output_type": "stream",
          "name": "stdout",
          "text": [
            "\n",
            "Ground Truth :  HE GLARED AT ME AS IF HE DIDN'T KNOW WHO I WAS WHEN I WENT DOWNSTAIRS\n",
            "Prediction   :  HE GLARED IN ME AS IF IT DIDN'T KNOW WHO I WAS WHEN IT WENT DOWN STAIRS\n"
          ]
        },
        {
          "output_type": "stream",
          "name": "stderr",
          "text": [
            "Val:  88%|████████▊ | 148/169 [08:41<00:55,  2.63s/it, running_distance=12.7563]"
          ]
        },
        {
          "output_type": "stream",
          "name": "stdout",
          "text": [
            "\n",
            "Ground Truth :  HIS SUCCESS SEEMS TO HAVE BEEN THE OUTGROWTH OF HARD STUDY AND ABILITY TO PERFORM THE MOST EXHAUSTIVE LABOR WITHOUT FATIGUE\n",
            "Prediction   :  HIS SUCCESS SEEMS TO HAVE BEEN THE OUTGROWTH OF HARD STUDY AND ABILITY TO PERFORM THE MOST EXHAUST OF LABOR WITHOUT FATI\n"
          ]
        },
        {
          "output_type": "stream",
          "name": "stderr",
          "text": [
            "Val:  88%|████████▊ | 149/169 [08:42<00:45,  2.26s/it, running_distance=12.7043]"
          ]
        },
        {
          "output_type": "stream",
          "name": "stdout",
          "text": [
            "\n",
            "Ground Truth :  I THOUGHT THAT WAS THE WAY TO BEGIN\n",
            "Prediction   :  I THOUGHT THAT WAS THE WAY TO BEGIN\n"
          ]
        },
        {
          "output_type": "stream",
          "name": "stderr",
          "text": [
            "Val:  89%|████████▉ | 150/169 [08:43<00:35,  1.87s/it, running_distance=12.6796]"
          ]
        },
        {
          "output_type": "stream",
          "name": "stdout",
          "text": [
            "\n",
            "Ground Truth :  WELL OUR LOWER LIPS ANYWAY ANSWERED THE NYMPH\n",
            "Prediction   :  WELL OUR LOWER LIPS ANYWAY ANSWERED THE NIMPH\n"
          ]
        },
        {
          "output_type": "stream",
          "name": "stderr",
          "text": [
            "Val:  89%|████████▉ | 151/169 [08:48<00:50,  2.78s/it, running_distance=12.7334]"
          ]
        },
        {
          "output_type": "stream",
          "name": "stdout",
          "text": [
            "\n",
            "Ground Truth :  IT WAS INDEED HER HANDWRITING\n",
            "Prediction   :  IT WAS INDEED HER HANDWRITING\n"
          ]
        },
        {
          "output_type": "stream",
          "name": "stderr",
          "text": [
            "Val:  90%|████████▉ | 152/169 [08:54<01:04,  3.81s/it, running_distance=12.7418]"
          ]
        },
        {
          "output_type": "stream",
          "name": "stdout",
          "text": [
            "\n",
            "Ground Truth :  MY OWN REGIMENT WAS IN THE ADVANCE\n",
            "Prediction   :  MY UNE REGIMENT WAS IN THE ADVANCE\n"
          ]
        },
        {
          "output_type": "stream",
          "name": "stderr",
          "text": [
            "Val:  91%|█████████ | 153/169 [08:56<00:49,  3.11s/it, running_distance=12.7320]"
          ]
        },
        {
          "output_type": "stream",
          "name": "stdout",
          "text": [
            "\n",
            "Ground Truth :  I COULD NOT HELP MY FRIEND\n",
            "Prediction   :  I COULD NOT HELD MY FRIEND\n"
          ]
        },
        {
          "output_type": "stream",
          "name": "stderr",
          "text": [
            "Val:  91%|█████████ | 154/169 [08:57<00:41,  2.74s/it, running_distance=12.6903]"
          ]
        },
        {
          "output_type": "stream",
          "name": "stdout",
          "text": [
            "\n",
            "Ground Truth :  WHEN IT WAS EVENING HE LED HIS BAND INTO A NEARBY STREET AND IN HIS DISGUISE APPROACHED THE MERCHANT'S HOUSE HE KNOCKED AT THE DOOR\n",
            "Prediction   :  WHEN IT WAS EVENING HE LED HIS BANDONED TO A NEAR BY STREET AND IN HIS DISGUISE APPROACHED THE MERCHAN'S HOUSE HE KNOCKED AT THE DOOR\n"
          ]
        },
        {
          "output_type": "stream",
          "name": "stderr",
          "text": [
            "Val:  92%|█████████▏| 155/169 [08:59<00:33,  2.42s/it, running_distance=12.6516]"
          ]
        },
        {
          "output_type": "stream",
          "name": "stdout",
          "text": [
            "\n",
            "Ground Truth :  I PROMISE YOU I WILL DO YOU NO HARM\n",
            "Prediction   :  I'D PROMISED YOU I WILL DO YOU KNOW HARM\n"
          ]
        },
        {
          "output_type": "stream",
          "name": "stderr",
          "text": [
            "Val:  92%|█████████▏| 156/169 [09:02<00:33,  2.57s/it, running_distance=12.6222]"
          ]
        },
        {
          "output_type": "stream",
          "name": "stdout",
          "text": [
            "\n",
            "Ground Truth :  WE ARE GOING INTO THE FOREST TO HEW WOOD AND IN THE EVENING WHEN WE ARE READY WE WILL COME AND FETCH YOU AGAIN\n",
            "Prediction   :  WE ARE GOING INTO THE FARCE TO HUE WOULD AND IN THE EVENING WHEN WERE READY WE'LL COME IN FECTUE AGAIN\n"
          ]
        },
        {
          "output_type": "stream",
          "name": "stderr",
          "text": [
            "Val:  93%|█████████▎| 157/169 [09:06<00:35,  2.98s/it, running_distance=12.6182]"
          ]
        },
        {
          "output_type": "stream",
          "name": "stdout",
          "text": [
            "\n",
            "Ground Truth :  RANDAL WAITED A WHILE IN LONDON ON THE CHANCE THAT BENNYDECK MIGHT PAY HIM A VISIT\n",
            "Prediction   :  FRAND ALWAITED WHILE IN LONDON ON THE CHANCE THAT BANYDIC MIGHT PAY HIM OF HIS IT\n"
          ]
        },
        {
          "output_type": "stream",
          "name": "stderr",
          "text": [
            "Val:  93%|█████████▎| 158/169 [09:14<00:50,  4.60s/it, running_distance=12.7500]"
          ]
        },
        {
          "output_type": "stream",
          "name": "stdout",
          "text": [
            "\n",
            "Ground Truth :  I TRIED IT YESTERDAY IT SET MY BRAINS ON FIRE I'M FEELING THAT GLASS I TOOK JUST NOW\n",
            "Prediction   :  I TRY TO GUESS TO DAY IT IT'S SET MY BRAINS ON FIRE I'M FEELING THAT GLASS I TOOK JUST NOW\n"
          ]
        },
        {
          "output_type": "stream",
          "name": "stderr",
          "text": [
            "Val:  94%|█████████▍| 159/169 [09:16<00:36,  3.64s/it, running_distance=12.7123]"
          ]
        },
        {
          "output_type": "stream",
          "name": "stdout",
          "text": [
            "\n",
            "Ground Truth :  HOW NICE OF YOU TO COME SO SOON SHE BEGAN\n",
            "Prediction   :  HOW NICE OF YOU TO COME SO SOON SHE BEGAN\n"
          ]
        },
        {
          "output_type": "stream",
          "name": "stderr",
          "text": [
            "Val:  95%|█████████▍| 160/169 [09:17<00:25,  2.88s/it, running_distance=12.6613]"
          ]
        },
        {
          "output_type": "stream",
          "name": "stdout",
          "text": [
            "\n",
            "Ground Truth :  SHE ASKED DIRECTLY IF HER FATHER WAS DEAD\n",
            "Prediction   :  SHE ASKED DIRECTLY OF HER FATHER WAS DEAD\n"
          ]
        },
        {
          "output_type": "stream",
          "name": "stderr",
          "text": [
            "Val:  95%|█████████▌| 161/169 [09:19<00:21,  2.74s/it, running_distance=12.6378]"
          ]
        },
        {
          "output_type": "stream",
          "name": "stdout",
          "text": [
            "\n",
            "Ground Truth :  HE HAD PROMISED TO DO HIS BEST TOWARD PERSUADING CATHERINE TO GRANT SYDNEY AN INTERVIEW\n",
            "Prediction   :  HE HAD PROMISED TO DO HIS BEST TOWARD PERSUADING CATHER INTO GRANCE SITNEY AND INTERVIEWN\n"
          ]
        },
        {
          "output_type": "stream",
          "name": "stderr",
          "text": [
            "Val:  96%|█████████▌| 162/169 [09:24<00:22,  3.22s/it, running_distance=12.6138]"
          ]
        },
        {
          "output_type": "stream",
          "name": "stdout",
          "text": [
            "\n",
            "Ground Truth :  OH YOU RAVE SIR EXCLAIMED VILLEFORT IN VAIN ENDEAVORING TO ESCAPE THE NET IN WHICH HE WAS TAKEN I RAVE\n",
            "Prediction   :  OH YOU RAVE SIR EXCLAIMED VILLEFORT IN VAIN AND DOUBBERING TO ESCAPE THE NETTING WHICH HE WAS TAKEN I RAVE\n"
          ]
        },
        {
          "output_type": "stream",
          "name": "stderr",
          "text": [
            "Val:  96%|█████████▋| 163/169 [09:26<00:17,  2.87s/it, running_distance=12.5771]"
          ]
        },
        {
          "output_type": "stream",
          "name": "stdout",
          "text": [
            "\n",
            "Ground Truth :  THE DISTRICT DOCTOR APPROACHED WITH THE INDIFFERENCE OF A MAN ACCUSTOMED TO SPEND HALF HIS TIME AMONGST THE DEAD HE THEN LIFTED THE SHEET WHICH WAS PLACED OVER THE FACE AND JUST UNCLOSED THE LIPS\n",
            "Prediction   :  THE DISTRICHED OCTOR APPROACHED WITH THE INDIFFERENCE OF A MAN ACCUSTOMED TO SPAND HALF HIS TIME AMONGST THE DEAD HE THEN LITTED THE SHEET WHICH WAS PLACE OVER THE FACE AND JUST UNCLOSED TO THE LIPS\n"
          ]
        },
        {
          "output_type": "stream",
          "name": "stderr",
          "text": [
            "Val:  97%|█████████▋| 164/169 [09:30<00:16,  3.28s/it, running_distance=12.5709]"
          ]
        },
        {
          "output_type": "stream",
          "name": "stdout",
          "text": [
            "\n",
            "Ground Truth :  NOW HELICON MUST NEEDS POUR FORTH FOR ME AND WITH HER CHOIR URANIA MUST ASSIST ME TO PUT IN VERSE THINGS DIFFICULT TO THINK\n",
            "Prediction   :  NOW HELL ACCOND MUST NEEDS POOR FORTH FOR ME AND WITH HER QUIRE YOUR ROUNNIE A MUST ASSIST ME TO PUT INVERSE THINGS DIFFICULT TO THINK\n"
          ]
        },
        {
          "output_type": "stream",
          "name": "stderr",
          "text": [
            "Val:  98%|█████████▊| 165/169 [09:34<00:14,  3.50s/it, running_distance=12.5735]"
          ]
        },
        {
          "output_type": "stream",
          "name": "stdout",
          "text": [
            "\n",
            "Ground Truth :  LOOK AT ME WELL IN SOOTH I'M BEATRICE\n",
            "Prediction   :  LOOK AT MEWELL INSUS I'M BEATRESS\n"
          ]
        },
        {
          "output_type": "stream",
          "name": "stderr",
          "text": [
            "Val:  98%|█████████▊| 166/169 [09:39<00:12,  4.04s/it, running_distance=12.6081]"
          ]
        },
        {
          "output_type": "stream",
          "name": "stdout",
          "text": [
            "\n",
            "Ground Truth :  ON JANUARY TWENTY FIFTH HE WROTE MANY AND MANY THANKS FOR A MOST ESSENTIAL SERVICE MOST THOROUGHLY PERFORMED\n",
            "Prediction   :  UNGENINARY TWENTY FIFTH HE ROTE MANY THANKS FOR A MOST ESSENTIAL SERVICE MOST THEIR ILY PERFORMED\n"
          ]
        },
        {
          "output_type": "stream",
          "name": "stderr",
          "text": [
            "Val:  99%|█████████▉| 167/169 [09:42<00:07,  3.73s/it, running_distance=12.6216]"
          ]
        },
        {
          "output_type": "stream",
          "name": "stdout",
          "text": [
            "\n",
            "Ground Truth :  THE FIRST PART IS DIVIDED INTO FOUR\n",
            "Prediction   :  THE FIRST PARTIST DEVIDED INTO FOUR\n"
          ]
        },
        {
          "output_type": "stream",
          "name": "stderr",
          "text": [
            "Val:  99%|█████████▉| 168/169 [09:47<00:03,  3.96s/it, running_distance=12.6469]"
          ]
        },
        {
          "output_type": "stream",
          "name": "stdout",
          "text": [
            "\n",
            "Ground Truth :  AND IN HIS SPEECH HE LAUGH'D AND LAUGH'D AGAIN THEN WHILE IT WAS HIS PLEASURE TO REMAIN I CHANCED TO LOOK THE WAY HE HAD DRAWN NEAR AND SAW THE LADIES JOAN AND BEATRICE APPROACH ME THIS THE OTHER FOLLOWING ONE AND A SECOND MARVEL INSTANTLY\n",
            "Prediction   :  IT IN HIS SPEECH HE LAUGHED AND MAFT AGAIN THEN WHILE IT WAS HIS PLEASURED REMAIN I CHANCED TO LOOK THE WAY HE HAD DRUNG NEAR AND SAW THE LADIES JONE OF BEATRESS APPROACH ME THIS THE OTHER FOLLOWING ONE AND A SECOND MARBLE INSTANTLY\n"
          ]
        },
        {
          "output_type": "stream",
          "name": "stderr",
          "text": [
            "                                                                                "
          ]
        },
        {
          "output_type": "stream",
          "name": "stdout",
          "text": [
            "\n",
            "Ground Truth :  THOU LIKE ARCTURUS STEADFAST IN THE SKIES WITH TARDY SENSE GUIDEST THY KINGDOM FAIR BEARING ALONE THE LOAD OF LIBERTY\n",
            "Prediction   :  THOU LIKE ARTERESS STEAD FAST AND A SKYS WITH TARTY SENSE GUITEST BY KINGDOM FAIR BEARING ALONE THE LOAD OF LIBERTY\n"
          ]
        },
        {
          "output_type": "stream",
          "name": "stderr",
          "text": [
            "\r"
          ]
        },
        {
          "output_type": "execute_result",
          "data": {
            "text/plain": [
              "12.739768244575938"
            ]
          },
          "metadata": {},
          "execution_count": 91
        }
      ]
    },
    {
      "cell_type": "code",
      "source": [
        "### TODO Unfreeze the weights of full transformer input embedding and decoder\n",
        "# @NOTE: after unfreezing, continue training the P2 model for more epochs to achieve best results!\n",
        "\n",
        "for param in full_model.encoder.embedding.parameters():\n",
        "    param.requires_grad = True # TODO make it trainable\n",
        "\n",
        "for param in full_model.encoder.projection.parameters():\n",
        "    param.requires_grad = True # TODO make it trainable\n",
        "\n",
        "for param in full_model.decoder.parameters():\n",
        "    param.requires_grad = True # TODO make it trainable"
      ],
      "metadata": {
        "id": "o3qqn4nbHCdj"
      },
      "execution_count": null,
      "outputs": []
    },
    {
      "cell_type": "markdown",
      "source": [
        "## Testing"
      ],
      "metadata": {
        "id": "p2h4hspIreu7"
      }
    },
    {
      "cell_type": "code",
      "source": [
        "full_model.eval()\n",
        "\n",
        "# progress bar\n",
        "batch_bar = tqdm(total=len(test_loader), dynamic_ncols=True, leave=False, position=0, desc=\"Test\", ncols=5)\n",
        "\n",
        "all_predictions = []\n",
        "\n",
        "for i, data in enumerate(test_loader):\n",
        "    inputs, inputs_lengths = data\n",
        "    inputs                 = inputs.to(device)\n",
        "\n",
        "    with torch.inference_mode():\n",
        "        greedy_predictions = full_model.recognize(inputs, inputs_lengths)\n",
        "\n",
        "    greedy_predictions = greedy_predictions.detach().cpu().numpy()\n",
        "\n",
        "    for batch_idx in range(greedy_predictions.shape[0]):\n",
        "        pred_sliced = indices_to_chars(greedy_predictions[batch_idx], vocab= VOCAB)\n",
        "        pred_string = ''.join(pred_sliced)\n",
        "        all_predictions.append(pred_string)\n",
        "\n",
        "    batch_bar.update()"
      ],
      "metadata": {
        "id": "Tf-xgN8rBAWT",
        "colab": {
          "base_uri": "https://localhost:8080/"
        },
        "outputId": "1c4c83b9-be75-4578-c8b1-2cfa0c6f185e"
      },
      "execution_count": null,
      "outputs": [
        {
          "output_type": "stream",
          "name": "stderr",
          "text": [
            "Test: 100%|██████████| 164/164 [11:26<00:00,  4.64s/it]"
          ]
        }
      ]
    },
    {
      "cell_type": "code",
      "source": [
        "%cd /content/\n",
        "df = pd.DataFrame({\n",
        "    \"index\" : list(range(len(all_predictions))),\n",
        "    \"label\" : all_predictions\n",
        "})\n",
        "\n",
        "df.to_csv(\"improved.csv\", index=False)"
      ],
      "metadata": {
        "id": "Nwz_XRqnBTbr",
        "colab": {
          "base_uri": "https://localhost:8080/"
        },
        "outputId": "1815e7bf-9d30-4518-d625-82818c5f1551"
      },
      "execution_count": null,
      "outputs": [
        {
          "output_type": "stream",
          "name": "stdout",
          "text": [
            "/content\n"
          ]
        }
      ]
    },
    {
      "cell_type": "code",
      "source": [
        "!kaggle competitions submit -c hw4p2-sp24 -f improved.csv -m \"It's been a ride :)\""
      ],
      "metadata": {
        "id": "vJD6b3AgBlT-"
      },
      "execution_count": null,
      "outputs": []
    },
    {
      "cell_type": "markdown",
      "source": [
        "# Part #3 (Improving your Model)\n",
        "* Think of the input embedding, can you have something better than just an CNN-LSTM? Hint: HW3P2 might perform better.\n",
        "* Think about the transformer encoder parameter, what about number of heads and number of layers, can this help?\n",
        "* What about the decoder parameters what can  we improve there?\n",
        "* We trained using an incremental training technique, can we use this technique to add more layers?\n",
        "\n",
        "**Good Luck!!**"
      ],
      "metadata": {
        "id": "vacdiL_WCvgW"
      }
    }
  ],
  "metadata": {
    "accelerator": "GPU",
    "colab": {
      "gpuType": "L4",
      "provenance": [],
      "collapsed_sections": [
        "vwIdDTTmmZVe",
        "HkqU6OHKeEsS",
        "-njBvl2Opd6I",
        "zUJyBBwIqQs6",
        "6QiV7F8hhS0c"
      ],
      "machine_shape": "hm"
    },
    "kernelspec": {
      "display_name": "Python 3",
      "name": "python3"
    },
    "language_info": {
      "codemirror_mode": {
        "name": "ipython",
        "version": 3
      },
      "file_extension": ".py",
      "mimetype": "text/x-python",
      "name": "python",
      "nbconvert_exporter": "python",
      "pygments_lexer": "ipython3",
      "version": "3.8.0"
    },
    "widgets": {
      "application/vnd.jupyter.widget-state+json": {
        "8ce8b2388ac045ac8491ae289aa67ec7": {
          "model_module": "@jupyter-widgets/controls",
          "model_name": "VBoxModel",
          "model_module_version": "1.5.0",
          "state": {
            "_dom_classes": [],
            "_model_module": "@jupyter-widgets/controls",
            "_model_module_version": "1.5.0",
            "_model_name": "VBoxModel",
            "_view_count": null,
            "_view_module": "@jupyter-widgets/controls",
            "_view_module_version": "1.5.0",
            "_view_name": "VBoxView",
            "box_style": "",
            "children": [
              "IPY_MODEL_028a2c100b1f4bceafc33c1db27cba6c",
              "IPY_MODEL_a7d4a6da09ba4b02af72e25a6ae754f7"
            ],
            "layout": "IPY_MODEL_3df94385367246379388dd0c7612b647"
          }
        },
        "028a2c100b1f4bceafc33c1db27cba6c": {
          "model_module": "@jupyter-widgets/controls",
          "model_name": "LabelModel",
          "model_module_version": "1.5.0",
          "state": {
            "_dom_classes": [],
            "_model_module": "@jupyter-widgets/controls",
            "_model_module_version": "1.5.0",
            "_model_name": "LabelModel",
            "_view_count": null,
            "_view_module": "@jupyter-widgets/controls",
            "_view_module_version": "1.5.0",
            "_view_name": "LabelView",
            "description": "",
            "description_tooltip": null,
            "layout": "IPY_MODEL_a15f5b1e0a5247a2b2653acaee219eb6",
            "placeholder": "​",
            "style": "IPY_MODEL_e254817ee6574a32890542c787a2b1b9",
            "value": "Waiting for wandb.init()...\r"
          }
        },
        "a7d4a6da09ba4b02af72e25a6ae754f7": {
          "model_module": "@jupyter-widgets/controls",
          "model_name": "FloatProgressModel",
          "model_module_version": "1.5.0",
          "state": {
            "_dom_classes": [],
            "_model_module": "@jupyter-widgets/controls",
            "_model_module_version": "1.5.0",
            "_model_name": "FloatProgressModel",
            "_view_count": null,
            "_view_module": "@jupyter-widgets/controls",
            "_view_module_version": "1.5.0",
            "_view_name": "ProgressView",
            "bar_style": "",
            "description": "",
            "description_tooltip": null,
            "layout": "IPY_MODEL_4113f0db0d7343d795f12a35ea912b07",
            "max": 1,
            "min": 0,
            "orientation": "horizontal",
            "style": "IPY_MODEL_ca165ca441574600a55137fc0e293d36",
            "value": 1
          }
        },
        "3df94385367246379388dd0c7612b647": {
          "model_module": "@jupyter-widgets/base",
          "model_name": "LayoutModel",
          "model_module_version": "1.2.0",
          "state": {
            "_model_module": "@jupyter-widgets/base",
            "_model_module_version": "1.2.0",
            "_model_name": "LayoutModel",
            "_view_count": null,
            "_view_module": "@jupyter-widgets/base",
            "_view_module_version": "1.2.0",
            "_view_name": "LayoutView",
            "align_content": null,
            "align_items": null,
            "align_self": null,
            "border": null,
            "bottom": null,
            "display": null,
            "flex": null,
            "flex_flow": null,
            "grid_area": null,
            "grid_auto_columns": null,
            "grid_auto_flow": null,
            "grid_auto_rows": null,
            "grid_column": null,
            "grid_gap": null,
            "grid_row": null,
            "grid_template_areas": null,
            "grid_template_columns": null,
            "grid_template_rows": null,
            "height": null,
            "justify_content": null,
            "justify_items": null,
            "left": null,
            "margin": null,
            "max_height": null,
            "max_width": null,
            "min_height": null,
            "min_width": null,
            "object_fit": null,
            "object_position": null,
            "order": null,
            "overflow": null,
            "overflow_x": null,
            "overflow_y": null,
            "padding": null,
            "right": null,
            "top": null,
            "visibility": null,
            "width": null
          }
        },
        "a15f5b1e0a5247a2b2653acaee219eb6": {
          "model_module": "@jupyter-widgets/base",
          "model_name": "LayoutModel",
          "model_module_version": "1.2.0",
          "state": {
            "_model_module": "@jupyter-widgets/base",
            "_model_module_version": "1.2.0",
            "_model_name": "LayoutModel",
            "_view_count": null,
            "_view_module": "@jupyter-widgets/base",
            "_view_module_version": "1.2.0",
            "_view_name": "LayoutView",
            "align_content": null,
            "align_items": null,
            "align_self": null,
            "border": null,
            "bottom": null,
            "display": null,
            "flex": null,
            "flex_flow": null,
            "grid_area": null,
            "grid_auto_columns": null,
            "grid_auto_flow": null,
            "grid_auto_rows": null,
            "grid_column": null,
            "grid_gap": null,
            "grid_row": null,
            "grid_template_areas": null,
            "grid_template_columns": null,
            "grid_template_rows": null,
            "height": null,
            "justify_content": null,
            "justify_items": null,
            "left": null,
            "margin": null,
            "max_height": null,
            "max_width": null,
            "min_height": null,
            "min_width": null,
            "object_fit": null,
            "object_position": null,
            "order": null,
            "overflow": null,
            "overflow_x": null,
            "overflow_y": null,
            "padding": null,
            "right": null,
            "top": null,
            "visibility": null,
            "width": null
          }
        },
        "e254817ee6574a32890542c787a2b1b9": {
          "model_module": "@jupyter-widgets/controls",
          "model_name": "DescriptionStyleModel",
          "model_module_version": "1.5.0",
          "state": {
            "_model_module": "@jupyter-widgets/controls",
            "_model_module_version": "1.5.0",
            "_model_name": "DescriptionStyleModel",
            "_view_count": null,
            "_view_module": "@jupyter-widgets/base",
            "_view_module_version": "1.2.0",
            "_view_name": "StyleView",
            "description_width": ""
          }
        },
        "4113f0db0d7343d795f12a35ea912b07": {
          "model_module": "@jupyter-widgets/base",
          "model_name": "LayoutModel",
          "model_module_version": "1.2.0",
          "state": {
            "_model_module": "@jupyter-widgets/base",
            "_model_module_version": "1.2.0",
            "_model_name": "LayoutModel",
            "_view_count": null,
            "_view_module": "@jupyter-widgets/base",
            "_view_module_version": "1.2.0",
            "_view_name": "LayoutView",
            "align_content": null,
            "align_items": null,
            "align_self": null,
            "border": null,
            "bottom": null,
            "display": null,
            "flex": null,
            "flex_flow": null,
            "grid_area": null,
            "grid_auto_columns": null,
            "grid_auto_flow": null,
            "grid_auto_rows": null,
            "grid_column": null,
            "grid_gap": null,
            "grid_row": null,
            "grid_template_areas": null,
            "grid_template_columns": null,
            "grid_template_rows": null,
            "height": null,
            "justify_content": null,
            "justify_items": null,
            "left": null,
            "margin": null,
            "max_height": null,
            "max_width": null,
            "min_height": null,
            "min_width": null,
            "object_fit": null,
            "object_position": null,
            "order": null,
            "overflow": null,
            "overflow_x": null,
            "overflow_y": null,
            "padding": null,
            "right": null,
            "top": null,
            "visibility": null,
            "width": null
          }
        },
        "ca165ca441574600a55137fc0e293d36": {
          "model_module": "@jupyter-widgets/controls",
          "model_name": "ProgressStyleModel",
          "model_module_version": "1.5.0",
          "state": {
            "_model_module": "@jupyter-widgets/controls",
            "_model_module_version": "1.5.0",
            "_model_name": "ProgressStyleModel",
            "_view_count": null,
            "_view_module": "@jupyter-widgets/base",
            "_view_module_version": "1.2.0",
            "_view_name": "StyleView",
            "bar_color": null,
            "description_width": ""
          }
        }
      }
    }
  },
  "nbformat": 4,
  "nbformat_minor": 0
}